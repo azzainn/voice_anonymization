{
 "cells": [
  {
   "cell_type": "code",
   "execution_count": 1,
   "metadata": {},
   "outputs": [
    {
     "name": "stderr",
     "output_type": "stream",
     "text": [
      "/om2/user/azain/anaconda/envs/voice-anon/lib/python3.10/site-packages/tqdm/auto.py:21: TqdmWarning: IProgress not found. Please update jupyter and ipywidgets. See https://ipywidgets.readthedocs.io/en/stable/user_install.html\n",
      "  from .autonotebook import tqdm as notebook_tqdm\n"
     ]
    },
    {
     "name": "stdout",
     "output_type": "stream",
     "text": [
      "DEBUG:numba.core.byteflow:bytecode dump:\n",
      ">          0\tNOP(arg=None, lineno=1039)\n",
      "           2\tLOAD_FAST(arg=0, lineno=1042)\n",
      "           4\tLOAD_CONST(arg=1, lineno=1042)\n",
      "           6\tBINARY_SUBSCR(arg=None, lineno=1042)\n",
      "           8\tLOAD_FAST(arg=0, lineno=1042)\n",
      "          10\tLOAD_CONST(arg=2, lineno=1042)\n",
      "          12\tBINARY_SUBSCR(arg=None, lineno=1042)\n",
      "          14\tCOMPARE_OP(arg=4, lineno=1042)\n",
      "          16\tLOAD_FAST(arg=0, lineno=1042)\n",
      "          18\tLOAD_CONST(arg=1, lineno=1042)\n",
      "          20\tBINARY_SUBSCR(arg=None, lineno=1042)\n",
      "          22\tLOAD_FAST(arg=0, lineno=1042)\n",
      "          24\tLOAD_CONST(arg=3, lineno=1042)\n",
      "          26\tBINARY_SUBSCR(arg=None, lineno=1042)\n",
      "          28\tCOMPARE_OP(arg=5, lineno=1042)\n",
      "          30\tBINARY_AND(arg=None, lineno=1042)\n",
      "          32\tRETURN_VALUE(arg=None, lineno=1042)\n",
      "DEBUG:numba.core.byteflow:pending: deque([State(pc_initial=0 nstack_initial=0)])\n",
      "DEBUG:numba.core.byteflow:stack: []\n",
      "DEBUG:numba.core.byteflow:state.pc_initial: State(pc_initial=0 nstack_initial=0)\n",
      "DEBUG:numba.core.byteflow:dispatch pc=0, inst=NOP(arg=None, lineno=1039)\n",
      "DEBUG:numba.core.byteflow:stack []\n",
      "DEBUG:numba.core.byteflow:dispatch pc=2, inst=LOAD_FAST(arg=0, lineno=1042)\n",
      "DEBUG:numba.core.byteflow:stack []\n",
      "DEBUG:numba.core.byteflow:dispatch pc=4, inst=LOAD_CONST(arg=1, lineno=1042)\n",
      "DEBUG:numba.core.byteflow:stack ['$x2.0']\n",
      "DEBUG:numba.core.byteflow:dispatch pc=6, inst=BINARY_SUBSCR(arg=None, lineno=1042)\n",
      "DEBUG:numba.core.byteflow:stack ['$x2.0', '$const4.1']\n",
      "DEBUG:numba.core.byteflow:dispatch pc=8, inst=LOAD_FAST(arg=0, lineno=1042)\n",
      "DEBUG:numba.core.byteflow:stack ['$6binary_subscr.2']\n",
      "DEBUG:numba.core.byteflow:dispatch pc=10, inst=LOAD_CONST(arg=2, lineno=1042)\n",
      "DEBUG:numba.core.byteflow:stack ['$6binary_subscr.2', '$x8.3']\n",
      "DEBUG:numba.core.byteflow:dispatch pc=12, inst=BINARY_SUBSCR(arg=None, lineno=1042)\n",
      "DEBUG:numba.core.byteflow:stack ['$6binary_subscr.2', '$x8.3', '$const10.4']\n",
      "DEBUG:numba.core.byteflow:dispatch pc=14, inst=COMPARE_OP(arg=4, lineno=1042)\n",
      "DEBUG:numba.core.byteflow:stack ['$6binary_subscr.2', '$12binary_subscr.5']\n",
      "DEBUG:numba.core.byteflow:dispatch pc=16, inst=LOAD_FAST(arg=0, lineno=1042)\n",
      "DEBUG:numba.core.byteflow:stack ['$14compare_op.6']\n",
      "DEBUG:numba.core.byteflow:dispatch pc=18, inst=LOAD_CONST(arg=1, lineno=1042)\n",
      "DEBUG:numba.core.byteflow:stack ['$14compare_op.6', '$x16.7']\n",
      "DEBUG:numba.core.byteflow:dispatch pc=20, inst=BINARY_SUBSCR(arg=None, lineno=1042)\n",
      "DEBUG:numba.core.byteflow:stack ['$14compare_op.6', '$x16.7', '$const18.8']\n",
      "DEBUG:numba.core.byteflow:dispatch pc=22, inst=LOAD_FAST(arg=0, lineno=1042)\n",
      "DEBUG:numba.core.byteflow:stack ['$14compare_op.6', '$20binary_subscr.9']\n",
      "DEBUG:numba.core.byteflow:dispatch pc=24, inst=LOAD_CONST(arg=3, lineno=1042)\n",
      "DEBUG:numba.core.byteflow:stack ['$14compare_op.6', '$20binary_subscr.9', '$x22.10']\n",
      "DEBUG:numba.core.byteflow:dispatch pc=26, inst=BINARY_SUBSCR(arg=None, lineno=1042)\n",
      "DEBUG:numba.core.byteflow:stack ['$14compare_op.6', '$20binary_subscr.9', '$x22.10', '$const24.11']\n",
      "DEBUG:numba.core.byteflow:dispatch pc=28, inst=COMPARE_OP(arg=5, lineno=1042)\n",
      "DEBUG:numba.core.byteflow:stack ['$14compare_op.6', '$20binary_subscr.9', '$26binary_subscr.12']\n",
      "DEBUG:numba.core.byteflow:dispatch pc=30, inst=BINARY_AND(arg=None, lineno=1042)\n",
      "DEBUG:numba.core.byteflow:stack ['$14compare_op.6', '$28compare_op.13']\n",
      "DEBUG:numba.core.byteflow:dispatch pc=32, inst=RETURN_VALUE(arg=None, lineno=1042)\n",
      "DEBUG:numba.core.byteflow:stack ['$30binary_and.14']\n",
      "DEBUG:numba.core.byteflow:end state. edges=[]\n",
      "DEBUG:numba.core.byteflow:-------------------------Prune PHIs-------------------------\n",
      "DEBUG:numba.core.byteflow:Used_phis: defaultdict(<class 'set'>, {State(pc_initial=0 nstack_initial=0): set()})\n",
      "DEBUG:numba.core.byteflow:defmap: {}\n",
      "DEBUG:numba.core.byteflow:phismap: defaultdict(<class 'set'>, {})\n",
      "DEBUG:numba.core.byteflow:changing phismap: defaultdict(<class 'set'>, {})\n",
      "DEBUG:numba.core.byteflow:keep phismap: {}\n",
      "DEBUG:numba.core.byteflow:new_out: defaultdict(<class 'dict'>, {})\n",
      "DEBUG:numba.core.byteflow:----------------------DONE Prune PHIs-----------------------\n",
      "DEBUG:numba.core.byteflow:block_infos State(pc_initial=0 nstack_initial=0):\n",
      "AdaptBlockInfo(insts=((0, {}), (2, {'res': '$x2.0'}), (4, {'res': '$const4.1'}), (6, {'index': '$const4.1', 'target': '$x2.0', 'res': '$6binary_subscr.2'}), (8, {'res': '$x8.3'}), (10, {'res': '$const10.4'}), (12, {'index': '$const10.4', 'target': '$x8.3', 'res': '$12binary_subscr.5'}), (14, {'lhs': '$6binary_subscr.2', 'rhs': '$12binary_subscr.5', 'res': '$14compare_op.6'}), (16, {'res': '$x16.7'}), (18, {'res': '$const18.8'}), (20, {'index': '$const18.8', 'target': '$x16.7', 'res': '$20binary_subscr.9'}), (22, {'res': '$x22.10'}), (24, {'res': '$const24.11'}), (26, {'index': '$const24.11', 'target': '$x22.10', 'res': '$26binary_subscr.12'}), (28, {'lhs': '$20binary_subscr.9', 'rhs': '$26binary_subscr.12', 'res': '$28compare_op.13'}), (30, {'lhs': '$14compare_op.6', 'rhs': '$28compare_op.13', 'res': '$30binary_and.14'}), (32, {'retval': '$30binary_and.14', 'castval': '$32return_value.15'})), outgoing_phis={}, blockstack=(), active_try_block=None, outgoing_edgepushed={})\n",
      "DEBUG:numba.core.interpreter:label 0:\n",
      "    x = arg(0, name=x)                       ['x']\n",
      "    $const4.1 = const(int, 0)                ['$const4.1']\n",
      "    $6binary_subscr.2 = getitem(value=x, index=$const4.1, fn=<built-in function getitem>) ['$6binary_subscr.2', '$const4.1', 'x']\n",
      "    $const10.4 = const(int, -1)              ['$const10.4']\n",
      "    $12binary_subscr.5 = getitem(value=x, index=$const10.4, fn=<built-in function getitem>) ['$12binary_subscr.5', '$const10.4', 'x']\n",
      "    $14compare_op.6 = $6binary_subscr.2 > $12binary_subscr.5 ['$12binary_subscr.5', '$14compare_op.6', '$6binary_subscr.2']\n",
      "    $const18.8 = const(int, 0)               ['$const18.8']\n",
      "    $20binary_subscr.9 = getitem(value=x, index=$const18.8, fn=<built-in function getitem>) ['$20binary_subscr.9', '$const18.8', 'x']\n",
      "    $const24.11 = const(int, 1)              ['$const24.11']\n",
      "    $26binary_subscr.12 = getitem(value=x, index=$const24.11, fn=<built-in function getitem>) ['$26binary_subscr.12', '$const24.11', 'x']\n",
      "    $28compare_op.13 = $20binary_subscr.9 >= $26binary_subscr.12 ['$20binary_subscr.9', '$26binary_subscr.12', '$28compare_op.13']\n",
      "    $30binary_and.14 = $14compare_op.6 & $28compare_op.13 ['$14compare_op.6', '$28compare_op.13', '$30binary_and.14']\n",
      "    $32return_value.15 = cast(value=$30binary_and.14) ['$30binary_and.14', '$32return_value.15']\n",
      "    return $32return_value.15                ['$32return_value.15']\n",
      "\n",
      "DEBUG:numba.core.byteflow:bytecode dump:\n",
      ">          0\tNOP(arg=None, lineno=1045)\n",
      "           2\tLOAD_FAST(arg=0, lineno=1048)\n",
      "           4\tLOAD_CONST(arg=1, lineno=1048)\n",
      "           6\tBINARY_SUBSCR(arg=None, lineno=1048)\n",
      "           8\tLOAD_FAST(arg=0, lineno=1048)\n",
      "          10\tLOAD_CONST(arg=2, lineno=1048)\n",
      "          12\tBINARY_SUBSCR(arg=None, lineno=1048)\n",
      "          14\tCOMPARE_OP(arg=0, lineno=1048)\n",
      "          16\tLOAD_FAST(arg=0, lineno=1048)\n",
      "          18\tLOAD_CONST(arg=1, lineno=1048)\n",
      "          20\tBINARY_SUBSCR(arg=None, lineno=1048)\n",
      "          22\tLOAD_FAST(arg=0, lineno=1048)\n",
      "          24\tLOAD_CONST(arg=3, lineno=1048)\n",
      "          26\tBINARY_SUBSCR(arg=None, lineno=1048)\n",
      "          28\tCOMPARE_OP(arg=1, lineno=1048)\n",
      "          30\tBINARY_AND(arg=None, lineno=1048)\n",
      "          32\tRETURN_VALUE(arg=None, lineno=1048)\n",
      "DEBUG:numba.core.byteflow:pending: deque([State(pc_initial=0 nstack_initial=0)])\n",
      "DEBUG:numba.core.byteflow:stack: []\n",
      "DEBUG:numba.core.byteflow:state.pc_initial: State(pc_initial=0 nstack_initial=0)\n",
      "DEBUG:numba.core.byteflow:dispatch pc=0, inst=NOP(arg=None, lineno=1045)\n",
      "DEBUG:numba.core.byteflow:stack []\n",
      "DEBUG:numba.core.byteflow:dispatch pc=2, inst=LOAD_FAST(arg=0, lineno=1048)\n",
      "DEBUG:numba.core.byteflow:stack []\n",
      "DEBUG:numba.core.byteflow:dispatch pc=4, inst=LOAD_CONST(arg=1, lineno=1048)\n",
      "DEBUG:numba.core.byteflow:stack ['$x2.0']\n",
      "DEBUG:numba.core.byteflow:dispatch pc=6, inst=BINARY_SUBSCR(arg=None, lineno=1048)\n",
      "DEBUG:numba.core.byteflow:stack ['$x2.0', '$const4.1']\n",
      "DEBUG:numba.core.byteflow:dispatch pc=8, inst=LOAD_FAST(arg=0, lineno=1048)\n",
      "DEBUG:numba.core.byteflow:stack ['$6binary_subscr.2']\n",
      "DEBUG:numba.core.byteflow:dispatch pc=10, inst=LOAD_CONST(arg=2, lineno=1048)\n",
      "DEBUG:numba.core.byteflow:stack ['$6binary_subscr.2', '$x8.3']\n",
      "DEBUG:numba.core.byteflow:dispatch pc=12, inst=BINARY_SUBSCR(arg=None, lineno=1048)\n",
      "DEBUG:numba.core.byteflow:stack ['$6binary_subscr.2', '$x8.3', '$const10.4']\n",
      "DEBUG:numba.core.byteflow:dispatch pc=14, inst=COMPARE_OP(arg=0, lineno=1048)\n",
      "DEBUG:numba.core.byteflow:stack ['$6binary_subscr.2', '$12binary_subscr.5']\n",
      "DEBUG:numba.core.byteflow:dispatch pc=16, inst=LOAD_FAST(arg=0, lineno=1048)\n",
      "DEBUG:numba.core.byteflow:stack ['$14compare_op.6']\n",
      "DEBUG:numba.core.byteflow:dispatch pc=18, inst=LOAD_CONST(arg=1, lineno=1048)\n",
      "DEBUG:numba.core.byteflow:stack ['$14compare_op.6', '$x16.7']\n",
      "DEBUG:numba.core.byteflow:dispatch pc=20, inst=BINARY_SUBSCR(arg=None, lineno=1048)\n",
      "DEBUG:numba.core.byteflow:stack ['$14compare_op.6', '$x16.7', '$const18.8']\n",
      "DEBUG:numba.core.byteflow:dispatch pc=22, inst=LOAD_FAST(arg=0, lineno=1048)\n",
      "DEBUG:numba.core.byteflow:stack ['$14compare_op.6', '$20binary_subscr.9']\n",
      "DEBUG:numba.core.byteflow:dispatch pc=24, inst=LOAD_CONST(arg=3, lineno=1048)\n",
      "DEBUG:numba.core.byteflow:stack ['$14compare_op.6', '$20binary_subscr.9', '$x22.10']\n",
      "DEBUG:numba.core.byteflow:dispatch pc=26, inst=BINARY_SUBSCR(arg=None, lineno=1048)\n",
      "DEBUG:numba.core.byteflow:stack ['$14compare_op.6', '$20binary_subscr.9', '$x22.10', '$const24.11']\n",
      "DEBUG:numba.core.byteflow:dispatch pc=28, inst=COMPARE_OP(arg=1, lineno=1048)\n",
      "DEBUG:numba.core.byteflow:stack ['$14compare_op.6', '$20binary_subscr.9', '$26binary_subscr.12']\n",
      "DEBUG:numba.core.byteflow:dispatch pc=30, inst=BINARY_AND(arg=None, lineno=1048)\n",
      "DEBUG:numba.core.byteflow:stack ['$14compare_op.6', '$28compare_op.13']\n",
      "DEBUG:numba.core.byteflow:dispatch pc=32, inst=RETURN_VALUE(arg=None, lineno=1048)\n",
      "DEBUG:numba.core.byteflow:stack ['$30binary_and.14']\n",
      "DEBUG:numba.core.byteflow:end state. edges=[]\n",
      "DEBUG:numba.core.byteflow:-------------------------Prune PHIs-------------------------\n",
      "DEBUG:numba.core.byteflow:Used_phis: defaultdict(<class 'set'>, {State(pc_initial=0 nstack_initial=0): set()})\n",
      "DEBUG:numba.core.byteflow:defmap: {}\n",
      "DEBUG:numba.core.byteflow:phismap: defaultdict(<class 'set'>, {})\n",
      "DEBUG:numba.core.byteflow:changing phismap: defaultdict(<class 'set'>, {})\n",
      "DEBUG:numba.core.byteflow:keep phismap: {}\n",
      "DEBUG:numba.core.byteflow:new_out: defaultdict(<class 'dict'>, {})\n",
      "DEBUG:numba.core.byteflow:----------------------DONE Prune PHIs-----------------------\n",
      "DEBUG:numba.core.byteflow:block_infos State(pc_initial=0 nstack_initial=0):\n",
      "AdaptBlockInfo(insts=((0, {}), (2, {'res': '$x2.0'}), (4, {'res': '$const4.1'}), (6, {'index': '$const4.1', 'target': '$x2.0', 'res': '$6binary_subscr.2'}), (8, {'res': '$x8.3'}), (10, {'res': '$const10.4'}), (12, {'index': '$const10.4', 'target': '$x8.3', 'res': '$12binary_subscr.5'}), (14, {'lhs': '$6binary_subscr.2', 'rhs': '$12binary_subscr.5', 'res': '$14compare_op.6'}), (16, {'res': '$x16.7'}), (18, {'res': '$const18.8'}), (20, {'index': '$const18.8', 'target': '$x16.7', 'res': '$20binary_subscr.9'}), (22, {'res': '$x22.10'}), (24, {'res': '$const24.11'}), (26, {'index': '$const24.11', 'target': '$x22.10', 'res': '$26binary_subscr.12'}), (28, {'lhs': '$20binary_subscr.9', 'rhs': '$26binary_subscr.12', 'res': '$28compare_op.13'}), (30, {'lhs': '$14compare_op.6', 'rhs': '$28compare_op.13', 'res': '$30binary_and.14'}), (32, {'retval': '$30binary_and.14', 'castval': '$32return_value.15'})), outgoing_phis={}, blockstack=(), active_try_block=None, outgoing_edgepushed={})\n",
      "DEBUG:numba.core.interpreter:label 0:\n",
      "    x = arg(0, name=x)                       ['x']\n",
      "    $const4.1 = const(int, 0)                ['$const4.1']\n",
      "    $6binary_subscr.2 = getitem(value=x, index=$const4.1, fn=<built-in function getitem>) ['$6binary_subscr.2', '$const4.1', 'x']\n",
      "    $const10.4 = const(int, -1)              ['$const10.4']\n",
      "    $12binary_subscr.5 = getitem(value=x, index=$const10.4, fn=<built-in function getitem>) ['$12binary_subscr.5', '$const10.4', 'x']\n",
      "    $14compare_op.6 = $6binary_subscr.2 < $12binary_subscr.5 ['$12binary_subscr.5', '$14compare_op.6', '$6binary_subscr.2']\n",
      "    $const18.8 = const(int, 0)               ['$const18.8']\n",
      "    $20binary_subscr.9 = getitem(value=x, index=$const18.8, fn=<built-in function getitem>) ['$20binary_subscr.9', '$const18.8', 'x']\n",
      "    $const24.11 = const(int, 1)              ['$const24.11']\n",
      "    $26binary_subscr.12 = getitem(value=x, index=$const24.11, fn=<built-in function getitem>) ['$26binary_subscr.12', '$const24.11', 'x']\n",
      "    $28compare_op.13 = $20binary_subscr.9 <= $26binary_subscr.12 ['$20binary_subscr.9', '$26binary_subscr.12', '$28compare_op.13']\n",
      "    $30binary_and.14 = $14compare_op.6 & $28compare_op.13 ['$14compare_op.6', '$28compare_op.13', '$30binary_and.14']\n",
      "    $32return_value.15 = cast(value=$30binary_and.14) ['$30binary_and.14', '$32return_value.15']\n",
      "    return $32return_value.15                ['$32return_value.15']\n",
      "\n",
      "Loading model...\n"
     ]
    },
    {
     "name": "stderr",
     "output_type": "stream",
     "text": [
      "/om2/user/azain/anaconda/envs/voice-anon/lib/python3.10/site-packages/torch/nn/utils/weight_norm.py:28: UserWarning: torch.nn.utils.weight_norm is deprecated in favor of torch.nn.utils.parametrizations.weight_norm.\n",
      "  warnings.warn(\"torch.nn.utils.weight_norm is deprecated in favor of torch.nn.utils.parametrizations.weight_norm.\")\n"
     ]
    },
    {
     "name": "stdout",
     "output_type": "stream",
     "text": [
      "Loading checkpoint...\n",
      "INFO:root:Loaded checkpoint '/net/vast-storage/scratch/vast/gablab/azain/code/voice_anonymization/src/../../FreeVC/checkpoints/freevc.pth' (iteration 1372)\n",
      "Loading WavLM for content...\n",
      "INFO:wavlm.WavLM:WavLM Config: {'extractor_mode': 'layer_norm', 'encoder_layers': 24, 'encoder_embed_dim': 1024, 'encoder_ffn_embed_dim': 4096, 'encoder_attention_heads': 16, 'activation_fn': 'gelu', 'layer_norm_first': True, 'conv_feature_layers': '[(512,10,5)] + [(512,3,2)] * 4 + [(512,2,2)] * 2', 'conv_bias': False, 'feature_grad_mult': 1.0, 'normalize': True, 'dropout': 0.0, 'attention_dropout': 0.0, 'activation_dropout': 0.0, 'encoder_layerdrop': 0.0, 'dropout_input': 0.0, 'dropout_features': 0.0, 'mask_length': 10, 'mask_prob': 0.8, 'mask_selection': 'static', 'mask_other': 0.0, 'no_mask_overlap': False, 'mask_min_space': 1, 'mask_channel_length': 10, 'mask_channel_prob': 0.0, 'mask_channel_selection': 'static', 'mask_channel_other': 0.0, 'no_mask_channel_overlap': False, 'mask_channel_min_space': 1, 'conv_pos': 128, 'conv_pos_groups': 16, 'relative_position_embedding': True, 'num_buckets': 320, 'max_distance': 800, 'gru_rel_pos': True}\n",
      "Loading speaker encoder...\n",
      "Loaded the voice encoder model on cuda in 0.04 seconds.\n",
      "DEBUG:speechbrain.utils.checkpoints:Registered checkpoint save hook for _speechbrain_save\n",
      "DEBUG:speechbrain.utils.checkpoints:Registered checkpoint load hook for _speechbrain_load\n",
      "DEBUG:speechbrain.utils.checkpoints:Registered checkpoint save hook for save\n",
      "DEBUG:speechbrain.utils.checkpoints:Registered checkpoint load hook for load\n",
      "DEBUG:speechbrain.utils.checkpoints:Registered checkpoint save hook for save\n",
      "DEBUG:speechbrain.utils.checkpoints:Registered checkpoint load hook for load_if_possible\n",
      "DEBUG:speechbrain.utils.checkpoints:Registered checkpoint save hook for _save\n",
      "DEBUG:speechbrain.utils.checkpoints:Registered checkpoint load hook for _recover\n",
      "DEBUG:speechbrain.utils.checkpoints:Registered checkpoint save hook for _save\n",
      "DEBUG:speechbrain.utils.checkpoints:Registered checkpoint load hook for _recover\n",
      "DEBUG:speechbrain.utils.checkpoints:Registered checkpoint save hook for _save\n",
      "DEBUG:speechbrain.utils.checkpoints:Registered checkpoint load hook for _load\n",
      "DEBUG:speechbrain.utils.checkpoints:Registered parameter transfer hook for _load\n",
      "DEBUG:speechbrain.utils.checkpoints:Registered checkpoint save hook for save\n",
      "DEBUG:speechbrain.utils.checkpoints:Registered checkpoint load hook for load\n",
      "DEBUG:speechbrain.utils.checkpoints:Registered checkpoint save hook for save\n",
      "DEBUG:speechbrain.utils.checkpoints:Registered checkpoint load hook for load\n",
      "DEBUG:speechbrain.utils.checkpoints:Registered checkpoint save hook for save\n",
      "DEBUG:speechbrain.utils.checkpoints:Registered checkpoint load hook for load\n",
      "DEBUG:speechbrain.utils.checkpoints:Registered checkpoint save hook for save\n",
      "DEBUG:speechbrain.utils.checkpoints:Registered checkpoint load hook for load\n",
      "DEBUG:speechbrain.utils.checkpoints:Registered checkpoint save hook for save\n",
      "DEBUG:speechbrain.utils.checkpoints:Registered checkpoint load hook for load\n",
      "DEBUG:speechbrain.utils.checkpoints:Registered checkpoint save hook for save\n",
      "DEBUG:speechbrain.utils.checkpoints:Registered checkpoint load hook for load\n",
      "DEBUG:speechbrain.utils.checkpoints:Registered checkpoint save hook for save\n",
      "DEBUG:speechbrain.utils.checkpoints:Registered checkpoint load hook for load\n",
      "DEBUG:speechbrain.utils.checkpoints:Registered checkpoint save hook for save\n",
      "DEBUG:speechbrain.utils.checkpoints:Registered checkpoint load hook for load\n",
      "DEBUG:speechbrain.utils.checkpoints:Registered checkpoint save hook for save\n",
      "DEBUG:speechbrain.utils.checkpoints:Registered checkpoint load hook for load\n",
      "DEBUG:speechbrain.utils.checkpoints:Registered checkpoint save hook for save\n",
      "DEBUG:speechbrain.utils.checkpoints:Registered checkpoint save hook for save\n",
      "DEBUG:speechbrain.utils.checkpoints:Registered checkpoint load hook for load\n",
      "DEBUG:speechbrain.utils.checkpoints:Registered checkpoint save hook for save\n",
      "DEBUG:speechbrain.utils.checkpoints:Registered checkpoint load hook for load\n",
      "DEBUG:matplotlib:matplotlib data path: /om2/user/azain/anaconda/envs/voice-anon/lib/python3.10/site-packages/matplotlib/mpl-data\n",
      "DEBUG:matplotlib:CONFIGDIR=/home/azain/.config/matplotlib\n",
      "DEBUG:matplotlib:interactive is False\n",
      "DEBUG:matplotlib:platform is linux\n",
      "DEBUG:matplotlib:CACHEDIR=/home/azain/.cache/matplotlib\n",
      "DEBUG:matplotlib.font_manager:Using fontManager instance from /home/azain/.cache/matplotlib/fontlist-v330.json\n"
     ]
    }
   ],
   "source": [
    "from src.preprocessing import preprocess\n",
    "from src.voice_conversion import voice_convert\n",
    "from src.automatic_speech_recognition import asr\n",
    "from src.speaker_verification import process_data_to_embeddings, compute_metrics_and_similarity\n",
    "from src.utils import CODEBASE_DIR"
   ]
  },
  {
   "cell_type": "code",
   "execution_count": 2,
   "metadata": {},
   "outputs": [],
   "source": [
    "raw_data_path = f'{CODEBASE_DIR}/data/raw/LibriTTS/dev-clean'\n",
    "processed_data_path = f'{CODEBASE_DIR}/data/processed/LibriTTS-dev-clean-16khz-mono-loudnorm'\n",
    "transcript_path_pattern = \"{base_name}.original.txt\"\n",
    "speaker_id_pattern = r\"(\\d+)_\"\n",
    "target_sample_rate = 16000\n",
    "num_samples = 100\n",
    "dataset_name = f\"azain/LibriTTS-dev-clean-16khz-mono-loudnorm-100-random-samples-2024-04-18-17-34-39\"\n",
    "split = 'dev'\n",
    "file_extensions = ['.wav']\n",
    "target_index = 0\n",
    "asr_model_id = \"openai/whisper-tiny.en\""
   ]
  },
  {
   "cell_type": "code",
   "execution_count": 4,
   "metadata": {},
   "outputs": [
    {
     "name": "stderr",
     "output_type": "stream",
     "text": [
      " 44%|████▎     | 7574/17400 [00:00<00:00, 10839.92it/s]"
     ]
    },
    {
     "name": "stdout",
     "output_type": "stream",
     "text": [
      "Skipping normalization due to error: Audio must have length greater than the block size.\n",
      "didnt normalize loudness for 2428_83705_000000_000000.wav\n"
     ]
    },
    {
     "name": "stderr",
     "output_type": "stream",
     "text": [
      " 66%|██████▌   | 11437/17400 [00:01<00:00, 11258.56it/s]"
     ]
    },
    {
     "name": "stdout",
     "output_type": "stream",
     "text": [
      "Skipping normalization due to error: Audio must have length greater than the block size.\n",
      "didnt normalize loudness for 3853_163249_000146_000000.wav\n",
      "Skipping normalization due to error: Audio must have length greater than the block size.\n",
      "didnt normalize loudness for 6313_66125_000034_000000.wav\n"
     ]
    },
    {
     "name": "stderr",
     "output_type": "stream",
     "text": [
      " 79%|███████▉  | 13824/17400 [00:01<00:00, 10560.44it/s]"
     ]
    },
    {
     "name": "stdout",
     "output_type": "stream",
     "text": [
      "Skipping normalization due to error: Audio must have length greater than the block size.\n",
      "didnt normalize loudness for 6313_66129_000074_000000.wav\n"
     ]
    },
    {
     "name": "stderr",
     "output_type": "stream",
     "text": [
      "100%|██████████| 17400/17400 [00:01<00:00, 11435.04it/s]\n"
     ]
    },
    {
     "name": "stdout",
     "output_type": "stream",
     "text": [
      "loading files from /om2/user/azain/code/voice_anonymization/data/processed/LibriTTS-dev-clean-16khz-mono-loudnorm...\n"
     ]
    },
    {
     "name": "stderr",
     "output_type": "stream",
     "text": [
      "100%|██████████| 11468/11468 [00:02<00:00, 4308.26it/s]\n"
     ]
    },
    {
     "name": "stdout",
     "output_type": "stream",
     "text": [
      "done creating audio dataset\n",
      "DEBUG:numba.core.byteflow:bytecode dump:\n",
      ">          0\tNOP(arg=None, lineno=1135)\n",
      "           2\tLOAD_FAST(arg=0, lineno=1138)\n",
      "           4\tLOAD_CONST(arg=1, lineno=1138)\n",
      "           6\tBINARY_SUBSCR(arg=None, lineno=1138)\n",
      "           8\tSTORE_FAST(arg=3, lineno=1138)\n",
      "          10\tLOAD_FAST(arg=1, lineno=1139)\n",
      "          12\tUNARY_NEGATIVE(arg=None, lineno=1139)\n",
      "          14\tLOAD_FAST(arg=3, lineno=1139)\n",
      "          16\tDUP_TOP(arg=None, lineno=1139)\n",
      "          18\tROT_THREE(arg=None, lineno=1139)\n",
      "          20\tCOMPARE_OP(arg=1, lineno=1139)\n",
      "          22\tPOP_JUMP_IF_FALSE(arg=17, lineno=1139)\n",
      "          24\tLOAD_FAST(arg=1, lineno=1139)\n",
      "          26\tCOMPARE_OP(arg=1, lineno=1139)\n",
      "          28\tPOP_JUMP_IF_FALSE(arg=21, lineno=1139)\n",
      "          30\tJUMP_FORWARD(arg=2, lineno=1139)\n",
      ">         32\tPOP_TOP(arg=None, lineno=1139)\n",
      "          34\tJUMP_FORWARD(arg=2, lineno=1139)\n",
      ">         36\tLOAD_CONST(arg=1, lineno=1140)\n",
      "          38\tSTORE_FAST(arg=3, lineno=1140)\n",
      ">         40\tLOAD_FAST(arg=0, lineno=1142)\n",
      "          42\tLOAD_CONST(arg=2, lineno=1142)\n",
      "          44\tBINARY_SUBSCR(arg=None, lineno=1142)\n",
      "          46\tSTORE_FAST(arg=4, lineno=1142)\n",
      "          48\tLOAD_FAST(arg=1, lineno=1143)\n",
      "          50\tUNARY_NEGATIVE(arg=None, lineno=1143)\n",
      "          52\tLOAD_FAST(arg=4, lineno=1143)\n",
      "          54\tDUP_TOP(arg=None, lineno=1143)\n",
      "          56\tROT_THREE(arg=None, lineno=1143)\n",
      "          58\tCOMPARE_OP(arg=1, lineno=1143)\n",
      "          60\tPOP_JUMP_IF_FALSE(arg=36, lineno=1143)\n",
      "          62\tLOAD_FAST(arg=1, lineno=1143)\n",
      "          64\tCOMPARE_OP(arg=1, lineno=1143)\n",
      "          66\tPOP_JUMP_IF_FALSE(arg=40, lineno=1143)\n",
      "          68\tJUMP_FORWARD(arg=2, lineno=1143)\n",
      ">         70\tPOP_TOP(arg=None, lineno=1143)\n",
      "          72\tJUMP_FORWARD(arg=2, lineno=1143)\n",
      ">         74\tLOAD_CONST(arg=1, lineno=1144)\n",
      "          76\tSTORE_FAST(arg=4, lineno=1144)\n",
      ">         78\tLOAD_FAST(arg=2, lineno=1146)\n",
      "          80\tPOP_JUMP_IF_FALSE(arg=52, lineno=1146)\n",
      "          82\tLOAD_GLOBAL(arg=0, lineno=1147)\n",
      "          84\tLOAD_METHOD(arg=1, lineno=1147)\n",
      "          86\tLOAD_FAST(arg=3, lineno=1147)\n",
      "          88\tCALL_METHOD(arg=1, lineno=1147)\n",
      "          90\tLOAD_GLOBAL(arg=0, lineno=1147)\n",
      "          92\tLOAD_METHOD(arg=1, lineno=1147)\n",
      "          94\tLOAD_FAST(arg=4, lineno=1147)\n",
      "          96\tCALL_METHOD(arg=1, lineno=1147)\n",
      "          98\tCOMPARE_OP(arg=3, lineno=1147)\n",
      "         100\tRETURN_VALUE(arg=None, lineno=1147)\n",
      ">        102\tLOAD_GLOBAL(arg=0, lineno=1149)\n",
      "         104\tLOAD_METHOD(arg=2, lineno=1149)\n",
      "         106\tLOAD_FAST(arg=3, lineno=1149)\n",
      "         108\tCALL_METHOD(arg=1, lineno=1149)\n",
      "         110\tLOAD_GLOBAL(arg=0, lineno=1149)\n",
      "         112\tLOAD_METHOD(arg=2, lineno=1149)\n",
      "         114\tLOAD_FAST(arg=4, lineno=1149)\n",
      "         116\tCALL_METHOD(arg=1, lineno=1149)\n",
      "         118\tCOMPARE_OP(arg=3, lineno=1149)\n",
      "         120\tRETURN_VALUE(arg=None, lineno=1149)\n",
      "DEBUG:numba.core.byteflow:pending: deque([State(pc_initial=0 nstack_initial=0)])\n",
      "DEBUG:numba.core.byteflow:stack: []\n",
      "DEBUG:numba.core.byteflow:state.pc_initial: State(pc_initial=0 nstack_initial=0)\n",
      "DEBUG:numba.core.byteflow:dispatch pc=0, inst=NOP(arg=None, lineno=1135)\n",
      "DEBUG:numba.core.byteflow:stack []\n",
      "DEBUG:numba.core.byteflow:dispatch pc=2, inst=LOAD_FAST(arg=0, lineno=1138)\n",
      "DEBUG:numba.core.byteflow:stack []\n",
      "DEBUG:numba.core.byteflow:dispatch pc=4, inst=LOAD_CONST(arg=1, lineno=1138)\n",
      "DEBUG:numba.core.byteflow:stack ['$x2.0']\n",
      "DEBUG:numba.core.byteflow:dispatch pc=6, inst=BINARY_SUBSCR(arg=None, lineno=1138)\n",
      "DEBUG:numba.core.byteflow:stack ['$x2.0', '$const4.1']\n",
      "DEBUG:numba.core.byteflow:dispatch pc=8, inst=STORE_FAST(arg=3, lineno=1138)\n",
      "DEBUG:numba.core.byteflow:stack ['$6binary_subscr.2']\n",
      "DEBUG:numba.core.byteflow:dispatch pc=10, inst=LOAD_FAST(arg=1, lineno=1139)\n",
      "DEBUG:numba.core.byteflow:stack []\n",
      "DEBUG:numba.core.byteflow:dispatch pc=12, inst=UNARY_NEGATIVE(arg=None, lineno=1139)\n",
      "DEBUG:numba.core.byteflow:stack ['$threshold10.3']\n",
      "DEBUG:numba.core.byteflow:dispatch pc=14, inst=LOAD_FAST(arg=3, lineno=1139)\n",
      "DEBUG:numba.core.byteflow:stack ['$12unary_negative.4']\n",
      "DEBUG:numba.core.byteflow:dispatch pc=16, inst=DUP_TOP(arg=None, lineno=1139)\n",
      "DEBUG:numba.core.byteflow:stack ['$12unary_negative.4', '$x014.5']\n",
      "DEBUG:numba.core.byteflow:dispatch pc=18, inst=ROT_THREE(arg=None, lineno=1139)\n",
      "DEBUG:numba.core.byteflow:stack ['$12unary_negative.4', '$x014.5', '$16dup_top.6']\n",
      "DEBUG:numba.core.byteflow:dispatch pc=20, inst=COMPARE_OP(arg=1, lineno=1139)\n",
      "DEBUG:numba.core.byteflow:stack ['$16dup_top.6', '$12unary_negative.4', '$x014.5']\n",
      "DEBUG:numba.core.byteflow:dispatch pc=22, inst=POP_JUMP_IF_FALSE(arg=17, lineno=1139)\n",
      "DEBUG:numba.core.byteflow:stack ['$16dup_top.6', '$20compare_op.7']\n",
      "DEBUG:numba.core.byteflow:end state. edges=[Edge(pc=24, stack=('$16dup_top.6',), blockstack=(), npush=0), Edge(pc=32, stack=('$16dup_top.6',), blockstack=(), npush=0)]\n",
      "DEBUG:numba.core.byteflow:pending: deque([State(pc_initial=24 nstack_initial=1), State(pc_initial=32 nstack_initial=1)])\n",
      "DEBUG:numba.core.byteflow:stack: ['$phi24.0']\n",
      "DEBUG:numba.core.byteflow:state.pc_initial: State(pc_initial=24 nstack_initial=1)\n",
      "DEBUG:numba.core.byteflow:dispatch pc=24, inst=LOAD_FAST(arg=1, lineno=1139)\n",
      "DEBUG:numba.core.byteflow:stack ['$phi24.0']\n",
      "DEBUG:numba.core.byteflow:dispatch pc=26, inst=COMPARE_OP(arg=1, lineno=1139)\n",
      "DEBUG:numba.core.byteflow:stack ['$phi24.0', '$threshold24.1']\n",
      "DEBUG:numba.core.byteflow:dispatch pc=28, inst=POP_JUMP_IF_FALSE(arg=21, lineno=1139)\n",
      "DEBUG:numba.core.byteflow:stack ['$26compare_op.2']\n",
      "DEBUG:numba.core.byteflow:end state. edges=[Edge(pc=30, stack=(), blockstack=(), npush=0), Edge(pc=40, stack=(), blockstack=(), npush=0)]\n",
      "DEBUG:numba.core.byteflow:pending: deque([State(pc_initial=32 nstack_initial=1), State(pc_initial=30 nstack_initial=0), State(pc_initial=40 nstack_initial=0)])\n",
      "DEBUG:numba.core.byteflow:stack: ['$phi32.0']\n",
      "DEBUG:numba.core.byteflow:state.pc_initial: State(pc_initial=32 nstack_initial=1)\n",
      "DEBUG:numba.core.byteflow:dispatch pc=32, inst=POP_TOP(arg=None, lineno=1139)\n",
      "DEBUG:numba.core.byteflow:stack ['$phi32.0']\n",
      "DEBUG:numba.core.byteflow:dispatch pc=34, inst=JUMP_FORWARD(arg=2, lineno=1139)\n",
      "DEBUG:numba.core.byteflow:stack []\n",
      "DEBUG:numba.core.byteflow:end state. edges=[Edge(pc=40, stack=(), blockstack=(), npush=0)]\n",
      "DEBUG:numba.core.byteflow:pending: deque([State(pc_initial=30 nstack_initial=0), State(pc_initial=40 nstack_initial=0), State(pc_initial=40 nstack_initial=0)])\n",
      "DEBUG:numba.core.byteflow:stack: []\n",
      "DEBUG:numba.core.byteflow:state.pc_initial: State(pc_initial=30 nstack_initial=0)\n",
      "DEBUG:numba.core.byteflow:dispatch pc=30, inst=JUMP_FORWARD(arg=2, lineno=1139)\n",
      "DEBUG:numba.core.byteflow:stack []\n",
      "DEBUG:numba.core.byteflow:end state. edges=[Edge(pc=36, stack=(), blockstack=(), npush=0)]\n",
      "DEBUG:numba.core.byteflow:pending: deque([State(pc_initial=40 nstack_initial=0), State(pc_initial=40 nstack_initial=0), State(pc_initial=36 nstack_initial=0)])\n",
      "DEBUG:numba.core.byteflow:stack: []\n",
      "DEBUG:numba.core.byteflow:state.pc_initial: State(pc_initial=40 nstack_initial=0)\n",
      "DEBUG:numba.core.byteflow:dispatch pc=40, inst=LOAD_FAST(arg=0, lineno=1142)\n",
      "DEBUG:numba.core.byteflow:stack []\n",
      "DEBUG:numba.core.byteflow:dispatch pc=42, inst=LOAD_CONST(arg=2, lineno=1142)\n",
      "DEBUG:numba.core.byteflow:stack ['$x40.0']\n",
      "DEBUG:numba.core.byteflow:dispatch pc=44, inst=BINARY_SUBSCR(arg=None, lineno=1142)\n",
      "DEBUG:numba.core.byteflow:stack ['$x40.0', '$const42.1']\n",
      "DEBUG:numba.core.byteflow:dispatch pc=46, inst=STORE_FAST(arg=4, lineno=1142)\n",
      "DEBUG:numba.core.byteflow:stack ['$44binary_subscr.2']\n",
      "DEBUG:numba.core.byteflow:dispatch pc=48, inst=LOAD_FAST(arg=1, lineno=1143)\n",
      "DEBUG:numba.core.byteflow:stack []\n",
      "DEBUG:numba.core.byteflow:dispatch pc=50, inst=UNARY_NEGATIVE(arg=None, lineno=1143)\n",
      "DEBUG:numba.core.byteflow:stack ['$threshold48.3']\n",
      "DEBUG:numba.core.byteflow:dispatch pc=52, inst=LOAD_FAST(arg=4, lineno=1143)\n",
      "DEBUG:numba.core.byteflow:stack ['$50unary_negative.4']\n",
      "DEBUG:numba.core.byteflow:dispatch pc=54, inst=DUP_TOP(arg=None, lineno=1143)\n",
      "DEBUG:numba.core.byteflow:stack ['$50unary_negative.4', '$x152.5']\n",
      "DEBUG:numba.core.byteflow:dispatch pc=56, inst=ROT_THREE(arg=None, lineno=1143)\n",
      "DEBUG:numba.core.byteflow:stack ['$50unary_negative.4', '$x152.5', '$54dup_top.6']\n",
      "DEBUG:numba.core.byteflow:dispatch pc=58, inst=COMPARE_OP(arg=1, lineno=1143)\n",
      "DEBUG:numba.core.byteflow:stack ['$54dup_top.6', '$50unary_negative.4', '$x152.5']\n",
      "DEBUG:numba.core.byteflow:dispatch pc=60, inst=POP_JUMP_IF_FALSE(arg=36, lineno=1143)\n",
      "DEBUG:numba.core.byteflow:stack ['$54dup_top.6', '$58compare_op.7']\n",
      "DEBUG:numba.core.byteflow:end state. edges=[Edge(pc=62, stack=('$54dup_top.6',), blockstack=(), npush=0), Edge(pc=70, stack=('$54dup_top.6',), blockstack=(), npush=0)]\n",
      "DEBUG:numba.core.byteflow:pending: deque([State(pc_initial=40 nstack_initial=0), State(pc_initial=36 nstack_initial=0), State(pc_initial=62 nstack_initial=1), State(pc_initial=70 nstack_initial=1)])\n",
      "DEBUG:numba.core.byteflow:pending: deque([State(pc_initial=36 nstack_initial=0), State(pc_initial=62 nstack_initial=1), State(pc_initial=70 nstack_initial=1)])\n",
      "DEBUG:numba.core.byteflow:stack: []\n",
      "DEBUG:numba.core.byteflow:state.pc_initial: State(pc_initial=36 nstack_initial=0)\n",
      "DEBUG:numba.core.byteflow:dispatch pc=36, inst=LOAD_CONST(arg=1, lineno=1140)\n",
      "DEBUG:numba.core.byteflow:stack []\n",
      "DEBUG:numba.core.byteflow:dispatch pc=38, inst=STORE_FAST(arg=3, lineno=1140)\n",
      "DEBUG:numba.core.byteflow:stack ['$const36.0']\n",
      "DEBUG:numba.core.byteflow:end state. edges=[Edge(pc=40, stack=(), blockstack=(), npush=0)]\n",
      "DEBUG:numba.core.byteflow:pending: deque([State(pc_initial=62 nstack_initial=1), State(pc_initial=70 nstack_initial=1), State(pc_initial=40 nstack_initial=0)])\n",
      "DEBUG:numba.core.byteflow:stack: ['$phi62.0']\n",
      "DEBUG:numba.core.byteflow:state.pc_initial: State(pc_initial=62 nstack_initial=1)\n",
      "DEBUG:numba.core.byteflow:dispatch pc=62, inst=LOAD_FAST(arg=1, lineno=1143)\n",
      "DEBUG:numba.core.byteflow:stack ['$phi62.0']\n",
      "DEBUG:numba.core.byteflow:dispatch pc=64, inst=COMPARE_OP(arg=1, lineno=1143)\n",
      "DEBUG:numba.core.byteflow:stack ['$phi62.0', '$threshold62.1']\n",
      "DEBUG:numba.core.byteflow:dispatch pc=66, inst=POP_JUMP_IF_FALSE(arg=40, lineno=1143)\n",
      "DEBUG:numba.core.byteflow:stack ['$64compare_op.2']\n",
      "DEBUG:numba.core.byteflow:end state. edges=[Edge(pc=68, stack=(), blockstack=(), npush=0), Edge(pc=78, stack=(), blockstack=(), npush=0)]\n",
      "DEBUG:numba.core.byteflow:pending: deque([State(pc_initial=70 nstack_initial=1), State(pc_initial=40 nstack_initial=0), State(pc_initial=68 nstack_initial=0), State(pc_initial=78 nstack_initial=0)])\n",
      "DEBUG:numba.core.byteflow:stack: ['$phi70.0']\n",
      "DEBUG:numba.core.byteflow:state.pc_initial: State(pc_initial=70 nstack_initial=1)\n",
      "DEBUG:numba.core.byteflow:dispatch pc=70, inst=POP_TOP(arg=None, lineno=1143)\n",
      "DEBUG:numba.core.byteflow:stack ['$phi70.0']\n",
      "DEBUG:numba.core.byteflow:dispatch pc=72, inst=JUMP_FORWARD(arg=2, lineno=1143)\n",
      "DEBUG:numba.core.byteflow:stack []\n",
      "DEBUG:numba.core.byteflow:end state. edges=[Edge(pc=78, stack=(), blockstack=(), npush=0)]\n",
      "DEBUG:numba.core.byteflow:pending: deque([State(pc_initial=40 nstack_initial=0), State(pc_initial=68 nstack_initial=0), State(pc_initial=78 nstack_initial=0), State(pc_initial=78 nstack_initial=0)])\n",
      "DEBUG:numba.core.byteflow:pending: deque([State(pc_initial=68 nstack_initial=0), State(pc_initial=78 nstack_initial=0), State(pc_initial=78 nstack_initial=0)])\n",
      "DEBUG:numba.core.byteflow:stack: []\n",
      "DEBUG:numba.core.byteflow:state.pc_initial: State(pc_initial=68 nstack_initial=0)\n",
      "DEBUG:numba.core.byteflow:dispatch pc=68, inst=JUMP_FORWARD(arg=2, lineno=1143)\n",
      "DEBUG:numba.core.byteflow:stack []\n",
      "DEBUG:numba.core.byteflow:end state. edges=[Edge(pc=74, stack=(), blockstack=(), npush=0)]\n",
      "DEBUG:numba.core.byteflow:pending: deque([State(pc_initial=78 nstack_initial=0), State(pc_initial=78 nstack_initial=0), State(pc_initial=74 nstack_initial=0)])\n",
      "DEBUG:numba.core.byteflow:stack: []\n",
      "DEBUG:numba.core.byteflow:state.pc_initial: State(pc_initial=78 nstack_initial=0)\n",
      "DEBUG:numba.core.byteflow:dispatch pc=78, inst=LOAD_FAST(arg=2, lineno=1146)\n",
      "DEBUG:numba.core.byteflow:stack []\n",
      "DEBUG:numba.core.byteflow:dispatch pc=80, inst=POP_JUMP_IF_FALSE(arg=52, lineno=1146)\n",
      "DEBUG:numba.core.byteflow:stack ['$zero_pos78.0']\n",
      "DEBUG:numba.core.byteflow:end state. edges=[Edge(pc=82, stack=(), blockstack=(), npush=0), Edge(pc=102, stack=(), blockstack=(), npush=0)]\n",
      "DEBUG:numba.core.byteflow:pending: deque([State(pc_initial=78 nstack_initial=0), State(pc_initial=74 nstack_initial=0), State(pc_initial=82 nstack_initial=0), State(pc_initial=102 nstack_initial=0)])\n",
      "DEBUG:numba.core.byteflow:pending: deque([State(pc_initial=74 nstack_initial=0), State(pc_initial=82 nstack_initial=0), State(pc_initial=102 nstack_initial=0)])\n",
      "DEBUG:numba.core.byteflow:stack: []\n",
      "DEBUG:numba.core.byteflow:state.pc_initial: State(pc_initial=74 nstack_initial=0)\n",
      "DEBUG:numba.core.byteflow:dispatch pc=74, inst=LOAD_CONST(arg=1, lineno=1144)\n",
      "DEBUG:numba.core.byteflow:stack []\n",
      "DEBUG:numba.core.byteflow:dispatch pc=76, inst=STORE_FAST(arg=4, lineno=1144)\n",
      "DEBUG:numba.core.byteflow:stack ['$const74.0']\n",
      "DEBUG:numba.core.byteflow:end state. edges=[Edge(pc=78, stack=(), blockstack=(), npush=0)]\n",
      "DEBUG:numba.core.byteflow:pending: deque([State(pc_initial=82 nstack_initial=0), State(pc_initial=102 nstack_initial=0), State(pc_initial=78 nstack_initial=0)])\n",
      "DEBUG:numba.core.byteflow:stack: []\n",
      "DEBUG:numba.core.byteflow:state.pc_initial: State(pc_initial=82 nstack_initial=0)\n",
      "DEBUG:numba.core.byteflow:dispatch pc=82, inst=LOAD_GLOBAL(arg=0, lineno=1147)\n",
      "DEBUG:numba.core.byteflow:stack []\n",
      "DEBUG:numba.core.byteflow:dispatch pc=84, inst=LOAD_METHOD(arg=1, lineno=1147)\n",
      "DEBUG:numba.core.byteflow:stack ['$82load_global.0']\n",
      "DEBUG:numba.core.byteflow:dispatch pc=86, inst=LOAD_FAST(arg=3, lineno=1147)\n",
      "DEBUG:numba.core.byteflow:stack ['$84load_method.1']\n",
      "DEBUG:numba.core.byteflow:dispatch pc=88, inst=CALL_METHOD(arg=1, lineno=1147)\n",
      "DEBUG:numba.core.byteflow:stack ['$84load_method.1', '$x086.2']\n",
      "DEBUG:numba.core.byteflow:dispatch pc=90, inst=LOAD_GLOBAL(arg=0, lineno=1147)\n",
      "DEBUG:numba.core.byteflow:stack ['$88call_method.3']\n",
      "DEBUG:numba.core.byteflow:dispatch pc=92, inst=LOAD_METHOD(arg=1, lineno=1147)\n",
      "DEBUG:numba.core.byteflow:stack ['$88call_method.3', '$90load_global.4']\n",
      "DEBUG:numba.core.byteflow:dispatch pc=94, inst=LOAD_FAST(arg=4, lineno=1147)\n",
      "DEBUG:numba.core.byteflow:stack ['$88call_method.3', '$92load_method.5']\n",
      "DEBUG:numba.core.byteflow:dispatch pc=96, inst=CALL_METHOD(arg=1, lineno=1147)\n",
      "DEBUG:numba.core.byteflow:stack ['$88call_method.3', '$92load_method.5', '$x194.6']\n",
      "DEBUG:numba.core.byteflow:dispatch pc=98, inst=COMPARE_OP(arg=3, lineno=1147)\n",
      "DEBUG:numba.core.byteflow:stack ['$88call_method.3', '$96call_method.7']\n",
      "DEBUG:numba.core.byteflow:dispatch pc=100, inst=RETURN_VALUE(arg=None, lineno=1147)\n",
      "DEBUG:numba.core.byteflow:stack ['$98compare_op.8']\n",
      "DEBUG:numba.core.byteflow:end state. edges=[]\n",
      "DEBUG:numba.core.byteflow:pending: deque([State(pc_initial=102 nstack_initial=0), State(pc_initial=78 nstack_initial=0)])\n",
      "DEBUG:numba.core.byteflow:stack: []\n",
      "DEBUG:numba.core.byteflow:state.pc_initial: State(pc_initial=102 nstack_initial=0)\n",
      "DEBUG:numba.core.byteflow:dispatch pc=102, inst=LOAD_GLOBAL(arg=0, lineno=1149)\n",
      "DEBUG:numba.core.byteflow:stack []\n",
      "DEBUG:numba.core.byteflow:dispatch pc=104, inst=LOAD_METHOD(arg=2, lineno=1149)\n",
      "DEBUG:numba.core.byteflow:stack ['$102load_global.0']\n",
      "DEBUG:numba.core.byteflow:dispatch pc=106, inst=LOAD_FAST(arg=3, lineno=1149)\n",
      "DEBUG:numba.core.byteflow:stack ['$104load_method.1']\n",
      "DEBUG:numba.core.byteflow:dispatch pc=108, inst=CALL_METHOD(arg=1, lineno=1149)\n",
      "DEBUG:numba.core.byteflow:stack ['$104load_method.1', '$x0106.2']\n",
      "DEBUG:numba.core.byteflow:dispatch pc=110, inst=LOAD_GLOBAL(arg=0, lineno=1149)\n",
      "DEBUG:numba.core.byteflow:stack ['$108call_method.3']\n",
      "DEBUG:numba.core.byteflow:dispatch pc=112, inst=LOAD_METHOD(arg=2, lineno=1149)\n",
      "DEBUG:numba.core.byteflow:stack ['$108call_method.3', '$110load_global.4']\n",
      "DEBUG:numba.core.byteflow:dispatch pc=114, inst=LOAD_FAST(arg=4, lineno=1149)\n",
      "DEBUG:numba.core.byteflow:stack ['$108call_method.3', '$112load_method.5']\n",
      "DEBUG:numba.core.byteflow:dispatch pc=116, inst=CALL_METHOD(arg=1, lineno=1149)\n",
      "DEBUG:numba.core.byteflow:stack ['$108call_method.3', '$112load_method.5', '$x1114.6']\n",
      "DEBUG:numba.core.byteflow:dispatch pc=118, inst=COMPARE_OP(arg=3, lineno=1149)\n",
      "DEBUG:numba.core.byteflow:stack ['$108call_method.3', '$116call_method.7']\n",
      "DEBUG:numba.core.byteflow:dispatch pc=120, inst=RETURN_VALUE(arg=None, lineno=1149)\n",
      "DEBUG:numba.core.byteflow:stack ['$118compare_op.8']\n",
      "DEBUG:numba.core.byteflow:end state. edges=[]\n",
      "DEBUG:numba.core.byteflow:pending: deque([State(pc_initial=78 nstack_initial=0)])\n",
      "DEBUG:numba.core.byteflow:-------------------------Prune PHIs-------------------------\n",
      "DEBUG:numba.core.byteflow:Used_phis: defaultdict(<class 'set'>,\n",
      "            {State(pc_initial=0 nstack_initial=0): set(),\n",
      "             State(pc_initial=24 nstack_initial=1): {'$phi24.0'},\n",
      "             State(pc_initial=30 nstack_initial=0): set(),\n",
      "             State(pc_initial=32 nstack_initial=1): set(),\n",
      "             State(pc_initial=36 nstack_initial=0): set(),\n",
      "             State(pc_initial=40 nstack_initial=0): set(),\n",
      "             State(pc_initial=62 nstack_initial=1): {'$phi62.0'},\n",
      "             State(pc_initial=68 nstack_initial=0): set(),\n",
      "             State(pc_initial=70 nstack_initial=1): set(),\n",
      "             State(pc_initial=74 nstack_initial=0): set(),\n",
      "             State(pc_initial=78 nstack_initial=0): set(),\n",
      "             State(pc_initial=82 nstack_initial=0): set(),\n",
      "             State(pc_initial=102 nstack_initial=0): set()})\n",
      "DEBUG:numba.core.byteflow:defmap: {'$phi24.0': State(pc_initial=0 nstack_initial=0),\n",
      " '$phi32.0': State(pc_initial=0 nstack_initial=0),\n",
      " '$phi62.0': State(pc_initial=40 nstack_initial=0),\n",
      " '$phi70.0': State(pc_initial=40 nstack_initial=0)}\n",
      "DEBUG:numba.core.byteflow:phismap: defaultdict(<class 'set'>,\n",
      "            {'$phi24.0': {('$16dup_top.6',\n",
      "                           State(pc_initial=0 nstack_initial=0))},\n",
      "             '$phi32.0': {('$16dup_top.6',\n",
      "                           State(pc_initial=0 nstack_initial=0))},\n",
      "             '$phi62.0': {('$54dup_top.6',\n",
      "                           State(pc_initial=40 nstack_initial=0))},\n",
      "             '$phi70.0': {('$54dup_top.6',\n",
      "                           State(pc_initial=40 nstack_initial=0))}})\n",
      "DEBUG:numba.core.byteflow:changing phismap: defaultdict(<class 'set'>,\n",
      "            {'$phi24.0': {('$16dup_top.6',\n",
      "                           State(pc_initial=0 nstack_initial=0))},\n",
      "             '$phi32.0': {('$16dup_top.6',\n",
      "                           State(pc_initial=0 nstack_initial=0))},\n",
      "             '$phi62.0': {('$54dup_top.6',\n",
      "                           State(pc_initial=40 nstack_initial=0))},\n",
      "             '$phi70.0': {('$54dup_top.6',\n",
      "                           State(pc_initial=40 nstack_initial=0))}})\n",
      "DEBUG:numba.core.byteflow:keep phismap: {'$phi24.0': {('$16dup_top.6', State(pc_initial=0 nstack_initial=0))},\n",
      " '$phi62.0': {('$54dup_top.6', State(pc_initial=40 nstack_initial=0))}}\n",
      "DEBUG:numba.core.byteflow:new_out: defaultdict(<class 'dict'>,\n",
      "            {State(pc_initial=0 nstack_initial=0): {'$phi24.0': '$16dup_top.6'},\n",
      "             State(pc_initial=40 nstack_initial=0): {'$phi62.0': '$54dup_top.6'}})\n",
      "DEBUG:numba.core.byteflow:----------------------DONE Prune PHIs-----------------------\n",
      "DEBUG:numba.core.byteflow:block_infos State(pc_initial=0 nstack_initial=0):\n",
      "AdaptBlockInfo(insts=((0, {}), (2, {'res': '$x2.0'}), (4, {'res': '$const4.1'}), (6, {'index': '$const4.1', 'target': '$x2.0', 'res': '$6binary_subscr.2'}), (8, {'value': '$6binary_subscr.2'}), (10, {'res': '$threshold10.3'}), (12, {'value': '$threshold10.3', 'res': '$12unary_negative.4'}), (14, {'res': '$x014.5'}), (16, {'orig': ['$x014.5'], 'duped': ['$16dup_top.6']}), (20, {'lhs': '$12unary_negative.4', 'rhs': '$x014.5', 'res': '$20compare_op.7'}), (22, {'pred': '$20compare_op.7'})), outgoing_phis={'$phi24.0': '$16dup_top.6'}, blockstack=(), active_try_block=None, outgoing_edgepushed={24: ('$16dup_top.6',), 32: ('$16dup_top.6',)})\n",
      "DEBUG:numba.core.byteflow:block_infos State(pc_initial=24 nstack_initial=1):\n",
      "AdaptBlockInfo(insts=((24, {'res': '$threshold24.1'}), (26, {'lhs': '$phi24.0', 'rhs': '$threshold24.1', 'res': '$26compare_op.2'}), (28, {'pred': '$26compare_op.2'})), outgoing_phis={}, blockstack=(), active_try_block=None, outgoing_edgepushed={30: (), 40: ()})\n",
      "DEBUG:numba.core.byteflow:block_infos State(pc_initial=30 nstack_initial=0):\n",
      "AdaptBlockInfo(insts=((30, {}),), outgoing_phis={}, blockstack=(), active_try_block=None, outgoing_edgepushed={36: ()})\n",
      "DEBUG:numba.core.byteflow:block_infos State(pc_initial=32 nstack_initial=1):\n",
      "AdaptBlockInfo(insts=((34, {}),), outgoing_phis={}, blockstack=(), active_try_block=None, outgoing_edgepushed={40: ()})\n",
      "DEBUG:numba.core.byteflow:block_infos State(pc_initial=36 nstack_initial=0):\n",
      "AdaptBlockInfo(insts=((36, {'res': '$const36.0'}), (38, {'value': '$const36.0'})), outgoing_phis={}, blockstack=(), active_try_block=None, outgoing_edgepushed={40: ()})\n",
      "DEBUG:numba.core.byteflow:block_infos State(pc_initial=40 nstack_initial=0):\n",
      "AdaptBlockInfo(insts=((40, {'res': '$x40.0'}), (42, {'res': '$const42.1'}), (44, {'index': '$const42.1', 'target': '$x40.0', 'res': '$44binary_subscr.2'}), (46, {'value': '$44binary_subscr.2'}), (48, {'res': '$threshold48.3'}), (50, {'value': '$threshold48.3', 'res': '$50unary_negative.4'}), (52, {'res': '$x152.5'}), (54, {'orig': ['$x152.5'], 'duped': ['$54dup_top.6']}), (58, {'lhs': '$50unary_negative.4', 'rhs': '$x152.5', 'res': '$58compare_op.7'}), (60, {'pred': '$58compare_op.7'})), outgoing_phis={'$phi62.0': '$54dup_top.6'}, blockstack=(), active_try_block=None, outgoing_edgepushed={62: ('$54dup_top.6',), 70: ('$54dup_top.6',)})\n",
      "DEBUG:numba.core.byteflow:block_infos State(pc_initial=62 nstack_initial=1):\n",
      "AdaptBlockInfo(insts=((62, {'res': '$threshold62.1'}), (64, {'lhs': '$phi62.0', 'rhs': '$threshold62.1', 'res': '$64compare_op.2'}), (66, {'pred': '$64compare_op.2'})), outgoing_phis={}, blockstack=(), active_try_block=None, outgoing_edgepushed={68: (), 78: ()})\n",
      "DEBUG:numba.core.byteflow:block_infos State(pc_initial=68 nstack_initial=0):\n",
      "AdaptBlockInfo(insts=((68, {}),), outgoing_phis={}, blockstack=(), active_try_block=None, outgoing_edgepushed={74: ()})\n",
      "DEBUG:numba.core.byteflow:block_infos State(pc_initial=70 nstack_initial=1):\n",
      "AdaptBlockInfo(insts=((72, {}),), outgoing_phis={}, blockstack=(), active_try_block=None, outgoing_edgepushed={78: ()})\n",
      "DEBUG:numba.core.byteflow:block_infos State(pc_initial=74 nstack_initial=0):\n",
      "AdaptBlockInfo(insts=((74, {'res': '$const74.0'}), (76, {'value': '$const74.0'})), outgoing_phis={}, blockstack=(), active_try_block=None, outgoing_edgepushed={78: ()})\n",
      "DEBUG:numba.core.byteflow:block_infos State(pc_initial=78 nstack_initial=0):\n",
      "AdaptBlockInfo(insts=((78, {'res': '$zero_pos78.0'}), (80, {'pred': '$zero_pos78.0'})), outgoing_phis={}, blockstack=(), active_try_block=None, outgoing_edgepushed={82: (), 102: ()})\n",
      "DEBUG:numba.core.byteflow:block_infos State(pc_initial=82 nstack_initial=0):\n",
      "AdaptBlockInfo(insts=((82, {'res': '$82load_global.0'}), (84, {'item': '$82load_global.0', 'res': '$84load_method.1'}), (86, {'res': '$x086.2'}), (88, {'func': '$84load_method.1', 'args': ['$x086.2'], 'res': '$88call_method.3'}), (90, {'res': '$90load_global.4'}), (92, {'item': '$90load_global.4', 'res': '$92load_method.5'}), (94, {'res': '$x194.6'}), (96, {'func': '$92load_method.5', 'args': ['$x194.6'], 'res': '$96call_method.7'}), (98, {'lhs': '$88call_method.3', 'rhs': '$96call_method.7', 'res': '$98compare_op.8'}), (100, {'retval': '$98compare_op.8', 'castval': '$100return_value.9'})), outgoing_phis={}, blockstack=(), active_try_block=None, outgoing_edgepushed={})\n",
      "DEBUG:numba.core.byteflow:block_infos State(pc_initial=102 nstack_initial=0):\n",
      "AdaptBlockInfo(insts=((102, {'res': '$102load_global.0'}), (104, {'item': '$102load_global.0', 'res': '$104load_method.1'}), (106, {'res': '$x0106.2'}), (108, {'func': '$104load_method.1', 'args': ['$x0106.2'], 'res': '$108call_method.3'}), (110, {'res': '$110load_global.4'}), (112, {'item': '$110load_global.4', 'res': '$112load_method.5'}), (114, {'res': '$x1114.6'}), (116, {'func': '$112load_method.5', 'args': ['$x1114.6'], 'res': '$116call_method.7'}), (118, {'lhs': '$108call_method.3', 'rhs': '$116call_method.7', 'res': '$118compare_op.8'}), (120, {'retval': '$118compare_op.8', 'castval': '$120return_value.9'})), outgoing_phis={}, blockstack=(), active_try_block=None, outgoing_edgepushed={})\n",
      "DEBUG:numba.core.interpreter:label 0:\n",
      "    x = arg(0, name=x)                       ['x']\n",
      "    threshold = arg(1, name=threshold)       ['threshold']\n",
      "    zero_pos = arg(2, name=zero_pos)         ['zero_pos']\n",
      "    $const4.1 = const(int, 0)                ['$const4.1']\n",
      "    x0 = getitem(value=x, index=$const4.1, fn=<built-in function getitem>) ['$const4.1', 'x', 'x0']\n",
      "    $12unary_negative.4 = unary(fn=<built-in function neg>, value=threshold) ['$12unary_negative.4', 'threshold']\n",
      "    $20compare_op.7 = $12unary_negative.4 <= x0 ['$12unary_negative.4', '$20compare_op.7', 'x0']\n",
      "    bool22 = global(bool: <class 'bool'>)    ['bool22']\n",
      "    $22pred = call bool22($20compare_op.7, func=bool22, args=(Var($20compare_op.7, audio.py:1139),), kws=(), vararg=None, varkwarg=None, target=None) ['$20compare_op.7', '$22pred', 'bool22']\n",
      "    $phi24.0 = x0                            ['$phi24.0', 'x0']\n",
      "    branch $22pred, 24, 32                   ['$22pred']\n",
      "label 24:\n",
      "    $26compare_op.2 = $phi24.0 <= threshold  ['$26compare_op.2', '$phi24.0', 'threshold']\n",
      "    bool28 = global(bool: <class 'bool'>)    ['bool28']\n",
      "    $28pred = call bool28($26compare_op.2, func=bool28, args=(Var($26compare_op.2, audio.py:1139),), kws=(), vararg=None, varkwarg=None, target=None) ['$26compare_op.2', '$28pred', 'bool28']\n",
      "    branch $28pred, 30, 40                   ['$28pred']\n",
      "label 30:\n",
      "    jump 36                                  []\n",
      "label 32:\n",
      "    jump 40                                  []\n",
      "label 36:\n",
      "    x0 = const(int, 0)                       ['x0']\n",
      "    jump 40                                  []\n",
      "label 40:\n",
      "    $const42.1 = const(int, -1)              ['$const42.1']\n",
      "    x1 = getitem(value=x, index=$const42.1, fn=<built-in function getitem>) ['$const42.1', 'x', 'x1']\n",
      "    $50unary_negative.4 = unary(fn=<built-in function neg>, value=threshold) ['$50unary_negative.4', 'threshold']\n",
      "    $58compare_op.7 = $50unary_negative.4 <= x1 ['$50unary_negative.4', '$58compare_op.7', 'x1']\n",
      "    bool60 = global(bool: <class 'bool'>)    ['bool60']\n",
      "    $60pred = call bool60($58compare_op.7, func=bool60, args=(Var($58compare_op.7, audio.py:1143),), kws=(), vararg=None, varkwarg=None, target=None) ['$58compare_op.7', '$60pred', 'bool60']\n",
      "    $phi62.0 = x1                            ['$phi62.0', 'x1']\n",
      "    branch $60pred, 62, 70                   ['$60pred']\n",
      "label 62:\n",
      "    $64compare_op.2 = $phi62.0 <= threshold  ['$64compare_op.2', '$phi62.0', 'threshold']\n",
      "    bool66 = global(bool: <class 'bool'>)    ['bool66']\n",
      "    $66pred = call bool66($64compare_op.2, func=bool66, args=(Var($64compare_op.2, audio.py:1143),), kws=(), vararg=None, varkwarg=None, target=None) ['$64compare_op.2', '$66pred', 'bool66']\n",
      "    branch $66pred, 68, 78                   ['$66pred']\n",
      "label 68:\n",
      "    jump 74                                  []\n",
      "label 70:\n",
      "    jump 78                                  []\n",
      "label 74:\n",
      "    x1 = const(int, 0)                       ['x1']\n",
      "    jump 78                                  []\n",
      "label 78:\n",
      "    bool80 = global(bool: <class 'bool'>)    ['bool80']\n",
      "    $80pred = call bool80(zero_pos, func=bool80, args=(Var(zero_pos, audio.py:1135),), kws=(), vararg=None, varkwarg=None, target=None) ['$80pred', 'bool80', 'zero_pos']\n",
      "    branch $80pred, 82, 102                  ['$80pred']\n",
      "label 82:\n",
      "    $82load_global.0 = global(np: <module 'numpy' from '/om2/user/azain/anaconda/envs/voice-anon/lib/python3.10/site-packages/numpy/__init__.py'>) ['$82load_global.0']\n",
      "    $84load_method.1 = getattr(value=$82load_global.0, attr=signbit) ['$82load_global.0', '$84load_method.1']\n",
      "    $88call_method.3 = call $84load_method.1(x0, func=$84load_method.1, args=[Var(x0, audio.py:1138)], kws=(), vararg=None, varkwarg=None, target=None) ['$84load_method.1', '$88call_method.3', 'x0']\n",
      "    $90load_global.4 = global(np: <module 'numpy' from '/om2/user/azain/anaconda/envs/voice-anon/lib/python3.10/site-packages/numpy/__init__.py'>) ['$90load_global.4']\n",
      "    $92load_method.5 = getattr(value=$90load_global.4, attr=signbit) ['$90load_global.4', '$92load_method.5']\n",
      "    $96call_method.7 = call $92load_method.5(x1, func=$92load_method.5, args=[Var(x1, audio.py:1142)], kws=(), vararg=None, varkwarg=None, target=None) ['$92load_method.5', '$96call_method.7', 'x1']\n",
      "    $98compare_op.8 = $88call_method.3 != $96call_method.7 ['$88call_method.3', '$96call_method.7', '$98compare_op.8']\n",
      "    $100return_value.9 = cast(value=$98compare_op.8) ['$100return_value.9', '$98compare_op.8']\n",
      "    return $100return_value.9                ['$100return_value.9']\n",
      "label 102:\n",
      "    $102load_global.0 = global(np: <module 'numpy' from '/om2/user/azain/anaconda/envs/voice-anon/lib/python3.10/site-packages/numpy/__init__.py'>) ['$102load_global.0']\n",
      "    $104load_method.1 = getattr(value=$102load_global.0, attr=sign) ['$102load_global.0', '$104load_method.1']\n",
      "    $108call_method.3 = call $104load_method.1(x0, func=$104load_method.1, args=[Var(x0, audio.py:1138)], kws=(), vararg=None, varkwarg=None, target=None) ['$104load_method.1', '$108call_method.3', 'x0']\n",
      "    $110load_global.4 = global(np: <module 'numpy' from '/om2/user/azain/anaconda/envs/voice-anon/lib/python3.10/site-packages/numpy/__init__.py'>) ['$110load_global.4']\n",
      "    $112load_method.5 = getattr(value=$110load_global.4, attr=sign) ['$110load_global.4', '$112load_method.5']\n",
      "    $116call_method.7 = call $112load_method.5(x1, func=$112load_method.5, args=[Var(x1, audio.py:1142)], kws=(), vararg=None, varkwarg=None, target=None) ['$112load_method.5', '$116call_method.7', 'x1']\n",
      "    $118compare_op.8 = $108call_method.3 != $116call_method.7 ['$108call_method.3', '$116call_method.7', '$118compare_op.8']\n",
      "    $120return_value.9 = cast(value=$118compare_op.8) ['$118compare_op.8', '$120return_value.9']\n",
      "    return $120return_value.9                ['$120return_value.9']\n",
      "\n"
     ]
    },
    {
     "name": "stderr",
     "output_type": "stream",
     "text": [
      "Map:   0%|          | 0/100 [00:00<?, ? examples/s]"
     ]
    },
    {
     "name": "stdout",
     "output_type": "stream",
     "text": [
      "Synthesizing...\n",
      "DEBUG:numba.core.byteflow:bytecode dump:\n",
      ">          0\tNOP(arg=None, lineno=425)\n",
      "           2\tLOAD_FAST(arg=0, lineno=428)\n",
      "           4\tLOAD_CONST(arg=1, lineno=428)\n",
      "           6\tBINARY_SUBSCR(arg=None, lineno=428)\n",
      "           8\tLOAD_FAST(arg=0, lineno=428)\n",
      "          10\tLOAD_CONST(arg=2, lineno=428)\n",
      "          12\tBINARY_SUBSCR(arg=None, lineno=428)\n",
      "          14\tBINARY_ADD(arg=None, lineno=428)\n",
      "          16\tLOAD_CONST(arg=3, lineno=428)\n",
      "          18\tLOAD_FAST(arg=0, lineno=428)\n",
      "          20\tLOAD_CONST(arg=4, lineno=428)\n",
      "          22\tBINARY_SUBSCR(arg=None, lineno=428)\n",
      "          24\tBINARY_MULTIPLY(arg=None, lineno=428)\n",
      "          26\tBINARY_SUBTRACT(arg=None, lineno=428)\n",
      "          28\tSTORE_FAST(arg=1, lineno=428)\n",
      "          30\tLOAD_FAST(arg=0, lineno=429)\n",
      "          32\tLOAD_CONST(arg=1, lineno=429)\n",
      "          34\tBINARY_SUBSCR(arg=None, lineno=429)\n",
      "          36\tLOAD_FAST(arg=0, lineno=429)\n",
      "          38\tLOAD_CONST(arg=2, lineno=429)\n",
      "          40\tBINARY_SUBSCR(arg=None, lineno=429)\n",
      "          42\tBINARY_SUBTRACT(arg=None, lineno=429)\n",
      "          44\tLOAD_CONST(arg=3, lineno=429)\n",
      "          46\tBINARY_TRUE_DIVIDE(arg=None, lineno=429)\n",
      "          48\tSTORE_FAST(arg=2, lineno=429)\n",
      "          50\tLOAD_GLOBAL(arg=0, lineno=431)\n",
      "          52\tLOAD_METHOD(arg=1, lineno=431)\n",
      "          54\tLOAD_FAST(arg=2, lineno=431)\n",
      "          56\tCALL_METHOD(arg=1, lineno=431)\n",
      "          58\tLOAD_GLOBAL(arg=0, lineno=431)\n",
      "          60\tLOAD_METHOD(arg=1, lineno=431)\n",
      "          62\tLOAD_FAST(arg=1, lineno=431)\n",
      "          64\tCALL_METHOD(arg=1, lineno=431)\n",
      "          66\tCOMPARE_OP(arg=5, lineno=431)\n",
      "          68\tPOP_JUMP_IF_FALSE(arg=38, lineno=431)\n",
      "          70\tLOAD_CONST(arg=4, lineno=434)\n",
      "          72\tRETURN_VALUE(arg=None, lineno=434)\n",
      ">         74\tLOAD_FAST(arg=2, lineno=436)\n",
      "          76\tUNARY_NEGATIVE(arg=None, lineno=436)\n",
      "          78\tLOAD_FAST(arg=1, lineno=436)\n",
      "          80\tBINARY_TRUE_DIVIDE(arg=None, lineno=436)\n",
      "          82\tRETURN_VALUE(arg=None, lineno=436)\n",
      "DEBUG:numba.core.byteflow:pending: deque([State(pc_initial=0 nstack_initial=0)])\n",
      "DEBUG:numba.core.byteflow:stack: []\n",
      "DEBUG:numba.core.byteflow:state.pc_initial: State(pc_initial=0 nstack_initial=0)\n",
      "DEBUG:numba.core.byteflow:dispatch pc=0, inst=NOP(arg=None, lineno=425)\n",
      "DEBUG:numba.core.byteflow:stack []\n",
      "DEBUG:numba.core.byteflow:dispatch pc=2, inst=LOAD_FAST(arg=0, lineno=428)\n",
      "DEBUG:numba.core.byteflow:stack []\n",
      "DEBUG:numba.core.byteflow:dispatch pc=4, inst=LOAD_CONST(arg=1, lineno=428)\n",
      "DEBUG:numba.core.byteflow:stack ['$x2.0']\n",
      "DEBUG:numba.core.byteflow:dispatch pc=6, inst=BINARY_SUBSCR(arg=None, lineno=428)\n",
      "DEBUG:numba.core.byteflow:stack ['$x2.0', '$const4.1']\n",
      "DEBUG:numba.core.byteflow:dispatch pc=8, inst=LOAD_FAST(arg=0, lineno=428)\n",
      "DEBUG:numba.core.byteflow:stack ['$6binary_subscr.2']\n",
      "DEBUG:numba.core.byteflow:dispatch pc=10, inst=LOAD_CONST(arg=2, lineno=428)\n",
      "DEBUG:numba.core.byteflow:stack ['$6binary_subscr.2', '$x8.3']\n",
      "DEBUG:numba.core.byteflow:dispatch pc=12, inst=BINARY_SUBSCR(arg=None, lineno=428)\n",
      "DEBUG:numba.core.byteflow:stack ['$6binary_subscr.2', '$x8.3', '$const10.4']\n",
      "DEBUG:numba.core.byteflow:dispatch pc=14, inst=BINARY_ADD(arg=None, lineno=428)\n",
      "DEBUG:numba.core.byteflow:stack ['$6binary_subscr.2', '$12binary_subscr.5']\n",
      "DEBUG:numba.core.byteflow:dispatch pc=16, inst=LOAD_CONST(arg=3, lineno=428)\n",
      "DEBUG:numba.core.byteflow:stack ['$14binary_add.6']\n",
      "DEBUG:numba.core.byteflow:dispatch pc=18, inst=LOAD_FAST(arg=0, lineno=428)\n",
      "DEBUG:numba.core.byteflow:stack ['$14binary_add.6', '$const16.7']\n",
      "DEBUG:numba.core.byteflow:dispatch pc=20, inst=LOAD_CONST(arg=4, lineno=428)\n",
      "DEBUG:numba.core.byteflow:stack ['$14binary_add.6', '$const16.7', '$x18.8']\n",
      "DEBUG:numba.core.byteflow:dispatch pc=22, inst=BINARY_SUBSCR(arg=None, lineno=428)\n",
      "DEBUG:numba.core.byteflow:stack ['$14binary_add.6', '$const16.7', '$x18.8', '$const20.9']\n",
      "DEBUG:numba.core.byteflow:dispatch pc=24, inst=BINARY_MULTIPLY(arg=None, lineno=428)\n",
      "DEBUG:numba.core.byteflow:stack ['$14binary_add.6', '$const16.7', '$22binary_subscr.10']\n",
      "DEBUG:numba.core.byteflow:dispatch pc=26, inst=BINARY_SUBTRACT(arg=None, lineno=428)\n",
      "DEBUG:numba.core.byteflow:stack ['$14binary_add.6', '$24binary_multiply.11']\n",
      "DEBUG:numba.core.byteflow:dispatch pc=28, inst=STORE_FAST(arg=1, lineno=428)\n",
      "DEBUG:numba.core.byteflow:stack ['$26binary_subtract.12']\n",
      "DEBUG:numba.core.byteflow:dispatch pc=30, inst=LOAD_FAST(arg=0, lineno=429)\n",
      "DEBUG:numba.core.byteflow:stack []\n",
      "DEBUG:numba.core.byteflow:dispatch pc=32, inst=LOAD_CONST(arg=1, lineno=429)\n",
      "DEBUG:numba.core.byteflow:stack ['$x30.13']\n",
      "DEBUG:numba.core.byteflow:dispatch pc=34, inst=BINARY_SUBSCR(arg=None, lineno=429)\n",
      "DEBUG:numba.core.byteflow:stack ['$x30.13', '$const32.14']\n",
      "DEBUG:numba.core.byteflow:dispatch pc=36, inst=LOAD_FAST(arg=0, lineno=429)\n",
      "DEBUG:numba.core.byteflow:stack ['$34binary_subscr.15']\n",
      "DEBUG:numba.core.byteflow:dispatch pc=38, inst=LOAD_CONST(arg=2, lineno=429)\n",
      "DEBUG:numba.core.byteflow:stack ['$34binary_subscr.15', '$x36.16']\n",
      "DEBUG:numba.core.byteflow:dispatch pc=40, inst=BINARY_SUBSCR(arg=None, lineno=429)\n",
      "DEBUG:numba.core.byteflow:stack ['$34binary_subscr.15', '$x36.16', '$const38.17']\n",
      "DEBUG:numba.core.byteflow:dispatch pc=42, inst=BINARY_SUBTRACT(arg=None, lineno=429)\n",
      "DEBUG:numba.core.byteflow:stack ['$34binary_subscr.15', '$40binary_subscr.18']\n",
      "DEBUG:numba.core.byteflow:dispatch pc=44, inst=LOAD_CONST(arg=3, lineno=429)\n",
      "DEBUG:numba.core.byteflow:stack ['$42binary_subtract.19']\n",
      "DEBUG:numba.core.byteflow:dispatch pc=46, inst=BINARY_TRUE_DIVIDE(arg=None, lineno=429)\n",
      "DEBUG:numba.core.byteflow:stack ['$42binary_subtract.19', '$const44.20']\n",
      "DEBUG:numba.core.byteflow:dispatch pc=48, inst=STORE_FAST(arg=2, lineno=429)\n",
      "DEBUG:numba.core.byteflow:stack ['$46binary_true_divide.21']\n",
      "DEBUG:numba.core.byteflow:dispatch pc=50, inst=LOAD_GLOBAL(arg=0, lineno=431)\n",
      "DEBUG:numba.core.byteflow:stack []\n",
      "DEBUG:numba.core.byteflow:dispatch pc=52, inst=LOAD_METHOD(arg=1, lineno=431)\n",
      "DEBUG:numba.core.byteflow:stack ['$50load_global.22']\n",
      "DEBUG:numba.core.byteflow:dispatch pc=54, inst=LOAD_FAST(arg=2, lineno=431)\n",
      "DEBUG:numba.core.byteflow:stack ['$52load_method.23']\n",
      "DEBUG:numba.core.byteflow:dispatch pc=56, inst=CALL_METHOD(arg=1, lineno=431)\n",
      "DEBUG:numba.core.byteflow:stack ['$52load_method.23', '$b54.24']\n",
      "DEBUG:numba.core.byteflow:dispatch pc=58, inst=LOAD_GLOBAL(arg=0, lineno=431)\n",
      "DEBUG:numba.core.byteflow:stack ['$56call_method.25']\n",
      "DEBUG:numba.core.byteflow:dispatch pc=60, inst=LOAD_METHOD(arg=1, lineno=431)\n",
      "DEBUG:numba.core.byteflow:stack ['$56call_method.25', '$58load_global.26']\n",
      "DEBUG:numba.core.byteflow:dispatch pc=62, inst=LOAD_FAST(arg=1, lineno=431)\n",
      "DEBUG:numba.core.byteflow:stack ['$56call_method.25', '$60load_method.27']\n",
      "DEBUG:numba.core.byteflow:dispatch pc=64, inst=CALL_METHOD(arg=1, lineno=431)\n",
      "DEBUG:numba.core.byteflow:stack ['$56call_method.25', '$60load_method.27', '$a62.28']\n",
      "DEBUG:numba.core.byteflow:dispatch pc=66, inst=COMPARE_OP(arg=5, lineno=431)\n",
      "DEBUG:numba.core.byteflow:stack ['$56call_method.25', '$64call_method.29']\n",
      "DEBUG:numba.core.byteflow:dispatch pc=68, inst=POP_JUMP_IF_FALSE(arg=38, lineno=431)\n",
      "DEBUG:numba.core.byteflow:stack ['$66compare_op.30']\n",
      "DEBUG:numba.core.byteflow:end state. edges=[Edge(pc=70, stack=(), blockstack=(), npush=0), Edge(pc=74, stack=(), blockstack=(), npush=0)]\n",
      "DEBUG:numba.core.byteflow:pending: deque([State(pc_initial=70 nstack_initial=0), State(pc_initial=74 nstack_initial=0)])\n",
      "DEBUG:numba.core.byteflow:stack: []\n",
      "DEBUG:numba.core.byteflow:state.pc_initial: State(pc_initial=70 nstack_initial=0)\n",
      "DEBUG:numba.core.byteflow:dispatch pc=70, inst=LOAD_CONST(arg=4, lineno=434)\n",
      "DEBUG:numba.core.byteflow:stack []\n",
      "DEBUG:numba.core.byteflow:dispatch pc=72, inst=RETURN_VALUE(arg=None, lineno=434)\n",
      "DEBUG:numba.core.byteflow:stack ['$const70.0']\n",
      "DEBUG:numba.core.byteflow:end state. edges=[]\n",
      "DEBUG:numba.core.byteflow:pending: deque([State(pc_initial=74 nstack_initial=0)])\n",
      "DEBUG:numba.core.byteflow:stack: []\n",
      "DEBUG:numba.core.byteflow:state.pc_initial: State(pc_initial=74 nstack_initial=0)\n",
      "DEBUG:numba.core.byteflow:dispatch pc=74, inst=LOAD_FAST(arg=2, lineno=436)\n",
      "DEBUG:numba.core.byteflow:stack []\n",
      "DEBUG:numba.core.byteflow:dispatch pc=76, inst=UNARY_NEGATIVE(arg=None, lineno=436)\n",
      "DEBUG:numba.core.byteflow:stack ['$b74.0']\n",
      "DEBUG:numba.core.byteflow:dispatch pc=78, inst=LOAD_FAST(arg=1, lineno=436)\n",
      "DEBUG:numba.core.byteflow:stack ['$76unary_negative.1']\n",
      "DEBUG:numba.core.byteflow:dispatch pc=80, inst=BINARY_TRUE_DIVIDE(arg=None, lineno=436)\n",
      "DEBUG:numba.core.byteflow:stack ['$76unary_negative.1', '$a78.2']\n",
      "DEBUG:numba.core.byteflow:dispatch pc=82, inst=RETURN_VALUE(arg=None, lineno=436)\n",
      "DEBUG:numba.core.byteflow:stack ['$80binary_true_divide.3']\n",
      "DEBUG:numba.core.byteflow:end state. edges=[]\n",
      "DEBUG:numba.core.byteflow:-------------------------Prune PHIs-------------------------\n",
      "DEBUG:numba.core.byteflow:Used_phis: defaultdict(<class 'set'>,\n",
      "            {State(pc_initial=0 nstack_initial=0): set(),\n",
      "             State(pc_initial=70 nstack_initial=0): set(),\n",
      "             State(pc_initial=74 nstack_initial=0): set()})\n",
      "DEBUG:numba.core.byteflow:defmap: {}\n",
      "DEBUG:numba.core.byteflow:phismap: defaultdict(<class 'set'>, {})\n",
      "DEBUG:numba.core.byteflow:changing phismap: defaultdict(<class 'set'>, {})\n",
      "DEBUG:numba.core.byteflow:keep phismap: {}\n",
      "DEBUG:numba.core.byteflow:new_out: defaultdict(<class 'dict'>, {})\n",
      "DEBUG:numba.core.byteflow:----------------------DONE Prune PHIs-----------------------\n",
      "DEBUG:numba.core.byteflow:block_infos State(pc_initial=0 nstack_initial=0):\n",
      "AdaptBlockInfo(insts=((0, {}), (2, {'res': '$x2.0'}), (4, {'res': '$const4.1'}), (6, {'index': '$const4.1', 'target': '$x2.0', 'res': '$6binary_subscr.2'}), (8, {'res': '$x8.3'}), (10, {'res': '$const10.4'}), (12, {'index': '$const10.4', 'target': '$x8.3', 'res': '$12binary_subscr.5'}), (14, {'lhs': '$6binary_subscr.2', 'rhs': '$12binary_subscr.5', 'res': '$14binary_add.6'}), (16, {'res': '$const16.7'}), (18, {'res': '$x18.8'}), (20, {'res': '$const20.9'}), (22, {'index': '$const20.9', 'target': '$x18.8', 'res': '$22binary_subscr.10'}), (24, {'lhs': '$const16.7', 'rhs': '$22binary_subscr.10', 'res': '$24binary_multiply.11'}), (26, {'lhs': '$14binary_add.6', 'rhs': '$24binary_multiply.11', 'res': '$26binary_subtract.12'}), (28, {'value': '$26binary_subtract.12'}), (30, {'res': '$x30.13'}), (32, {'res': '$const32.14'}), (34, {'index': '$const32.14', 'target': '$x30.13', 'res': '$34binary_subscr.15'}), (36, {'res': '$x36.16'}), (38, {'res': '$const38.17'}), (40, {'index': '$const38.17', 'target': '$x36.16', 'res': '$40binary_subscr.18'}), (42, {'lhs': '$34binary_subscr.15', 'rhs': '$40binary_subscr.18', 'res': '$42binary_subtract.19'}), (44, {'res': '$const44.20'}), (46, {'lhs': '$42binary_subtract.19', 'rhs': '$const44.20', 'res': '$46binary_true_divide.21'}), (48, {'value': '$46binary_true_divide.21'}), (50, {'res': '$50load_global.22'}), (52, {'item': '$50load_global.22', 'res': '$52load_method.23'}), (54, {'res': '$b54.24'}), (56, {'func': '$52load_method.23', 'args': ['$b54.24'], 'res': '$56call_method.25'}), (58, {'res': '$58load_global.26'}), (60, {'item': '$58load_global.26', 'res': '$60load_method.27'}), (62, {'res': '$a62.28'}), (64, {'func': '$60load_method.27', 'args': ['$a62.28'], 'res': '$64call_method.29'}), (66, {'lhs': '$56call_method.25', 'rhs': '$64call_method.29', 'res': '$66compare_op.30'}), (68, {'pred': '$66compare_op.30'})), outgoing_phis={}, blockstack=(), active_try_block=None, outgoing_edgepushed={70: (), 74: ()})\n",
      "DEBUG:numba.core.byteflow:block_infos State(pc_initial=70 nstack_initial=0):\n",
      "AdaptBlockInfo(insts=((70, {'res': '$const70.0'}), (72, {'retval': '$const70.0', 'castval': '$72return_value.1'})), outgoing_phis={}, blockstack=(), active_try_block=None, outgoing_edgepushed={})\n",
      "DEBUG:numba.core.byteflow:block_infos State(pc_initial=74 nstack_initial=0):\n",
      "AdaptBlockInfo(insts=((74, {'res': '$b74.0'}), (76, {'value': '$b74.0', 'res': '$76unary_negative.1'}), (78, {'res': '$a78.2'}), (80, {'lhs': '$76unary_negative.1', 'rhs': '$a78.2', 'res': '$80binary_true_divide.3'}), (82, {'retval': '$80binary_true_divide.3', 'castval': '$82return_value.4'})), outgoing_phis={}, blockstack=(), active_try_block=None, outgoing_edgepushed={})\n",
      "DEBUG:numba.core.interpreter:label 0:\n",
      "    x = arg(0, name=x)                       ['x']\n",
      "    $const4.1 = const(int, 1)                ['$const4.1']\n",
      "    $6binary_subscr.2 = getitem(value=x, index=$const4.1, fn=<built-in function getitem>) ['$6binary_subscr.2', '$const4.1', 'x']\n",
      "    $const10.4 = const(int, -1)              ['$const10.4']\n",
      "    $12binary_subscr.5 = getitem(value=x, index=$const10.4, fn=<built-in function getitem>) ['$12binary_subscr.5', '$const10.4', 'x']\n",
      "    $14binary_add.6 = $6binary_subscr.2 + $12binary_subscr.5 ['$12binary_subscr.5', '$14binary_add.6', '$6binary_subscr.2']\n",
      "    $const16.7 = const(int, 2)               ['$const16.7']\n",
      "    $const20.9 = const(int, 0)               ['$const20.9']\n",
      "    $22binary_subscr.10 = getitem(value=x, index=$const20.9, fn=<built-in function getitem>) ['$22binary_subscr.10', '$const20.9', 'x']\n",
      "    $24binary_multiply.11 = $const16.7 * $22binary_subscr.10 ['$22binary_subscr.10', '$24binary_multiply.11', '$const16.7']\n",
      "    a = $14binary_add.6 - $24binary_multiply.11 ['$14binary_add.6', '$24binary_multiply.11', 'a']\n",
      "    $const32.14 = const(int, 1)              ['$const32.14']\n",
      "    $34binary_subscr.15 = getitem(value=x, index=$const32.14, fn=<built-in function getitem>) ['$34binary_subscr.15', '$const32.14', 'x']\n",
      "    $const38.17 = const(int, -1)             ['$const38.17']\n",
      "    $40binary_subscr.18 = getitem(value=x, index=$const38.17, fn=<built-in function getitem>) ['$40binary_subscr.18', '$const38.17', 'x']\n",
      "    $42binary_subtract.19 = $34binary_subscr.15 - $40binary_subscr.18 ['$34binary_subscr.15', '$40binary_subscr.18', '$42binary_subtract.19']\n",
      "    $const44.20 = const(int, 2)              ['$const44.20']\n",
      "    b = $42binary_subtract.19 / $const44.20  ['$42binary_subtract.19', '$const44.20', 'b']\n",
      "    $50load_global.22 = global(np: <module 'numpy' from '/om2/user/azain/anaconda/envs/voice-anon/lib/python3.10/site-packages/numpy/__init__.py'>) ['$50load_global.22']\n",
      "    $52load_method.23 = getattr(value=$50load_global.22, attr=abs) ['$50load_global.22', '$52load_method.23']\n",
      "    $56call_method.25 = call $52load_method.23(b, func=$52load_method.23, args=[Var(b, pitch.py:429)], kws=(), vararg=None, varkwarg=None, target=None) ['$52load_method.23', '$56call_method.25', 'b']\n",
      "    $58load_global.26 = global(np: <module 'numpy' from '/om2/user/azain/anaconda/envs/voice-anon/lib/python3.10/site-packages/numpy/__init__.py'>) ['$58load_global.26']\n",
      "    $60load_method.27 = getattr(value=$58load_global.26, attr=abs) ['$58load_global.26', '$60load_method.27']\n",
      "    $64call_method.29 = call $60load_method.27(a, func=$60load_method.27, args=[Var(a, pitch.py:428)], kws=(), vararg=None, varkwarg=None, target=None) ['$60load_method.27', '$64call_method.29', 'a']\n",
      "    $66compare_op.30 = $56call_method.25 >= $64call_method.29 ['$56call_method.25', '$64call_method.29', '$66compare_op.30']\n",
      "    bool68 = global(bool: <class 'bool'>)    ['bool68']\n",
      "    $68pred = call bool68($66compare_op.30, func=bool68, args=(Var($66compare_op.30, pitch.py:431),), kws=(), vararg=None, varkwarg=None, target=None) ['$66compare_op.30', '$68pred', 'bool68']\n",
      "    branch $68pred, 70, 74                   ['$68pred']\n",
      "label 70:\n",
      "    $const70.0 = const(int, 0)               ['$const70.0']\n",
      "    $72return_value.1 = cast(value=$const70.0) ['$72return_value.1', '$const70.0']\n",
      "    return $72return_value.1                 ['$72return_value.1']\n",
      "label 74:\n",
      "    $76unary_negative.1 = unary(fn=<built-in function neg>, value=b) ['$76unary_negative.1', 'b']\n",
      "    $80binary_true_divide.3 = $76unary_negative.1 / a ['$76unary_negative.1', '$80binary_true_divide.3', 'a']\n",
      "    $82return_value.4 = cast(value=$80binary_true_divide.3) ['$80binary_true_divide.3', '$82return_value.4']\n",
      "    return $82return_value.4                 ['$82return_value.4']\n",
      "\n"
     ]
    },
    {
     "name": "stderr",
     "output_type": "stream",
     "text": [
      "Map:   2%|▏         | 2/100 [00:01<00:44,  2.20 examples/s]"
     ]
    },
    {
     "name": "stdout",
     "output_type": "stream",
     "text": [
      "Synthesizing...\n",
      "Synthesizing...\n"
     ]
    },
    {
     "name": "stderr",
     "output_type": "stream",
     "text": [
      "Map:   4%|▍         | 4/100 [00:01<00:26,  3.57 examples/s]"
     ]
    },
    {
     "name": "stdout",
     "output_type": "stream",
     "text": [
      "Synthesizing...\n",
      "Synthesizing...\n"
     ]
    },
    {
     "name": "stderr",
     "output_type": "stream",
     "text": [
      "Map:   5%|▌         | 5/100 [00:01<00:23,  4.02 examples/s]"
     ]
    },
    {
     "name": "stdout",
     "output_type": "stream",
     "text": [
      "Synthesizing...\n"
     ]
    },
    {
     "name": "stderr",
     "output_type": "stream",
     "text": [
      "Map:   7%|▋         | 7/100 [00:01<00:20,  4.55 examples/s]"
     ]
    },
    {
     "name": "stdout",
     "output_type": "stream",
     "text": [
      "Synthesizing...\n",
      "Synthesizing...\n"
     ]
    },
    {
     "name": "stderr",
     "output_type": "stream",
     "text": [
      "Map:   9%|▉         | 9/100 [00:02<00:18,  4.89 examples/s]"
     ]
    },
    {
     "name": "stdout",
     "output_type": "stream",
     "text": [
      "Synthesizing...\n",
      "Synthesizing...\n"
     ]
    },
    {
     "name": "stderr",
     "output_type": "stream",
     "text": [
      "Map:  10%|█         | 10/100 [00:02<00:20,  4.37 examples/s]"
     ]
    },
    {
     "name": "stdout",
     "output_type": "stream",
     "text": [
      "Synthesizing...\n",
      "Synthesizing...\n"
     ]
    },
    {
     "name": "stderr",
     "output_type": "stream",
     "text": [
      "Map:  13%|█▎        | 13/100 [00:03<00:16,  5.25 examples/s]"
     ]
    },
    {
     "name": "stdout",
     "output_type": "stream",
     "text": [
      "Synthesizing...\n",
      "Synthesizing...\n"
     ]
    },
    {
     "name": "stderr",
     "output_type": "stream",
     "text": [
      "Map:  15%|█▌        | 15/100 [00:03<00:16,  5.15 examples/s]"
     ]
    },
    {
     "name": "stdout",
     "output_type": "stream",
     "text": [
      "Synthesizing...\n"
     ]
    },
    {
     "name": "stderr",
     "output_type": "stream",
     "text": [
      "Map:  16%|█▌        | 16/100 [00:03<00:16,  5.11 examples/s]"
     ]
    },
    {
     "name": "stdout",
     "output_type": "stream",
     "text": [
      "Synthesizing...\n",
      "Synthesizing...\n"
     ]
    },
    {
     "name": "stderr",
     "output_type": "stream",
     "text": [
      "Map:  18%|█▊        | 18/100 [00:04<00:16,  5.09 examples/s]"
     ]
    },
    {
     "name": "stdout",
     "output_type": "stream",
     "text": [
      "Synthesizing...\n",
      "Synthesizing...\n"
     ]
    },
    {
     "name": "stderr",
     "output_type": "stream",
     "text": [
      "Map:  20%|██        | 20/100 [00:04<00:15,  5.08 examples/s]"
     ]
    },
    {
     "name": "stdout",
     "output_type": "stream",
     "text": [
      "Synthesizing...\n",
      "Synthesizing...\n"
     ]
    },
    {
     "name": "stderr",
     "output_type": "stream",
     "text": [
      "Map:  22%|██▏       | 22/100 [00:04<00:15,  5.12 examples/s]"
     ]
    },
    {
     "name": "stdout",
     "output_type": "stream",
     "text": [
      "Synthesizing...\n",
      "Synthesizing...\n"
     ]
    },
    {
     "name": "stderr",
     "output_type": "stream",
     "text": [
      "Map:  24%|██▍       | 24/100 [00:05<00:14,  5.08 examples/s]"
     ]
    },
    {
     "name": "stdout",
     "output_type": "stream",
     "text": [
      "Synthesizing...\n",
      "Synthesizing...\n"
     ]
    },
    {
     "name": "stderr",
     "output_type": "stream",
     "text": [
      "Map:  25%|██▌       | 25/100 [00:05<00:14,  5.07 examples/s]"
     ]
    },
    {
     "name": "stdout",
     "output_type": "stream",
     "text": [
      "Synthesizing...\n",
      "Synthesizing...\n"
     ]
    },
    {
     "name": "stderr",
     "output_type": "stream",
     "text": [
      "Map:  28%|██▊       | 28/100 [00:05<00:12,  5.68 examples/s]"
     ]
    },
    {
     "name": "stdout",
     "output_type": "stream",
     "text": [
      "Synthesizing...\n",
      "Synthesizing...\n"
     ]
    },
    {
     "name": "stderr",
     "output_type": "stream",
     "text": [
      "Map:  29%|██▉       | 29/100 [00:06<00:12,  5.48 examples/s]"
     ]
    },
    {
     "name": "stdout",
     "output_type": "stream",
     "text": [
      "Synthesizing...\n"
     ]
    },
    {
     "name": "stderr",
     "output_type": "stream",
     "text": [
      "Map:  31%|███       | 31/100 [00:06<00:13,  5.22 examples/s]"
     ]
    },
    {
     "name": "stdout",
     "output_type": "stream",
     "text": [
      "Synthesizing...\n",
      "Synthesizing...\n"
     ]
    },
    {
     "name": "stderr",
     "output_type": "stream",
     "text": [
      "Map:  33%|███▎      | 33/100 [00:06<00:13,  5.08 examples/s]"
     ]
    },
    {
     "name": "stdout",
     "output_type": "stream",
     "text": [
      "Synthesizing...\n",
      "Synthesizing...\n"
     ]
    },
    {
     "name": "stderr",
     "output_type": "stream",
     "text": [
      "Map:  35%|███▌      | 35/100 [00:07<00:13,  4.89 examples/s]"
     ]
    },
    {
     "name": "stdout",
     "output_type": "stream",
     "text": [
      "Synthesizing...\n",
      "Synthesizing...\n"
     ]
    },
    {
     "name": "stderr",
     "output_type": "stream",
     "text": [
      "Map:  37%|███▋      | 37/100 [00:07<00:12,  4.90 examples/s]"
     ]
    },
    {
     "name": "stdout",
     "output_type": "stream",
     "text": [
      "Synthesizing...\n",
      "Synthesizing...\n"
     ]
    },
    {
     "name": "stderr",
     "output_type": "stream",
     "text": [
      "Map:  38%|███▊      | 38/100 [00:08<00:12,  4.89 examples/s]"
     ]
    },
    {
     "name": "stdout",
     "output_type": "stream",
     "text": [
      "Synthesizing...\n"
     ]
    },
    {
     "name": "stderr",
     "output_type": "stream",
     "text": [
      "Map:  39%|███▉      | 39/100 [00:08<00:12,  4.85 examples/s]"
     ]
    },
    {
     "name": "stdout",
     "output_type": "stream",
     "text": [
      "Synthesizing...\n"
     ]
    },
    {
     "name": "stderr",
     "output_type": "stream",
     "text": [
      "Map:  40%|████      | 40/100 [00:08<00:12,  4.83 examples/s]"
     ]
    },
    {
     "name": "stdout",
     "output_type": "stream",
     "text": [
      "Synthesizing...\n"
     ]
    },
    {
     "name": "stderr",
     "output_type": "stream",
     "text": [
      "Map:  42%|████▏     | 42/100 [00:08<00:11,  4.84 examples/s]"
     ]
    },
    {
     "name": "stdout",
     "output_type": "stream",
     "text": [
      "Synthesizing...\n",
      "Synthesizing...\n"
     ]
    },
    {
     "name": "stderr",
     "output_type": "stream",
     "text": [
      "Map:  43%|████▎     | 43/100 [00:09<00:11,  4.78 examples/s]"
     ]
    },
    {
     "name": "stdout",
     "output_type": "stream",
     "text": [
      "Synthesizing...\n"
     ]
    },
    {
     "name": "stderr",
     "output_type": "stream",
     "text": [
      "Map:  44%|████▍     | 44/100 [00:09<00:11,  4.78 examples/s]"
     ]
    },
    {
     "name": "stdout",
     "output_type": "stream",
     "text": [
      "Synthesizing...\n",
      "Synthesizing...\n"
     ]
    },
    {
     "name": "stderr",
     "output_type": "stream",
     "text": [
      "Map:  47%|████▋     | 47/100 [00:09<00:08,  5.96 examples/s]"
     ]
    },
    {
     "name": "stdout",
     "output_type": "stream",
     "text": [
      "Synthesizing...\n",
      "Synthesizing...\n"
     ]
    },
    {
     "name": "stderr",
     "output_type": "stream",
     "text": [
      "Map:  48%|████▊     | 48/100 [00:09<00:09,  5.51 examples/s]"
     ]
    },
    {
     "name": "stdout",
     "output_type": "stream",
     "text": [
      "Synthesizing...\n"
     ]
    },
    {
     "name": "stderr",
     "output_type": "stream",
     "text": [
      "Map:  49%|████▉     | 49/100 [00:10<00:11,  4.63 examples/s]"
     ]
    },
    {
     "name": "stdout",
     "output_type": "stream",
     "text": [
      "Synthesizing...\n"
     ]
    },
    {
     "name": "stderr",
     "output_type": "stream",
     "text": [
      "Map:  50%|█████     | 50/100 [00:10<00:10,  4.62 examples/s]"
     ]
    },
    {
     "name": "stdout",
     "output_type": "stream",
     "text": [
      "Synthesizing...\n"
     ]
    },
    {
     "name": "stderr",
     "output_type": "stream",
     "text": [
      "Map:  51%|█████     | 51/100 [00:10<00:10,  4.58 examples/s]"
     ]
    },
    {
     "name": "stdout",
     "output_type": "stream",
     "text": [
      "Synthesizing...\n"
     ]
    },
    {
     "name": "stderr",
     "output_type": "stream",
     "text": [
      "Map:  52%|█████▏    | 52/100 [00:10<00:10,  4.57 examples/s]"
     ]
    },
    {
     "name": "stdout",
     "output_type": "stream",
     "text": [
      "Synthesizing...\n"
     ]
    },
    {
     "name": "stderr",
     "output_type": "stream",
     "text": [
      "Map:  53%|█████▎    | 53/100 [00:11<00:10,  4.54 examples/s]"
     ]
    },
    {
     "name": "stdout",
     "output_type": "stream",
     "text": [
      "Synthesizing...\n"
     ]
    },
    {
     "name": "stderr",
     "output_type": "stream",
     "text": [
      "Map:  54%|█████▍    | 54/100 [00:11<00:10,  4.54 examples/s]"
     ]
    },
    {
     "name": "stdout",
     "output_type": "stream",
     "text": [
      "Synthesizing...\n"
     ]
    },
    {
     "name": "stderr",
     "output_type": "stream",
     "text": [
      "Map:  55%|█████▌    | 55/100 [00:11<00:11,  4.00 examples/s]"
     ]
    },
    {
     "name": "stdout",
     "output_type": "stream",
     "text": [
      "Synthesizing...\n"
     ]
    },
    {
     "name": "stderr",
     "output_type": "stream",
     "text": [
      "Map:  56%|█████▌    | 56/100 [00:11<00:10,  4.17 examples/s]"
     ]
    },
    {
     "name": "stdout",
     "output_type": "stream",
     "text": [
      "Synthesizing...\n"
     ]
    },
    {
     "name": "stderr",
     "output_type": "stream",
     "text": [
      "Map:  57%|█████▋    | 57/100 [00:12<00:11,  3.68 examples/s]"
     ]
    },
    {
     "name": "stdout",
     "output_type": "stream",
     "text": [
      "Synthesizing...\n"
     ]
    },
    {
     "name": "stderr",
     "output_type": "stream",
     "text": [
      "Map:  58%|█████▊    | 58/100 [00:12<00:10,  3.94 examples/s]"
     ]
    },
    {
     "name": "stdout",
     "output_type": "stream",
     "text": [
      "Synthesizing...\n"
     ]
    },
    {
     "name": "stderr",
     "output_type": "stream",
     "text": [
      "Map:  59%|█████▉    | 59/100 [00:12<00:09,  4.12 examples/s]"
     ]
    },
    {
     "name": "stdout",
     "output_type": "stream",
     "text": [
      "Synthesizing...\n"
     ]
    },
    {
     "name": "stderr",
     "output_type": "stream",
     "text": [
      "Map:  60%|██████    | 60/100 [00:12<00:09,  4.25 examples/s]"
     ]
    },
    {
     "name": "stdout",
     "output_type": "stream",
     "text": [
      "Synthesizing...\n"
     ]
    },
    {
     "name": "stderr",
     "output_type": "stream",
     "text": [
      "Map:  61%|██████    | 61/100 [00:13<00:08,  4.35 examples/s]"
     ]
    },
    {
     "name": "stdout",
     "output_type": "stream",
     "text": [
      "Synthesizing...\n"
     ]
    },
    {
     "name": "stderr",
     "output_type": "stream",
     "text": [
      "Map:  62%|██████▏   | 62/100 [00:13<00:08,  4.41 examples/s]"
     ]
    },
    {
     "name": "stdout",
     "output_type": "stream",
     "text": [
      "Synthesizing...\n"
     ]
    },
    {
     "name": "stderr",
     "output_type": "stream",
     "text": [
      "Map:  63%|██████▎   | 63/100 [00:13<00:08,  4.46 examples/s]"
     ]
    },
    {
     "name": "stdout",
     "output_type": "stream",
     "text": [
      "Synthesizing...\n"
     ]
    },
    {
     "name": "stderr",
     "output_type": "stream",
     "text": [
      "Map:  64%|██████▍   | 64/100 [00:13<00:08,  4.47 examples/s]"
     ]
    },
    {
     "name": "stdout",
     "output_type": "stream",
     "text": [
      "Synthesizing...\n"
     ]
    },
    {
     "name": "stderr",
     "output_type": "stream",
     "text": [
      "Map:  65%|██████▌   | 65/100 [00:13<00:07,  4.41 examples/s]"
     ]
    },
    {
     "name": "stdout",
     "output_type": "stream",
     "text": [
      "Synthesizing...\n"
     ]
    },
    {
     "name": "stderr",
     "output_type": "stream",
     "text": [
      "Map:  66%|██████▌   | 66/100 [00:14<00:07,  4.48 examples/s]"
     ]
    },
    {
     "name": "stdout",
     "output_type": "stream",
     "text": [
      "Synthesizing...\n"
     ]
    },
    {
     "name": "stderr",
     "output_type": "stream",
     "text": [
      "Map:  67%|██████▋   | 67/100 [00:14<00:07,  4.47 examples/s]"
     ]
    },
    {
     "name": "stdout",
     "output_type": "stream",
     "text": [
      "Synthesizing...\n"
     ]
    },
    {
     "name": "stderr",
     "output_type": "stream",
     "text": [
      "Map:  68%|██████▊   | 68/100 [00:14<00:07,  4.43 examples/s]"
     ]
    },
    {
     "name": "stdout",
     "output_type": "stream",
     "text": [
      "Synthesizing...\n"
     ]
    },
    {
     "name": "stderr",
     "output_type": "stream",
     "text": [
      "Map:  70%|███████   | 70/100 [00:15<00:05,  5.20 examples/s]"
     ]
    },
    {
     "name": "stdout",
     "output_type": "stream",
     "text": [
      "Synthesizing...\n",
      "Synthesizing...\n"
     ]
    },
    {
     "name": "stderr",
     "output_type": "stream",
     "text": [
      "Map:  71%|███████   | 71/100 [00:15<00:05,  4.84 examples/s]"
     ]
    },
    {
     "name": "stdout",
     "output_type": "stream",
     "text": [
      "Synthesizing...\n"
     ]
    },
    {
     "name": "stderr",
     "output_type": "stream",
     "text": [
      "Map:  72%|███████▏  | 72/100 [00:15<00:06,  4.11 examples/s]"
     ]
    },
    {
     "name": "stdout",
     "output_type": "stream",
     "text": [
      "Synthesizing...\n"
     ]
    },
    {
     "name": "stderr",
     "output_type": "stream",
     "text": [
      "Map:  73%|███████▎  | 73/100 [00:15<00:07,  3.81 examples/s]"
     ]
    },
    {
     "name": "stdout",
     "output_type": "stream",
     "text": [
      "Synthesizing...\n"
     ]
    },
    {
     "name": "stderr",
     "output_type": "stream",
     "text": [
      "Map:  74%|███████▍  | 74/100 [00:16<00:06,  3.94 examples/s]"
     ]
    },
    {
     "name": "stdout",
     "output_type": "stream",
     "text": [
      "Synthesizing...\n"
     ]
    },
    {
     "name": "stderr",
     "output_type": "stream",
     "text": [
      "Map:  75%|███████▌  | 75/100 [00:16<00:06,  3.99 examples/s]"
     ]
    },
    {
     "name": "stdout",
     "output_type": "stream",
     "text": [
      "Synthesizing...\n"
     ]
    },
    {
     "name": "stderr",
     "output_type": "stream",
     "text": [
      "Map:  76%|███████▌  | 76/100 [00:16<00:05,  4.07 examples/s]"
     ]
    },
    {
     "name": "stdout",
     "output_type": "stream",
     "text": [
      "Synthesizing...\n"
     ]
    },
    {
     "name": "stderr",
     "output_type": "stream",
     "text": [
      "Map:  77%|███████▋  | 77/100 [00:16<00:05,  4.13 examples/s]"
     ]
    },
    {
     "name": "stdout",
     "output_type": "stream",
     "text": [
      "Synthesizing...\n"
     ]
    },
    {
     "name": "stderr",
     "output_type": "stream",
     "text": [
      "Map:  78%|███████▊  | 78/100 [00:17<00:05,  4.13 examples/s]"
     ]
    },
    {
     "name": "stdout",
     "output_type": "stream",
     "text": [
      "Synthesizing...\n"
     ]
    },
    {
     "name": "stderr",
     "output_type": "stream",
     "text": [
      "Map:  79%|███████▉  | 79/100 [00:17<00:05,  3.91 examples/s]"
     ]
    },
    {
     "name": "stdout",
     "output_type": "stream",
     "text": [
      "Synthesizing...\n"
     ]
    },
    {
     "name": "stderr",
     "output_type": "stream",
     "text": [
      "Map:  80%|████████  | 80/100 [00:17<00:05,  3.96 examples/s]"
     ]
    },
    {
     "name": "stdout",
     "output_type": "stream",
     "text": [
      "Synthesizing...\n"
     ]
    },
    {
     "name": "stderr",
     "output_type": "stream",
     "text": [
      "Map:  81%|████████  | 81/100 [00:17<00:04,  4.01 examples/s]"
     ]
    },
    {
     "name": "stdout",
     "output_type": "stream",
     "text": [
      "Synthesizing...\n"
     ]
    },
    {
     "name": "stderr",
     "output_type": "stream",
     "text": [
      "Map:  82%|████████▏ | 82/100 [00:18<00:04,  4.06 examples/s]"
     ]
    },
    {
     "name": "stdout",
     "output_type": "stream",
     "text": [
      "Synthesizing...\n"
     ]
    },
    {
     "name": "stderr",
     "output_type": "stream",
     "text": [
      "Map:  83%|████████▎ | 83/100 [00:18<00:04,  4.04 examples/s]"
     ]
    },
    {
     "name": "stdout",
     "output_type": "stream",
     "text": [
      "Synthesizing...\n"
     ]
    },
    {
     "name": "stderr",
     "output_type": "stream",
     "text": [
      "Map:  84%|████████▍ | 84/100 [00:18<00:05,  3.18 examples/s]"
     ]
    },
    {
     "name": "stdout",
     "output_type": "stream",
     "text": [
      "Synthesizing...\n"
     ]
    },
    {
     "name": "stderr",
     "output_type": "stream",
     "text": [
      "Map:  85%|████████▌ | 85/100 [00:19<00:04,  3.24 examples/s]"
     ]
    },
    {
     "name": "stdout",
     "output_type": "stream",
     "text": [
      "Synthesizing...\n"
     ]
    },
    {
     "name": "stderr",
     "output_type": "stream",
     "text": [
      "Map:  86%|████████▌ | 86/100 [00:19<00:05,  2.65 examples/s]"
     ]
    },
    {
     "name": "stdout",
     "output_type": "stream",
     "text": [
      "Synthesizing...\n"
     ]
    },
    {
     "name": "stderr",
     "output_type": "stream",
     "text": [
      "Map:  87%|████████▋ | 87/100 [00:19<00:04,  2.83 examples/s]"
     ]
    },
    {
     "name": "stdout",
     "output_type": "stream",
     "text": [
      "Synthesizing...\n"
     ]
    },
    {
     "name": "stderr",
     "output_type": "stream",
     "text": [
      "Map:  89%|████████▉ | 89/100 [00:20<00:03,  3.00 examples/s]"
     ]
    },
    {
     "name": "stdout",
     "output_type": "stream",
     "text": [
      "Synthesizing...\n",
      "Synthesizing...\n"
     ]
    },
    {
     "name": "stderr",
     "output_type": "stream",
     "text": [
      "Map:  90%|█████████ | 90/100 [00:20<00:03,  2.91 examples/s]"
     ]
    },
    {
     "name": "stdout",
     "output_type": "stream",
     "text": [
      "Synthesizing...\n"
     ]
    },
    {
     "name": "stderr",
     "output_type": "stream",
     "text": [
      "Map:  91%|█████████ | 91/100 [00:21<00:03,  2.72 examples/s]"
     ]
    },
    {
     "name": "stdout",
     "output_type": "stream",
     "text": [
      "Synthesizing...\n"
     ]
    },
    {
     "name": "stderr",
     "output_type": "stream",
     "text": [
      "Map:  92%|█████████▏| 92/100 [00:22<00:03,  2.29 examples/s]"
     ]
    },
    {
     "name": "stdout",
     "output_type": "stream",
     "text": [
      "Synthesizing...\n"
     ]
    },
    {
     "name": "stderr",
     "output_type": "stream",
     "text": [
      "Map:  93%|█████████▎| 93/100 [00:22<00:03,  2.11 examples/s]"
     ]
    },
    {
     "name": "stdout",
     "output_type": "stream",
     "text": [
      "Synthesizing...\n"
     ]
    },
    {
     "name": "stderr",
     "output_type": "stream",
     "text": [
      "Map:  94%|█████████▍| 94/100 [00:23<00:02,  2.17 examples/s]"
     ]
    },
    {
     "name": "stdout",
     "output_type": "stream",
     "text": [
      "Synthesizing...\n"
     ]
    },
    {
     "name": "stderr",
     "output_type": "stream",
     "text": [
      "Map:  95%|█████████▌| 95/100 [00:23<00:02,  2.34 examples/s]"
     ]
    },
    {
     "name": "stdout",
     "output_type": "stream",
     "text": [
      "Synthesizing...\n"
     ]
    },
    {
     "name": "stderr",
     "output_type": "stream",
     "text": [
      "Map:  96%|█████████▌| 96/100 [00:23<00:01,  2.65 examples/s]"
     ]
    },
    {
     "name": "stdout",
     "output_type": "stream",
     "text": [
      "Synthesizing...\n"
     ]
    },
    {
     "name": "stderr",
     "output_type": "stream",
     "text": [
      "Map:  97%|█████████▋| 97/100 [00:23<00:01,  2.82 examples/s]"
     ]
    },
    {
     "name": "stdout",
     "output_type": "stream",
     "text": [
      "Synthesizing...\n"
     ]
    },
    {
     "name": "stderr",
     "output_type": "stream",
     "text": [
      "Map:  98%|█████████▊| 98/100 [00:24<00:00,  3.08 examples/s]"
     ]
    },
    {
     "name": "stdout",
     "output_type": "stream",
     "text": [
      "Synthesizing...\n"
     ]
    },
    {
     "name": "stderr",
     "output_type": "stream",
     "text": [
      "Map:  99%|█████████▉| 99/100 [00:24<00:00,  3.26 examples/s]"
     ]
    },
    {
     "name": "stdout",
     "output_type": "stream",
     "text": [
      "Synthesizing...\n"
     ]
    },
    {
     "name": "stderr",
     "output_type": "stream",
     "text": [
      "Map: 100%|██████████| 100/100 [00:30<00:00,  3.26 examples/s]"
     ]
    },
    {
     "name": "stdout",
     "output_type": "stream",
     "text": [
      "DEBUG:urllib3.connectionpool:Starting new HTTPS connection (1): huggingface.co:443\n",
      "DEBUG:urllib3.connectionpool:https://huggingface.co:443 \"HEAD /openai/whisper-tiny.en/resolve/main/config.json HTTP/1.1\" 200 0\n"
     ]
    },
    {
     "name": "stderr",
     "output_type": "stream",
     "text": [
      "\n"
     ]
    },
    {
     "name": "stdout",
     "output_type": "stream",
     "text": [
      "DEBUG:urllib3.connectionpool:https://huggingface.co:443 \"HEAD /openai/whisper-tiny.en/resolve/main/generation_config.json HTTP/1.1\" 200 0\n",
      "DEBUG:urllib3.connectionpool:https://huggingface.co:443 \"HEAD /openai/whisper-tiny.en/resolve/main/processor_config.json HTTP/1.1\" 404 0\n",
      "DEBUG:urllib3.connectionpool:https://huggingface.co:443 \"HEAD /openai/whisper-tiny.en/resolve/main/preprocessor_config.json HTTP/1.1\" 200 0\n",
      "DEBUG:urllib3.connectionpool:https://huggingface.co:443 \"HEAD /openai/whisper-tiny.en/resolve/main/preprocessor_config.json HTTP/1.1\" 200 0\n",
      "DEBUG:urllib3.connectionpool:https://huggingface.co:443 \"HEAD /openai/whisper-tiny.en/resolve/main/preprocessor_config.json HTTP/1.1\" 200 0\n",
      "DEBUG:urllib3.connectionpool:https://huggingface.co:443 \"HEAD /openai/whisper-tiny.en/resolve/main/tokenizer_config.json HTTP/1.1\" 200 0\n",
      "DEBUG:urllib3.connectionpool:https://huggingface.co:443 \"HEAD /openai/whisper-tiny.en/resolve/main/processor_config.json HTTP/1.1\" 404 0\n"
     ]
    },
    {
     "name": "stderr",
     "output_type": "stream",
     "text": [
      "Map: 100%|██████████| 100/100 [00:10<00:00,  9.42 examples/s]"
     ]
    },
    {
     "name": "stdout",
     "output_type": "stream",
     "text": [
      "DEBUG:urllib3.connectionpool:https://huggingface.co:443 \"HEAD /openai/whisper-tiny.en/resolve/main/config.json HTTP/1.1\" 200 0\n"
     ]
    },
    {
     "name": "stderr",
     "output_type": "stream",
     "text": [
      "\n"
     ]
    },
    {
     "name": "stdout",
     "output_type": "stream",
     "text": [
      "DEBUG:urllib3.connectionpool:https://huggingface.co:443 \"HEAD /openai/whisper-tiny.en/resolve/main/generation_config.json HTTP/1.1\" 200 0\n",
      "DEBUG:urllib3.connectionpool:https://huggingface.co:443 \"HEAD /openai/whisper-tiny.en/resolve/main/processor_config.json HTTP/1.1\" 404 0\n",
      "DEBUG:urllib3.connectionpool:https://huggingface.co:443 \"HEAD /openai/whisper-tiny.en/resolve/main/preprocessor_config.json HTTP/1.1\" 200 0\n",
      "DEBUG:urllib3.connectionpool:https://huggingface.co:443 \"HEAD /openai/whisper-tiny.en/resolve/main/preprocessor_config.json HTTP/1.1\" 200 0\n",
      "DEBUG:urllib3.connectionpool:https://huggingface.co:443 \"HEAD /openai/whisper-tiny.en/resolve/main/preprocessor_config.json HTTP/1.1\" 200 0\n",
      "DEBUG:urllib3.connectionpool:https://huggingface.co:443 \"HEAD /openai/whisper-tiny.en/resolve/main/tokenizer_config.json HTTP/1.1\" 200 0\n",
      "DEBUG:urllib3.connectionpool:https://huggingface.co:443 \"HEAD /openai/whisper-tiny.en/resolve/main/processor_config.json HTTP/1.1\" 404 0\n"
     ]
    },
    {
     "name": "stderr",
     "output_type": "stream",
     "text": [
      "Map: 100%|██████████| 100/100 [00:10<00:00,  9.60 examples/s]\n",
      "Map:   0%|          | 0/100 [00:00<?, ? examples/s]"
     ]
    },
    {
     "name": "stdout",
     "output_type": "stream",
     "text": [
      "INFO:speechbrain.utils.fetching:Fetch hyperparams.yaml: Delegating to Huggingface hub, source speechbrain/spkrec-ecapa-voxceleb.\n",
      "DEBUG:urllib3.connectionpool:https://huggingface.co:443 \"HEAD /speechbrain/spkrec-ecapa-voxceleb/resolve/main/hyperparams.yaml HTTP/1.1\" 200 0\n",
      "INFO:speechbrain.utils.fetching:HF fetch: /home/azain/.cache/huggingface/hub/models--speechbrain--spkrec-ecapa-voxceleb/snapshots/eac27266f68caa806381260bd44ace38b136c76a/hyperparams.yaml\n",
      "INFO:speechbrain.utils.fetching:Fetch custom.py: Delegating to Huggingface hub, source speechbrain/spkrec-ecapa-voxceleb.\n",
      "DEBUG:urllib3.connectionpool:https://huggingface.co:443 \"HEAD /speechbrain/spkrec-ecapa-voxceleb/resolve/main/custom.py HTTP/1.1\" 404 0\n",
      "DEBUG:speechbrain.utils.parameter_transfer:Collecting files (or symlinks) for pretraining in models/spkrec-ecapa-voxceleb.\n",
      "INFO:speechbrain.utils.fetching:Fetch embedding_model.ckpt: Delegating to Huggingface hub, source speechbrain/spkrec-ecapa-voxceleb.\n",
      "DEBUG:urllib3.connectionpool:https://huggingface.co:443 \"HEAD /speechbrain/spkrec-ecapa-voxceleb/resolve/main/embedding_model.ckpt HTTP/1.1\" 302 0\n",
      "INFO:speechbrain.utils.fetching:HF fetch: /home/azain/.cache/huggingface/hub/models--speechbrain--spkrec-ecapa-voxceleb/snapshots/eac27266f68caa806381260bd44ace38b136c76a/embedding_model.ckpt\n",
      "INFO:speechbrain.utils.fetching:Fetch mean_var_norm_emb.ckpt: Delegating to Huggingface hub, source speechbrain/spkrec-ecapa-voxceleb.\n",
      "DEBUG:urllib3.connectionpool:https://huggingface.co:443 \"HEAD /speechbrain/spkrec-ecapa-voxceleb/resolve/main/mean_var_norm_emb.ckpt HTTP/1.1\" 200 0\n",
      "INFO:speechbrain.utils.fetching:HF fetch: /home/azain/.cache/huggingface/hub/models--speechbrain--spkrec-ecapa-voxceleb/snapshots/eac27266f68caa806381260bd44ace38b136c76a/mean_var_norm_emb.ckpt\n",
      "INFO:speechbrain.utils.fetching:Fetch classifier.ckpt: Delegating to Huggingface hub, source speechbrain/spkrec-ecapa-voxceleb.\n",
      "DEBUG:urllib3.connectionpool:https://huggingface.co:443 \"HEAD /speechbrain/spkrec-ecapa-voxceleb/resolve/main/classifier.ckpt HTTP/1.1\" 302 0\n",
      "INFO:speechbrain.utils.fetching:HF fetch: /home/azain/.cache/huggingface/hub/models--speechbrain--spkrec-ecapa-voxceleb/snapshots/eac27266f68caa806381260bd44ace38b136c76a/classifier.ckpt\n",
      "INFO:speechbrain.utils.fetching:Fetch label_encoder.txt: Delegating to Huggingface hub, source speechbrain/spkrec-ecapa-voxceleb.\n",
      "DEBUG:urllib3.connectionpool:https://huggingface.co:443 \"HEAD /speechbrain/spkrec-ecapa-voxceleb/resolve/main/label_encoder.txt HTTP/1.1\" 200 0\n",
      "INFO:speechbrain.utils.fetching:HF fetch: /home/azain/.cache/huggingface/hub/models--speechbrain--spkrec-ecapa-voxceleb/snapshots/eac27266f68caa806381260bd44ace38b136c76a/label_encoder.txt\n",
      "INFO:speechbrain.utils.parameter_transfer:Loading pretrained files for: embedding_model, mean_var_norm_emb, classifier, label_encoder\n",
      "DEBUG:speechbrain.dataio.encoder:Loaded categorical encoding from models/spkrec-ecapa-voxceleb/label_encoder.ckpt\n"
     ]
    },
    {
     "name": "stderr",
     "output_type": "stream",
     "text": [
      "Map:   1%|          | 1/100 [00:01<01:51,  1.13s/ examples]"
     ]
    },
    {
     "name": "stdout",
     "output_type": "stream",
     "text": [
      "INFO:speechbrain.utils.fetching:Fetch hyperparams.yaml: Using existing file/symlink in models/spkrec-ecapa-voxceleb/hyperparams.yaml.\n",
      "INFO:speechbrain.utils.fetching:Fetch custom.py: Delegating to Huggingface hub, source speechbrain/spkrec-ecapa-voxceleb.\n",
      "DEBUG:urllib3.connectionpool:https://huggingface.co:443 \"HEAD /speechbrain/spkrec-ecapa-voxceleb/resolve/main/custom.py HTTP/1.1\" 404 0\n",
      "DEBUG:speechbrain.utils.parameter_transfer:Collecting files (or symlinks) for pretraining in models/spkrec-ecapa-voxceleb.\n",
      "INFO:speechbrain.utils.fetching:Fetch embedding_model.ckpt: Using existing file/symlink in models/spkrec-ecapa-voxceleb/embedding_model.ckpt.\n",
      "INFO:speechbrain.utils.fetching:Fetch mean_var_norm_emb.ckpt: Using existing file/symlink in models/spkrec-ecapa-voxceleb/mean_var_norm_emb.ckpt.\n",
      "INFO:speechbrain.utils.fetching:Fetch classifier.ckpt: Using existing file/symlink in models/spkrec-ecapa-voxceleb/classifier.ckpt.\n",
      "INFO:speechbrain.utils.fetching:Fetch label_encoder.txt: Using existing file/symlink in models/spkrec-ecapa-voxceleb/label_encoder.ckpt.\n",
      "INFO:speechbrain.utils.parameter_transfer:Loading pretrained files for: embedding_model, mean_var_norm_emb, classifier, label_encoder\n",
      "DEBUG:speechbrain.dataio.encoder:Loaded categorical encoding from models/spkrec-ecapa-voxceleb/label_encoder.ckpt\n"
     ]
    },
    {
     "name": "stderr",
     "output_type": "stream",
     "text": [
      "Map:   2%|▏         | 2/100 [00:01<01:04,  1.53 examples/s]"
     ]
    },
    {
     "name": "stdout",
     "output_type": "stream",
     "text": [
      "INFO:speechbrain.utils.fetching:Fetch hyperparams.yaml: Using existing file/symlink in models/spkrec-ecapa-voxceleb/hyperparams.yaml.\n",
      "INFO:speechbrain.utils.fetching:Fetch custom.py: Delegating to Huggingface hub, source speechbrain/spkrec-ecapa-voxceleb.\n",
      "DEBUG:urllib3.connectionpool:https://huggingface.co:443 \"HEAD /speechbrain/spkrec-ecapa-voxceleb/resolve/main/custom.py HTTP/1.1\" 404 0\n",
      "DEBUG:speechbrain.utils.parameter_transfer:Collecting files (or symlinks) for pretraining in models/spkrec-ecapa-voxceleb.\n",
      "INFO:speechbrain.utils.fetching:Fetch embedding_model.ckpt: Using existing file/symlink in models/spkrec-ecapa-voxceleb/embedding_model.ckpt.\n",
      "INFO:speechbrain.utils.fetching:Fetch mean_var_norm_emb.ckpt: Using existing file/symlink in models/spkrec-ecapa-voxceleb/mean_var_norm_emb.ckpt.\n",
      "INFO:speechbrain.utils.fetching:Fetch classifier.ckpt: Using existing file/symlink in models/spkrec-ecapa-voxceleb/classifier.ckpt.\n",
      "INFO:speechbrain.utils.fetching:Fetch label_encoder.txt: Using existing file/symlink in models/spkrec-ecapa-voxceleb/label_encoder.ckpt.\n",
      "INFO:speechbrain.utils.parameter_transfer:Loading pretrained files for: embedding_model, mean_var_norm_emb, classifier, label_encoder\n",
      "DEBUG:speechbrain.dataio.encoder:Loaded categorical encoding from models/spkrec-ecapa-voxceleb/label_encoder.ckpt\n"
     ]
    },
    {
     "name": "stderr",
     "output_type": "stream",
     "text": [
      "Map:   3%|▎         | 3/100 [00:01<00:52,  1.86 examples/s]"
     ]
    },
    {
     "name": "stdout",
     "output_type": "stream",
     "text": [
      "INFO:speechbrain.utils.fetching:Fetch hyperparams.yaml: Using existing file/symlink in models/spkrec-ecapa-voxceleb/hyperparams.yaml.\n",
      "INFO:speechbrain.utils.fetching:Fetch custom.py: Delegating to Huggingface hub, source speechbrain/spkrec-ecapa-voxceleb.\n",
      "DEBUG:urllib3.connectionpool:https://huggingface.co:443 \"HEAD /speechbrain/spkrec-ecapa-voxceleb/resolve/main/custom.py HTTP/1.1\" 404 0\n",
      "DEBUG:speechbrain.utils.parameter_transfer:Collecting files (or symlinks) for pretraining in models/spkrec-ecapa-voxceleb.\n",
      "INFO:speechbrain.utils.fetching:Fetch embedding_model.ckpt: Using existing file/symlink in models/spkrec-ecapa-voxceleb/embedding_model.ckpt.\n",
      "INFO:speechbrain.utils.fetching:Fetch mean_var_norm_emb.ckpt: Using existing file/symlink in models/spkrec-ecapa-voxceleb/mean_var_norm_emb.ckpt.\n",
      "INFO:speechbrain.utils.fetching:Fetch classifier.ckpt: Using existing file/symlink in models/spkrec-ecapa-voxceleb/classifier.ckpt.\n",
      "INFO:speechbrain.utils.fetching:Fetch label_encoder.txt: Using existing file/symlink in models/spkrec-ecapa-voxceleb/label_encoder.ckpt.\n",
      "INFO:speechbrain.utils.parameter_transfer:Loading pretrained files for: embedding_model, mean_var_norm_emb, classifier, label_encoder\n",
      "DEBUG:speechbrain.dataio.encoder:Loaded categorical encoding from models/spkrec-ecapa-voxceleb/label_encoder.ckpt\n"
     ]
    },
    {
     "name": "stderr",
     "output_type": "stream",
     "text": [
      "Map:   4%|▍         | 4/100 [00:02<00:44,  2.17 examples/s]"
     ]
    },
    {
     "name": "stdout",
     "output_type": "stream",
     "text": [
      "INFO:speechbrain.utils.fetching:Fetch hyperparams.yaml: Using existing file/symlink in models/spkrec-ecapa-voxceleb/hyperparams.yaml.\n",
      "INFO:speechbrain.utils.fetching:Fetch custom.py: Delegating to Huggingface hub, source speechbrain/spkrec-ecapa-voxceleb.\n",
      "DEBUG:urllib3.connectionpool:https://huggingface.co:443 \"HEAD /speechbrain/spkrec-ecapa-voxceleb/resolve/main/custom.py HTTP/1.1\" 404 0\n",
      "DEBUG:speechbrain.utils.parameter_transfer:Collecting files (or symlinks) for pretraining in models/spkrec-ecapa-voxceleb.\n",
      "INFO:speechbrain.utils.fetching:Fetch embedding_model.ckpt: Using existing file/symlink in models/spkrec-ecapa-voxceleb/embedding_model.ckpt.\n",
      "INFO:speechbrain.utils.fetching:Fetch mean_var_norm_emb.ckpt: Using existing file/symlink in models/spkrec-ecapa-voxceleb/mean_var_norm_emb.ckpt.\n",
      "INFO:speechbrain.utils.fetching:Fetch classifier.ckpt: Using existing file/symlink in models/spkrec-ecapa-voxceleb/classifier.ckpt.\n",
      "INFO:speechbrain.utils.fetching:Fetch label_encoder.txt: Using existing file/symlink in models/spkrec-ecapa-voxceleb/label_encoder.ckpt.\n",
      "INFO:speechbrain.utils.parameter_transfer:Loading pretrained files for: embedding_model, mean_var_norm_emb, classifier, label_encoder\n",
      "DEBUG:speechbrain.dataio.encoder:Loaded categorical encoding from models/spkrec-ecapa-voxceleb/label_encoder.ckpt\n"
     ]
    },
    {
     "name": "stderr",
     "output_type": "stream",
     "text": [
      "Map:   5%|▌         | 5/100 [00:02<00:42,  2.25 examples/s]"
     ]
    },
    {
     "name": "stdout",
     "output_type": "stream",
     "text": [
      "INFO:speechbrain.utils.fetching:Fetch hyperparams.yaml: Using existing file/symlink in models/spkrec-ecapa-voxceleb/hyperparams.yaml.\n",
      "INFO:speechbrain.utils.fetching:Fetch custom.py: Delegating to Huggingface hub, source speechbrain/spkrec-ecapa-voxceleb.\n",
      "DEBUG:urllib3.connectionpool:https://huggingface.co:443 \"HEAD /speechbrain/spkrec-ecapa-voxceleb/resolve/main/custom.py HTTP/1.1\" 404 0\n",
      "DEBUG:speechbrain.utils.parameter_transfer:Collecting files (or symlinks) for pretraining in models/spkrec-ecapa-voxceleb.\n",
      "INFO:speechbrain.utils.fetching:Fetch embedding_model.ckpt: Using existing file/symlink in models/spkrec-ecapa-voxceleb/embedding_model.ckpt.\n",
      "INFO:speechbrain.utils.fetching:Fetch mean_var_norm_emb.ckpt: Using existing file/symlink in models/spkrec-ecapa-voxceleb/mean_var_norm_emb.ckpt.\n",
      "INFO:speechbrain.utils.fetching:Fetch classifier.ckpt: Using existing file/symlink in models/spkrec-ecapa-voxceleb/classifier.ckpt.\n",
      "INFO:speechbrain.utils.fetching:Fetch label_encoder.txt: Using existing file/symlink in models/spkrec-ecapa-voxceleb/label_encoder.ckpt.\n",
      "INFO:speechbrain.utils.parameter_transfer:Loading pretrained files for: embedding_model, mean_var_norm_emb, classifier, label_encoder\n",
      "DEBUG:speechbrain.dataio.encoder:Loaded categorical encoding from models/spkrec-ecapa-voxceleb/label_encoder.ckpt\n"
     ]
    },
    {
     "name": "stderr",
     "output_type": "stream",
     "text": [
      "Map:   6%|▌         | 6/100 [00:03<00:44,  2.09 examples/s]"
     ]
    },
    {
     "name": "stdout",
     "output_type": "stream",
     "text": [
      "INFO:speechbrain.utils.fetching:Fetch hyperparams.yaml: Using existing file/symlink in models/spkrec-ecapa-voxceleb/hyperparams.yaml.\n",
      "INFO:speechbrain.utils.fetching:Fetch custom.py: Delegating to Huggingface hub, source speechbrain/spkrec-ecapa-voxceleb.\n",
      "DEBUG:urllib3.connectionpool:https://huggingface.co:443 \"HEAD /speechbrain/spkrec-ecapa-voxceleb/resolve/main/custom.py HTTP/1.1\" 404 0\n",
      "DEBUG:speechbrain.utils.parameter_transfer:Collecting files (or symlinks) for pretraining in models/spkrec-ecapa-voxceleb.\n",
      "INFO:speechbrain.utils.fetching:Fetch embedding_model.ckpt: Using existing file/symlink in models/spkrec-ecapa-voxceleb/embedding_model.ckpt.\n",
      "INFO:speechbrain.utils.fetching:Fetch mean_var_norm_emb.ckpt: Using existing file/symlink in models/spkrec-ecapa-voxceleb/mean_var_norm_emb.ckpt.\n",
      "INFO:speechbrain.utils.fetching:Fetch classifier.ckpt: Using existing file/symlink in models/spkrec-ecapa-voxceleb/classifier.ckpt.\n",
      "INFO:speechbrain.utils.fetching:Fetch label_encoder.txt: Using existing file/symlink in models/spkrec-ecapa-voxceleb/label_encoder.ckpt.\n",
      "INFO:speechbrain.utils.parameter_transfer:Loading pretrained files for: embedding_model, mean_var_norm_emb, classifier, label_encoder\n",
      "DEBUG:speechbrain.dataio.encoder:Loaded categorical encoding from models/spkrec-ecapa-voxceleb/label_encoder.ckpt\n"
     ]
    },
    {
     "name": "stderr",
     "output_type": "stream",
     "text": [
      "Map:   7%|▋         | 7/100 [00:03<00:39,  2.33 examples/s]"
     ]
    },
    {
     "name": "stdout",
     "output_type": "stream",
     "text": [
      "INFO:speechbrain.utils.fetching:Fetch hyperparams.yaml: Using existing file/symlink in models/spkrec-ecapa-voxceleb/hyperparams.yaml.\n",
      "INFO:speechbrain.utils.fetching:Fetch custom.py: Delegating to Huggingface hub, source speechbrain/spkrec-ecapa-voxceleb.\n",
      "DEBUG:urllib3.connectionpool:https://huggingface.co:443 \"HEAD /speechbrain/spkrec-ecapa-voxceleb/resolve/main/custom.py HTTP/1.1\" 404 0\n",
      "DEBUG:speechbrain.utils.parameter_transfer:Collecting files (or symlinks) for pretraining in models/spkrec-ecapa-voxceleb.\n",
      "INFO:speechbrain.utils.fetching:Fetch embedding_model.ckpt: Using existing file/symlink in models/spkrec-ecapa-voxceleb/embedding_model.ckpt.\n",
      "INFO:speechbrain.utils.fetching:Fetch mean_var_norm_emb.ckpt: Using existing file/symlink in models/spkrec-ecapa-voxceleb/mean_var_norm_emb.ckpt.\n",
      "INFO:speechbrain.utils.fetching:Fetch classifier.ckpt: Using existing file/symlink in models/spkrec-ecapa-voxceleb/classifier.ckpt.\n",
      "INFO:speechbrain.utils.fetching:Fetch label_encoder.txt: Using existing file/symlink in models/spkrec-ecapa-voxceleb/label_encoder.ckpt.\n",
      "INFO:speechbrain.utils.parameter_transfer:Loading pretrained files for: embedding_model, mean_var_norm_emb, classifier, label_encoder\n",
      "DEBUG:speechbrain.dataio.encoder:Loaded categorical encoding from models/spkrec-ecapa-voxceleb/label_encoder.ckpt\n"
     ]
    },
    {
     "name": "stderr",
     "output_type": "stream",
     "text": [
      "Map:   8%|▊         | 8/100 [00:03<00:36,  2.51 examples/s]"
     ]
    },
    {
     "name": "stdout",
     "output_type": "stream",
     "text": [
      "INFO:speechbrain.utils.fetching:Fetch hyperparams.yaml: Using existing file/symlink in models/spkrec-ecapa-voxceleb/hyperparams.yaml.\n",
      "INFO:speechbrain.utils.fetching:Fetch custom.py: Delegating to Huggingface hub, source speechbrain/spkrec-ecapa-voxceleb.\n",
      "DEBUG:urllib3.connectionpool:https://huggingface.co:443 \"HEAD /speechbrain/spkrec-ecapa-voxceleb/resolve/main/custom.py HTTP/1.1\" 404 0\n",
      "DEBUG:speechbrain.utils.parameter_transfer:Collecting files (or symlinks) for pretraining in models/spkrec-ecapa-voxceleb.\n",
      "INFO:speechbrain.utils.fetching:Fetch embedding_model.ckpt: Using existing file/symlink in models/spkrec-ecapa-voxceleb/embedding_model.ckpt.\n",
      "INFO:speechbrain.utils.fetching:Fetch mean_var_norm_emb.ckpt: Using existing file/symlink in models/spkrec-ecapa-voxceleb/mean_var_norm_emb.ckpt.\n",
      "INFO:speechbrain.utils.fetching:Fetch classifier.ckpt: Using existing file/symlink in models/spkrec-ecapa-voxceleb/classifier.ckpt.\n",
      "INFO:speechbrain.utils.fetching:Fetch label_encoder.txt: Using existing file/symlink in models/spkrec-ecapa-voxceleb/label_encoder.ckpt.\n",
      "INFO:speechbrain.utils.parameter_transfer:Loading pretrained files for: embedding_model, mean_var_norm_emb, classifier, label_encoder\n",
      "DEBUG:speechbrain.dataio.encoder:Loaded categorical encoding from models/spkrec-ecapa-voxceleb/label_encoder.ckpt\n"
     ]
    },
    {
     "name": "stderr",
     "output_type": "stream",
     "text": [
      "Map:   9%|▉         | 9/100 [00:04<00:34,  2.64 examples/s]"
     ]
    },
    {
     "name": "stdout",
     "output_type": "stream",
     "text": [
      "INFO:speechbrain.utils.fetching:Fetch hyperparams.yaml: Using existing file/symlink in models/spkrec-ecapa-voxceleb/hyperparams.yaml.\n",
      "INFO:speechbrain.utils.fetching:Fetch custom.py: Delegating to Huggingface hub, source speechbrain/spkrec-ecapa-voxceleb.\n",
      "DEBUG:urllib3.connectionpool:https://huggingface.co:443 \"HEAD /speechbrain/spkrec-ecapa-voxceleb/resolve/main/custom.py HTTP/1.1\" 404 0\n",
      "DEBUG:speechbrain.utils.parameter_transfer:Collecting files (or symlinks) for pretraining in models/spkrec-ecapa-voxceleb.\n",
      "INFO:speechbrain.utils.fetching:Fetch embedding_model.ckpt: Using existing file/symlink in models/spkrec-ecapa-voxceleb/embedding_model.ckpt.\n",
      "INFO:speechbrain.utils.fetching:Fetch mean_var_norm_emb.ckpt: Using existing file/symlink in models/spkrec-ecapa-voxceleb/mean_var_norm_emb.ckpt.\n",
      "INFO:speechbrain.utils.fetching:Fetch classifier.ckpt: Using existing file/symlink in models/spkrec-ecapa-voxceleb/classifier.ckpt.\n",
      "INFO:speechbrain.utils.fetching:Fetch label_encoder.txt: Using existing file/symlink in models/spkrec-ecapa-voxceleb/label_encoder.ckpt.\n",
      "INFO:speechbrain.utils.parameter_transfer:Loading pretrained files for: embedding_model, mean_var_norm_emb, classifier, label_encoder\n",
      "DEBUG:speechbrain.dataio.encoder:Loaded categorical encoding from models/spkrec-ecapa-voxceleb/label_encoder.ckpt\n"
     ]
    },
    {
     "name": "stderr",
     "output_type": "stream",
     "text": [
      "Map:  10%|█         | 10/100 [00:04<00:35,  2.56 examples/s]"
     ]
    },
    {
     "name": "stdout",
     "output_type": "stream",
     "text": [
      "INFO:speechbrain.utils.fetching:Fetch hyperparams.yaml: Using existing file/symlink in models/spkrec-ecapa-voxceleb/hyperparams.yaml.\n",
      "INFO:speechbrain.utils.fetching:Fetch custom.py: Delegating to Huggingface hub, source speechbrain/spkrec-ecapa-voxceleb.\n",
      "DEBUG:urllib3.connectionpool:https://huggingface.co:443 \"HEAD /speechbrain/spkrec-ecapa-voxceleb/resolve/main/custom.py HTTP/1.1\" 404 0\n",
      "DEBUG:speechbrain.utils.parameter_transfer:Collecting files (or symlinks) for pretraining in models/spkrec-ecapa-voxceleb.\n",
      "INFO:speechbrain.utils.fetching:Fetch embedding_model.ckpt: Using existing file/symlink in models/spkrec-ecapa-voxceleb/embedding_model.ckpt.\n",
      "INFO:speechbrain.utils.fetching:Fetch mean_var_norm_emb.ckpt: Using existing file/symlink in models/spkrec-ecapa-voxceleb/mean_var_norm_emb.ckpt.\n",
      "INFO:speechbrain.utils.fetching:Fetch classifier.ckpt: Using existing file/symlink in models/spkrec-ecapa-voxceleb/classifier.ckpt.\n",
      "INFO:speechbrain.utils.fetching:Fetch label_encoder.txt: Using existing file/symlink in models/spkrec-ecapa-voxceleb/label_encoder.ckpt.\n",
      "INFO:speechbrain.utils.parameter_transfer:Loading pretrained files for: embedding_model, mean_var_norm_emb, classifier, label_encoder\n",
      "DEBUG:speechbrain.dataio.encoder:Loaded categorical encoding from models/spkrec-ecapa-voxceleb/label_encoder.ckpt\n"
     ]
    },
    {
     "name": "stderr",
     "output_type": "stream",
     "text": [
      "Map:  11%|█         | 11/100 [00:04<00:32,  2.72 examples/s]"
     ]
    },
    {
     "name": "stdout",
     "output_type": "stream",
     "text": [
      "INFO:speechbrain.utils.fetching:Fetch hyperparams.yaml: Using existing file/symlink in models/spkrec-ecapa-voxceleb/hyperparams.yaml.\n",
      "INFO:speechbrain.utils.fetching:Fetch custom.py: Delegating to Huggingface hub, source speechbrain/spkrec-ecapa-voxceleb.\n",
      "DEBUG:urllib3.connectionpool:https://huggingface.co:443 \"HEAD /speechbrain/spkrec-ecapa-voxceleb/resolve/main/custom.py HTTP/1.1\" 404 0\n",
      "DEBUG:speechbrain.utils.parameter_transfer:Collecting files (or symlinks) for pretraining in models/spkrec-ecapa-voxceleb.\n",
      "INFO:speechbrain.utils.fetching:Fetch embedding_model.ckpt: Using existing file/symlink in models/spkrec-ecapa-voxceleb/embedding_model.ckpt.\n",
      "INFO:speechbrain.utils.fetching:Fetch mean_var_norm_emb.ckpt: Using existing file/symlink in models/spkrec-ecapa-voxceleb/mean_var_norm_emb.ckpt.\n",
      "INFO:speechbrain.utils.fetching:Fetch classifier.ckpt: Using existing file/symlink in models/spkrec-ecapa-voxceleb/classifier.ckpt.\n",
      "INFO:speechbrain.utils.fetching:Fetch label_encoder.txt: Using existing file/symlink in models/spkrec-ecapa-voxceleb/label_encoder.ckpt.\n",
      "INFO:speechbrain.utils.parameter_transfer:Loading pretrained files for: embedding_model, mean_var_norm_emb, classifier, label_encoder\n",
      "DEBUG:speechbrain.dataio.encoder:Loaded categorical encoding from models/spkrec-ecapa-voxceleb/label_encoder.ckpt\n"
     ]
    },
    {
     "name": "stderr",
     "output_type": "stream",
     "text": [
      "Map:  12%|█▏        | 12/100 [00:05<00:38,  2.30 examples/s]"
     ]
    },
    {
     "name": "stdout",
     "output_type": "stream",
     "text": [
      "INFO:speechbrain.utils.fetching:Fetch hyperparams.yaml: Using existing file/symlink in models/spkrec-ecapa-voxceleb/hyperparams.yaml.\n",
      "INFO:speechbrain.utils.fetching:Fetch custom.py: Delegating to Huggingface hub, source speechbrain/spkrec-ecapa-voxceleb.\n",
      "DEBUG:urllib3.connectionpool:https://huggingface.co:443 \"HEAD /speechbrain/spkrec-ecapa-voxceleb/resolve/main/custom.py HTTP/1.1\" 404 0\n",
      "DEBUG:speechbrain.utils.parameter_transfer:Collecting files (or symlinks) for pretraining in models/spkrec-ecapa-voxceleb.\n",
      "INFO:speechbrain.utils.fetching:Fetch embedding_model.ckpt: Using existing file/symlink in models/spkrec-ecapa-voxceleb/embedding_model.ckpt.\n",
      "INFO:speechbrain.utils.fetching:Fetch mean_var_norm_emb.ckpt: Using existing file/symlink in models/spkrec-ecapa-voxceleb/mean_var_norm_emb.ckpt.\n",
      "INFO:speechbrain.utils.fetching:Fetch classifier.ckpt: Using existing file/symlink in models/spkrec-ecapa-voxceleb/classifier.ckpt.\n",
      "INFO:speechbrain.utils.fetching:Fetch label_encoder.txt: Using existing file/symlink in models/spkrec-ecapa-voxceleb/label_encoder.ckpt.\n",
      "INFO:speechbrain.utils.parameter_transfer:Loading pretrained files for: embedding_model, mean_var_norm_emb, classifier, label_encoder\n",
      "DEBUG:speechbrain.dataio.encoder:Loaded categorical encoding from models/spkrec-ecapa-voxceleb/label_encoder.ckpt\n"
     ]
    },
    {
     "name": "stderr",
     "output_type": "stream",
     "text": [
      "Map:  13%|█▎        | 13/100 [00:05<00:35,  2.47 examples/s]"
     ]
    },
    {
     "name": "stdout",
     "output_type": "stream",
     "text": [
      "INFO:speechbrain.utils.fetching:Fetch hyperparams.yaml: Using existing file/symlink in models/spkrec-ecapa-voxceleb/hyperparams.yaml.\n",
      "INFO:speechbrain.utils.fetching:Fetch custom.py: Delegating to Huggingface hub, source speechbrain/spkrec-ecapa-voxceleb.\n",
      "DEBUG:urllib3.connectionpool:https://huggingface.co:443 \"HEAD /speechbrain/spkrec-ecapa-voxceleb/resolve/main/custom.py HTTP/1.1\" 404 0\n",
      "DEBUG:speechbrain.utils.parameter_transfer:Collecting files (or symlinks) for pretraining in models/spkrec-ecapa-voxceleb.\n",
      "INFO:speechbrain.utils.fetching:Fetch embedding_model.ckpt: Using existing file/symlink in models/spkrec-ecapa-voxceleb/embedding_model.ckpt.\n",
      "INFO:speechbrain.utils.fetching:Fetch mean_var_norm_emb.ckpt: Using existing file/symlink in models/spkrec-ecapa-voxceleb/mean_var_norm_emb.ckpt.\n",
      "INFO:speechbrain.utils.fetching:Fetch classifier.ckpt: Using existing file/symlink in models/spkrec-ecapa-voxceleb/classifier.ckpt.\n",
      "INFO:speechbrain.utils.fetching:Fetch label_encoder.txt: Using existing file/symlink in models/spkrec-ecapa-voxceleb/label_encoder.ckpt.\n",
      "INFO:speechbrain.utils.parameter_transfer:Loading pretrained files for: embedding_model, mean_var_norm_emb, classifier, label_encoder\n",
      "DEBUG:speechbrain.dataio.encoder:Loaded categorical encoding from models/spkrec-ecapa-voxceleb/label_encoder.ckpt\n"
     ]
    },
    {
     "name": "stderr",
     "output_type": "stream",
     "text": [
      "Map:  14%|█▍        | 14/100 [00:06<00:32,  2.63 examples/s]"
     ]
    },
    {
     "name": "stdout",
     "output_type": "stream",
     "text": [
      "INFO:speechbrain.utils.fetching:Fetch hyperparams.yaml: Using existing file/symlink in models/spkrec-ecapa-voxceleb/hyperparams.yaml.\n",
      "INFO:speechbrain.utils.fetching:Fetch custom.py: Delegating to Huggingface hub, source speechbrain/spkrec-ecapa-voxceleb.\n",
      "DEBUG:urllib3.connectionpool:https://huggingface.co:443 \"HEAD /speechbrain/spkrec-ecapa-voxceleb/resolve/main/custom.py HTTP/1.1\" 404 0\n",
      "DEBUG:speechbrain.utils.parameter_transfer:Collecting files (or symlinks) for pretraining in models/spkrec-ecapa-voxceleb.\n",
      "INFO:speechbrain.utils.fetching:Fetch embedding_model.ckpt: Using existing file/symlink in models/spkrec-ecapa-voxceleb/embedding_model.ckpt.\n",
      "INFO:speechbrain.utils.fetching:Fetch mean_var_norm_emb.ckpt: Using existing file/symlink in models/spkrec-ecapa-voxceleb/mean_var_norm_emb.ckpt.\n",
      "INFO:speechbrain.utils.fetching:Fetch classifier.ckpt: Using existing file/symlink in models/spkrec-ecapa-voxceleb/classifier.ckpt.\n",
      "INFO:speechbrain.utils.fetching:Fetch label_encoder.txt: Using existing file/symlink in models/spkrec-ecapa-voxceleb/label_encoder.ckpt.\n",
      "INFO:speechbrain.utils.parameter_transfer:Loading pretrained files for: embedding_model, mean_var_norm_emb, classifier, label_encoder\n",
      "DEBUG:speechbrain.dataio.encoder:Loaded categorical encoding from models/spkrec-ecapa-voxceleb/label_encoder.ckpt\n"
     ]
    },
    {
     "name": "stderr",
     "output_type": "stream",
     "text": [
      "Map:  15%|█▌        | 15/100 [00:07<00:51,  1.66 examples/s]"
     ]
    },
    {
     "name": "stdout",
     "output_type": "stream",
     "text": [
      "INFO:speechbrain.utils.fetching:Fetch hyperparams.yaml: Using existing file/symlink in models/spkrec-ecapa-voxceleb/hyperparams.yaml.\n",
      "INFO:speechbrain.utils.fetching:Fetch custom.py: Delegating to Huggingface hub, source speechbrain/spkrec-ecapa-voxceleb.\n",
      "DEBUG:urllib3.connectionpool:https://huggingface.co:443 \"HEAD /speechbrain/spkrec-ecapa-voxceleb/resolve/main/custom.py HTTP/1.1\" 404 0\n",
      "DEBUG:speechbrain.utils.parameter_transfer:Collecting files (or symlinks) for pretraining in models/spkrec-ecapa-voxceleb.\n",
      "INFO:speechbrain.utils.fetching:Fetch embedding_model.ckpt: Using existing file/symlink in models/spkrec-ecapa-voxceleb/embedding_model.ckpt.\n",
      "INFO:speechbrain.utils.fetching:Fetch mean_var_norm_emb.ckpt: Using existing file/symlink in models/spkrec-ecapa-voxceleb/mean_var_norm_emb.ckpt.\n",
      "INFO:speechbrain.utils.fetching:Fetch classifier.ckpt: Using existing file/symlink in models/spkrec-ecapa-voxceleb/classifier.ckpt.\n",
      "INFO:speechbrain.utils.fetching:Fetch label_encoder.txt: Using existing file/symlink in models/spkrec-ecapa-voxceleb/label_encoder.ckpt.\n",
      "INFO:speechbrain.utils.parameter_transfer:Loading pretrained files for: embedding_model, mean_var_norm_emb, classifier, label_encoder\n",
      "DEBUG:speechbrain.dataio.encoder:Loaded categorical encoding from models/spkrec-ecapa-voxceleb/label_encoder.ckpt\n"
     ]
    },
    {
     "name": "stderr",
     "output_type": "stream",
     "text": [
      "Map:  16%|█▌        | 16/100 [00:08<00:55,  1.51 examples/s]"
     ]
    },
    {
     "name": "stdout",
     "output_type": "stream",
     "text": [
      "INFO:speechbrain.utils.fetching:Fetch hyperparams.yaml: Using existing file/symlink in models/spkrec-ecapa-voxceleb/hyperparams.yaml.\n",
      "INFO:speechbrain.utils.fetching:Fetch custom.py: Delegating to Huggingface hub, source speechbrain/spkrec-ecapa-voxceleb.\n",
      "DEBUG:urllib3.connectionpool:https://huggingface.co:443 \"HEAD /speechbrain/spkrec-ecapa-voxceleb/resolve/main/custom.py HTTP/1.1\" 404 0\n",
      "DEBUG:speechbrain.utils.parameter_transfer:Collecting files (or symlinks) for pretraining in models/spkrec-ecapa-voxceleb.\n",
      "INFO:speechbrain.utils.fetching:Fetch embedding_model.ckpt: Using existing file/symlink in models/spkrec-ecapa-voxceleb/embedding_model.ckpt.\n",
      "INFO:speechbrain.utils.fetching:Fetch mean_var_norm_emb.ckpt: Using existing file/symlink in models/spkrec-ecapa-voxceleb/mean_var_norm_emb.ckpt.\n",
      "INFO:speechbrain.utils.fetching:Fetch classifier.ckpt: Using existing file/symlink in models/spkrec-ecapa-voxceleb/classifier.ckpt.\n",
      "INFO:speechbrain.utils.fetching:Fetch label_encoder.txt: Using existing file/symlink in models/spkrec-ecapa-voxceleb/label_encoder.ckpt.\n",
      "INFO:speechbrain.utils.parameter_transfer:Loading pretrained files for: embedding_model, mean_var_norm_emb, classifier, label_encoder\n",
      "DEBUG:speechbrain.dataio.encoder:Loaded categorical encoding from models/spkrec-ecapa-voxceleb/label_encoder.ckpt\n"
     ]
    },
    {
     "name": "stderr",
     "output_type": "stream",
     "text": [
      "Map:  17%|█▋        | 17/100 [00:08<00:58,  1.43 examples/s]"
     ]
    },
    {
     "name": "stdout",
     "output_type": "stream",
     "text": [
      "INFO:speechbrain.utils.fetching:Fetch hyperparams.yaml: Using existing file/symlink in models/spkrec-ecapa-voxceleb/hyperparams.yaml.\n",
      "INFO:speechbrain.utils.fetching:Fetch custom.py: Delegating to Huggingface hub, source speechbrain/spkrec-ecapa-voxceleb.\n",
      "DEBUG:urllib3.connectionpool:https://huggingface.co:443 \"HEAD /speechbrain/spkrec-ecapa-voxceleb/resolve/main/custom.py HTTP/1.1\" 404 0\n",
      "DEBUG:speechbrain.utils.parameter_transfer:Collecting files (or symlinks) for pretraining in models/spkrec-ecapa-voxceleb.\n",
      "INFO:speechbrain.utils.fetching:Fetch embedding_model.ckpt: Using existing file/symlink in models/spkrec-ecapa-voxceleb/embedding_model.ckpt.\n",
      "INFO:speechbrain.utils.fetching:Fetch mean_var_norm_emb.ckpt: Using existing file/symlink in models/spkrec-ecapa-voxceleb/mean_var_norm_emb.ckpt.\n",
      "INFO:speechbrain.utils.fetching:Fetch classifier.ckpt: Using existing file/symlink in models/spkrec-ecapa-voxceleb/classifier.ckpt.\n",
      "INFO:speechbrain.utils.fetching:Fetch label_encoder.txt: Using existing file/symlink in models/spkrec-ecapa-voxceleb/label_encoder.ckpt.\n",
      "INFO:speechbrain.utils.parameter_transfer:Loading pretrained files for: embedding_model, mean_var_norm_emb, classifier, label_encoder\n",
      "DEBUG:speechbrain.dataio.encoder:Loaded categorical encoding from models/spkrec-ecapa-voxceleb/label_encoder.ckpt\n"
     ]
    },
    {
     "name": "stderr",
     "output_type": "stream",
     "text": [
      "Map:  18%|█▊        | 18/100 [00:09<01:05,  1.26 examples/s]"
     ]
    },
    {
     "name": "stdout",
     "output_type": "stream",
     "text": [
      "INFO:speechbrain.utils.fetching:Fetch hyperparams.yaml: Using existing file/symlink in models/spkrec-ecapa-voxceleb/hyperparams.yaml.\n",
      "INFO:speechbrain.utils.fetching:Fetch custom.py: Delegating to Huggingface hub, source speechbrain/spkrec-ecapa-voxceleb.\n",
      "DEBUG:urllib3.connectionpool:https://huggingface.co:443 \"HEAD /speechbrain/spkrec-ecapa-voxceleb/resolve/main/custom.py HTTP/1.1\" 404 0\n",
      "DEBUG:speechbrain.utils.parameter_transfer:Collecting files (or symlinks) for pretraining in models/spkrec-ecapa-voxceleb.\n",
      "INFO:speechbrain.utils.fetching:Fetch embedding_model.ckpt: Using existing file/symlink in models/spkrec-ecapa-voxceleb/embedding_model.ckpt.\n",
      "INFO:speechbrain.utils.fetching:Fetch mean_var_norm_emb.ckpt: Using existing file/symlink in models/spkrec-ecapa-voxceleb/mean_var_norm_emb.ckpt.\n",
      "INFO:speechbrain.utils.fetching:Fetch classifier.ckpt: Using existing file/symlink in models/spkrec-ecapa-voxceleb/classifier.ckpt.\n",
      "INFO:speechbrain.utils.fetching:Fetch label_encoder.txt: Using existing file/symlink in models/spkrec-ecapa-voxceleb/label_encoder.ckpt.\n",
      "INFO:speechbrain.utils.parameter_transfer:Loading pretrained files for: embedding_model, mean_var_norm_emb, classifier, label_encoder\n",
      "DEBUG:speechbrain.dataio.encoder:Loaded categorical encoding from models/spkrec-ecapa-voxceleb/label_encoder.ckpt\n"
     ]
    },
    {
     "name": "stderr",
     "output_type": "stream",
     "text": [
      "Map:  19%|█▉        | 19/100 [00:11<01:23,  1.03s/ examples]"
     ]
    },
    {
     "name": "stdout",
     "output_type": "stream",
     "text": [
      "INFO:speechbrain.utils.fetching:Fetch hyperparams.yaml: Using existing file/symlink in models/spkrec-ecapa-voxceleb/hyperparams.yaml.\n",
      "INFO:speechbrain.utils.fetching:Fetch custom.py: Delegating to Huggingface hub, source speechbrain/spkrec-ecapa-voxceleb.\n",
      "DEBUG:urllib3.connectionpool:https://huggingface.co:443 \"HEAD /speechbrain/spkrec-ecapa-voxceleb/resolve/main/custom.py HTTP/1.1\" 404 0\n",
      "DEBUG:speechbrain.utils.parameter_transfer:Collecting files (or symlinks) for pretraining in models/spkrec-ecapa-voxceleb.\n",
      "INFO:speechbrain.utils.fetching:Fetch embedding_model.ckpt: Using existing file/symlink in models/spkrec-ecapa-voxceleb/embedding_model.ckpt.\n",
      "INFO:speechbrain.utils.fetching:Fetch mean_var_norm_emb.ckpt: Using existing file/symlink in models/spkrec-ecapa-voxceleb/mean_var_norm_emb.ckpt.\n",
      "INFO:speechbrain.utils.fetching:Fetch classifier.ckpt: Using existing file/symlink in models/spkrec-ecapa-voxceleb/classifier.ckpt.\n",
      "INFO:speechbrain.utils.fetching:Fetch label_encoder.txt: Using existing file/symlink in models/spkrec-ecapa-voxceleb/label_encoder.ckpt.\n",
      "INFO:speechbrain.utils.parameter_transfer:Loading pretrained files for: embedding_model, mean_var_norm_emb, classifier, label_encoder\n",
      "DEBUG:speechbrain.dataio.encoder:Loaded categorical encoding from models/spkrec-ecapa-voxceleb/label_encoder.ckpt\n"
     ]
    },
    {
     "name": "stderr",
     "output_type": "stream",
     "text": [
      "Map:  20%|██        | 20/100 [00:13<01:41,  1.27s/ examples]"
     ]
    },
    {
     "name": "stdout",
     "output_type": "stream",
     "text": [
      "INFO:speechbrain.utils.fetching:Fetch hyperparams.yaml: Using existing file/symlink in models/spkrec-ecapa-voxceleb/hyperparams.yaml.\n",
      "INFO:speechbrain.utils.fetching:Fetch custom.py: Delegating to Huggingface hub, source speechbrain/spkrec-ecapa-voxceleb.\n",
      "DEBUG:urllib3.connectionpool:https://huggingface.co:443 \"HEAD /speechbrain/spkrec-ecapa-voxceleb/resolve/main/custom.py HTTP/1.1\" 404 0\n",
      "DEBUG:speechbrain.utils.parameter_transfer:Collecting files (or symlinks) for pretraining in models/spkrec-ecapa-voxceleb.\n",
      "INFO:speechbrain.utils.fetching:Fetch embedding_model.ckpt: Using existing file/symlink in models/spkrec-ecapa-voxceleb/embedding_model.ckpt.\n",
      "INFO:speechbrain.utils.fetching:Fetch mean_var_norm_emb.ckpt: Using existing file/symlink in models/spkrec-ecapa-voxceleb/mean_var_norm_emb.ckpt.\n",
      "INFO:speechbrain.utils.fetching:Fetch classifier.ckpt: Using existing file/symlink in models/spkrec-ecapa-voxceleb/classifier.ckpt.\n",
      "INFO:speechbrain.utils.fetching:Fetch label_encoder.txt: Using existing file/symlink in models/spkrec-ecapa-voxceleb/label_encoder.ckpt.\n",
      "INFO:speechbrain.utils.parameter_transfer:Loading pretrained files for: embedding_model, mean_var_norm_emb, classifier, label_encoder\n",
      "DEBUG:speechbrain.dataio.encoder:Loaded categorical encoding from models/spkrec-ecapa-voxceleb/label_encoder.ckpt\n"
     ]
    },
    {
     "name": "stderr",
     "output_type": "stream",
     "text": [
      "Map:  21%|██        | 21/100 [00:13<01:24,  1.06s/ examples]"
     ]
    },
    {
     "name": "stdout",
     "output_type": "stream",
     "text": [
      "INFO:speechbrain.utils.fetching:Fetch hyperparams.yaml: Using existing file/symlink in models/spkrec-ecapa-voxceleb/hyperparams.yaml.\n",
      "INFO:speechbrain.utils.fetching:Fetch custom.py: Delegating to Huggingface hub, source speechbrain/spkrec-ecapa-voxceleb.\n",
      "DEBUG:urllib3.connectionpool:https://huggingface.co:443 \"HEAD /speechbrain/spkrec-ecapa-voxceleb/resolve/main/custom.py HTTP/1.1\" 404 0\n",
      "DEBUG:speechbrain.utils.parameter_transfer:Collecting files (or symlinks) for pretraining in models/spkrec-ecapa-voxceleb.\n",
      "INFO:speechbrain.utils.fetching:Fetch embedding_model.ckpt: Using existing file/symlink in models/spkrec-ecapa-voxceleb/embedding_model.ckpt.\n",
      "INFO:speechbrain.utils.fetching:Fetch mean_var_norm_emb.ckpt: Using existing file/symlink in models/spkrec-ecapa-voxceleb/mean_var_norm_emb.ckpt.\n",
      "INFO:speechbrain.utils.fetching:Fetch classifier.ckpt: Using existing file/symlink in models/spkrec-ecapa-voxceleb/classifier.ckpt.\n",
      "INFO:speechbrain.utils.fetching:Fetch label_encoder.txt: Using existing file/symlink in models/spkrec-ecapa-voxceleb/label_encoder.ckpt.\n",
      "INFO:speechbrain.utils.parameter_transfer:Loading pretrained files for: embedding_model, mean_var_norm_emb, classifier, label_encoder\n",
      "DEBUG:speechbrain.dataio.encoder:Loaded categorical encoding from models/spkrec-ecapa-voxceleb/label_encoder.ckpt\n"
     ]
    },
    {
     "name": "stderr",
     "output_type": "stream",
     "text": [
      "Map:  22%|██▏       | 22/100 [00:14<01:18,  1.01s/ examples]"
     ]
    },
    {
     "name": "stdout",
     "output_type": "stream",
     "text": [
      "INFO:speechbrain.utils.fetching:Fetch hyperparams.yaml: Using existing file/symlink in models/spkrec-ecapa-voxceleb/hyperparams.yaml.\n",
      "INFO:speechbrain.utils.fetching:Fetch custom.py: Delegating to Huggingface hub, source speechbrain/spkrec-ecapa-voxceleb.\n",
      "DEBUG:urllib3.connectionpool:https://huggingface.co:443 \"HEAD /speechbrain/spkrec-ecapa-voxceleb/resolve/main/custom.py HTTP/1.1\" 404 0\n",
      "DEBUG:speechbrain.utils.parameter_transfer:Collecting files (or symlinks) for pretraining in models/spkrec-ecapa-voxceleb.\n",
      "INFO:speechbrain.utils.fetching:Fetch embedding_model.ckpt: Using existing file/symlink in models/spkrec-ecapa-voxceleb/embedding_model.ckpt.\n",
      "INFO:speechbrain.utils.fetching:Fetch mean_var_norm_emb.ckpt: Using existing file/symlink in models/spkrec-ecapa-voxceleb/mean_var_norm_emb.ckpt.\n",
      "INFO:speechbrain.utils.fetching:Fetch classifier.ckpt: Using existing file/symlink in models/spkrec-ecapa-voxceleb/classifier.ckpt.\n",
      "INFO:speechbrain.utils.fetching:Fetch label_encoder.txt: Using existing file/symlink in models/spkrec-ecapa-voxceleb/label_encoder.ckpt.\n",
      "INFO:speechbrain.utils.parameter_transfer:Loading pretrained files for: embedding_model, mean_var_norm_emb, classifier, label_encoder\n",
      "DEBUG:speechbrain.dataio.encoder:Loaded categorical encoding from models/spkrec-ecapa-voxceleb/label_encoder.ckpt\n"
     ]
    },
    {
     "name": "stderr",
     "output_type": "stream",
     "text": [
      "Map:  23%|██▎       | 23/100 [00:15<01:07,  1.14 examples/s]"
     ]
    },
    {
     "name": "stdout",
     "output_type": "stream",
     "text": [
      "INFO:speechbrain.utils.fetching:Fetch hyperparams.yaml: Using existing file/symlink in models/spkrec-ecapa-voxceleb/hyperparams.yaml.\n",
      "INFO:speechbrain.utils.fetching:Fetch custom.py: Delegating to Huggingface hub, source speechbrain/spkrec-ecapa-voxceleb.\n",
      "DEBUG:urllib3.connectionpool:https://huggingface.co:443 \"HEAD /speechbrain/spkrec-ecapa-voxceleb/resolve/main/custom.py HTTP/1.1\" 404 0\n",
      "DEBUG:speechbrain.utils.parameter_transfer:Collecting files (or symlinks) for pretraining in models/spkrec-ecapa-voxceleb.\n",
      "INFO:speechbrain.utils.fetching:Fetch embedding_model.ckpt: Using existing file/symlink in models/spkrec-ecapa-voxceleb/embedding_model.ckpt.\n",
      "INFO:speechbrain.utils.fetching:Fetch mean_var_norm_emb.ckpt: Using existing file/symlink in models/spkrec-ecapa-voxceleb/mean_var_norm_emb.ckpt.\n",
      "INFO:speechbrain.utils.fetching:Fetch classifier.ckpt: Using existing file/symlink in models/spkrec-ecapa-voxceleb/classifier.ckpt.\n",
      "INFO:speechbrain.utils.fetching:Fetch label_encoder.txt: Using existing file/symlink in models/spkrec-ecapa-voxceleb/label_encoder.ckpt.\n",
      "INFO:speechbrain.utils.parameter_transfer:Loading pretrained files for: embedding_model, mean_var_norm_emb, classifier, label_encoder\n",
      "DEBUG:speechbrain.dataio.encoder:Loaded categorical encoding from models/spkrec-ecapa-voxceleb/label_encoder.ckpt\n"
     ]
    },
    {
     "name": "stderr",
     "output_type": "stream",
     "text": [
      "Map:  24%|██▍       | 24/100 [00:15<00:58,  1.31 examples/s]"
     ]
    },
    {
     "name": "stdout",
     "output_type": "stream",
     "text": [
      "INFO:speechbrain.utils.fetching:Fetch hyperparams.yaml: Using existing file/symlink in models/spkrec-ecapa-voxceleb/hyperparams.yaml.\n",
      "INFO:speechbrain.utils.fetching:Fetch custom.py: Delegating to Huggingface hub, source speechbrain/spkrec-ecapa-voxceleb.\n",
      "DEBUG:urllib3.connectionpool:https://huggingface.co:443 \"HEAD /speechbrain/spkrec-ecapa-voxceleb/resolve/main/custom.py HTTP/1.1\" 404 0\n",
      "DEBUG:speechbrain.utils.parameter_transfer:Collecting files (or symlinks) for pretraining in models/spkrec-ecapa-voxceleb.\n",
      "INFO:speechbrain.utils.fetching:Fetch embedding_model.ckpt: Using existing file/symlink in models/spkrec-ecapa-voxceleb/embedding_model.ckpt.\n",
      "INFO:speechbrain.utils.fetching:Fetch mean_var_norm_emb.ckpt: Using existing file/symlink in models/spkrec-ecapa-voxceleb/mean_var_norm_emb.ckpt.\n",
      "INFO:speechbrain.utils.fetching:Fetch classifier.ckpt: Using existing file/symlink in models/spkrec-ecapa-voxceleb/classifier.ckpt.\n",
      "INFO:speechbrain.utils.fetching:Fetch label_encoder.txt: Using existing file/symlink in models/spkrec-ecapa-voxceleb/label_encoder.ckpt.\n",
      "INFO:speechbrain.utils.parameter_transfer:Loading pretrained files for: embedding_model, mean_var_norm_emb, classifier, label_encoder\n",
      "DEBUG:speechbrain.dataio.encoder:Loaded categorical encoding from models/spkrec-ecapa-voxceleb/label_encoder.ckpt\n"
     ]
    },
    {
     "name": "stderr",
     "output_type": "stream",
     "text": [
      "Map:  25%|██▌       | 25/100 [00:16<00:47,  1.58 examples/s]"
     ]
    },
    {
     "name": "stdout",
     "output_type": "stream",
     "text": [
      "INFO:speechbrain.utils.fetching:Fetch hyperparams.yaml: Using existing file/symlink in models/spkrec-ecapa-voxceleb/hyperparams.yaml.\n",
      "INFO:speechbrain.utils.fetching:Fetch custom.py: Delegating to Huggingface hub, source speechbrain/spkrec-ecapa-voxceleb.\n",
      "DEBUG:urllib3.connectionpool:https://huggingface.co:443 \"HEAD /speechbrain/spkrec-ecapa-voxceleb/resolve/main/custom.py HTTP/1.1\" 404 0\n",
      "DEBUG:speechbrain.utils.parameter_transfer:Collecting files (or symlinks) for pretraining in models/spkrec-ecapa-voxceleb.\n",
      "INFO:speechbrain.utils.fetching:Fetch embedding_model.ckpt: Using existing file/symlink in models/spkrec-ecapa-voxceleb/embedding_model.ckpt.\n",
      "INFO:speechbrain.utils.fetching:Fetch mean_var_norm_emb.ckpt: Using existing file/symlink in models/spkrec-ecapa-voxceleb/mean_var_norm_emb.ckpt.\n",
      "INFO:speechbrain.utils.fetching:Fetch classifier.ckpt: Using existing file/symlink in models/spkrec-ecapa-voxceleb/classifier.ckpt.\n",
      "INFO:speechbrain.utils.fetching:Fetch label_encoder.txt: Using existing file/symlink in models/spkrec-ecapa-voxceleb/label_encoder.ckpt.\n",
      "INFO:speechbrain.utils.parameter_transfer:Loading pretrained files for: embedding_model, mean_var_norm_emb, classifier, label_encoder\n",
      "DEBUG:speechbrain.dataio.encoder:Loaded categorical encoding from models/spkrec-ecapa-voxceleb/label_encoder.ckpt\n"
     ]
    },
    {
     "name": "stderr",
     "output_type": "stream",
     "text": [
      "Map:  26%|██▌       | 26/100 [00:16<00:39,  1.86 examples/s]"
     ]
    },
    {
     "name": "stdout",
     "output_type": "stream",
     "text": [
      "INFO:speechbrain.utils.fetching:Fetch hyperparams.yaml: Using existing file/symlink in models/spkrec-ecapa-voxceleb/hyperparams.yaml.\n",
      "INFO:speechbrain.utils.fetching:Fetch custom.py: Delegating to Huggingface hub, source speechbrain/spkrec-ecapa-voxceleb.\n",
      "DEBUG:urllib3.connectionpool:https://huggingface.co:443 \"HEAD /speechbrain/spkrec-ecapa-voxceleb/resolve/main/custom.py HTTP/1.1\" 404 0\n",
      "DEBUG:speechbrain.utils.parameter_transfer:Collecting files (or symlinks) for pretraining in models/spkrec-ecapa-voxceleb.\n",
      "INFO:speechbrain.utils.fetching:Fetch embedding_model.ckpt: Using existing file/symlink in models/spkrec-ecapa-voxceleb/embedding_model.ckpt.\n",
      "INFO:speechbrain.utils.fetching:Fetch mean_var_norm_emb.ckpt: Using existing file/symlink in models/spkrec-ecapa-voxceleb/mean_var_norm_emb.ckpt.\n",
      "INFO:speechbrain.utils.fetching:Fetch classifier.ckpt: Using existing file/symlink in models/spkrec-ecapa-voxceleb/classifier.ckpt.\n",
      "INFO:speechbrain.utils.fetching:Fetch label_encoder.txt: Using existing file/symlink in models/spkrec-ecapa-voxceleb/label_encoder.ckpt.\n",
      "INFO:speechbrain.utils.parameter_transfer:Loading pretrained files for: embedding_model, mean_var_norm_emb, classifier, label_encoder\n",
      "DEBUG:speechbrain.dataio.encoder:Loaded categorical encoding from models/spkrec-ecapa-voxceleb/label_encoder.ckpt\n"
     ]
    },
    {
     "name": "stderr",
     "output_type": "stream",
     "text": [
      "Map:  27%|██▋       | 27/100 [00:16<00:39,  1.85 examples/s]"
     ]
    },
    {
     "name": "stdout",
     "output_type": "stream",
     "text": [
      "INFO:speechbrain.utils.fetching:Fetch hyperparams.yaml: Using existing file/symlink in models/spkrec-ecapa-voxceleb/hyperparams.yaml.\n",
      "INFO:speechbrain.utils.fetching:Fetch custom.py: Delegating to Huggingface hub, source speechbrain/spkrec-ecapa-voxceleb.\n",
      "DEBUG:urllib3.connectionpool:https://huggingface.co:443 \"HEAD /speechbrain/spkrec-ecapa-voxceleb/resolve/main/custom.py HTTP/1.1\" 404 0\n",
      "DEBUG:speechbrain.utils.parameter_transfer:Collecting files (or symlinks) for pretraining in models/spkrec-ecapa-voxceleb.\n",
      "INFO:speechbrain.utils.fetching:Fetch embedding_model.ckpt: Using existing file/symlink in models/spkrec-ecapa-voxceleb/embedding_model.ckpt.\n",
      "INFO:speechbrain.utils.fetching:Fetch mean_var_norm_emb.ckpt: Using existing file/symlink in models/spkrec-ecapa-voxceleb/mean_var_norm_emb.ckpt.\n",
      "INFO:speechbrain.utils.fetching:Fetch classifier.ckpt: Using existing file/symlink in models/spkrec-ecapa-voxceleb/classifier.ckpt.\n",
      "INFO:speechbrain.utils.fetching:Fetch label_encoder.txt: Using existing file/symlink in models/spkrec-ecapa-voxceleb/label_encoder.ckpt.\n",
      "INFO:speechbrain.utils.parameter_transfer:Loading pretrained files for: embedding_model, mean_var_norm_emb, classifier, label_encoder\n",
      "DEBUG:speechbrain.dataio.encoder:Loaded categorical encoding from models/spkrec-ecapa-voxceleb/label_encoder.ckpt\n"
     ]
    },
    {
     "name": "stderr",
     "output_type": "stream",
     "text": [
      "Map:  28%|██▊       | 28/100 [00:17<00:35,  2.05 examples/s]"
     ]
    },
    {
     "name": "stdout",
     "output_type": "stream",
     "text": [
      "INFO:speechbrain.utils.fetching:Fetch hyperparams.yaml: Using existing file/symlink in models/spkrec-ecapa-voxceleb/hyperparams.yaml.\n",
      "INFO:speechbrain.utils.fetching:Fetch custom.py: Delegating to Huggingface hub, source speechbrain/spkrec-ecapa-voxceleb.\n",
      "DEBUG:urllib3.connectionpool:https://huggingface.co:443 \"HEAD /speechbrain/spkrec-ecapa-voxceleb/resolve/main/custom.py HTTP/1.1\" 404 0\n",
      "DEBUG:speechbrain.utils.parameter_transfer:Collecting files (or symlinks) for pretraining in models/spkrec-ecapa-voxceleb.\n",
      "INFO:speechbrain.utils.fetching:Fetch embedding_model.ckpt: Using existing file/symlink in models/spkrec-ecapa-voxceleb/embedding_model.ckpt.\n",
      "INFO:speechbrain.utils.fetching:Fetch mean_var_norm_emb.ckpt: Using existing file/symlink in models/spkrec-ecapa-voxceleb/mean_var_norm_emb.ckpt.\n",
      "INFO:speechbrain.utils.fetching:Fetch classifier.ckpt: Using existing file/symlink in models/spkrec-ecapa-voxceleb/classifier.ckpt.\n",
      "INFO:speechbrain.utils.fetching:Fetch label_encoder.txt: Using existing file/symlink in models/spkrec-ecapa-voxceleb/label_encoder.ckpt.\n",
      "INFO:speechbrain.utils.parameter_transfer:Loading pretrained files for: embedding_model, mean_var_norm_emb, classifier, label_encoder\n",
      "DEBUG:speechbrain.dataio.encoder:Loaded categorical encoding from models/spkrec-ecapa-voxceleb/label_encoder.ckpt\n"
     ]
    },
    {
     "name": "stderr",
     "output_type": "stream",
     "text": [
      "Map:  29%|██▉       | 29/100 [00:17<00:34,  2.08 examples/s]"
     ]
    },
    {
     "name": "stdout",
     "output_type": "stream",
     "text": [
      "INFO:speechbrain.utils.fetching:Fetch hyperparams.yaml: Using existing file/symlink in models/spkrec-ecapa-voxceleb/hyperparams.yaml.\n",
      "INFO:speechbrain.utils.fetching:Fetch custom.py: Delegating to Huggingface hub, source speechbrain/spkrec-ecapa-voxceleb.\n",
      "DEBUG:urllib3.connectionpool:https://huggingface.co:443 \"HEAD /speechbrain/spkrec-ecapa-voxceleb/resolve/main/custom.py HTTP/1.1\" 404 0\n",
      "DEBUG:speechbrain.utils.parameter_transfer:Collecting files (or symlinks) for pretraining in models/spkrec-ecapa-voxceleb.\n",
      "INFO:speechbrain.utils.fetching:Fetch embedding_model.ckpt: Using existing file/symlink in models/spkrec-ecapa-voxceleb/embedding_model.ckpt.\n",
      "INFO:speechbrain.utils.fetching:Fetch mean_var_norm_emb.ckpt: Using existing file/symlink in models/spkrec-ecapa-voxceleb/mean_var_norm_emb.ckpt.\n",
      "INFO:speechbrain.utils.fetching:Fetch classifier.ckpt: Using existing file/symlink in models/spkrec-ecapa-voxceleb/classifier.ckpt.\n",
      "INFO:speechbrain.utils.fetching:Fetch label_encoder.txt: Using existing file/symlink in models/spkrec-ecapa-voxceleb/label_encoder.ckpt.\n",
      "INFO:speechbrain.utils.parameter_transfer:Loading pretrained files for: embedding_model, mean_var_norm_emb, classifier, label_encoder\n",
      "DEBUG:speechbrain.dataio.encoder:Loaded categorical encoding from models/spkrec-ecapa-voxceleb/label_encoder.ckpt\n"
     ]
    },
    {
     "name": "stderr",
     "output_type": "stream",
     "text": [
      "Map:  30%|███       | 30/100 [00:18<00:32,  2.13 examples/s]"
     ]
    },
    {
     "name": "stdout",
     "output_type": "stream",
     "text": [
      "INFO:speechbrain.utils.fetching:Fetch hyperparams.yaml: Using existing file/symlink in models/spkrec-ecapa-voxceleb/hyperparams.yaml.\n",
      "INFO:speechbrain.utils.fetching:Fetch custom.py: Delegating to Huggingface hub, source speechbrain/spkrec-ecapa-voxceleb.\n",
      "DEBUG:urllib3.connectionpool:https://huggingface.co:443 \"HEAD /speechbrain/spkrec-ecapa-voxceleb/resolve/main/custom.py HTTP/1.1\" 404 0\n",
      "DEBUG:speechbrain.utils.parameter_transfer:Collecting files (or symlinks) for pretraining in models/spkrec-ecapa-voxceleb.\n",
      "INFO:speechbrain.utils.fetching:Fetch embedding_model.ckpt: Using existing file/symlink in models/spkrec-ecapa-voxceleb/embedding_model.ckpt.\n",
      "INFO:speechbrain.utils.fetching:Fetch mean_var_norm_emb.ckpt: Using existing file/symlink in models/spkrec-ecapa-voxceleb/mean_var_norm_emb.ckpt.\n",
      "INFO:speechbrain.utils.fetching:Fetch classifier.ckpt: Using existing file/symlink in models/spkrec-ecapa-voxceleb/classifier.ckpt.\n",
      "INFO:speechbrain.utils.fetching:Fetch label_encoder.txt: Using existing file/symlink in models/spkrec-ecapa-voxceleb/label_encoder.ckpt.\n",
      "INFO:speechbrain.utils.parameter_transfer:Loading pretrained files for: embedding_model, mean_var_norm_emb, classifier, label_encoder\n",
      "DEBUG:speechbrain.dataio.encoder:Loaded categorical encoding from models/spkrec-ecapa-voxceleb/label_encoder.ckpt\n"
     ]
    },
    {
     "name": "stderr",
     "output_type": "stream",
     "text": [
      "Map:  31%|███       | 31/100 [00:18<00:29,  2.38 examples/s]"
     ]
    },
    {
     "name": "stdout",
     "output_type": "stream",
     "text": [
      "INFO:speechbrain.utils.fetching:Fetch hyperparams.yaml: Using existing file/symlink in models/spkrec-ecapa-voxceleb/hyperparams.yaml.\n",
      "INFO:speechbrain.utils.fetching:Fetch custom.py: Delegating to Huggingface hub, source speechbrain/spkrec-ecapa-voxceleb.\n",
      "DEBUG:urllib3.connectionpool:https://huggingface.co:443 \"HEAD /speechbrain/spkrec-ecapa-voxceleb/resolve/main/custom.py HTTP/1.1\" 404 0\n",
      "DEBUG:speechbrain.utils.parameter_transfer:Collecting files (or symlinks) for pretraining in models/spkrec-ecapa-voxceleb.\n",
      "INFO:speechbrain.utils.fetching:Fetch embedding_model.ckpt: Using existing file/symlink in models/spkrec-ecapa-voxceleb/embedding_model.ckpt.\n",
      "INFO:speechbrain.utils.fetching:Fetch mean_var_norm_emb.ckpt: Using existing file/symlink in models/spkrec-ecapa-voxceleb/mean_var_norm_emb.ckpt.\n",
      "INFO:speechbrain.utils.fetching:Fetch classifier.ckpt: Using existing file/symlink in models/spkrec-ecapa-voxceleb/classifier.ckpt.\n",
      "INFO:speechbrain.utils.fetching:Fetch label_encoder.txt: Using existing file/symlink in models/spkrec-ecapa-voxceleb/label_encoder.ckpt.\n",
      "INFO:speechbrain.utils.parameter_transfer:Loading pretrained files for: embedding_model, mean_var_norm_emb, classifier, label_encoder\n",
      "DEBUG:speechbrain.dataio.encoder:Loaded categorical encoding from models/spkrec-ecapa-voxceleb/label_encoder.ckpt\n"
     ]
    },
    {
     "name": "stderr",
     "output_type": "stream",
     "text": [
      "Map:  32%|███▏      | 32/100 [00:18<00:26,  2.57 examples/s]"
     ]
    },
    {
     "name": "stdout",
     "output_type": "stream",
     "text": [
      "INFO:speechbrain.utils.fetching:Fetch hyperparams.yaml: Using existing file/symlink in models/spkrec-ecapa-voxceleb/hyperparams.yaml.\n",
      "INFO:speechbrain.utils.fetching:Fetch custom.py: Delegating to Huggingface hub, source speechbrain/spkrec-ecapa-voxceleb.\n",
      "DEBUG:urllib3.connectionpool:https://huggingface.co:443 \"HEAD /speechbrain/spkrec-ecapa-voxceleb/resolve/main/custom.py HTTP/1.1\" 404 0\n",
      "DEBUG:speechbrain.utils.parameter_transfer:Collecting files (or symlinks) for pretraining in models/spkrec-ecapa-voxceleb.\n",
      "INFO:speechbrain.utils.fetching:Fetch embedding_model.ckpt: Using existing file/symlink in models/spkrec-ecapa-voxceleb/embedding_model.ckpt.\n",
      "INFO:speechbrain.utils.fetching:Fetch mean_var_norm_emb.ckpt: Using existing file/symlink in models/spkrec-ecapa-voxceleb/mean_var_norm_emb.ckpt.\n",
      "INFO:speechbrain.utils.fetching:Fetch classifier.ckpt: Using existing file/symlink in models/spkrec-ecapa-voxceleb/classifier.ckpt.\n",
      "INFO:speechbrain.utils.fetching:Fetch label_encoder.txt: Using existing file/symlink in models/spkrec-ecapa-voxceleb/label_encoder.ckpt.\n",
      "INFO:speechbrain.utils.parameter_transfer:Loading pretrained files for: embedding_model, mean_var_norm_emb, classifier, label_encoder\n",
      "DEBUG:speechbrain.dataio.encoder:Loaded categorical encoding from models/spkrec-ecapa-voxceleb/label_encoder.ckpt\n"
     ]
    },
    {
     "name": "stderr",
     "output_type": "stream",
     "text": [
      "Map:  33%|███▎      | 33/100 [00:19<00:24,  2.73 examples/s]"
     ]
    },
    {
     "name": "stdout",
     "output_type": "stream",
     "text": [
      "INFO:speechbrain.utils.fetching:Fetch hyperparams.yaml: Using existing file/symlink in models/spkrec-ecapa-voxceleb/hyperparams.yaml.\n",
      "INFO:speechbrain.utils.fetching:Fetch custom.py: Delegating to Huggingface hub, source speechbrain/spkrec-ecapa-voxceleb.\n",
      "DEBUG:urllib3.connectionpool:https://huggingface.co:443 \"HEAD /speechbrain/spkrec-ecapa-voxceleb/resolve/main/custom.py HTTP/1.1\" 404 0\n",
      "DEBUG:speechbrain.utils.parameter_transfer:Collecting files (or symlinks) for pretraining in models/spkrec-ecapa-voxceleb.\n",
      "INFO:speechbrain.utils.fetching:Fetch embedding_model.ckpt: Using existing file/symlink in models/spkrec-ecapa-voxceleb/embedding_model.ckpt.\n",
      "INFO:speechbrain.utils.fetching:Fetch mean_var_norm_emb.ckpt: Using existing file/symlink in models/spkrec-ecapa-voxceleb/mean_var_norm_emb.ckpt.\n",
      "INFO:speechbrain.utils.fetching:Fetch classifier.ckpt: Using existing file/symlink in models/spkrec-ecapa-voxceleb/classifier.ckpt.\n",
      "INFO:speechbrain.utils.fetching:Fetch label_encoder.txt: Using existing file/symlink in models/spkrec-ecapa-voxceleb/label_encoder.ckpt.\n",
      "INFO:speechbrain.utils.parameter_transfer:Loading pretrained files for: embedding_model, mean_var_norm_emb, classifier, label_encoder\n",
      "DEBUG:speechbrain.dataio.encoder:Loaded categorical encoding from models/spkrec-ecapa-voxceleb/label_encoder.ckpt\n"
     ]
    },
    {
     "name": "stderr",
     "output_type": "stream",
     "text": [
      "Map:  34%|███▍      | 34/100 [00:20<00:35,  1.84 examples/s]"
     ]
    },
    {
     "name": "stdout",
     "output_type": "stream",
     "text": [
      "INFO:speechbrain.utils.fetching:Fetch hyperparams.yaml: Using existing file/symlink in models/spkrec-ecapa-voxceleb/hyperparams.yaml.\n",
      "INFO:speechbrain.utils.fetching:Fetch custom.py: Delegating to Huggingface hub, source speechbrain/spkrec-ecapa-voxceleb.\n",
      "DEBUG:urllib3.connectionpool:https://huggingface.co:443 \"HEAD /speechbrain/spkrec-ecapa-voxceleb/resolve/main/custom.py HTTP/1.1\" 404 0\n",
      "DEBUG:speechbrain.utils.parameter_transfer:Collecting files (or symlinks) for pretraining in models/spkrec-ecapa-voxceleb.\n",
      "INFO:speechbrain.utils.fetching:Fetch embedding_model.ckpt: Using existing file/symlink in models/spkrec-ecapa-voxceleb/embedding_model.ckpt.\n",
      "INFO:speechbrain.utils.fetching:Fetch mean_var_norm_emb.ckpt: Using existing file/symlink in models/spkrec-ecapa-voxceleb/mean_var_norm_emb.ckpt.\n",
      "INFO:speechbrain.utils.fetching:Fetch classifier.ckpt: Using existing file/symlink in models/spkrec-ecapa-voxceleb/classifier.ckpt.\n",
      "INFO:speechbrain.utils.fetching:Fetch label_encoder.txt: Using existing file/symlink in models/spkrec-ecapa-voxceleb/label_encoder.ckpt.\n",
      "INFO:speechbrain.utils.parameter_transfer:Loading pretrained files for: embedding_model, mean_var_norm_emb, classifier, label_encoder\n",
      "DEBUG:speechbrain.dataio.encoder:Loaded categorical encoding from models/spkrec-ecapa-voxceleb/label_encoder.ckpt\n"
     ]
    },
    {
     "name": "stderr",
     "output_type": "stream",
     "text": [
      "Map:  35%|███▌      | 35/100 [00:20<00:37,  1.74 examples/s]"
     ]
    },
    {
     "name": "stdout",
     "output_type": "stream",
     "text": [
      "INFO:speechbrain.utils.fetching:Fetch hyperparams.yaml: Using existing file/symlink in models/spkrec-ecapa-voxceleb/hyperparams.yaml.\n",
      "INFO:speechbrain.utils.fetching:Fetch custom.py: Delegating to Huggingface hub, source speechbrain/spkrec-ecapa-voxceleb.\n",
      "DEBUG:urllib3.connectionpool:https://huggingface.co:443 \"HEAD /speechbrain/spkrec-ecapa-voxceleb/resolve/main/custom.py HTTP/1.1\" 404 0\n",
      "DEBUG:speechbrain.utils.parameter_transfer:Collecting files (or symlinks) for pretraining in models/spkrec-ecapa-voxceleb.\n",
      "INFO:speechbrain.utils.fetching:Fetch embedding_model.ckpt: Using existing file/symlink in models/spkrec-ecapa-voxceleb/embedding_model.ckpt.\n",
      "INFO:speechbrain.utils.fetching:Fetch mean_var_norm_emb.ckpt: Using existing file/symlink in models/spkrec-ecapa-voxceleb/mean_var_norm_emb.ckpt.\n",
      "INFO:speechbrain.utils.fetching:Fetch classifier.ckpt: Using existing file/symlink in models/spkrec-ecapa-voxceleb/classifier.ckpt.\n",
      "INFO:speechbrain.utils.fetching:Fetch label_encoder.txt: Using existing file/symlink in models/spkrec-ecapa-voxceleb/label_encoder.ckpt.\n",
      "INFO:speechbrain.utils.parameter_transfer:Loading pretrained files for: embedding_model, mean_var_norm_emb, classifier, label_encoder\n",
      "DEBUG:speechbrain.dataio.encoder:Loaded categorical encoding from models/spkrec-ecapa-voxceleb/label_encoder.ckpt\n"
     ]
    },
    {
     "name": "stderr",
     "output_type": "stream",
     "text": [
      "Map:  36%|███▌      | 36/100 [00:23<01:12,  1.14s/ examples]"
     ]
    },
    {
     "name": "stdout",
     "output_type": "stream",
     "text": [
      "INFO:speechbrain.utils.fetching:Fetch hyperparams.yaml: Using existing file/symlink in models/spkrec-ecapa-voxceleb/hyperparams.yaml.\n",
      "INFO:speechbrain.utils.fetching:Fetch custom.py: Delegating to Huggingface hub, source speechbrain/spkrec-ecapa-voxceleb.\n",
      "DEBUG:urllib3.connectionpool:https://huggingface.co:443 \"HEAD /speechbrain/spkrec-ecapa-voxceleb/resolve/main/custom.py HTTP/1.1\" 404 0\n",
      "DEBUG:speechbrain.utils.parameter_transfer:Collecting files (or symlinks) for pretraining in models/spkrec-ecapa-voxceleb.\n",
      "INFO:speechbrain.utils.fetching:Fetch embedding_model.ckpt: Using existing file/symlink in models/spkrec-ecapa-voxceleb/embedding_model.ckpt.\n",
      "INFO:speechbrain.utils.fetching:Fetch mean_var_norm_emb.ckpt: Using existing file/symlink in models/spkrec-ecapa-voxceleb/mean_var_norm_emb.ckpt.\n",
      "INFO:speechbrain.utils.fetching:Fetch classifier.ckpt: Using existing file/symlink in models/spkrec-ecapa-voxceleb/classifier.ckpt.\n",
      "INFO:speechbrain.utils.fetching:Fetch label_encoder.txt: Using existing file/symlink in models/spkrec-ecapa-voxceleb/label_encoder.ckpt.\n",
      "INFO:speechbrain.utils.parameter_transfer:Loading pretrained files for: embedding_model, mean_var_norm_emb, classifier, label_encoder\n",
      "DEBUG:speechbrain.dataio.encoder:Loaded categorical encoding from models/spkrec-ecapa-voxceleb/label_encoder.ckpt\n"
     ]
    },
    {
     "name": "stderr",
     "output_type": "stream",
     "text": [
      "Map:  37%|███▋      | 37/100 [00:24<01:10,  1.12s/ examples]"
     ]
    },
    {
     "name": "stdout",
     "output_type": "stream",
     "text": [
      "INFO:speechbrain.utils.fetching:Fetch hyperparams.yaml: Using existing file/symlink in models/spkrec-ecapa-voxceleb/hyperparams.yaml.\n",
      "INFO:speechbrain.utils.fetching:Fetch custom.py: Delegating to Huggingface hub, source speechbrain/spkrec-ecapa-voxceleb.\n",
      "DEBUG:urllib3.connectionpool:https://huggingface.co:443 \"HEAD /speechbrain/spkrec-ecapa-voxceleb/resolve/main/custom.py HTTP/1.1\" 404 0\n",
      "DEBUG:speechbrain.utils.parameter_transfer:Collecting files (or symlinks) for pretraining in models/spkrec-ecapa-voxceleb.\n",
      "INFO:speechbrain.utils.fetching:Fetch embedding_model.ckpt: Using existing file/symlink in models/spkrec-ecapa-voxceleb/embedding_model.ckpt.\n",
      "INFO:speechbrain.utils.fetching:Fetch mean_var_norm_emb.ckpt: Using existing file/symlink in models/spkrec-ecapa-voxceleb/mean_var_norm_emb.ckpt.\n",
      "INFO:speechbrain.utils.fetching:Fetch classifier.ckpt: Using existing file/symlink in models/spkrec-ecapa-voxceleb/classifier.ckpt.\n",
      "INFO:speechbrain.utils.fetching:Fetch label_encoder.txt: Using existing file/symlink in models/spkrec-ecapa-voxceleb/label_encoder.ckpt.\n",
      "INFO:speechbrain.utils.parameter_transfer:Loading pretrained files for: embedding_model, mean_var_norm_emb, classifier, label_encoder\n",
      "DEBUG:speechbrain.dataio.encoder:Loaded categorical encoding from models/spkrec-ecapa-voxceleb/label_encoder.ckpt\n"
     ]
    },
    {
     "name": "stderr",
     "output_type": "stream",
     "text": [
      "Map:  38%|███▊      | 38/100 [00:25<01:10,  1.14s/ examples]"
     ]
    },
    {
     "name": "stdout",
     "output_type": "stream",
     "text": [
      "INFO:speechbrain.utils.fetching:Fetch hyperparams.yaml: Using existing file/symlink in models/spkrec-ecapa-voxceleb/hyperparams.yaml.\n",
      "INFO:speechbrain.utils.fetching:Fetch custom.py: Delegating to Huggingface hub, source speechbrain/spkrec-ecapa-voxceleb.\n",
      "DEBUG:urllib3.connectionpool:https://huggingface.co:443 \"HEAD /speechbrain/spkrec-ecapa-voxceleb/resolve/main/custom.py HTTP/1.1\" 404 0\n",
      "DEBUG:speechbrain.utils.parameter_transfer:Collecting files (or symlinks) for pretraining in models/spkrec-ecapa-voxceleb.\n",
      "INFO:speechbrain.utils.fetching:Fetch embedding_model.ckpt: Using existing file/symlink in models/spkrec-ecapa-voxceleb/embedding_model.ckpt.\n",
      "INFO:speechbrain.utils.fetching:Fetch mean_var_norm_emb.ckpt: Using existing file/symlink in models/spkrec-ecapa-voxceleb/mean_var_norm_emb.ckpt.\n",
      "INFO:speechbrain.utils.fetching:Fetch classifier.ckpt: Using existing file/symlink in models/spkrec-ecapa-voxceleb/classifier.ckpt.\n",
      "INFO:speechbrain.utils.fetching:Fetch label_encoder.txt: Using existing file/symlink in models/spkrec-ecapa-voxceleb/label_encoder.ckpt.\n",
      "INFO:speechbrain.utils.parameter_transfer:Loading pretrained files for: embedding_model, mean_var_norm_emb, classifier, label_encoder\n",
      "DEBUG:speechbrain.dataio.encoder:Loaded categorical encoding from models/spkrec-ecapa-voxceleb/label_encoder.ckpt\n"
     ]
    },
    {
     "name": "stderr",
     "output_type": "stream",
     "text": [
      "Map:  39%|███▉      | 39/100 [00:26<01:01,  1.01s/ examples]"
     ]
    },
    {
     "name": "stdout",
     "output_type": "stream",
     "text": [
      "INFO:speechbrain.utils.fetching:Fetch hyperparams.yaml: Using existing file/symlink in models/spkrec-ecapa-voxceleb/hyperparams.yaml.\n",
      "INFO:speechbrain.utils.fetching:Fetch custom.py: Delegating to Huggingface hub, source speechbrain/spkrec-ecapa-voxceleb.\n",
      "DEBUG:urllib3.connectionpool:https://huggingface.co:443 \"HEAD /speechbrain/spkrec-ecapa-voxceleb/resolve/main/custom.py HTTP/1.1\" 404 0\n",
      "DEBUG:speechbrain.utils.parameter_transfer:Collecting files (or symlinks) for pretraining in models/spkrec-ecapa-voxceleb.\n",
      "INFO:speechbrain.utils.fetching:Fetch embedding_model.ckpt: Using existing file/symlink in models/spkrec-ecapa-voxceleb/embedding_model.ckpt.\n",
      "INFO:speechbrain.utils.fetching:Fetch mean_var_norm_emb.ckpt: Using existing file/symlink in models/spkrec-ecapa-voxceleb/mean_var_norm_emb.ckpt.\n",
      "INFO:speechbrain.utils.fetching:Fetch classifier.ckpt: Using existing file/symlink in models/spkrec-ecapa-voxceleb/classifier.ckpt.\n",
      "INFO:speechbrain.utils.fetching:Fetch label_encoder.txt: Using existing file/symlink in models/spkrec-ecapa-voxceleb/label_encoder.ckpt.\n",
      "INFO:speechbrain.utils.parameter_transfer:Loading pretrained files for: embedding_model, mean_var_norm_emb, classifier, label_encoder\n",
      "DEBUG:speechbrain.dataio.encoder:Loaded categorical encoding from models/spkrec-ecapa-voxceleb/label_encoder.ckpt\n"
     ]
    },
    {
     "name": "stderr",
     "output_type": "stream",
     "text": [
      "Map:  40%|████      | 40/100 [00:26<00:47,  1.25 examples/s]"
     ]
    },
    {
     "name": "stdout",
     "output_type": "stream",
     "text": [
      "INFO:speechbrain.utils.fetching:Fetch hyperparams.yaml: Using existing file/symlink in models/spkrec-ecapa-voxceleb/hyperparams.yaml.\n",
      "INFO:speechbrain.utils.fetching:Fetch custom.py: Delegating to Huggingface hub, source speechbrain/spkrec-ecapa-voxceleb.\n",
      "DEBUG:urllib3.connectionpool:https://huggingface.co:443 \"HEAD /speechbrain/spkrec-ecapa-voxceleb/resolve/main/custom.py HTTP/1.1\" 404 0\n",
      "DEBUG:speechbrain.utils.parameter_transfer:Collecting files (or symlinks) for pretraining in models/spkrec-ecapa-voxceleb.\n",
      "INFO:speechbrain.utils.fetching:Fetch embedding_model.ckpt: Using existing file/symlink in models/spkrec-ecapa-voxceleb/embedding_model.ckpt.\n",
      "INFO:speechbrain.utils.fetching:Fetch mean_var_norm_emb.ckpt: Using existing file/symlink in models/spkrec-ecapa-voxceleb/mean_var_norm_emb.ckpt.\n",
      "INFO:speechbrain.utils.fetching:Fetch classifier.ckpt: Using existing file/symlink in models/spkrec-ecapa-voxceleb/classifier.ckpt.\n",
      "INFO:speechbrain.utils.fetching:Fetch label_encoder.txt: Using existing file/symlink in models/spkrec-ecapa-voxceleb/label_encoder.ckpt.\n",
      "INFO:speechbrain.utils.parameter_transfer:Loading pretrained files for: embedding_model, mean_var_norm_emb, classifier, label_encoder\n",
      "DEBUG:speechbrain.dataio.encoder:Loaded categorical encoding from models/spkrec-ecapa-voxceleb/label_encoder.ckpt\n"
     ]
    },
    {
     "name": "stderr",
     "output_type": "stream",
     "text": [
      "Map:  41%|████      | 41/100 [00:26<00:40,  1.45 examples/s]"
     ]
    },
    {
     "name": "stdout",
     "output_type": "stream",
     "text": [
      "INFO:speechbrain.utils.fetching:Fetch hyperparams.yaml: Using existing file/symlink in models/spkrec-ecapa-voxceleb/hyperparams.yaml.\n",
      "INFO:speechbrain.utils.fetching:Fetch custom.py: Delegating to Huggingface hub, source speechbrain/spkrec-ecapa-voxceleb.\n",
      "DEBUG:urllib3.connectionpool:https://huggingface.co:443 \"HEAD /speechbrain/spkrec-ecapa-voxceleb/resolve/main/custom.py HTTP/1.1\" 404 0\n",
      "DEBUG:speechbrain.utils.parameter_transfer:Collecting files (or symlinks) for pretraining in models/spkrec-ecapa-voxceleb.\n",
      "INFO:speechbrain.utils.fetching:Fetch embedding_model.ckpt: Using existing file/symlink in models/spkrec-ecapa-voxceleb/embedding_model.ckpt.\n",
      "INFO:speechbrain.utils.fetching:Fetch mean_var_norm_emb.ckpt: Using existing file/symlink in models/spkrec-ecapa-voxceleb/mean_var_norm_emb.ckpt.\n",
      "INFO:speechbrain.utils.fetching:Fetch classifier.ckpt: Using existing file/symlink in models/spkrec-ecapa-voxceleb/classifier.ckpt.\n",
      "INFO:speechbrain.utils.fetching:Fetch label_encoder.txt: Using existing file/symlink in models/spkrec-ecapa-voxceleb/label_encoder.ckpt.\n",
      "INFO:speechbrain.utils.parameter_transfer:Loading pretrained files for: embedding_model, mean_var_norm_emb, classifier, label_encoder\n",
      "DEBUG:speechbrain.dataio.encoder:Loaded categorical encoding from models/spkrec-ecapa-voxceleb/label_encoder.ckpt\n"
     ]
    },
    {
     "name": "stderr",
     "output_type": "stream",
     "text": [
      "Map:  42%|████▏     | 42/100 [00:27<00:34,  1.66 examples/s]"
     ]
    },
    {
     "name": "stdout",
     "output_type": "stream",
     "text": [
      "INFO:speechbrain.utils.fetching:Fetch hyperparams.yaml: Using existing file/symlink in models/spkrec-ecapa-voxceleb/hyperparams.yaml.\n",
      "INFO:speechbrain.utils.fetching:Fetch custom.py: Delegating to Huggingface hub, source speechbrain/spkrec-ecapa-voxceleb.\n",
      "DEBUG:urllib3.connectionpool:https://huggingface.co:443 \"HEAD /speechbrain/spkrec-ecapa-voxceleb/resolve/main/custom.py HTTP/1.1\" 404 0\n",
      "DEBUG:speechbrain.utils.parameter_transfer:Collecting files (or symlinks) for pretraining in models/spkrec-ecapa-voxceleb.\n",
      "INFO:speechbrain.utils.fetching:Fetch embedding_model.ckpt: Using existing file/symlink in models/spkrec-ecapa-voxceleb/embedding_model.ckpt.\n",
      "INFO:speechbrain.utils.fetching:Fetch mean_var_norm_emb.ckpt: Using existing file/symlink in models/spkrec-ecapa-voxceleb/mean_var_norm_emb.ckpt.\n",
      "INFO:speechbrain.utils.fetching:Fetch classifier.ckpt: Using existing file/symlink in models/spkrec-ecapa-voxceleb/classifier.ckpt.\n",
      "INFO:speechbrain.utils.fetching:Fetch label_encoder.txt: Using existing file/symlink in models/spkrec-ecapa-voxceleb/label_encoder.ckpt.\n",
      "INFO:speechbrain.utils.parameter_transfer:Loading pretrained files for: embedding_model, mean_var_norm_emb, classifier, label_encoder\n",
      "DEBUG:speechbrain.dataio.encoder:Loaded categorical encoding from models/spkrec-ecapa-voxceleb/label_encoder.ckpt\n"
     ]
    },
    {
     "name": "stderr",
     "output_type": "stream",
     "text": [
      "Map:  43%|████▎     | 43/100 [00:27<00:31,  1.83 examples/s]"
     ]
    },
    {
     "name": "stdout",
     "output_type": "stream",
     "text": [
      "INFO:speechbrain.utils.fetching:Fetch hyperparams.yaml: Using existing file/symlink in models/spkrec-ecapa-voxceleb/hyperparams.yaml.\n",
      "INFO:speechbrain.utils.fetching:Fetch custom.py: Delegating to Huggingface hub, source speechbrain/spkrec-ecapa-voxceleb.\n",
      "DEBUG:urllib3.connectionpool:https://huggingface.co:443 \"HEAD /speechbrain/spkrec-ecapa-voxceleb/resolve/main/custom.py HTTP/1.1\" 404 0\n",
      "DEBUG:speechbrain.utils.parameter_transfer:Collecting files (or symlinks) for pretraining in models/spkrec-ecapa-voxceleb.\n",
      "INFO:speechbrain.utils.fetching:Fetch embedding_model.ckpt: Using existing file/symlink in models/spkrec-ecapa-voxceleb/embedding_model.ckpt.\n",
      "INFO:speechbrain.utils.fetching:Fetch mean_var_norm_emb.ckpt: Using existing file/symlink in models/spkrec-ecapa-voxceleb/mean_var_norm_emb.ckpt.\n",
      "INFO:speechbrain.utils.fetching:Fetch classifier.ckpt: Using existing file/symlink in models/spkrec-ecapa-voxceleb/classifier.ckpt.\n",
      "INFO:speechbrain.utils.fetching:Fetch label_encoder.txt: Using existing file/symlink in models/spkrec-ecapa-voxceleb/label_encoder.ckpt.\n",
      "INFO:speechbrain.utils.parameter_transfer:Loading pretrained files for: embedding_model, mean_var_norm_emb, classifier, label_encoder\n",
      "DEBUG:speechbrain.dataio.encoder:Loaded categorical encoding from models/spkrec-ecapa-voxceleb/label_encoder.ckpt\n"
     ]
    },
    {
     "name": "stderr",
     "output_type": "stream",
     "text": [
      "Map:  44%|████▍     | 44/100 [00:28<00:26,  2.10 examples/s]"
     ]
    },
    {
     "name": "stdout",
     "output_type": "stream",
     "text": [
      "INFO:speechbrain.utils.fetching:Fetch hyperparams.yaml: Using existing file/symlink in models/spkrec-ecapa-voxceleb/hyperparams.yaml.\n",
      "INFO:speechbrain.utils.fetching:Fetch custom.py: Delegating to Huggingface hub, source speechbrain/spkrec-ecapa-voxceleb.\n",
      "DEBUG:urllib3.connectionpool:https://huggingface.co:443 \"HEAD /speechbrain/spkrec-ecapa-voxceleb/resolve/main/custom.py HTTP/1.1\" 404 0\n",
      "DEBUG:speechbrain.utils.parameter_transfer:Collecting files (or symlinks) for pretraining in models/spkrec-ecapa-voxceleb.\n",
      "INFO:speechbrain.utils.fetching:Fetch embedding_model.ckpt: Using existing file/symlink in models/spkrec-ecapa-voxceleb/embedding_model.ckpt.\n",
      "INFO:speechbrain.utils.fetching:Fetch mean_var_norm_emb.ckpt: Using existing file/symlink in models/spkrec-ecapa-voxceleb/mean_var_norm_emb.ckpt.\n",
      "INFO:speechbrain.utils.fetching:Fetch classifier.ckpt: Using existing file/symlink in models/spkrec-ecapa-voxceleb/classifier.ckpt.\n",
      "INFO:speechbrain.utils.fetching:Fetch label_encoder.txt: Using existing file/symlink in models/spkrec-ecapa-voxceleb/label_encoder.ckpt.\n",
      "INFO:speechbrain.utils.parameter_transfer:Loading pretrained files for: embedding_model, mean_var_norm_emb, classifier, label_encoder\n",
      "DEBUG:speechbrain.dataio.encoder:Loaded categorical encoding from models/spkrec-ecapa-voxceleb/label_encoder.ckpt\n"
     ]
    },
    {
     "name": "stderr",
     "output_type": "stream",
     "text": [
      "Map:  45%|████▌     | 45/100 [00:28<00:26,  2.11 examples/s]"
     ]
    },
    {
     "name": "stdout",
     "output_type": "stream",
     "text": [
      "INFO:speechbrain.utils.fetching:Fetch hyperparams.yaml: Using existing file/symlink in models/spkrec-ecapa-voxceleb/hyperparams.yaml.\n",
      "INFO:speechbrain.utils.fetching:Fetch custom.py: Delegating to Huggingface hub, source speechbrain/spkrec-ecapa-voxceleb.\n",
      "DEBUG:urllib3.connectionpool:https://huggingface.co:443 \"HEAD /speechbrain/spkrec-ecapa-voxceleb/resolve/main/custom.py HTTP/1.1\" 404 0\n",
      "DEBUG:speechbrain.utils.parameter_transfer:Collecting files (or symlinks) for pretraining in models/spkrec-ecapa-voxceleb.\n",
      "INFO:speechbrain.utils.fetching:Fetch embedding_model.ckpt: Using existing file/symlink in models/spkrec-ecapa-voxceleb/embedding_model.ckpt.\n",
      "INFO:speechbrain.utils.fetching:Fetch mean_var_norm_emb.ckpt: Using existing file/symlink in models/spkrec-ecapa-voxceleb/mean_var_norm_emb.ckpt.\n",
      "INFO:speechbrain.utils.fetching:Fetch classifier.ckpt: Using existing file/symlink in models/spkrec-ecapa-voxceleb/classifier.ckpt.\n",
      "INFO:speechbrain.utils.fetching:Fetch label_encoder.txt: Using existing file/symlink in models/spkrec-ecapa-voxceleb/label_encoder.ckpt.\n",
      "INFO:speechbrain.utils.parameter_transfer:Loading pretrained files for: embedding_model, mean_var_norm_emb, classifier, label_encoder\n",
      "DEBUG:speechbrain.dataio.encoder:Loaded categorical encoding from models/spkrec-ecapa-voxceleb/label_encoder.ckpt\n"
     ]
    },
    {
     "name": "stderr",
     "output_type": "stream",
     "text": [
      "Map:  46%|████▌     | 46/100 [00:28<00:23,  2.30 examples/s]"
     ]
    },
    {
     "name": "stdout",
     "output_type": "stream",
     "text": [
      "INFO:speechbrain.utils.fetching:Fetch hyperparams.yaml: Using existing file/symlink in models/spkrec-ecapa-voxceleb/hyperparams.yaml.\n",
      "INFO:speechbrain.utils.fetching:Fetch custom.py: Delegating to Huggingface hub, source speechbrain/spkrec-ecapa-voxceleb.\n",
      "DEBUG:urllib3.connectionpool:https://huggingface.co:443 \"HEAD /speechbrain/spkrec-ecapa-voxceleb/resolve/main/custom.py HTTP/1.1\" 404 0\n",
      "DEBUG:speechbrain.utils.parameter_transfer:Collecting files (or symlinks) for pretraining in models/spkrec-ecapa-voxceleb.\n",
      "INFO:speechbrain.utils.fetching:Fetch embedding_model.ckpt: Using existing file/symlink in models/spkrec-ecapa-voxceleb/embedding_model.ckpt.\n",
      "INFO:speechbrain.utils.fetching:Fetch mean_var_norm_emb.ckpt: Using existing file/symlink in models/spkrec-ecapa-voxceleb/mean_var_norm_emb.ckpt.\n",
      "INFO:speechbrain.utils.fetching:Fetch classifier.ckpt: Using existing file/symlink in models/spkrec-ecapa-voxceleb/classifier.ckpt.\n",
      "INFO:speechbrain.utils.fetching:Fetch label_encoder.txt: Using existing file/symlink in models/spkrec-ecapa-voxceleb/label_encoder.ckpt.\n",
      "INFO:speechbrain.utils.parameter_transfer:Loading pretrained files for: embedding_model, mean_var_norm_emb, classifier, label_encoder\n",
      "DEBUG:speechbrain.dataio.encoder:Loaded categorical encoding from models/spkrec-ecapa-voxceleb/label_encoder.ckpt\n"
     ]
    },
    {
     "name": "stderr",
     "output_type": "stream",
     "text": [
      "Map:  47%|████▋     | 47/100 [00:29<00:21,  2.48 examples/s]"
     ]
    },
    {
     "name": "stdout",
     "output_type": "stream",
     "text": [
      "INFO:speechbrain.utils.fetching:Fetch hyperparams.yaml: Using existing file/symlink in models/spkrec-ecapa-voxceleb/hyperparams.yaml.\n",
      "INFO:speechbrain.utils.fetching:Fetch custom.py: Delegating to Huggingface hub, source speechbrain/spkrec-ecapa-voxceleb.\n",
      "DEBUG:urllib3.connectionpool:https://huggingface.co:443 \"HEAD /speechbrain/spkrec-ecapa-voxceleb/resolve/main/custom.py HTTP/1.1\" 404 0\n",
      "DEBUG:speechbrain.utils.parameter_transfer:Collecting files (or symlinks) for pretraining in models/spkrec-ecapa-voxceleb.\n",
      "INFO:speechbrain.utils.fetching:Fetch embedding_model.ckpt: Using existing file/symlink in models/spkrec-ecapa-voxceleb/embedding_model.ckpt.\n",
      "INFO:speechbrain.utils.fetching:Fetch mean_var_norm_emb.ckpt: Using existing file/symlink in models/spkrec-ecapa-voxceleb/mean_var_norm_emb.ckpt.\n",
      "INFO:speechbrain.utils.fetching:Fetch classifier.ckpt: Using existing file/symlink in models/spkrec-ecapa-voxceleb/classifier.ckpt.\n",
      "INFO:speechbrain.utils.fetching:Fetch label_encoder.txt: Using existing file/symlink in models/spkrec-ecapa-voxceleb/label_encoder.ckpt.\n",
      "INFO:speechbrain.utils.parameter_transfer:Loading pretrained files for: embedding_model, mean_var_norm_emb, classifier, label_encoder\n",
      "DEBUG:speechbrain.dataio.encoder:Loaded categorical encoding from models/spkrec-ecapa-voxceleb/label_encoder.ckpt\n"
     ]
    },
    {
     "name": "stderr",
     "output_type": "stream",
     "text": [
      "Map:  48%|████▊     | 48/100 [00:29<00:19,  2.68 examples/s]"
     ]
    },
    {
     "name": "stdout",
     "output_type": "stream",
     "text": [
      "INFO:speechbrain.utils.fetching:Fetch hyperparams.yaml: Using existing file/symlink in models/spkrec-ecapa-voxceleb/hyperparams.yaml.\n",
      "INFO:speechbrain.utils.fetching:Fetch custom.py: Delegating to Huggingface hub, source speechbrain/spkrec-ecapa-voxceleb.\n",
      "DEBUG:urllib3.connectionpool:https://huggingface.co:443 \"HEAD /speechbrain/spkrec-ecapa-voxceleb/resolve/main/custom.py HTTP/1.1\" 404 0\n",
      "DEBUG:speechbrain.utils.parameter_transfer:Collecting files (or symlinks) for pretraining in models/spkrec-ecapa-voxceleb.\n",
      "INFO:speechbrain.utils.fetching:Fetch embedding_model.ckpt: Using existing file/symlink in models/spkrec-ecapa-voxceleb/embedding_model.ckpt.\n",
      "INFO:speechbrain.utils.fetching:Fetch mean_var_norm_emb.ckpt: Using existing file/symlink in models/spkrec-ecapa-voxceleb/mean_var_norm_emb.ckpt.\n",
      "INFO:speechbrain.utils.fetching:Fetch classifier.ckpt: Using existing file/symlink in models/spkrec-ecapa-voxceleb/classifier.ckpt.\n",
      "INFO:speechbrain.utils.fetching:Fetch label_encoder.txt: Using existing file/symlink in models/spkrec-ecapa-voxceleb/label_encoder.ckpt.\n",
      "INFO:speechbrain.utils.parameter_transfer:Loading pretrained files for: embedding_model, mean_var_norm_emb, classifier, label_encoder\n",
      "DEBUG:speechbrain.dataio.encoder:Loaded categorical encoding from models/spkrec-ecapa-voxceleb/label_encoder.ckpt\n"
     ]
    },
    {
     "name": "stderr",
     "output_type": "stream",
     "text": [
      "Map:  49%|████▉     | 49/100 [00:30<00:32,  1.55 examples/s]"
     ]
    },
    {
     "name": "stdout",
     "output_type": "stream",
     "text": [
      "INFO:speechbrain.utils.fetching:Fetch hyperparams.yaml: Using existing file/symlink in models/spkrec-ecapa-voxceleb/hyperparams.yaml.\n",
      "INFO:speechbrain.utils.fetching:Fetch custom.py: Delegating to Huggingface hub, source speechbrain/spkrec-ecapa-voxceleb.\n",
      "DEBUG:urllib3.connectionpool:https://huggingface.co:443 \"HEAD /speechbrain/spkrec-ecapa-voxceleb/resolve/main/custom.py HTTP/1.1\" 404 0\n",
      "DEBUG:speechbrain.utils.parameter_transfer:Collecting files (or symlinks) for pretraining in models/spkrec-ecapa-voxceleb.\n",
      "INFO:speechbrain.utils.fetching:Fetch embedding_model.ckpt: Using existing file/symlink in models/spkrec-ecapa-voxceleb/embedding_model.ckpt.\n",
      "INFO:speechbrain.utils.fetching:Fetch mean_var_norm_emb.ckpt: Using existing file/symlink in models/spkrec-ecapa-voxceleb/mean_var_norm_emb.ckpt.\n",
      "INFO:speechbrain.utils.fetching:Fetch classifier.ckpt: Using existing file/symlink in models/spkrec-ecapa-voxceleb/classifier.ckpt.\n",
      "INFO:speechbrain.utils.fetching:Fetch label_encoder.txt: Using existing file/symlink in models/spkrec-ecapa-voxceleb/label_encoder.ckpt.\n",
      "INFO:speechbrain.utils.parameter_transfer:Loading pretrained files for: embedding_model, mean_var_norm_emb, classifier, label_encoder\n",
      "DEBUG:speechbrain.dataio.encoder:Loaded categorical encoding from models/spkrec-ecapa-voxceleb/label_encoder.ckpt\n"
     ]
    },
    {
     "name": "stderr",
     "output_type": "stream",
     "text": [
      "Map:  50%|█████     | 50/100 [00:32<00:47,  1.05 examples/s]"
     ]
    },
    {
     "name": "stdout",
     "output_type": "stream",
     "text": [
      "INFO:speechbrain.utils.fetching:Fetch hyperparams.yaml: Using existing file/symlink in models/spkrec-ecapa-voxceleb/hyperparams.yaml.\n",
      "INFO:speechbrain.utils.fetching:Fetch custom.py: Delegating to Huggingface hub, source speechbrain/spkrec-ecapa-voxceleb.\n",
      "DEBUG:urllib3.connectionpool:https://huggingface.co:443 \"HEAD /speechbrain/spkrec-ecapa-voxceleb/resolve/main/custom.py HTTP/1.1\" 404 0\n",
      "DEBUG:speechbrain.utils.parameter_transfer:Collecting files (or symlinks) for pretraining in models/spkrec-ecapa-voxceleb.\n",
      "INFO:speechbrain.utils.fetching:Fetch embedding_model.ckpt: Using existing file/symlink in models/spkrec-ecapa-voxceleb/embedding_model.ckpt.\n",
      "INFO:speechbrain.utils.fetching:Fetch mean_var_norm_emb.ckpt: Using existing file/symlink in models/spkrec-ecapa-voxceleb/mean_var_norm_emb.ckpt.\n",
      "INFO:speechbrain.utils.fetching:Fetch classifier.ckpt: Using existing file/symlink in models/spkrec-ecapa-voxceleb/classifier.ckpt.\n",
      "INFO:speechbrain.utils.fetching:Fetch label_encoder.txt: Using existing file/symlink in models/spkrec-ecapa-voxceleb/label_encoder.ckpt.\n",
      "INFO:speechbrain.utils.parameter_transfer:Loading pretrained files for: embedding_model, mean_var_norm_emb, classifier, label_encoder\n",
      "DEBUG:speechbrain.dataio.encoder:Loaded categorical encoding from models/spkrec-ecapa-voxceleb/label_encoder.ckpt\n"
     ]
    },
    {
     "name": "stderr",
     "output_type": "stream",
     "text": [
      "Map:  51%|█████     | 51/100 [00:33<00:52,  1.08s/ examples]"
     ]
    },
    {
     "name": "stdout",
     "output_type": "stream",
     "text": [
      "INFO:speechbrain.utils.fetching:Fetch hyperparams.yaml: Using existing file/symlink in models/spkrec-ecapa-voxceleb/hyperparams.yaml.\n",
      "INFO:speechbrain.utils.fetching:Fetch custom.py: Delegating to Huggingface hub, source speechbrain/spkrec-ecapa-voxceleb.\n",
      "DEBUG:urllib3.connectionpool:https://huggingface.co:443 \"HEAD /speechbrain/spkrec-ecapa-voxceleb/resolve/main/custom.py HTTP/1.1\" 404 0\n",
      "DEBUG:speechbrain.utils.parameter_transfer:Collecting files (or symlinks) for pretraining in models/spkrec-ecapa-voxceleb.\n",
      "INFO:speechbrain.utils.fetching:Fetch embedding_model.ckpt: Using existing file/symlink in models/spkrec-ecapa-voxceleb/embedding_model.ckpt.\n",
      "INFO:speechbrain.utils.fetching:Fetch mean_var_norm_emb.ckpt: Using existing file/symlink in models/spkrec-ecapa-voxceleb/mean_var_norm_emb.ckpt.\n",
      "INFO:speechbrain.utils.fetching:Fetch classifier.ckpt: Using existing file/symlink in models/spkrec-ecapa-voxceleb/classifier.ckpt.\n",
      "INFO:speechbrain.utils.fetching:Fetch label_encoder.txt: Using existing file/symlink in models/spkrec-ecapa-voxceleb/label_encoder.ckpt.\n",
      "INFO:speechbrain.utils.parameter_transfer:Loading pretrained files for: embedding_model, mean_var_norm_emb, classifier, label_encoder\n",
      "DEBUG:speechbrain.dataio.encoder:Loaded categorical encoding from models/spkrec-ecapa-voxceleb/label_encoder.ckpt\n"
     ]
    },
    {
     "name": "stderr",
     "output_type": "stream",
     "text": [
      "Map:  52%|█████▏    | 52/100 [00:34<00:50,  1.06s/ examples]"
     ]
    },
    {
     "name": "stdout",
     "output_type": "stream",
     "text": [
      "INFO:speechbrain.utils.fetching:Fetch hyperparams.yaml: Using existing file/symlink in models/spkrec-ecapa-voxceleb/hyperparams.yaml.\n",
      "INFO:speechbrain.utils.fetching:Fetch custom.py: Delegating to Huggingface hub, source speechbrain/spkrec-ecapa-voxceleb.\n",
      "DEBUG:urllib3.connectionpool:https://huggingface.co:443 \"HEAD /speechbrain/spkrec-ecapa-voxceleb/resolve/main/custom.py HTTP/1.1\" 404 0\n",
      "DEBUG:speechbrain.utils.parameter_transfer:Collecting files (or symlinks) for pretraining in models/spkrec-ecapa-voxceleb.\n",
      "INFO:speechbrain.utils.fetching:Fetch embedding_model.ckpt: Using existing file/symlink in models/spkrec-ecapa-voxceleb/embedding_model.ckpt.\n",
      "INFO:speechbrain.utils.fetching:Fetch mean_var_norm_emb.ckpt: Using existing file/symlink in models/spkrec-ecapa-voxceleb/mean_var_norm_emb.ckpt.\n",
      "INFO:speechbrain.utils.fetching:Fetch classifier.ckpt: Using existing file/symlink in models/spkrec-ecapa-voxceleb/classifier.ckpt.\n",
      "INFO:speechbrain.utils.fetching:Fetch label_encoder.txt: Using existing file/symlink in models/spkrec-ecapa-voxceleb/label_encoder.ckpt.\n",
      "INFO:speechbrain.utils.parameter_transfer:Loading pretrained files for: embedding_model, mean_var_norm_emb, classifier, label_encoder\n",
      "DEBUG:speechbrain.dataio.encoder:Loaded categorical encoding from models/spkrec-ecapa-voxceleb/label_encoder.ckpt\n"
     ]
    },
    {
     "name": "stderr",
     "output_type": "stream",
     "text": [
      "Map:  53%|█████▎    | 53/100 [00:35<00:41,  1.14 examples/s]"
     ]
    },
    {
     "name": "stdout",
     "output_type": "stream",
     "text": [
      "INFO:speechbrain.utils.fetching:Fetch hyperparams.yaml: Using existing file/symlink in models/spkrec-ecapa-voxceleb/hyperparams.yaml.\n",
      "INFO:speechbrain.utils.fetching:Fetch custom.py: Delegating to Huggingface hub, source speechbrain/spkrec-ecapa-voxceleb.\n",
      "DEBUG:urllib3.connectionpool:https://huggingface.co:443 \"HEAD /speechbrain/spkrec-ecapa-voxceleb/resolve/main/custom.py HTTP/1.1\" 404 0\n",
      "DEBUG:speechbrain.utils.parameter_transfer:Collecting files (or symlinks) for pretraining in models/spkrec-ecapa-voxceleb.\n",
      "INFO:speechbrain.utils.fetching:Fetch embedding_model.ckpt: Using existing file/symlink in models/spkrec-ecapa-voxceleb/embedding_model.ckpt.\n",
      "INFO:speechbrain.utils.fetching:Fetch mean_var_norm_emb.ckpt: Using existing file/symlink in models/spkrec-ecapa-voxceleb/mean_var_norm_emb.ckpt.\n",
      "INFO:speechbrain.utils.fetching:Fetch classifier.ckpt: Using existing file/symlink in models/spkrec-ecapa-voxceleb/classifier.ckpt.\n",
      "INFO:speechbrain.utils.fetching:Fetch label_encoder.txt: Using existing file/symlink in models/spkrec-ecapa-voxceleb/label_encoder.ckpt.\n",
      "INFO:speechbrain.utils.parameter_transfer:Loading pretrained files for: embedding_model, mean_var_norm_emb, classifier, label_encoder\n",
      "DEBUG:speechbrain.dataio.encoder:Loaded categorical encoding from models/spkrec-ecapa-voxceleb/label_encoder.ckpt\n"
     ]
    },
    {
     "name": "stderr",
     "output_type": "stream",
     "text": [
      "Map:  54%|█████▍    | 54/100 [00:35<00:32,  1.40 examples/s]"
     ]
    },
    {
     "name": "stdout",
     "output_type": "stream",
     "text": [
      "INFO:speechbrain.utils.fetching:Fetch hyperparams.yaml: Using existing file/symlink in models/spkrec-ecapa-voxceleb/hyperparams.yaml.\n",
      "INFO:speechbrain.utils.fetching:Fetch custom.py: Delegating to Huggingface hub, source speechbrain/spkrec-ecapa-voxceleb.\n",
      "DEBUG:urllib3.connectionpool:https://huggingface.co:443 \"HEAD /speechbrain/spkrec-ecapa-voxceleb/resolve/main/custom.py HTTP/1.1\" 404 0\n",
      "DEBUG:speechbrain.utils.parameter_transfer:Collecting files (or symlinks) for pretraining in models/spkrec-ecapa-voxceleb.\n",
      "INFO:speechbrain.utils.fetching:Fetch embedding_model.ckpt: Using existing file/symlink in models/spkrec-ecapa-voxceleb/embedding_model.ckpt.\n",
      "INFO:speechbrain.utils.fetching:Fetch mean_var_norm_emb.ckpt: Using existing file/symlink in models/spkrec-ecapa-voxceleb/mean_var_norm_emb.ckpt.\n",
      "INFO:speechbrain.utils.fetching:Fetch classifier.ckpt: Using existing file/symlink in models/spkrec-ecapa-voxceleb/classifier.ckpt.\n",
      "INFO:speechbrain.utils.fetching:Fetch label_encoder.txt: Using existing file/symlink in models/spkrec-ecapa-voxceleb/label_encoder.ckpt.\n",
      "INFO:speechbrain.utils.parameter_transfer:Loading pretrained files for: embedding_model, mean_var_norm_emb, classifier, label_encoder\n",
      "DEBUG:speechbrain.dataio.encoder:Loaded categorical encoding from models/spkrec-ecapa-voxceleb/label_encoder.ckpt\n"
     ]
    },
    {
     "name": "stderr",
     "output_type": "stream",
     "text": [
      "Map:  55%|█████▌    | 55/100 [00:36<00:32,  1.40 examples/s]"
     ]
    },
    {
     "name": "stdout",
     "output_type": "stream",
     "text": [
      "INFO:speechbrain.utils.fetching:Fetch hyperparams.yaml: Using existing file/symlink in models/spkrec-ecapa-voxceleb/hyperparams.yaml.\n",
      "INFO:speechbrain.utils.fetching:Fetch custom.py: Delegating to Huggingface hub, source speechbrain/spkrec-ecapa-voxceleb.\n",
      "DEBUG:urllib3.connectionpool:https://huggingface.co:443 \"HEAD /speechbrain/spkrec-ecapa-voxceleb/resolve/main/custom.py HTTP/1.1\" 404 0\n",
      "DEBUG:speechbrain.utils.parameter_transfer:Collecting files (or symlinks) for pretraining in models/spkrec-ecapa-voxceleb.\n",
      "INFO:speechbrain.utils.fetching:Fetch embedding_model.ckpt: Using existing file/symlink in models/spkrec-ecapa-voxceleb/embedding_model.ckpt.\n",
      "INFO:speechbrain.utils.fetching:Fetch mean_var_norm_emb.ckpt: Using existing file/symlink in models/spkrec-ecapa-voxceleb/mean_var_norm_emb.ckpt.\n",
      "INFO:speechbrain.utils.fetching:Fetch classifier.ckpt: Using existing file/symlink in models/spkrec-ecapa-voxceleb/classifier.ckpt.\n",
      "INFO:speechbrain.utils.fetching:Fetch label_encoder.txt: Using existing file/symlink in models/spkrec-ecapa-voxceleb/label_encoder.ckpt.\n",
      "INFO:speechbrain.utils.parameter_transfer:Loading pretrained files for: embedding_model, mean_var_norm_emb, classifier, label_encoder\n",
      "DEBUG:speechbrain.dataio.encoder:Loaded categorical encoding from models/spkrec-ecapa-voxceleb/label_encoder.ckpt\n"
     ]
    },
    {
     "name": "stderr",
     "output_type": "stream",
     "text": [
      "Map:  56%|█████▌    | 56/100 [00:36<00:25,  1.69 examples/s]"
     ]
    },
    {
     "name": "stdout",
     "output_type": "stream",
     "text": [
      "INFO:speechbrain.utils.fetching:Fetch hyperparams.yaml: Using existing file/symlink in models/spkrec-ecapa-voxceleb/hyperparams.yaml.\n",
      "INFO:speechbrain.utils.fetching:Fetch custom.py: Delegating to Huggingface hub, source speechbrain/spkrec-ecapa-voxceleb.\n",
      "DEBUG:urllib3.connectionpool:https://huggingface.co:443 \"HEAD /speechbrain/spkrec-ecapa-voxceleb/resolve/main/custom.py HTTP/1.1\" 404 0\n",
      "DEBUG:speechbrain.utils.parameter_transfer:Collecting files (or symlinks) for pretraining in models/spkrec-ecapa-voxceleb.\n",
      "INFO:speechbrain.utils.fetching:Fetch embedding_model.ckpt: Using existing file/symlink in models/spkrec-ecapa-voxceleb/embedding_model.ckpt.\n",
      "INFO:speechbrain.utils.fetching:Fetch mean_var_norm_emb.ckpt: Using existing file/symlink in models/spkrec-ecapa-voxceleb/mean_var_norm_emb.ckpt.\n",
      "INFO:speechbrain.utils.fetching:Fetch classifier.ckpt: Using existing file/symlink in models/spkrec-ecapa-voxceleb/classifier.ckpt.\n",
      "INFO:speechbrain.utils.fetching:Fetch label_encoder.txt: Using existing file/symlink in models/spkrec-ecapa-voxceleb/label_encoder.ckpt.\n",
      "INFO:speechbrain.utils.parameter_transfer:Loading pretrained files for: embedding_model, mean_var_norm_emb, classifier, label_encoder\n",
      "DEBUG:speechbrain.dataio.encoder:Loaded categorical encoding from models/spkrec-ecapa-voxceleb/label_encoder.ckpt\n"
     ]
    },
    {
     "name": "stderr",
     "output_type": "stream",
     "text": [
      "Map:  57%|█████▋    | 57/100 [00:37<00:26,  1.64 examples/s]"
     ]
    },
    {
     "name": "stdout",
     "output_type": "stream",
     "text": [
      "INFO:speechbrain.utils.fetching:Fetch hyperparams.yaml: Using existing file/symlink in models/spkrec-ecapa-voxceleb/hyperparams.yaml.\n",
      "INFO:speechbrain.utils.fetching:Fetch custom.py: Delegating to Huggingface hub, source speechbrain/spkrec-ecapa-voxceleb.\n",
      "DEBUG:urllib3.connectionpool:https://huggingface.co:443 \"HEAD /speechbrain/spkrec-ecapa-voxceleb/resolve/main/custom.py HTTP/1.1\" 404 0\n",
      "DEBUG:speechbrain.utils.parameter_transfer:Collecting files (or symlinks) for pretraining in models/spkrec-ecapa-voxceleb.\n",
      "INFO:speechbrain.utils.fetching:Fetch embedding_model.ckpt: Using existing file/symlink in models/spkrec-ecapa-voxceleb/embedding_model.ckpt.\n",
      "INFO:speechbrain.utils.fetching:Fetch mean_var_norm_emb.ckpt: Using existing file/symlink in models/spkrec-ecapa-voxceleb/mean_var_norm_emb.ckpt.\n",
      "INFO:speechbrain.utils.fetching:Fetch classifier.ckpt: Using existing file/symlink in models/spkrec-ecapa-voxceleb/classifier.ckpt.\n",
      "INFO:speechbrain.utils.fetching:Fetch label_encoder.txt: Using existing file/symlink in models/spkrec-ecapa-voxceleb/label_encoder.ckpt.\n",
      "INFO:speechbrain.utils.parameter_transfer:Loading pretrained files for: embedding_model, mean_var_norm_emb, classifier, label_encoder\n",
      "DEBUG:speechbrain.dataio.encoder:Loaded categorical encoding from models/spkrec-ecapa-voxceleb/label_encoder.ckpt\n"
     ]
    },
    {
     "name": "stderr",
     "output_type": "stream",
     "text": [
      "Map:  58%|█████▊    | 58/100 [00:37<00:21,  1.93 examples/s]"
     ]
    },
    {
     "name": "stdout",
     "output_type": "stream",
     "text": [
      "INFO:speechbrain.utils.fetching:Fetch hyperparams.yaml: Using existing file/symlink in models/spkrec-ecapa-voxceleb/hyperparams.yaml.\n",
      "INFO:speechbrain.utils.fetching:Fetch custom.py: Delegating to Huggingface hub, source speechbrain/spkrec-ecapa-voxceleb.\n",
      "DEBUG:urllib3.connectionpool:https://huggingface.co:443 \"HEAD /speechbrain/spkrec-ecapa-voxceleb/resolve/main/custom.py HTTP/1.1\" 404 0\n",
      "DEBUG:speechbrain.utils.parameter_transfer:Collecting files (or symlinks) for pretraining in models/spkrec-ecapa-voxceleb.\n",
      "INFO:speechbrain.utils.fetching:Fetch embedding_model.ckpt: Using existing file/symlink in models/spkrec-ecapa-voxceleb/embedding_model.ckpt.\n",
      "INFO:speechbrain.utils.fetching:Fetch mean_var_norm_emb.ckpt: Using existing file/symlink in models/spkrec-ecapa-voxceleb/mean_var_norm_emb.ckpt.\n",
      "INFO:speechbrain.utils.fetching:Fetch classifier.ckpt: Using existing file/symlink in models/spkrec-ecapa-voxceleb/classifier.ckpt.\n",
      "INFO:speechbrain.utils.fetching:Fetch label_encoder.txt: Using existing file/symlink in models/spkrec-ecapa-voxceleb/label_encoder.ckpt.\n",
      "INFO:speechbrain.utils.parameter_transfer:Loading pretrained files for: embedding_model, mean_var_norm_emb, classifier, label_encoder\n",
      "DEBUG:speechbrain.dataio.encoder:Loaded categorical encoding from models/spkrec-ecapa-voxceleb/label_encoder.ckpt\n"
     ]
    },
    {
     "name": "stderr",
     "output_type": "stream",
     "text": [
      "Map:  59%|█████▉    | 59/100 [00:37<00:19,  2.15 examples/s]"
     ]
    },
    {
     "name": "stdout",
     "output_type": "stream",
     "text": [
      "INFO:speechbrain.utils.fetching:Fetch hyperparams.yaml: Using existing file/symlink in models/spkrec-ecapa-voxceleb/hyperparams.yaml.\n",
      "INFO:speechbrain.utils.fetching:Fetch custom.py: Delegating to Huggingface hub, source speechbrain/spkrec-ecapa-voxceleb.\n",
      "DEBUG:urllib3.connectionpool:https://huggingface.co:443 \"HEAD /speechbrain/spkrec-ecapa-voxceleb/resolve/main/custom.py HTTP/1.1\" 404 0\n",
      "DEBUG:speechbrain.utils.parameter_transfer:Collecting files (or symlinks) for pretraining in models/spkrec-ecapa-voxceleb.\n",
      "INFO:speechbrain.utils.fetching:Fetch embedding_model.ckpt: Using existing file/symlink in models/spkrec-ecapa-voxceleb/embedding_model.ckpt.\n",
      "INFO:speechbrain.utils.fetching:Fetch mean_var_norm_emb.ckpt: Using existing file/symlink in models/spkrec-ecapa-voxceleb/mean_var_norm_emb.ckpt.\n",
      "INFO:speechbrain.utils.fetching:Fetch classifier.ckpt: Using existing file/symlink in models/spkrec-ecapa-voxceleb/classifier.ckpt.\n",
      "INFO:speechbrain.utils.fetching:Fetch label_encoder.txt: Using existing file/symlink in models/spkrec-ecapa-voxceleb/label_encoder.ckpt.\n",
      "INFO:speechbrain.utils.parameter_transfer:Loading pretrained files for: embedding_model, mean_var_norm_emb, classifier, label_encoder\n",
      "DEBUG:speechbrain.dataio.encoder:Loaded categorical encoding from models/spkrec-ecapa-voxceleb/label_encoder.ckpt\n"
     ]
    },
    {
     "name": "stderr",
     "output_type": "stream",
     "text": [
      "Map:  60%|██████    | 60/100 [00:38<00:17,  2.25 examples/s]"
     ]
    },
    {
     "name": "stdout",
     "output_type": "stream",
     "text": [
      "INFO:speechbrain.utils.fetching:Fetch hyperparams.yaml: Using existing file/symlink in models/spkrec-ecapa-voxceleb/hyperparams.yaml.\n",
      "INFO:speechbrain.utils.fetching:Fetch custom.py: Delegating to Huggingface hub, source speechbrain/spkrec-ecapa-voxceleb.\n",
      "DEBUG:urllib3.connectionpool:https://huggingface.co:443 \"HEAD /speechbrain/spkrec-ecapa-voxceleb/resolve/main/custom.py HTTP/1.1\" 404 0\n",
      "DEBUG:speechbrain.utils.parameter_transfer:Collecting files (or symlinks) for pretraining in models/spkrec-ecapa-voxceleb.\n",
      "INFO:speechbrain.utils.fetching:Fetch embedding_model.ckpt: Using existing file/symlink in models/spkrec-ecapa-voxceleb/embedding_model.ckpt.\n",
      "INFO:speechbrain.utils.fetching:Fetch mean_var_norm_emb.ckpt: Using existing file/symlink in models/spkrec-ecapa-voxceleb/mean_var_norm_emb.ckpt.\n",
      "INFO:speechbrain.utils.fetching:Fetch classifier.ckpt: Using existing file/symlink in models/spkrec-ecapa-voxceleb/classifier.ckpt.\n",
      "INFO:speechbrain.utils.fetching:Fetch label_encoder.txt: Using existing file/symlink in models/spkrec-ecapa-voxceleb/label_encoder.ckpt.\n",
      "INFO:speechbrain.utils.parameter_transfer:Loading pretrained files for: embedding_model, mean_var_norm_emb, classifier, label_encoder\n",
      "DEBUG:speechbrain.dataio.encoder:Loaded categorical encoding from models/spkrec-ecapa-voxceleb/label_encoder.ckpt\n"
     ]
    },
    {
     "name": "stderr",
     "output_type": "stream",
     "text": [
      "Map:  61%|██████    | 61/100 [00:38<00:16,  2.36 examples/s]"
     ]
    },
    {
     "name": "stdout",
     "output_type": "stream",
     "text": [
      "INFO:speechbrain.utils.fetching:Fetch hyperparams.yaml: Using existing file/symlink in models/spkrec-ecapa-voxceleb/hyperparams.yaml.\n",
      "INFO:speechbrain.utils.fetching:Fetch custom.py: Delegating to Huggingface hub, source speechbrain/spkrec-ecapa-voxceleb.\n",
      "DEBUG:urllib3.connectionpool:https://huggingface.co:443 \"HEAD /speechbrain/spkrec-ecapa-voxceleb/resolve/main/custom.py HTTP/1.1\" 404 0\n",
      "DEBUG:speechbrain.utils.parameter_transfer:Collecting files (or symlinks) for pretraining in models/spkrec-ecapa-voxceleb.\n",
      "INFO:speechbrain.utils.fetching:Fetch embedding_model.ckpt: Using existing file/symlink in models/spkrec-ecapa-voxceleb/embedding_model.ckpt.\n",
      "INFO:speechbrain.utils.fetching:Fetch mean_var_norm_emb.ckpt: Using existing file/symlink in models/spkrec-ecapa-voxceleb/mean_var_norm_emb.ckpt.\n",
      "INFO:speechbrain.utils.fetching:Fetch classifier.ckpt: Using existing file/symlink in models/spkrec-ecapa-voxceleb/classifier.ckpt.\n",
      "INFO:speechbrain.utils.fetching:Fetch label_encoder.txt: Using existing file/symlink in models/spkrec-ecapa-voxceleb/label_encoder.ckpt.\n",
      "INFO:speechbrain.utils.parameter_transfer:Loading pretrained files for: embedding_model, mean_var_norm_emb, classifier, label_encoder\n",
      "DEBUG:speechbrain.dataio.encoder:Loaded categorical encoding from models/spkrec-ecapa-voxceleb/label_encoder.ckpt\n"
     ]
    },
    {
     "name": "stderr",
     "output_type": "stream",
     "text": [
      "Map:  62%|██████▏   | 62/100 [00:39<00:15,  2.51 examples/s]"
     ]
    },
    {
     "name": "stdout",
     "output_type": "stream",
     "text": [
      "INFO:speechbrain.utils.fetching:Fetch hyperparams.yaml: Using existing file/symlink in models/spkrec-ecapa-voxceleb/hyperparams.yaml.\n",
      "INFO:speechbrain.utils.fetching:Fetch custom.py: Delegating to Huggingface hub, source speechbrain/spkrec-ecapa-voxceleb.\n",
      "DEBUG:urllib3.connectionpool:https://huggingface.co:443 \"HEAD /speechbrain/spkrec-ecapa-voxceleb/resolve/main/custom.py HTTP/1.1\" 404 0\n",
      "DEBUG:speechbrain.utils.parameter_transfer:Collecting files (or symlinks) for pretraining in models/spkrec-ecapa-voxceleb.\n",
      "INFO:speechbrain.utils.fetching:Fetch embedding_model.ckpt: Using existing file/symlink in models/spkrec-ecapa-voxceleb/embedding_model.ckpt.\n",
      "INFO:speechbrain.utils.fetching:Fetch mean_var_norm_emb.ckpt: Using existing file/symlink in models/spkrec-ecapa-voxceleb/mean_var_norm_emb.ckpt.\n",
      "INFO:speechbrain.utils.fetching:Fetch classifier.ckpt: Using existing file/symlink in models/spkrec-ecapa-voxceleb/classifier.ckpt.\n",
      "INFO:speechbrain.utils.fetching:Fetch label_encoder.txt: Using existing file/symlink in models/spkrec-ecapa-voxceleb/label_encoder.ckpt.\n",
      "INFO:speechbrain.utils.parameter_transfer:Loading pretrained files for: embedding_model, mean_var_norm_emb, classifier, label_encoder\n",
      "DEBUG:speechbrain.dataio.encoder:Loaded categorical encoding from models/spkrec-ecapa-voxceleb/label_encoder.ckpt\n"
     ]
    },
    {
     "name": "stderr",
     "output_type": "stream",
     "text": [
      "Map:  63%|██████▎   | 63/100 [00:39<00:13,  2.71 examples/s]"
     ]
    },
    {
     "name": "stdout",
     "output_type": "stream",
     "text": [
      "INFO:speechbrain.utils.fetching:Fetch hyperparams.yaml: Using existing file/symlink in models/spkrec-ecapa-voxceleb/hyperparams.yaml.\n",
      "INFO:speechbrain.utils.fetching:Fetch custom.py: Delegating to Huggingface hub, source speechbrain/spkrec-ecapa-voxceleb.\n",
      "DEBUG:urllib3.connectionpool:https://huggingface.co:443 \"HEAD /speechbrain/spkrec-ecapa-voxceleb/resolve/main/custom.py HTTP/1.1\" 404 0\n",
      "DEBUG:speechbrain.utils.parameter_transfer:Collecting files (or symlinks) for pretraining in models/spkrec-ecapa-voxceleb.\n",
      "INFO:speechbrain.utils.fetching:Fetch embedding_model.ckpt: Using existing file/symlink in models/spkrec-ecapa-voxceleb/embedding_model.ckpt.\n",
      "INFO:speechbrain.utils.fetching:Fetch mean_var_norm_emb.ckpt: Using existing file/symlink in models/spkrec-ecapa-voxceleb/mean_var_norm_emb.ckpt.\n",
      "INFO:speechbrain.utils.fetching:Fetch classifier.ckpt: Using existing file/symlink in models/spkrec-ecapa-voxceleb/classifier.ckpt.\n",
      "INFO:speechbrain.utils.fetching:Fetch label_encoder.txt: Using existing file/symlink in models/spkrec-ecapa-voxceleb/label_encoder.ckpt.\n",
      "INFO:speechbrain.utils.parameter_transfer:Loading pretrained files for: embedding_model, mean_var_norm_emb, classifier, label_encoder\n",
      "DEBUG:speechbrain.dataio.encoder:Loaded categorical encoding from models/spkrec-ecapa-voxceleb/label_encoder.ckpt\n"
     ]
    },
    {
     "name": "stderr",
     "output_type": "stream",
     "text": [
      "Map:  64%|██████▍   | 64/100 [00:39<00:13,  2.66 examples/s]"
     ]
    },
    {
     "name": "stdout",
     "output_type": "stream",
     "text": [
      "INFO:speechbrain.utils.fetching:Fetch hyperparams.yaml: Using existing file/symlink in models/spkrec-ecapa-voxceleb/hyperparams.yaml.\n",
      "INFO:speechbrain.utils.fetching:Fetch custom.py: Delegating to Huggingface hub, source speechbrain/spkrec-ecapa-voxceleb.\n",
      "DEBUG:urllib3.connectionpool:https://huggingface.co:443 \"HEAD /speechbrain/spkrec-ecapa-voxceleb/resolve/main/custom.py HTTP/1.1\" 404 0\n",
      "DEBUG:speechbrain.utils.parameter_transfer:Collecting files (or symlinks) for pretraining in models/spkrec-ecapa-voxceleb.\n",
      "INFO:speechbrain.utils.fetching:Fetch embedding_model.ckpt: Using existing file/symlink in models/spkrec-ecapa-voxceleb/embedding_model.ckpt.\n",
      "INFO:speechbrain.utils.fetching:Fetch mean_var_norm_emb.ckpt: Using existing file/symlink in models/spkrec-ecapa-voxceleb/mean_var_norm_emb.ckpt.\n",
      "INFO:speechbrain.utils.fetching:Fetch classifier.ckpt: Using existing file/symlink in models/spkrec-ecapa-voxceleb/classifier.ckpt.\n",
      "INFO:speechbrain.utils.fetching:Fetch label_encoder.txt: Using existing file/symlink in models/spkrec-ecapa-voxceleb/label_encoder.ckpt.\n",
      "INFO:speechbrain.utils.parameter_transfer:Loading pretrained files for: embedding_model, mean_var_norm_emb, classifier, label_encoder\n",
      "DEBUG:speechbrain.dataio.encoder:Loaded categorical encoding from models/spkrec-ecapa-voxceleb/label_encoder.ckpt\n"
     ]
    },
    {
     "name": "stderr",
     "output_type": "stream",
     "text": [
      "Map:  65%|██████▌   | 65/100 [00:40<00:14,  2.44 examples/s]"
     ]
    },
    {
     "name": "stdout",
     "output_type": "stream",
     "text": [
      "INFO:speechbrain.utils.fetching:Fetch hyperparams.yaml: Using existing file/symlink in models/spkrec-ecapa-voxceleb/hyperparams.yaml.\n",
      "INFO:speechbrain.utils.fetching:Fetch custom.py: Delegating to Huggingface hub, source speechbrain/spkrec-ecapa-voxceleb.\n",
      "DEBUG:urllib3.connectionpool:https://huggingface.co:443 \"HEAD /speechbrain/spkrec-ecapa-voxceleb/resolve/main/custom.py HTTP/1.1\" 404 0\n",
      "DEBUG:speechbrain.utils.parameter_transfer:Collecting files (or symlinks) for pretraining in models/spkrec-ecapa-voxceleb.\n",
      "INFO:speechbrain.utils.fetching:Fetch embedding_model.ckpt: Using existing file/symlink in models/spkrec-ecapa-voxceleb/embedding_model.ckpt.\n",
      "INFO:speechbrain.utils.fetching:Fetch mean_var_norm_emb.ckpt: Using existing file/symlink in models/spkrec-ecapa-voxceleb/mean_var_norm_emb.ckpt.\n",
      "INFO:speechbrain.utils.fetching:Fetch classifier.ckpt: Using existing file/symlink in models/spkrec-ecapa-voxceleb/classifier.ckpt.\n",
      "INFO:speechbrain.utils.fetching:Fetch label_encoder.txt: Using existing file/symlink in models/spkrec-ecapa-voxceleb/label_encoder.ckpt.\n",
      "INFO:speechbrain.utils.parameter_transfer:Loading pretrained files for: embedding_model, mean_var_norm_emb, classifier, label_encoder\n",
      "DEBUG:speechbrain.dataio.encoder:Loaded categorical encoding from models/spkrec-ecapa-voxceleb/label_encoder.ckpt\n"
     ]
    },
    {
     "name": "stderr",
     "output_type": "stream",
     "text": [
      "Map:  66%|██████▌   | 66/100 [00:40<00:14,  2.33 examples/s]"
     ]
    },
    {
     "name": "stdout",
     "output_type": "stream",
     "text": [
      "INFO:speechbrain.utils.fetching:Fetch hyperparams.yaml: Using existing file/symlink in models/spkrec-ecapa-voxceleb/hyperparams.yaml.\n",
      "INFO:speechbrain.utils.fetching:Fetch custom.py: Delegating to Huggingface hub, source speechbrain/spkrec-ecapa-voxceleb.\n",
      "DEBUG:urllib3.connectionpool:https://huggingface.co:443 \"HEAD /speechbrain/spkrec-ecapa-voxceleb/resolve/main/custom.py HTTP/1.1\" 404 0\n",
      "DEBUG:speechbrain.utils.parameter_transfer:Collecting files (or symlinks) for pretraining in models/spkrec-ecapa-voxceleb.\n",
      "INFO:speechbrain.utils.fetching:Fetch embedding_model.ckpt: Using existing file/symlink in models/spkrec-ecapa-voxceleb/embedding_model.ckpt.\n",
      "INFO:speechbrain.utils.fetching:Fetch mean_var_norm_emb.ckpt: Using existing file/symlink in models/spkrec-ecapa-voxceleb/mean_var_norm_emb.ckpt.\n",
      "INFO:speechbrain.utils.fetching:Fetch classifier.ckpt: Using existing file/symlink in models/spkrec-ecapa-voxceleb/classifier.ckpt.\n",
      "INFO:speechbrain.utils.fetching:Fetch label_encoder.txt: Using existing file/symlink in models/spkrec-ecapa-voxceleb/label_encoder.ckpt.\n",
      "INFO:speechbrain.utils.parameter_transfer:Loading pretrained files for: embedding_model, mean_var_norm_emb, classifier, label_encoder\n",
      "DEBUG:speechbrain.dataio.encoder:Loaded categorical encoding from models/spkrec-ecapa-voxceleb/label_encoder.ckpt\n"
     ]
    },
    {
     "name": "stderr",
     "output_type": "stream",
     "text": [
      "Map:  67%|██████▋   | 67/100 [00:41<00:13,  2.48 examples/s]"
     ]
    },
    {
     "name": "stdout",
     "output_type": "stream",
     "text": [
      "INFO:speechbrain.utils.fetching:Fetch hyperparams.yaml: Using existing file/symlink in models/spkrec-ecapa-voxceleb/hyperparams.yaml.\n",
      "INFO:speechbrain.utils.fetching:Fetch custom.py: Delegating to Huggingface hub, source speechbrain/spkrec-ecapa-voxceleb.\n",
      "DEBUG:urllib3.connectionpool:https://huggingface.co:443 \"HEAD /speechbrain/spkrec-ecapa-voxceleb/resolve/main/custom.py HTTP/1.1\" 404 0\n",
      "DEBUG:speechbrain.utils.parameter_transfer:Collecting files (or symlinks) for pretraining in models/spkrec-ecapa-voxceleb.\n",
      "INFO:speechbrain.utils.fetching:Fetch embedding_model.ckpt: Using existing file/symlink in models/spkrec-ecapa-voxceleb/embedding_model.ckpt.\n",
      "INFO:speechbrain.utils.fetching:Fetch mean_var_norm_emb.ckpt: Using existing file/symlink in models/spkrec-ecapa-voxceleb/mean_var_norm_emb.ckpt.\n",
      "INFO:speechbrain.utils.fetching:Fetch classifier.ckpt: Using existing file/symlink in models/spkrec-ecapa-voxceleb/classifier.ckpt.\n",
      "INFO:speechbrain.utils.fetching:Fetch label_encoder.txt: Using existing file/symlink in models/spkrec-ecapa-voxceleb/label_encoder.ckpt.\n",
      "INFO:speechbrain.utils.parameter_transfer:Loading pretrained files for: embedding_model, mean_var_norm_emb, classifier, label_encoder\n",
      "DEBUG:speechbrain.dataio.encoder:Loaded categorical encoding from models/spkrec-ecapa-voxceleb/label_encoder.ckpt\n"
     ]
    },
    {
     "name": "stderr",
     "output_type": "stream",
     "text": [
      "Map:  68%|██████▊   | 68/100 [00:41<00:12,  2.47 examples/s]"
     ]
    },
    {
     "name": "stdout",
     "output_type": "stream",
     "text": [
      "INFO:speechbrain.utils.fetching:Fetch hyperparams.yaml: Using existing file/symlink in models/spkrec-ecapa-voxceleb/hyperparams.yaml.\n",
      "INFO:speechbrain.utils.fetching:Fetch custom.py: Delegating to Huggingface hub, source speechbrain/spkrec-ecapa-voxceleb.\n",
      "DEBUG:urllib3.connectionpool:https://huggingface.co:443 \"HEAD /speechbrain/spkrec-ecapa-voxceleb/resolve/main/custom.py HTTP/1.1\" 404 0\n",
      "DEBUG:speechbrain.utils.parameter_transfer:Collecting files (or symlinks) for pretraining in models/spkrec-ecapa-voxceleb.\n",
      "INFO:speechbrain.utils.fetching:Fetch embedding_model.ckpt: Using existing file/symlink in models/spkrec-ecapa-voxceleb/embedding_model.ckpt.\n",
      "INFO:speechbrain.utils.fetching:Fetch mean_var_norm_emb.ckpt: Using existing file/symlink in models/spkrec-ecapa-voxceleb/mean_var_norm_emb.ckpt.\n",
      "INFO:speechbrain.utils.fetching:Fetch classifier.ckpt: Using existing file/symlink in models/spkrec-ecapa-voxceleb/classifier.ckpt.\n",
      "INFO:speechbrain.utils.fetching:Fetch label_encoder.txt: Using existing file/symlink in models/spkrec-ecapa-voxceleb/label_encoder.ckpt.\n",
      "INFO:speechbrain.utils.parameter_transfer:Loading pretrained files for: embedding_model, mean_var_norm_emb, classifier, label_encoder\n",
      "DEBUG:speechbrain.dataio.encoder:Loaded categorical encoding from models/spkrec-ecapa-voxceleb/label_encoder.ckpt\n"
     ]
    },
    {
     "name": "stderr",
     "output_type": "stream",
     "text": [
      "Map:  69%|██████▉   | 69/100 [00:41<00:11,  2.64 examples/s]"
     ]
    },
    {
     "name": "stdout",
     "output_type": "stream",
     "text": [
      "INFO:speechbrain.utils.fetching:Fetch hyperparams.yaml: Using existing file/symlink in models/spkrec-ecapa-voxceleb/hyperparams.yaml.\n",
      "INFO:speechbrain.utils.fetching:Fetch custom.py: Delegating to Huggingface hub, source speechbrain/spkrec-ecapa-voxceleb.\n",
      "DEBUG:urllib3.connectionpool:https://huggingface.co:443 \"HEAD /speechbrain/spkrec-ecapa-voxceleb/resolve/main/custom.py HTTP/1.1\" 404 0\n",
      "DEBUG:speechbrain.utils.parameter_transfer:Collecting files (or symlinks) for pretraining in models/spkrec-ecapa-voxceleb.\n",
      "INFO:speechbrain.utils.fetching:Fetch embedding_model.ckpt: Using existing file/symlink in models/spkrec-ecapa-voxceleb/embedding_model.ckpt.\n",
      "INFO:speechbrain.utils.fetching:Fetch mean_var_norm_emb.ckpt: Using existing file/symlink in models/spkrec-ecapa-voxceleb/mean_var_norm_emb.ckpt.\n",
      "INFO:speechbrain.utils.fetching:Fetch classifier.ckpt: Using existing file/symlink in models/spkrec-ecapa-voxceleb/classifier.ckpt.\n",
      "INFO:speechbrain.utils.fetching:Fetch label_encoder.txt: Using existing file/symlink in models/spkrec-ecapa-voxceleb/label_encoder.ckpt.\n",
      "INFO:speechbrain.utils.parameter_transfer:Loading pretrained files for: embedding_model, mean_var_norm_emb, classifier, label_encoder\n",
      "DEBUG:speechbrain.dataio.encoder:Loaded categorical encoding from models/spkrec-ecapa-voxceleb/label_encoder.ckpt\n"
     ]
    },
    {
     "name": "stderr",
     "output_type": "stream",
     "text": [
      "Map:  70%|███████   | 70/100 [00:42<00:11,  2.73 examples/s]"
     ]
    },
    {
     "name": "stdout",
     "output_type": "stream",
     "text": [
      "INFO:speechbrain.utils.fetching:Fetch hyperparams.yaml: Using existing file/symlink in models/spkrec-ecapa-voxceleb/hyperparams.yaml.\n",
      "INFO:speechbrain.utils.fetching:Fetch custom.py: Delegating to Huggingface hub, source speechbrain/spkrec-ecapa-voxceleb.\n",
      "DEBUG:urllib3.connectionpool:https://huggingface.co:443 \"HEAD /speechbrain/spkrec-ecapa-voxceleb/resolve/main/custom.py HTTP/1.1\" 404 0\n",
      "DEBUG:speechbrain.utils.parameter_transfer:Collecting files (or symlinks) for pretraining in models/spkrec-ecapa-voxceleb.\n",
      "INFO:speechbrain.utils.fetching:Fetch embedding_model.ckpt: Using existing file/symlink in models/spkrec-ecapa-voxceleb/embedding_model.ckpt.\n",
      "INFO:speechbrain.utils.fetching:Fetch mean_var_norm_emb.ckpt: Using existing file/symlink in models/spkrec-ecapa-voxceleb/mean_var_norm_emb.ckpt.\n",
      "INFO:speechbrain.utils.fetching:Fetch classifier.ckpt: Using existing file/symlink in models/spkrec-ecapa-voxceleb/classifier.ckpt.\n",
      "INFO:speechbrain.utils.fetching:Fetch label_encoder.txt: Using existing file/symlink in models/spkrec-ecapa-voxceleb/label_encoder.ckpt.\n",
      "INFO:speechbrain.utils.parameter_transfer:Loading pretrained files for: embedding_model, mean_var_norm_emb, classifier, label_encoder\n",
      "DEBUG:speechbrain.dataio.encoder:Loaded categorical encoding from models/spkrec-ecapa-voxceleb/label_encoder.ckpt\n"
     ]
    },
    {
     "name": "stderr",
     "output_type": "stream",
     "text": [
      "Map:  71%|███████   | 71/100 [00:42<00:11,  2.58 examples/s]"
     ]
    },
    {
     "name": "stdout",
     "output_type": "stream",
     "text": [
      "INFO:speechbrain.utils.fetching:Fetch hyperparams.yaml: Using existing file/symlink in models/spkrec-ecapa-voxceleb/hyperparams.yaml.\n",
      "INFO:speechbrain.utils.fetching:Fetch custom.py: Delegating to Huggingface hub, source speechbrain/spkrec-ecapa-voxceleb.\n",
      "DEBUG:urllib3.connectionpool:https://huggingface.co:443 \"HEAD /speechbrain/spkrec-ecapa-voxceleb/resolve/main/custom.py HTTP/1.1\" 404 0\n",
      "DEBUG:speechbrain.utils.parameter_transfer:Collecting files (or symlinks) for pretraining in models/spkrec-ecapa-voxceleb.\n",
      "INFO:speechbrain.utils.fetching:Fetch embedding_model.ckpt: Using existing file/symlink in models/spkrec-ecapa-voxceleb/embedding_model.ckpt.\n",
      "INFO:speechbrain.utils.fetching:Fetch mean_var_norm_emb.ckpt: Using existing file/symlink in models/spkrec-ecapa-voxceleb/mean_var_norm_emb.ckpt.\n",
      "INFO:speechbrain.utils.fetching:Fetch classifier.ckpt: Using existing file/symlink in models/spkrec-ecapa-voxceleb/classifier.ckpt.\n",
      "INFO:speechbrain.utils.fetching:Fetch label_encoder.txt: Using existing file/symlink in models/spkrec-ecapa-voxceleb/label_encoder.ckpt.\n",
      "INFO:speechbrain.utils.parameter_transfer:Loading pretrained files for: embedding_model, mean_var_norm_emb, classifier, label_encoder\n",
      "DEBUG:speechbrain.dataio.encoder:Loaded categorical encoding from models/spkrec-ecapa-voxceleb/label_encoder.ckpt\n"
     ]
    },
    {
     "name": "stderr",
     "output_type": "stream",
     "text": [
      "Map:  72%|███████▏  | 72/100 [00:43<00:11,  2.47 examples/s]"
     ]
    },
    {
     "name": "stdout",
     "output_type": "stream",
     "text": [
      "INFO:speechbrain.utils.fetching:Fetch hyperparams.yaml: Using existing file/symlink in models/spkrec-ecapa-voxceleb/hyperparams.yaml.\n",
      "INFO:speechbrain.utils.fetching:Fetch custom.py: Delegating to Huggingface hub, source speechbrain/spkrec-ecapa-voxceleb.\n",
      "DEBUG:urllib3.connectionpool:https://huggingface.co:443 \"HEAD /speechbrain/spkrec-ecapa-voxceleb/resolve/main/custom.py HTTP/1.1\" 404 0\n",
      "DEBUG:speechbrain.utils.parameter_transfer:Collecting files (or symlinks) for pretraining in models/spkrec-ecapa-voxceleb.\n",
      "INFO:speechbrain.utils.fetching:Fetch embedding_model.ckpt: Using existing file/symlink in models/spkrec-ecapa-voxceleb/embedding_model.ckpt.\n",
      "INFO:speechbrain.utils.fetching:Fetch mean_var_norm_emb.ckpt: Using existing file/symlink in models/spkrec-ecapa-voxceleb/mean_var_norm_emb.ckpt.\n",
      "INFO:speechbrain.utils.fetching:Fetch classifier.ckpt: Using existing file/symlink in models/spkrec-ecapa-voxceleb/classifier.ckpt.\n",
      "INFO:speechbrain.utils.fetching:Fetch label_encoder.txt: Using existing file/symlink in models/spkrec-ecapa-voxceleb/label_encoder.ckpt.\n",
      "INFO:speechbrain.utils.parameter_transfer:Loading pretrained files for: embedding_model, mean_var_norm_emb, classifier, label_encoder\n",
      "DEBUG:speechbrain.dataio.encoder:Loaded categorical encoding from models/spkrec-ecapa-voxceleb/label_encoder.ckpt\n"
     ]
    },
    {
     "name": "stderr",
     "output_type": "stream",
     "text": [
      "Map:  73%|███████▎  | 73/100 [00:43<00:14,  1.88 examples/s]"
     ]
    },
    {
     "name": "stdout",
     "output_type": "stream",
     "text": [
      "INFO:speechbrain.utils.fetching:Fetch hyperparams.yaml: Using existing file/symlink in models/spkrec-ecapa-voxceleb/hyperparams.yaml.\n",
      "INFO:speechbrain.utils.fetching:Fetch custom.py: Delegating to Huggingface hub, source speechbrain/spkrec-ecapa-voxceleb.\n",
      "DEBUG:urllib3.connectionpool:https://huggingface.co:443 \"HEAD /speechbrain/spkrec-ecapa-voxceleb/resolve/main/custom.py HTTP/1.1\" 404 0\n",
      "DEBUG:speechbrain.utils.parameter_transfer:Collecting files (or symlinks) for pretraining in models/spkrec-ecapa-voxceleb.\n",
      "INFO:speechbrain.utils.fetching:Fetch embedding_model.ckpt: Using existing file/symlink in models/spkrec-ecapa-voxceleb/embedding_model.ckpt.\n",
      "INFO:speechbrain.utils.fetching:Fetch mean_var_norm_emb.ckpt: Using existing file/symlink in models/spkrec-ecapa-voxceleb/mean_var_norm_emb.ckpt.\n",
      "INFO:speechbrain.utils.fetching:Fetch classifier.ckpt: Using existing file/symlink in models/spkrec-ecapa-voxceleb/classifier.ckpt.\n",
      "INFO:speechbrain.utils.fetching:Fetch label_encoder.txt: Using existing file/symlink in models/spkrec-ecapa-voxceleb/label_encoder.ckpt.\n",
      "INFO:speechbrain.utils.parameter_transfer:Loading pretrained files for: embedding_model, mean_var_norm_emb, classifier, label_encoder\n",
      "DEBUG:speechbrain.dataio.encoder:Loaded categorical encoding from models/spkrec-ecapa-voxceleb/label_encoder.ckpt\n"
     ]
    },
    {
     "name": "stderr",
     "output_type": "stream",
     "text": [
      "Map:  74%|███████▍  | 74/100 [00:44<00:15,  1.72 examples/s]"
     ]
    },
    {
     "name": "stdout",
     "output_type": "stream",
     "text": [
      "INFO:speechbrain.utils.fetching:Fetch hyperparams.yaml: Using existing file/symlink in models/spkrec-ecapa-voxceleb/hyperparams.yaml.\n",
      "INFO:speechbrain.utils.fetching:Fetch custom.py: Delegating to Huggingface hub, source speechbrain/spkrec-ecapa-voxceleb.\n",
      "DEBUG:urllib3.connectionpool:https://huggingface.co:443 \"HEAD /speechbrain/spkrec-ecapa-voxceleb/resolve/main/custom.py HTTP/1.1\" 404 0\n",
      "DEBUG:speechbrain.utils.parameter_transfer:Collecting files (or symlinks) for pretraining in models/spkrec-ecapa-voxceleb.\n",
      "INFO:speechbrain.utils.fetching:Fetch embedding_model.ckpt: Using existing file/symlink in models/spkrec-ecapa-voxceleb/embedding_model.ckpt.\n",
      "INFO:speechbrain.utils.fetching:Fetch mean_var_norm_emb.ckpt: Using existing file/symlink in models/spkrec-ecapa-voxceleb/mean_var_norm_emb.ckpt.\n",
      "INFO:speechbrain.utils.fetching:Fetch classifier.ckpt: Using existing file/symlink in models/spkrec-ecapa-voxceleb/classifier.ckpt.\n",
      "INFO:speechbrain.utils.fetching:Fetch label_encoder.txt: Using existing file/symlink in models/spkrec-ecapa-voxceleb/label_encoder.ckpt.\n",
      "INFO:speechbrain.utils.parameter_transfer:Loading pretrained files for: embedding_model, mean_var_norm_emb, classifier, label_encoder\n",
      "DEBUG:speechbrain.dataio.encoder:Loaded categorical encoding from models/spkrec-ecapa-voxceleb/label_encoder.ckpt\n"
     ]
    },
    {
     "name": "stderr",
     "output_type": "stream",
     "text": [
      "Map:  75%|███████▌  | 75/100 [00:45<00:19,  1.26 examples/s]"
     ]
    },
    {
     "name": "stdout",
     "output_type": "stream",
     "text": [
      "INFO:speechbrain.utils.fetching:Fetch hyperparams.yaml: Using existing file/symlink in models/spkrec-ecapa-voxceleb/hyperparams.yaml.\n",
      "INFO:speechbrain.utils.fetching:Fetch custom.py: Delegating to Huggingface hub, source speechbrain/spkrec-ecapa-voxceleb.\n",
      "DEBUG:urllib3.connectionpool:https://huggingface.co:443 \"HEAD /speechbrain/spkrec-ecapa-voxceleb/resolve/main/custom.py HTTP/1.1\" 404 0\n",
      "DEBUG:speechbrain.utils.parameter_transfer:Collecting files (or symlinks) for pretraining in models/spkrec-ecapa-voxceleb.\n",
      "INFO:speechbrain.utils.fetching:Fetch embedding_model.ckpt: Using existing file/symlink in models/spkrec-ecapa-voxceleb/embedding_model.ckpt.\n",
      "INFO:speechbrain.utils.fetching:Fetch mean_var_norm_emb.ckpt: Using existing file/symlink in models/spkrec-ecapa-voxceleb/mean_var_norm_emb.ckpt.\n",
      "INFO:speechbrain.utils.fetching:Fetch classifier.ckpt: Using existing file/symlink in models/spkrec-ecapa-voxceleb/classifier.ckpt.\n",
      "INFO:speechbrain.utils.fetching:Fetch label_encoder.txt: Using existing file/symlink in models/spkrec-ecapa-voxceleb/label_encoder.ckpt.\n",
      "INFO:speechbrain.utils.parameter_transfer:Loading pretrained files for: embedding_model, mean_var_norm_emb, classifier, label_encoder\n",
      "DEBUG:speechbrain.dataio.encoder:Loaded categorical encoding from models/spkrec-ecapa-voxceleb/label_encoder.ckpt\n"
     ]
    },
    {
     "name": "stderr",
     "output_type": "stream",
     "text": [
      "Map:  76%|███████▌  | 76/100 [00:47<00:23,  1.03 examples/s]"
     ]
    },
    {
     "name": "stdout",
     "output_type": "stream",
     "text": [
      "INFO:speechbrain.utils.fetching:Fetch hyperparams.yaml: Using existing file/symlink in models/spkrec-ecapa-voxceleb/hyperparams.yaml.\n",
      "INFO:speechbrain.utils.fetching:Fetch custom.py: Delegating to Huggingface hub, source speechbrain/spkrec-ecapa-voxceleb.\n",
      "DEBUG:urllib3.connectionpool:https://huggingface.co:443 \"HEAD /speechbrain/spkrec-ecapa-voxceleb/resolve/main/custom.py HTTP/1.1\" 404 0\n",
      "DEBUG:speechbrain.utils.parameter_transfer:Collecting files (or symlinks) for pretraining in models/spkrec-ecapa-voxceleb.\n",
      "INFO:speechbrain.utils.fetching:Fetch embedding_model.ckpt: Using existing file/symlink in models/spkrec-ecapa-voxceleb/embedding_model.ckpt.\n",
      "INFO:speechbrain.utils.fetching:Fetch mean_var_norm_emb.ckpt: Using existing file/symlink in models/spkrec-ecapa-voxceleb/mean_var_norm_emb.ckpt.\n",
      "INFO:speechbrain.utils.fetching:Fetch classifier.ckpt: Using existing file/symlink in models/spkrec-ecapa-voxceleb/classifier.ckpt.\n",
      "INFO:speechbrain.utils.fetching:Fetch label_encoder.txt: Using existing file/symlink in models/spkrec-ecapa-voxceleb/label_encoder.ckpt.\n",
      "INFO:speechbrain.utils.parameter_transfer:Loading pretrained files for: embedding_model, mean_var_norm_emb, classifier, label_encoder\n",
      "DEBUG:speechbrain.dataio.encoder:Loaded categorical encoding from models/spkrec-ecapa-voxceleb/label_encoder.ckpt\n"
     ]
    },
    {
     "name": "stderr",
     "output_type": "stream",
     "text": [
      "Map:  77%|███████▋  | 77/100 [00:48<00:21,  1.05 examples/s]"
     ]
    },
    {
     "name": "stdout",
     "output_type": "stream",
     "text": [
      "INFO:speechbrain.utils.fetching:Fetch hyperparams.yaml: Using existing file/symlink in models/spkrec-ecapa-voxceleb/hyperparams.yaml.\n",
      "INFO:speechbrain.utils.fetching:Fetch custom.py: Delegating to Huggingface hub, source speechbrain/spkrec-ecapa-voxceleb.\n",
      "DEBUG:urllib3.connectionpool:https://huggingface.co:443 \"HEAD /speechbrain/spkrec-ecapa-voxceleb/resolve/main/custom.py HTTP/1.1\" 404 0\n",
      "DEBUG:speechbrain.utils.parameter_transfer:Collecting files (or symlinks) for pretraining in models/spkrec-ecapa-voxceleb.\n",
      "INFO:speechbrain.utils.fetching:Fetch embedding_model.ckpt: Using existing file/symlink in models/spkrec-ecapa-voxceleb/embedding_model.ckpt.\n",
      "INFO:speechbrain.utils.fetching:Fetch mean_var_norm_emb.ckpt: Using existing file/symlink in models/spkrec-ecapa-voxceleb/mean_var_norm_emb.ckpt.\n",
      "INFO:speechbrain.utils.fetching:Fetch classifier.ckpt: Using existing file/symlink in models/spkrec-ecapa-voxceleb/classifier.ckpt.\n",
      "INFO:speechbrain.utils.fetching:Fetch label_encoder.txt: Using existing file/symlink in models/spkrec-ecapa-voxceleb/label_encoder.ckpt.\n",
      "INFO:speechbrain.utils.parameter_transfer:Loading pretrained files for: embedding_model, mean_var_norm_emb, classifier, label_encoder\n",
      "DEBUG:speechbrain.dataio.encoder:Loaded categorical encoding from models/spkrec-ecapa-voxceleb/label_encoder.ckpt\n"
     ]
    },
    {
     "name": "stderr",
     "output_type": "stream",
     "text": [
      "Map:  78%|███████▊  | 78/100 [00:48<00:17,  1.25 examples/s]"
     ]
    },
    {
     "name": "stdout",
     "output_type": "stream",
     "text": [
      "INFO:speechbrain.utils.fetching:Fetch hyperparams.yaml: Using existing file/symlink in models/spkrec-ecapa-voxceleb/hyperparams.yaml.\n",
      "INFO:speechbrain.utils.fetching:Fetch custom.py: Delegating to Huggingface hub, source speechbrain/spkrec-ecapa-voxceleb.\n",
      "DEBUG:urllib3.connectionpool:https://huggingface.co:443 \"HEAD /speechbrain/spkrec-ecapa-voxceleb/resolve/main/custom.py HTTP/1.1\" 404 0\n",
      "DEBUG:speechbrain.utils.parameter_transfer:Collecting files (or symlinks) for pretraining in models/spkrec-ecapa-voxceleb.\n",
      "INFO:speechbrain.utils.fetching:Fetch embedding_model.ckpt: Using existing file/symlink in models/spkrec-ecapa-voxceleb/embedding_model.ckpt.\n",
      "INFO:speechbrain.utils.fetching:Fetch mean_var_norm_emb.ckpt: Using existing file/symlink in models/spkrec-ecapa-voxceleb/mean_var_norm_emb.ckpt.\n",
      "INFO:speechbrain.utils.fetching:Fetch classifier.ckpt: Using existing file/symlink in models/spkrec-ecapa-voxceleb/classifier.ckpt.\n",
      "INFO:speechbrain.utils.fetching:Fetch label_encoder.txt: Using existing file/symlink in models/spkrec-ecapa-voxceleb/label_encoder.ckpt.\n",
      "INFO:speechbrain.utils.parameter_transfer:Loading pretrained files for: embedding_model, mean_var_norm_emb, classifier, label_encoder\n",
      "DEBUG:speechbrain.dataio.encoder:Loaded categorical encoding from models/spkrec-ecapa-voxceleb/label_encoder.ckpt\n"
     ]
    },
    {
     "name": "stderr",
     "output_type": "stream",
     "text": [
      "Map:  79%|███████▉  | 79/100 [00:49<00:15,  1.34 examples/s]"
     ]
    },
    {
     "name": "stdout",
     "output_type": "stream",
     "text": [
      "INFO:speechbrain.utils.fetching:Fetch hyperparams.yaml: Using existing file/symlink in models/spkrec-ecapa-voxceleb/hyperparams.yaml.\n",
      "INFO:speechbrain.utils.fetching:Fetch custom.py: Delegating to Huggingface hub, source speechbrain/spkrec-ecapa-voxceleb.\n",
      "DEBUG:urllib3.connectionpool:https://huggingface.co:443 \"HEAD /speechbrain/spkrec-ecapa-voxceleb/resolve/main/custom.py HTTP/1.1\" 404 0\n",
      "DEBUG:speechbrain.utils.parameter_transfer:Collecting files (or symlinks) for pretraining in models/spkrec-ecapa-voxceleb.\n",
      "INFO:speechbrain.utils.fetching:Fetch embedding_model.ckpt: Using existing file/symlink in models/spkrec-ecapa-voxceleb/embedding_model.ckpt.\n",
      "INFO:speechbrain.utils.fetching:Fetch mean_var_norm_emb.ckpt: Using existing file/symlink in models/spkrec-ecapa-voxceleb/mean_var_norm_emb.ckpt.\n",
      "INFO:speechbrain.utils.fetching:Fetch classifier.ckpt: Using existing file/symlink in models/spkrec-ecapa-voxceleb/classifier.ckpt.\n",
      "INFO:speechbrain.utils.fetching:Fetch label_encoder.txt: Using existing file/symlink in models/spkrec-ecapa-voxceleb/label_encoder.ckpt.\n",
      "INFO:speechbrain.utils.parameter_transfer:Loading pretrained files for: embedding_model, mean_var_norm_emb, classifier, label_encoder\n",
      "DEBUG:speechbrain.dataio.encoder:Loaded categorical encoding from models/spkrec-ecapa-voxceleb/label_encoder.ckpt\n"
     ]
    },
    {
     "name": "stderr",
     "output_type": "stream",
     "text": [
      "Map:  80%|████████  | 80/100 [00:49<00:12,  1.55 examples/s]"
     ]
    },
    {
     "name": "stdout",
     "output_type": "stream",
     "text": [
      "INFO:speechbrain.utils.fetching:Fetch hyperparams.yaml: Using existing file/symlink in models/spkrec-ecapa-voxceleb/hyperparams.yaml.\n",
      "INFO:speechbrain.utils.fetching:Fetch custom.py: Delegating to Huggingface hub, source speechbrain/spkrec-ecapa-voxceleb.\n",
      "DEBUG:urllib3.connectionpool:https://huggingface.co:443 \"HEAD /speechbrain/spkrec-ecapa-voxceleb/resolve/main/custom.py HTTP/1.1\" 404 0\n",
      "DEBUG:speechbrain.utils.parameter_transfer:Collecting files (or symlinks) for pretraining in models/spkrec-ecapa-voxceleb.\n",
      "INFO:speechbrain.utils.fetching:Fetch embedding_model.ckpt: Using existing file/symlink in models/spkrec-ecapa-voxceleb/embedding_model.ckpt.\n",
      "INFO:speechbrain.utils.fetching:Fetch mean_var_norm_emb.ckpt: Using existing file/symlink in models/spkrec-ecapa-voxceleb/mean_var_norm_emb.ckpt.\n",
      "INFO:speechbrain.utils.fetching:Fetch classifier.ckpt: Using existing file/symlink in models/spkrec-ecapa-voxceleb/classifier.ckpt.\n",
      "INFO:speechbrain.utils.fetching:Fetch label_encoder.txt: Using existing file/symlink in models/spkrec-ecapa-voxceleb/label_encoder.ckpt.\n",
      "INFO:speechbrain.utils.parameter_transfer:Loading pretrained files for: embedding_model, mean_var_norm_emb, classifier, label_encoder\n",
      "DEBUG:speechbrain.dataio.encoder:Loaded categorical encoding from models/spkrec-ecapa-voxceleb/label_encoder.ckpt\n"
     ]
    },
    {
     "name": "stderr",
     "output_type": "stream",
     "text": [
      "Map:  81%|████████  | 81/100 [00:49<00:10,  1.82 examples/s]"
     ]
    },
    {
     "name": "stdout",
     "output_type": "stream",
     "text": [
      "INFO:speechbrain.utils.fetching:Fetch hyperparams.yaml: Using existing file/symlink in models/spkrec-ecapa-voxceleb/hyperparams.yaml.\n",
      "INFO:speechbrain.utils.fetching:Fetch custom.py: Delegating to Huggingface hub, source speechbrain/spkrec-ecapa-voxceleb.\n",
      "DEBUG:urllib3.connectionpool:https://huggingface.co:443 \"HEAD /speechbrain/spkrec-ecapa-voxceleb/resolve/main/custom.py HTTP/1.1\" 404 0\n",
      "DEBUG:speechbrain.utils.parameter_transfer:Collecting files (or symlinks) for pretraining in models/spkrec-ecapa-voxceleb.\n",
      "INFO:speechbrain.utils.fetching:Fetch embedding_model.ckpt: Using existing file/symlink in models/spkrec-ecapa-voxceleb/embedding_model.ckpt.\n",
      "INFO:speechbrain.utils.fetching:Fetch mean_var_norm_emb.ckpt: Using existing file/symlink in models/spkrec-ecapa-voxceleb/mean_var_norm_emb.ckpt.\n",
      "INFO:speechbrain.utils.fetching:Fetch classifier.ckpt: Using existing file/symlink in models/spkrec-ecapa-voxceleb/classifier.ckpt.\n",
      "INFO:speechbrain.utils.fetching:Fetch label_encoder.txt: Using existing file/symlink in models/spkrec-ecapa-voxceleb/label_encoder.ckpt.\n",
      "INFO:speechbrain.utils.parameter_transfer:Loading pretrained files for: embedding_model, mean_var_norm_emb, classifier, label_encoder\n",
      "DEBUG:speechbrain.dataio.encoder:Loaded categorical encoding from models/spkrec-ecapa-voxceleb/label_encoder.ckpt\n"
     ]
    },
    {
     "name": "stderr",
     "output_type": "stream",
     "text": [
      "Map:  82%|████████▏ | 82/100 [00:50<00:09,  1.99 examples/s]"
     ]
    },
    {
     "name": "stdout",
     "output_type": "stream",
     "text": [
      "INFO:speechbrain.utils.fetching:Fetch hyperparams.yaml: Using existing file/symlink in models/spkrec-ecapa-voxceleb/hyperparams.yaml.\n",
      "INFO:speechbrain.utils.fetching:Fetch custom.py: Delegating to Huggingface hub, source speechbrain/spkrec-ecapa-voxceleb.\n",
      "DEBUG:urllib3.connectionpool:https://huggingface.co:443 \"HEAD /speechbrain/spkrec-ecapa-voxceleb/resolve/main/custom.py HTTP/1.1\" 404 0\n",
      "DEBUG:speechbrain.utils.parameter_transfer:Collecting files (or symlinks) for pretraining in models/spkrec-ecapa-voxceleb.\n",
      "INFO:speechbrain.utils.fetching:Fetch embedding_model.ckpt: Using existing file/symlink in models/spkrec-ecapa-voxceleb/embedding_model.ckpt.\n",
      "INFO:speechbrain.utils.fetching:Fetch mean_var_norm_emb.ckpt: Using existing file/symlink in models/spkrec-ecapa-voxceleb/mean_var_norm_emb.ckpt.\n",
      "INFO:speechbrain.utils.fetching:Fetch classifier.ckpt: Using existing file/symlink in models/spkrec-ecapa-voxceleb/classifier.ckpt.\n",
      "INFO:speechbrain.utils.fetching:Fetch label_encoder.txt: Using existing file/symlink in models/spkrec-ecapa-voxceleb/label_encoder.ckpt.\n",
      "INFO:speechbrain.utils.parameter_transfer:Loading pretrained files for: embedding_model, mean_var_norm_emb, classifier, label_encoder\n",
      "DEBUG:speechbrain.dataio.encoder:Loaded categorical encoding from models/spkrec-ecapa-voxceleb/label_encoder.ckpt\n"
     ]
    },
    {
     "name": "stderr",
     "output_type": "stream",
     "text": [
      "Map:  83%|████████▎ | 83/100 [00:50<00:08,  1.94 examples/s]"
     ]
    },
    {
     "name": "stdout",
     "output_type": "stream",
     "text": [
      "INFO:speechbrain.utils.fetching:Fetch hyperparams.yaml: Using existing file/symlink in models/spkrec-ecapa-voxceleb/hyperparams.yaml.\n",
      "INFO:speechbrain.utils.fetching:Fetch custom.py: Delegating to Huggingface hub, source speechbrain/spkrec-ecapa-voxceleb.\n",
      "DEBUG:urllib3.connectionpool:https://huggingface.co:443 \"HEAD /speechbrain/spkrec-ecapa-voxceleb/resolve/main/custom.py HTTP/1.1\" 404 0\n",
      "DEBUG:speechbrain.utils.parameter_transfer:Collecting files (or symlinks) for pretraining in models/spkrec-ecapa-voxceleb.\n",
      "INFO:speechbrain.utils.fetching:Fetch embedding_model.ckpt: Using existing file/symlink in models/spkrec-ecapa-voxceleb/embedding_model.ckpt.\n",
      "INFO:speechbrain.utils.fetching:Fetch mean_var_norm_emb.ckpt: Using existing file/symlink in models/spkrec-ecapa-voxceleb/mean_var_norm_emb.ckpt.\n",
      "INFO:speechbrain.utils.fetching:Fetch classifier.ckpt: Using existing file/symlink in models/spkrec-ecapa-voxceleb/classifier.ckpt.\n",
      "INFO:speechbrain.utils.fetching:Fetch label_encoder.txt: Using existing file/symlink in models/spkrec-ecapa-voxceleb/label_encoder.ckpt.\n",
      "INFO:speechbrain.utils.parameter_transfer:Loading pretrained files for: embedding_model, mean_var_norm_emb, classifier, label_encoder\n",
      "DEBUG:speechbrain.dataio.encoder:Loaded categorical encoding from models/spkrec-ecapa-voxceleb/label_encoder.ckpt\n"
     ]
    },
    {
     "name": "stderr",
     "output_type": "stream",
     "text": [
      "Map:  84%|████████▍ | 84/100 [00:51<00:07,  2.10 examples/s]"
     ]
    },
    {
     "name": "stdout",
     "output_type": "stream",
     "text": [
      "INFO:speechbrain.utils.fetching:Fetch hyperparams.yaml: Using existing file/symlink in models/spkrec-ecapa-voxceleb/hyperparams.yaml.\n",
      "INFO:speechbrain.utils.fetching:Fetch custom.py: Delegating to Huggingface hub, source speechbrain/spkrec-ecapa-voxceleb.\n",
      "DEBUG:urllib3.connectionpool:https://huggingface.co:443 \"HEAD /speechbrain/spkrec-ecapa-voxceleb/resolve/main/custom.py HTTP/1.1\" 404 0\n",
      "DEBUG:speechbrain.utils.parameter_transfer:Collecting files (or symlinks) for pretraining in models/spkrec-ecapa-voxceleb.\n",
      "INFO:speechbrain.utils.fetching:Fetch embedding_model.ckpt: Using existing file/symlink in models/spkrec-ecapa-voxceleb/embedding_model.ckpt.\n",
      "INFO:speechbrain.utils.fetching:Fetch mean_var_norm_emb.ckpt: Using existing file/symlink in models/spkrec-ecapa-voxceleb/mean_var_norm_emb.ckpt.\n",
      "INFO:speechbrain.utils.fetching:Fetch classifier.ckpt: Using existing file/symlink in models/spkrec-ecapa-voxceleb/classifier.ckpt.\n",
      "INFO:speechbrain.utils.fetching:Fetch label_encoder.txt: Using existing file/symlink in models/spkrec-ecapa-voxceleb/label_encoder.ckpt.\n",
      "INFO:speechbrain.utils.parameter_transfer:Loading pretrained files for: embedding_model, mean_var_norm_emb, classifier, label_encoder\n",
      "DEBUG:speechbrain.dataio.encoder:Loaded categorical encoding from models/spkrec-ecapa-voxceleb/label_encoder.ckpt\n"
     ]
    },
    {
     "name": "stderr",
     "output_type": "stream",
     "text": [
      "Map:  85%|████████▌ | 85/100 [00:51<00:06,  2.35 examples/s]"
     ]
    },
    {
     "name": "stdout",
     "output_type": "stream",
     "text": [
      "INFO:speechbrain.utils.fetching:Fetch hyperparams.yaml: Using existing file/symlink in models/spkrec-ecapa-voxceleb/hyperparams.yaml.\n",
      "INFO:speechbrain.utils.fetching:Fetch custom.py: Delegating to Huggingface hub, source speechbrain/spkrec-ecapa-voxceleb.\n",
      "DEBUG:urllib3.connectionpool:https://huggingface.co:443 \"HEAD /speechbrain/spkrec-ecapa-voxceleb/resolve/main/custom.py HTTP/1.1\" 404 0\n",
      "DEBUG:speechbrain.utils.parameter_transfer:Collecting files (or symlinks) for pretraining in models/spkrec-ecapa-voxceleb.\n",
      "INFO:speechbrain.utils.fetching:Fetch embedding_model.ckpt: Using existing file/symlink in models/spkrec-ecapa-voxceleb/embedding_model.ckpt.\n",
      "INFO:speechbrain.utils.fetching:Fetch mean_var_norm_emb.ckpt: Using existing file/symlink in models/spkrec-ecapa-voxceleb/mean_var_norm_emb.ckpt.\n",
      "INFO:speechbrain.utils.fetching:Fetch classifier.ckpt: Using existing file/symlink in models/spkrec-ecapa-voxceleb/classifier.ckpt.\n",
      "INFO:speechbrain.utils.fetching:Fetch label_encoder.txt: Using existing file/symlink in models/spkrec-ecapa-voxceleb/label_encoder.ckpt.\n",
      "INFO:speechbrain.utils.parameter_transfer:Loading pretrained files for: embedding_model, mean_var_norm_emb, classifier, label_encoder\n",
      "DEBUG:speechbrain.dataio.encoder:Loaded categorical encoding from models/spkrec-ecapa-voxceleb/label_encoder.ckpt\n"
     ]
    },
    {
     "name": "stderr",
     "output_type": "stream",
     "text": [
      "Map:  86%|████████▌ | 86/100 [00:52<00:06,  2.05 examples/s]"
     ]
    },
    {
     "name": "stdout",
     "output_type": "stream",
     "text": [
      "INFO:speechbrain.utils.fetching:Fetch hyperparams.yaml: Using existing file/symlink in models/spkrec-ecapa-voxceleb/hyperparams.yaml.\n",
      "INFO:speechbrain.utils.fetching:Fetch custom.py: Delegating to Huggingface hub, source speechbrain/spkrec-ecapa-voxceleb.\n",
      "DEBUG:urllib3.connectionpool:https://huggingface.co:443 \"HEAD /speechbrain/spkrec-ecapa-voxceleb/resolve/main/custom.py HTTP/1.1\" 404 0\n",
      "DEBUG:speechbrain.utils.parameter_transfer:Collecting files (or symlinks) for pretraining in models/spkrec-ecapa-voxceleb.\n",
      "INFO:speechbrain.utils.fetching:Fetch embedding_model.ckpt: Using existing file/symlink in models/spkrec-ecapa-voxceleb/embedding_model.ckpt.\n",
      "INFO:speechbrain.utils.fetching:Fetch mean_var_norm_emb.ckpt: Using existing file/symlink in models/spkrec-ecapa-voxceleb/mean_var_norm_emb.ckpt.\n",
      "INFO:speechbrain.utils.fetching:Fetch classifier.ckpt: Using existing file/symlink in models/spkrec-ecapa-voxceleb/classifier.ckpt.\n",
      "INFO:speechbrain.utils.fetching:Fetch label_encoder.txt: Using existing file/symlink in models/spkrec-ecapa-voxceleb/label_encoder.ckpt.\n",
      "INFO:speechbrain.utils.parameter_transfer:Loading pretrained files for: embedding_model, mean_var_norm_emb, classifier, label_encoder\n",
      "DEBUG:speechbrain.dataio.encoder:Loaded categorical encoding from models/spkrec-ecapa-voxceleb/label_encoder.ckpt\n"
     ]
    },
    {
     "name": "stderr",
     "output_type": "stream",
     "text": [
      "Map:  87%|████████▋ | 87/100 [00:52<00:05,  2.24 examples/s]"
     ]
    },
    {
     "name": "stdout",
     "output_type": "stream",
     "text": [
      "INFO:speechbrain.utils.fetching:Fetch hyperparams.yaml: Using existing file/symlink in models/spkrec-ecapa-voxceleb/hyperparams.yaml.\n",
      "INFO:speechbrain.utils.fetching:Fetch custom.py: Delegating to Huggingface hub, source speechbrain/spkrec-ecapa-voxceleb.\n",
      "DEBUG:urllib3.connectionpool:https://huggingface.co:443 \"HEAD /speechbrain/spkrec-ecapa-voxceleb/resolve/main/custom.py HTTP/1.1\" 404 0\n",
      "DEBUG:speechbrain.utils.parameter_transfer:Collecting files (or symlinks) for pretraining in models/spkrec-ecapa-voxceleb.\n",
      "INFO:speechbrain.utils.fetching:Fetch embedding_model.ckpt: Using existing file/symlink in models/spkrec-ecapa-voxceleb/embedding_model.ckpt.\n",
      "INFO:speechbrain.utils.fetching:Fetch mean_var_norm_emb.ckpt: Using existing file/symlink in models/spkrec-ecapa-voxceleb/mean_var_norm_emb.ckpt.\n",
      "INFO:speechbrain.utils.fetching:Fetch classifier.ckpt: Using existing file/symlink in models/spkrec-ecapa-voxceleb/classifier.ckpt.\n",
      "INFO:speechbrain.utils.fetching:Fetch label_encoder.txt: Using existing file/symlink in models/spkrec-ecapa-voxceleb/label_encoder.ckpt.\n",
      "INFO:speechbrain.utils.parameter_transfer:Loading pretrained files for: embedding_model, mean_var_norm_emb, classifier, label_encoder\n",
      "DEBUG:speechbrain.dataio.encoder:Loaded categorical encoding from models/spkrec-ecapa-voxceleb/label_encoder.ckpt\n"
     ]
    },
    {
     "name": "stderr",
     "output_type": "stream",
     "text": [
      "Map:  88%|████████▊ | 88/100 [00:52<00:04,  2.41 examples/s]"
     ]
    },
    {
     "name": "stdout",
     "output_type": "stream",
     "text": [
      "INFO:speechbrain.utils.fetching:Fetch hyperparams.yaml: Using existing file/symlink in models/spkrec-ecapa-voxceleb/hyperparams.yaml.\n",
      "INFO:speechbrain.utils.fetching:Fetch custom.py: Delegating to Huggingface hub, source speechbrain/spkrec-ecapa-voxceleb.\n",
      "DEBUG:urllib3.connectionpool:https://huggingface.co:443 \"HEAD /speechbrain/spkrec-ecapa-voxceleb/resolve/main/custom.py HTTP/1.1\" 404 0\n",
      "DEBUG:speechbrain.utils.parameter_transfer:Collecting files (or symlinks) for pretraining in models/spkrec-ecapa-voxceleb.\n",
      "INFO:speechbrain.utils.fetching:Fetch embedding_model.ckpt: Using existing file/symlink in models/spkrec-ecapa-voxceleb/embedding_model.ckpt.\n",
      "INFO:speechbrain.utils.fetching:Fetch mean_var_norm_emb.ckpt: Using existing file/symlink in models/spkrec-ecapa-voxceleb/mean_var_norm_emb.ckpt.\n",
      "INFO:speechbrain.utils.fetching:Fetch classifier.ckpt: Using existing file/symlink in models/spkrec-ecapa-voxceleb/classifier.ckpt.\n",
      "INFO:speechbrain.utils.fetching:Fetch label_encoder.txt: Using existing file/symlink in models/spkrec-ecapa-voxceleb/label_encoder.ckpt.\n",
      "INFO:speechbrain.utils.parameter_transfer:Loading pretrained files for: embedding_model, mean_var_norm_emb, classifier, label_encoder\n",
      "DEBUG:speechbrain.dataio.encoder:Loaded categorical encoding from models/spkrec-ecapa-voxceleb/label_encoder.ckpt\n"
     ]
    },
    {
     "name": "stderr",
     "output_type": "stream",
     "text": [
      "Map:  89%|████████▉ | 89/100 [00:53<00:04,  2.45 examples/s]"
     ]
    },
    {
     "name": "stdout",
     "output_type": "stream",
     "text": [
      "INFO:speechbrain.utils.fetching:Fetch hyperparams.yaml: Using existing file/symlink in models/spkrec-ecapa-voxceleb/hyperparams.yaml.\n",
      "INFO:speechbrain.utils.fetching:Fetch custom.py: Delegating to Huggingface hub, source speechbrain/spkrec-ecapa-voxceleb.\n",
      "DEBUG:urllib3.connectionpool:https://huggingface.co:443 \"HEAD /speechbrain/spkrec-ecapa-voxceleb/resolve/main/custom.py HTTP/1.1\" 404 0\n",
      "DEBUG:speechbrain.utils.parameter_transfer:Collecting files (or symlinks) for pretraining in models/spkrec-ecapa-voxceleb.\n",
      "INFO:speechbrain.utils.fetching:Fetch embedding_model.ckpt: Using existing file/symlink in models/spkrec-ecapa-voxceleb/embedding_model.ckpt.\n",
      "INFO:speechbrain.utils.fetching:Fetch mean_var_norm_emb.ckpt: Using existing file/symlink in models/spkrec-ecapa-voxceleb/mean_var_norm_emb.ckpt.\n",
      "INFO:speechbrain.utils.fetching:Fetch classifier.ckpt: Using existing file/symlink in models/spkrec-ecapa-voxceleb/classifier.ckpt.\n",
      "INFO:speechbrain.utils.fetching:Fetch label_encoder.txt: Using existing file/symlink in models/spkrec-ecapa-voxceleb/label_encoder.ckpt.\n",
      "INFO:speechbrain.utils.parameter_transfer:Loading pretrained files for: embedding_model, mean_var_norm_emb, classifier, label_encoder\n",
      "DEBUG:speechbrain.dataio.encoder:Loaded categorical encoding from models/spkrec-ecapa-voxceleb/label_encoder.ckpt\n"
     ]
    },
    {
     "name": "stderr",
     "output_type": "stream",
     "text": [
      "Map:  90%|█████████ | 90/100 [00:53<00:03,  2.54 examples/s]"
     ]
    },
    {
     "name": "stdout",
     "output_type": "stream",
     "text": [
      "INFO:speechbrain.utils.fetching:Fetch hyperparams.yaml: Using existing file/symlink in models/spkrec-ecapa-voxceleb/hyperparams.yaml.\n",
      "INFO:speechbrain.utils.fetching:Fetch custom.py: Delegating to Huggingface hub, source speechbrain/spkrec-ecapa-voxceleb.\n",
      "DEBUG:urllib3.connectionpool:https://huggingface.co:443 \"HEAD /speechbrain/spkrec-ecapa-voxceleb/resolve/main/custom.py HTTP/1.1\" 404 0\n",
      "DEBUG:speechbrain.utils.parameter_transfer:Collecting files (or symlinks) for pretraining in models/spkrec-ecapa-voxceleb.\n",
      "INFO:speechbrain.utils.fetching:Fetch embedding_model.ckpt: Using existing file/symlink in models/spkrec-ecapa-voxceleb/embedding_model.ckpt.\n",
      "INFO:speechbrain.utils.fetching:Fetch mean_var_norm_emb.ckpt: Using existing file/symlink in models/spkrec-ecapa-voxceleb/mean_var_norm_emb.ckpt.\n",
      "INFO:speechbrain.utils.fetching:Fetch classifier.ckpt: Using existing file/symlink in models/spkrec-ecapa-voxceleb/classifier.ckpt.\n",
      "INFO:speechbrain.utils.fetching:Fetch label_encoder.txt: Using existing file/symlink in models/spkrec-ecapa-voxceleb/label_encoder.ckpt.\n",
      "INFO:speechbrain.utils.parameter_transfer:Loading pretrained files for: embedding_model, mean_var_norm_emb, classifier, label_encoder\n",
      "DEBUG:speechbrain.dataio.encoder:Loaded categorical encoding from models/spkrec-ecapa-voxceleb/label_encoder.ckpt\n"
     ]
    },
    {
     "name": "stderr",
     "output_type": "stream",
     "text": [
      "Map:  91%|█████████ | 91/100 [00:54<00:03,  2.27 examples/s]"
     ]
    },
    {
     "name": "stdout",
     "output_type": "stream",
     "text": [
      "INFO:speechbrain.utils.fetching:Fetch hyperparams.yaml: Using existing file/symlink in models/spkrec-ecapa-voxceleb/hyperparams.yaml.\n",
      "INFO:speechbrain.utils.fetching:Fetch custom.py: Delegating to Huggingface hub, source speechbrain/spkrec-ecapa-voxceleb.\n",
      "DEBUG:urllib3.connectionpool:https://huggingface.co:443 \"HEAD /speechbrain/spkrec-ecapa-voxceleb/resolve/main/custom.py HTTP/1.1\" 404 0\n",
      "DEBUG:speechbrain.utils.parameter_transfer:Collecting files (or symlinks) for pretraining in models/spkrec-ecapa-voxceleb.\n",
      "INFO:speechbrain.utils.fetching:Fetch embedding_model.ckpt: Using existing file/symlink in models/spkrec-ecapa-voxceleb/embedding_model.ckpt.\n",
      "INFO:speechbrain.utils.fetching:Fetch mean_var_norm_emb.ckpt: Using existing file/symlink in models/spkrec-ecapa-voxceleb/mean_var_norm_emb.ckpt.\n",
      "INFO:speechbrain.utils.fetching:Fetch classifier.ckpt: Using existing file/symlink in models/spkrec-ecapa-voxceleb/classifier.ckpt.\n",
      "INFO:speechbrain.utils.fetching:Fetch label_encoder.txt: Using existing file/symlink in models/spkrec-ecapa-voxceleb/label_encoder.ckpt.\n",
      "INFO:speechbrain.utils.parameter_transfer:Loading pretrained files for: embedding_model, mean_var_norm_emb, classifier, label_encoder\n",
      "DEBUG:speechbrain.dataio.encoder:Loaded categorical encoding from models/spkrec-ecapa-voxceleb/label_encoder.ckpt\n"
     ]
    },
    {
     "name": "stderr",
     "output_type": "stream",
     "text": [
      "Map:  92%|█████████▏| 92/100 [00:54<00:03,  2.42 examples/s]"
     ]
    },
    {
     "name": "stdout",
     "output_type": "stream",
     "text": [
      "INFO:speechbrain.utils.fetching:Fetch hyperparams.yaml: Using existing file/symlink in models/spkrec-ecapa-voxceleb/hyperparams.yaml.\n",
      "INFO:speechbrain.utils.fetching:Fetch custom.py: Delegating to Huggingface hub, source speechbrain/spkrec-ecapa-voxceleb.\n",
      "DEBUG:urllib3.connectionpool:https://huggingface.co:443 \"HEAD /speechbrain/spkrec-ecapa-voxceleb/resolve/main/custom.py HTTP/1.1\" 404 0\n",
      "DEBUG:speechbrain.utils.parameter_transfer:Collecting files (or symlinks) for pretraining in models/spkrec-ecapa-voxceleb.\n",
      "INFO:speechbrain.utils.fetching:Fetch embedding_model.ckpt: Using existing file/symlink in models/spkrec-ecapa-voxceleb/embedding_model.ckpt.\n",
      "INFO:speechbrain.utils.fetching:Fetch mean_var_norm_emb.ckpt: Using existing file/symlink in models/spkrec-ecapa-voxceleb/mean_var_norm_emb.ckpt.\n",
      "INFO:speechbrain.utils.fetching:Fetch classifier.ckpt: Using existing file/symlink in models/spkrec-ecapa-voxceleb/classifier.ckpt.\n",
      "INFO:speechbrain.utils.fetching:Fetch label_encoder.txt: Using existing file/symlink in models/spkrec-ecapa-voxceleb/label_encoder.ckpt.\n",
      "INFO:speechbrain.utils.parameter_transfer:Loading pretrained files for: embedding_model, mean_var_norm_emb, classifier, label_encoder\n",
      "DEBUG:speechbrain.dataio.encoder:Loaded categorical encoding from models/spkrec-ecapa-voxceleb/label_encoder.ckpt\n"
     ]
    },
    {
     "name": "stderr",
     "output_type": "stream",
     "text": [
      "Map:  93%|█████████▎| 93/100 [00:54<00:02,  2.47 examples/s]"
     ]
    },
    {
     "name": "stdout",
     "output_type": "stream",
     "text": [
      "INFO:speechbrain.utils.fetching:Fetch hyperparams.yaml: Using existing file/symlink in models/spkrec-ecapa-voxceleb/hyperparams.yaml.\n",
      "INFO:speechbrain.utils.fetching:Fetch custom.py: Delegating to Huggingface hub, source speechbrain/spkrec-ecapa-voxceleb.\n",
      "DEBUG:urllib3.connectionpool:https://huggingface.co:443 \"HEAD /speechbrain/spkrec-ecapa-voxceleb/resolve/main/custom.py HTTP/1.1\" 404 0\n",
      "DEBUG:speechbrain.utils.parameter_transfer:Collecting files (or symlinks) for pretraining in models/spkrec-ecapa-voxceleb.\n",
      "INFO:speechbrain.utils.fetching:Fetch embedding_model.ckpt: Using existing file/symlink in models/spkrec-ecapa-voxceleb/embedding_model.ckpt.\n",
      "INFO:speechbrain.utils.fetching:Fetch mean_var_norm_emb.ckpt: Using existing file/symlink in models/spkrec-ecapa-voxceleb/mean_var_norm_emb.ckpt.\n",
      "INFO:speechbrain.utils.fetching:Fetch classifier.ckpt: Using existing file/symlink in models/spkrec-ecapa-voxceleb/classifier.ckpt.\n",
      "INFO:speechbrain.utils.fetching:Fetch label_encoder.txt: Using existing file/symlink in models/spkrec-ecapa-voxceleb/label_encoder.ckpt.\n",
      "INFO:speechbrain.utils.parameter_transfer:Loading pretrained files for: embedding_model, mean_var_norm_emb, classifier, label_encoder\n",
      "DEBUG:speechbrain.dataio.encoder:Loaded categorical encoding from models/spkrec-ecapa-voxceleb/label_encoder.ckpt\n"
     ]
    },
    {
     "name": "stderr",
     "output_type": "stream",
     "text": [
      "Map:  94%|█████████▍| 94/100 [00:55<00:02,  2.45 examples/s]"
     ]
    },
    {
     "name": "stdout",
     "output_type": "stream",
     "text": [
      "INFO:speechbrain.utils.fetching:Fetch hyperparams.yaml: Using existing file/symlink in models/spkrec-ecapa-voxceleb/hyperparams.yaml.\n",
      "INFO:speechbrain.utils.fetching:Fetch custom.py: Delegating to Huggingface hub, source speechbrain/spkrec-ecapa-voxceleb.\n",
      "DEBUG:urllib3.connectionpool:https://huggingface.co:443 \"HEAD /speechbrain/spkrec-ecapa-voxceleb/resolve/main/custom.py HTTP/1.1\" 404 0\n",
      "DEBUG:speechbrain.utils.parameter_transfer:Collecting files (or symlinks) for pretraining in models/spkrec-ecapa-voxceleb.\n",
      "INFO:speechbrain.utils.fetching:Fetch embedding_model.ckpt: Using existing file/symlink in models/spkrec-ecapa-voxceleb/embedding_model.ckpt.\n",
      "INFO:speechbrain.utils.fetching:Fetch mean_var_norm_emb.ckpt: Using existing file/symlink in models/spkrec-ecapa-voxceleb/mean_var_norm_emb.ckpt.\n",
      "INFO:speechbrain.utils.fetching:Fetch classifier.ckpt: Using existing file/symlink in models/spkrec-ecapa-voxceleb/classifier.ckpt.\n",
      "INFO:speechbrain.utils.fetching:Fetch label_encoder.txt: Using existing file/symlink in models/spkrec-ecapa-voxceleb/label_encoder.ckpt.\n",
      "INFO:speechbrain.utils.parameter_transfer:Loading pretrained files for: embedding_model, mean_var_norm_emb, classifier, label_encoder\n",
      "DEBUG:speechbrain.dataio.encoder:Loaded categorical encoding from models/spkrec-ecapa-voxceleb/label_encoder.ckpt\n"
     ]
    },
    {
     "name": "stderr",
     "output_type": "stream",
     "text": [
      "Map:  95%|█████████▌| 95/100 [00:55<00:01,  2.54 examples/s]"
     ]
    },
    {
     "name": "stdout",
     "output_type": "stream",
     "text": [
      "INFO:speechbrain.utils.fetching:Fetch hyperparams.yaml: Using existing file/symlink in models/spkrec-ecapa-voxceleb/hyperparams.yaml.\n",
      "INFO:speechbrain.utils.fetching:Fetch custom.py: Delegating to Huggingface hub, source speechbrain/spkrec-ecapa-voxceleb.\n",
      "DEBUG:urllib3.connectionpool:https://huggingface.co:443 \"HEAD /speechbrain/spkrec-ecapa-voxceleb/resolve/main/custom.py HTTP/1.1\" 404 0\n",
      "DEBUG:speechbrain.utils.parameter_transfer:Collecting files (or symlinks) for pretraining in models/spkrec-ecapa-voxceleb.\n",
      "INFO:speechbrain.utils.fetching:Fetch embedding_model.ckpt: Using existing file/symlink in models/spkrec-ecapa-voxceleb/embedding_model.ckpt.\n",
      "INFO:speechbrain.utils.fetching:Fetch mean_var_norm_emb.ckpt: Using existing file/symlink in models/spkrec-ecapa-voxceleb/mean_var_norm_emb.ckpt.\n",
      "INFO:speechbrain.utils.fetching:Fetch classifier.ckpt: Using existing file/symlink in models/spkrec-ecapa-voxceleb/classifier.ckpt.\n",
      "INFO:speechbrain.utils.fetching:Fetch label_encoder.txt: Using existing file/symlink in models/spkrec-ecapa-voxceleb/label_encoder.ckpt.\n",
      "INFO:speechbrain.utils.parameter_transfer:Loading pretrained files for: embedding_model, mean_var_norm_emb, classifier, label_encoder\n",
      "DEBUG:speechbrain.dataio.encoder:Loaded categorical encoding from models/spkrec-ecapa-voxceleb/label_encoder.ckpt\n"
     ]
    },
    {
     "name": "stderr",
     "output_type": "stream",
     "text": [
      "Map:  96%|█████████▌| 96/100 [00:56<00:01,  2.54 examples/s]"
     ]
    },
    {
     "name": "stdout",
     "output_type": "stream",
     "text": [
      "INFO:speechbrain.utils.fetching:Fetch hyperparams.yaml: Using existing file/symlink in models/spkrec-ecapa-voxceleb/hyperparams.yaml.\n",
      "INFO:speechbrain.utils.fetching:Fetch custom.py: Delegating to Huggingface hub, source speechbrain/spkrec-ecapa-voxceleb.\n",
      "DEBUG:urllib3.connectionpool:https://huggingface.co:443 \"HEAD /speechbrain/spkrec-ecapa-voxceleb/resolve/main/custom.py HTTP/1.1\" 404 0\n",
      "DEBUG:speechbrain.utils.parameter_transfer:Collecting files (or symlinks) for pretraining in models/spkrec-ecapa-voxceleb.\n",
      "INFO:speechbrain.utils.fetching:Fetch embedding_model.ckpt: Using existing file/symlink in models/spkrec-ecapa-voxceleb/embedding_model.ckpt.\n",
      "INFO:speechbrain.utils.fetching:Fetch mean_var_norm_emb.ckpt: Using existing file/symlink in models/spkrec-ecapa-voxceleb/mean_var_norm_emb.ckpt.\n",
      "INFO:speechbrain.utils.fetching:Fetch classifier.ckpt: Using existing file/symlink in models/spkrec-ecapa-voxceleb/classifier.ckpt.\n",
      "INFO:speechbrain.utils.fetching:Fetch label_encoder.txt: Using existing file/symlink in models/spkrec-ecapa-voxceleb/label_encoder.ckpt.\n",
      "INFO:speechbrain.utils.parameter_transfer:Loading pretrained files for: embedding_model, mean_var_norm_emb, classifier, label_encoder\n",
      "DEBUG:speechbrain.dataio.encoder:Loaded categorical encoding from models/spkrec-ecapa-voxceleb/label_encoder.ckpt\n"
     ]
    },
    {
     "name": "stderr",
     "output_type": "stream",
     "text": [
      "Map:  97%|█████████▋| 97/100 [00:56<00:01,  2.16 examples/s]"
     ]
    },
    {
     "name": "stdout",
     "output_type": "stream",
     "text": [
      "INFO:speechbrain.utils.fetching:Fetch hyperparams.yaml: Using existing file/symlink in models/spkrec-ecapa-voxceleb/hyperparams.yaml.\n",
      "INFO:speechbrain.utils.fetching:Fetch custom.py: Delegating to Huggingface hub, source speechbrain/spkrec-ecapa-voxceleb.\n",
      "DEBUG:urllib3.connectionpool:https://huggingface.co:443 \"HEAD /speechbrain/spkrec-ecapa-voxceleb/resolve/main/custom.py HTTP/1.1\" 404 0\n",
      "DEBUG:speechbrain.utils.parameter_transfer:Collecting files (or symlinks) for pretraining in models/spkrec-ecapa-voxceleb.\n",
      "INFO:speechbrain.utils.fetching:Fetch embedding_model.ckpt: Using existing file/symlink in models/spkrec-ecapa-voxceleb/embedding_model.ckpt.\n",
      "INFO:speechbrain.utils.fetching:Fetch mean_var_norm_emb.ckpt: Using existing file/symlink in models/spkrec-ecapa-voxceleb/mean_var_norm_emb.ckpt.\n",
      "INFO:speechbrain.utils.fetching:Fetch classifier.ckpt: Using existing file/symlink in models/spkrec-ecapa-voxceleb/classifier.ckpt.\n",
      "INFO:speechbrain.utils.fetching:Fetch label_encoder.txt: Using existing file/symlink in models/spkrec-ecapa-voxceleb/label_encoder.ckpt.\n",
      "INFO:speechbrain.utils.parameter_transfer:Loading pretrained files for: embedding_model, mean_var_norm_emb, classifier, label_encoder\n",
      "DEBUG:speechbrain.dataio.encoder:Loaded categorical encoding from models/spkrec-ecapa-voxceleb/label_encoder.ckpt\n"
     ]
    },
    {
     "name": "stderr",
     "output_type": "stream",
     "text": [
      "Map:  98%|█████████▊| 98/100 [00:57<00:00,  2.29 examples/s]"
     ]
    },
    {
     "name": "stdout",
     "output_type": "stream",
     "text": [
      "INFO:speechbrain.utils.fetching:Fetch hyperparams.yaml: Using existing file/symlink in models/spkrec-ecapa-voxceleb/hyperparams.yaml.\n",
      "INFO:speechbrain.utils.fetching:Fetch custom.py: Delegating to Huggingface hub, source speechbrain/spkrec-ecapa-voxceleb.\n",
      "DEBUG:urllib3.connectionpool:https://huggingface.co:443 \"HEAD /speechbrain/spkrec-ecapa-voxceleb/resolve/main/custom.py HTTP/1.1\" 404 0\n",
      "DEBUG:speechbrain.utils.parameter_transfer:Collecting files (or symlinks) for pretraining in models/spkrec-ecapa-voxceleb.\n",
      "INFO:speechbrain.utils.fetching:Fetch embedding_model.ckpt: Using existing file/symlink in models/spkrec-ecapa-voxceleb/embedding_model.ckpt.\n",
      "INFO:speechbrain.utils.fetching:Fetch mean_var_norm_emb.ckpt: Using existing file/symlink in models/spkrec-ecapa-voxceleb/mean_var_norm_emb.ckpt.\n",
      "INFO:speechbrain.utils.fetching:Fetch classifier.ckpt: Using existing file/symlink in models/spkrec-ecapa-voxceleb/classifier.ckpt.\n",
      "INFO:speechbrain.utils.fetching:Fetch label_encoder.txt: Using existing file/symlink in models/spkrec-ecapa-voxceleb/label_encoder.ckpt.\n",
      "INFO:speechbrain.utils.parameter_transfer:Loading pretrained files for: embedding_model, mean_var_norm_emb, classifier, label_encoder\n",
      "DEBUG:speechbrain.dataio.encoder:Loaded categorical encoding from models/spkrec-ecapa-voxceleb/label_encoder.ckpt\n"
     ]
    },
    {
     "name": "stderr",
     "output_type": "stream",
     "text": [
      "Map:  99%|█████████▉| 99/100 [00:57<00:00,  2.30 examples/s]"
     ]
    },
    {
     "name": "stdout",
     "output_type": "stream",
     "text": [
      "INFO:speechbrain.utils.fetching:Fetch hyperparams.yaml: Using existing file/symlink in models/spkrec-ecapa-voxceleb/hyperparams.yaml.\n",
      "INFO:speechbrain.utils.fetching:Fetch custom.py: Delegating to Huggingface hub, source speechbrain/spkrec-ecapa-voxceleb.\n",
      "DEBUG:urllib3.connectionpool:https://huggingface.co:443 \"HEAD /speechbrain/spkrec-ecapa-voxceleb/resolve/main/custom.py HTTP/1.1\" 404 0\n",
      "DEBUG:speechbrain.utils.parameter_transfer:Collecting files (or symlinks) for pretraining in models/spkrec-ecapa-voxceleb.\n",
      "INFO:speechbrain.utils.fetching:Fetch embedding_model.ckpt: Using existing file/symlink in models/spkrec-ecapa-voxceleb/embedding_model.ckpt.\n",
      "INFO:speechbrain.utils.fetching:Fetch mean_var_norm_emb.ckpt: Using existing file/symlink in models/spkrec-ecapa-voxceleb/mean_var_norm_emb.ckpt.\n",
      "INFO:speechbrain.utils.fetching:Fetch classifier.ckpt: Using existing file/symlink in models/spkrec-ecapa-voxceleb/classifier.ckpt.\n",
      "INFO:speechbrain.utils.fetching:Fetch label_encoder.txt: Using existing file/symlink in models/spkrec-ecapa-voxceleb/label_encoder.ckpt.\n",
      "INFO:speechbrain.utils.parameter_transfer:Loading pretrained files for: embedding_model, mean_var_norm_emb, classifier, label_encoder\n",
      "DEBUG:speechbrain.dataio.encoder:Loaded categorical encoding from models/spkrec-ecapa-voxceleb/label_encoder.ckpt\n"
     ]
    },
    {
     "name": "stderr",
     "output_type": "stream",
     "text": [
      "Map: 100%|██████████| 100/100 [01:03<00:00,  1.57 examples/s]\n",
      "Map:   0%|          | 0/100 [00:00<?, ? examples/s]"
     ]
    },
    {
     "name": "stdout",
     "output_type": "stream",
     "text": [
      "INFO:speechbrain.utils.fetching:Fetch hyperparams.yaml: Using existing file/symlink in models/spkrec-ecapa-voxceleb/hyperparams.yaml.\n",
      "INFO:speechbrain.utils.fetching:Fetch custom.py: Delegating to Huggingface hub, source speechbrain/spkrec-ecapa-voxceleb.\n",
      "DEBUG:urllib3.connectionpool:https://huggingface.co:443 \"HEAD /speechbrain/spkrec-ecapa-voxceleb/resolve/main/custom.py HTTP/1.1\" 404 0\n",
      "DEBUG:speechbrain.utils.parameter_transfer:Collecting files (or symlinks) for pretraining in models/spkrec-ecapa-voxceleb.\n",
      "INFO:speechbrain.utils.fetching:Fetch embedding_model.ckpt: Using existing file/symlink in models/spkrec-ecapa-voxceleb/embedding_model.ckpt.\n",
      "INFO:speechbrain.utils.fetching:Fetch mean_var_norm_emb.ckpt: Using existing file/symlink in models/spkrec-ecapa-voxceleb/mean_var_norm_emb.ckpt.\n",
      "INFO:speechbrain.utils.fetching:Fetch classifier.ckpt: Using existing file/symlink in models/spkrec-ecapa-voxceleb/classifier.ckpt.\n",
      "INFO:speechbrain.utils.fetching:Fetch label_encoder.txt: Using existing file/symlink in models/spkrec-ecapa-voxceleb/label_encoder.ckpt.\n",
      "INFO:speechbrain.utils.parameter_transfer:Loading pretrained files for: embedding_model, mean_var_norm_emb, classifier, label_encoder\n",
      "DEBUG:speechbrain.dataio.encoder:Loaded categorical encoding from models/spkrec-ecapa-voxceleb/label_encoder.ckpt\n"
     ]
    },
    {
     "name": "stderr",
     "output_type": "stream",
     "text": [
      "Map:   1%|          | 1/100 [00:00<00:38,  2.58 examples/s]"
     ]
    },
    {
     "name": "stdout",
     "output_type": "stream",
     "text": [
      "INFO:speechbrain.utils.fetching:Fetch hyperparams.yaml: Using existing file/symlink in models/spkrec-ecapa-voxceleb/hyperparams.yaml.\n",
      "INFO:speechbrain.utils.fetching:Fetch custom.py: Delegating to Huggingface hub, source speechbrain/spkrec-ecapa-voxceleb.\n",
      "DEBUG:urllib3.connectionpool:https://huggingface.co:443 \"HEAD /speechbrain/spkrec-ecapa-voxceleb/resolve/main/custom.py HTTP/1.1\" 404 0\n",
      "DEBUG:speechbrain.utils.parameter_transfer:Collecting files (or symlinks) for pretraining in models/spkrec-ecapa-voxceleb.\n",
      "INFO:speechbrain.utils.fetching:Fetch embedding_model.ckpt: Using existing file/symlink in models/spkrec-ecapa-voxceleb/embedding_model.ckpt.\n",
      "INFO:speechbrain.utils.fetching:Fetch mean_var_norm_emb.ckpt: Using existing file/symlink in models/spkrec-ecapa-voxceleb/mean_var_norm_emb.ckpt.\n",
      "INFO:speechbrain.utils.fetching:Fetch classifier.ckpt: Using existing file/symlink in models/spkrec-ecapa-voxceleb/classifier.ckpt.\n",
      "INFO:speechbrain.utils.fetching:Fetch label_encoder.txt: Using existing file/symlink in models/spkrec-ecapa-voxceleb/label_encoder.ckpt.\n",
      "INFO:speechbrain.utils.parameter_transfer:Loading pretrained files for: embedding_model, mean_var_norm_emb, classifier, label_encoder\n",
      "DEBUG:speechbrain.dataio.encoder:Loaded categorical encoding from models/spkrec-ecapa-voxceleb/label_encoder.ckpt\n"
     ]
    },
    {
     "name": "stderr",
     "output_type": "stream",
     "text": [
      "Map:   2%|▏         | 2/100 [00:00<00:40,  2.42 examples/s]"
     ]
    },
    {
     "name": "stdout",
     "output_type": "stream",
     "text": [
      "INFO:speechbrain.utils.fetching:Fetch hyperparams.yaml: Using existing file/symlink in models/spkrec-ecapa-voxceleb/hyperparams.yaml.\n",
      "INFO:speechbrain.utils.fetching:Fetch custom.py: Delegating to Huggingface hub, source speechbrain/spkrec-ecapa-voxceleb.\n",
      "DEBUG:urllib3.connectionpool:https://huggingface.co:443 \"HEAD /speechbrain/spkrec-ecapa-voxceleb/resolve/main/custom.py HTTP/1.1\" 404 0\n",
      "DEBUG:speechbrain.utils.parameter_transfer:Collecting files (or symlinks) for pretraining in models/spkrec-ecapa-voxceleb.\n",
      "INFO:speechbrain.utils.fetching:Fetch embedding_model.ckpt: Using existing file/symlink in models/spkrec-ecapa-voxceleb/embedding_model.ckpt.\n",
      "INFO:speechbrain.utils.fetching:Fetch mean_var_norm_emb.ckpt: Using existing file/symlink in models/spkrec-ecapa-voxceleb/mean_var_norm_emb.ckpt.\n",
      "INFO:speechbrain.utils.fetching:Fetch classifier.ckpt: Using existing file/symlink in models/spkrec-ecapa-voxceleb/classifier.ckpt.\n",
      "INFO:speechbrain.utils.fetching:Fetch label_encoder.txt: Using existing file/symlink in models/spkrec-ecapa-voxceleb/label_encoder.ckpt.\n",
      "INFO:speechbrain.utils.parameter_transfer:Loading pretrained files for: embedding_model, mean_var_norm_emb, classifier, label_encoder\n",
      "DEBUG:speechbrain.dataio.encoder:Loaded categorical encoding from models/spkrec-ecapa-voxceleb/label_encoder.ckpt\n"
     ]
    },
    {
     "name": "stderr",
     "output_type": "stream",
     "text": [
      "Map:   3%|▎         | 3/100 [00:01<00:38,  2.52 examples/s]"
     ]
    },
    {
     "name": "stdout",
     "output_type": "stream",
     "text": [
      "INFO:speechbrain.utils.fetching:Fetch hyperparams.yaml: Using existing file/symlink in models/spkrec-ecapa-voxceleb/hyperparams.yaml.\n",
      "INFO:speechbrain.utils.fetching:Fetch custom.py: Delegating to Huggingface hub, source speechbrain/spkrec-ecapa-voxceleb.\n",
      "DEBUG:urllib3.connectionpool:https://huggingface.co:443 \"HEAD /speechbrain/spkrec-ecapa-voxceleb/resolve/main/custom.py HTTP/1.1\" 404 0\n",
      "DEBUG:speechbrain.utils.parameter_transfer:Collecting files (or symlinks) for pretraining in models/spkrec-ecapa-voxceleb.\n",
      "INFO:speechbrain.utils.fetching:Fetch embedding_model.ckpt: Using existing file/symlink in models/spkrec-ecapa-voxceleb/embedding_model.ckpt.\n",
      "INFO:speechbrain.utils.fetching:Fetch mean_var_norm_emb.ckpt: Using existing file/symlink in models/spkrec-ecapa-voxceleb/mean_var_norm_emb.ckpt.\n",
      "INFO:speechbrain.utils.fetching:Fetch classifier.ckpt: Using existing file/symlink in models/spkrec-ecapa-voxceleb/classifier.ckpt.\n",
      "INFO:speechbrain.utils.fetching:Fetch label_encoder.txt: Using existing file/symlink in models/spkrec-ecapa-voxceleb/label_encoder.ckpt.\n",
      "INFO:speechbrain.utils.parameter_transfer:Loading pretrained files for: embedding_model, mean_var_norm_emb, classifier, label_encoder\n",
      "DEBUG:speechbrain.dataio.encoder:Loaded categorical encoding from models/spkrec-ecapa-voxceleb/label_encoder.ckpt\n"
     ]
    },
    {
     "name": "stderr",
     "output_type": "stream",
     "text": [
      "Map:   4%|▍         | 4/100 [00:01<00:35,  2.67 examples/s]"
     ]
    },
    {
     "name": "stdout",
     "output_type": "stream",
     "text": [
      "INFO:speechbrain.utils.fetching:Fetch hyperparams.yaml: Using existing file/symlink in models/spkrec-ecapa-voxceleb/hyperparams.yaml.\n",
      "INFO:speechbrain.utils.fetching:Fetch custom.py: Delegating to Huggingface hub, source speechbrain/spkrec-ecapa-voxceleb.\n",
      "DEBUG:urllib3.connectionpool:https://huggingface.co:443 \"HEAD /speechbrain/spkrec-ecapa-voxceleb/resolve/main/custom.py HTTP/1.1\" 404 0\n",
      "DEBUG:speechbrain.utils.parameter_transfer:Collecting files (or symlinks) for pretraining in models/spkrec-ecapa-voxceleb.\n",
      "INFO:speechbrain.utils.fetching:Fetch embedding_model.ckpt: Using existing file/symlink in models/spkrec-ecapa-voxceleb/embedding_model.ckpt.\n",
      "INFO:speechbrain.utils.fetching:Fetch mean_var_norm_emb.ckpt: Using existing file/symlink in models/spkrec-ecapa-voxceleb/mean_var_norm_emb.ckpt.\n",
      "INFO:speechbrain.utils.fetching:Fetch classifier.ckpt: Using existing file/symlink in models/spkrec-ecapa-voxceleb/classifier.ckpt.\n",
      "INFO:speechbrain.utils.fetching:Fetch label_encoder.txt: Using existing file/symlink in models/spkrec-ecapa-voxceleb/label_encoder.ckpt.\n",
      "INFO:speechbrain.utils.parameter_transfer:Loading pretrained files for: embedding_model, mean_var_norm_emb, classifier, label_encoder\n",
      "DEBUG:speechbrain.dataio.encoder:Loaded categorical encoding from models/spkrec-ecapa-voxceleb/label_encoder.ckpt\n"
     ]
    },
    {
     "name": "stderr",
     "output_type": "stream",
     "text": [
      "Map:   5%|▌         | 5/100 [00:01<00:36,  2.61 examples/s]"
     ]
    },
    {
     "name": "stdout",
     "output_type": "stream",
     "text": [
      "INFO:speechbrain.utils.fetching:Fetch hyperparams.yaml: Using existing file/symlink in models/spkrec-ecapa-voxceleb/hyperparams.yaml.\n",
      "INFO:speechbrain.utils.fetching:Fetch custom.py: Delegating to Huggingface hub, source speechbrain/spkrec-ecapa-voxceleb.\n",
      "DEBUG:urllib3.connectionpool:https://huggingface.co:443 \"HEAD /speechbrain/spkrec-ecapa-voxceleb/resolve/main/custom.py HTTP/1.1\" 404 0\n",
      "DEBUG:speechbrain.utils.parameter_transfer:Collecting files (or symlinks) for pretraining in models/spkrec-ecapa-voxceleb.\n",
      "INFO:speechbrain.utils.fetching:Fetch embedding_model.ckpt: Using existing file/symlink in models/spkrec-ecapa-voxceleb/embedding_model.ckpt.\n",
      "INFO:speechbrain.utils.fetching:Fetch mean_var_norm_emb.ckpt: Using existing file/symlink in models/spkrec-ecapa-voxceleb/mean_var_norm_emb.ckpt.\n",
      "INFO:speechbrain.utils.fetching:Fetch classifier.ckpt: Using existing file/symlink in models/spkrec-ecapa-voxceleb/classifier.ckpt.\n",
      "INFO:speechbrain.utils.fetching:Fetch label_encoder.txt: Using existing file/symlink in models/spkrec-ecapa-voxceleb/label_encoder.ckpt.\n",
      "INFO:speechbrain.utils.parameter_transfer:Loading pretrained files for: embedding_model, mean_var_norm_emb, classifier, label_encoder\n",
      "DEBUG:speechbrain.dataio.encoder:Loaded categorical encoding from models/spkrec-ecapa-voxceleb/label_encoder.ckpt\n"
     ]
    },
    {
     "name": "stderr",
     "output_type": "stream",
     "text": [
      "Map:   6%|▌         | 6/100 [00:02<00:40,  2.33 examples/s]"
     ]
    },
    {
     "name": "stdout",
     "output_type": "stream",
     "text": [
      "INFO:speechbrain.utils.fetching:Fetch hyperparams.yaml: Using existing file/symlink in models/spkrec-ecapa-voxceleb/hyperparams.yaml.\n",
      "INFO:speechbrain.utils.fetching:Fetch custom.py: Delegating to Huggingface hub, source speechbrain/spkrec-ecapa-voxceleb.\n",
      "DEBUG:urllib3.connectionpool:https://huggingface.co:443 \"HEAD /speechbrain/spkrec-ecapa-voxceleb/resolve/main/custom.py HTTP/1.1\" 404 0\n",
      "DEBUG:speechbrain.utils.parameter_transfer:Collecting files (or symlinks) for pretraining in models/spkrec-ecapa-voxceleb.\n",
      "INFO:speechbrain.utils.fetching:Fetch embedding_model.ckpt: Using existing file/symlink in models/spkrec-ecapa-voxceleb/embedding_model.ckpt.\n",
      "INFO:speechbrain.utils.fetching:Fetch mean_var_norm_emb.ckpt: Using existing file/symlink in models/spkrec-ecapa-voxceleb/mean_var_norm_emb.ckpt.\n",
      "INFO:speechbrain.utils.fetching:Fetch classifier.ckpt: Using existing file/symlink in models/spkrec-ecapa-voxceleb/classifier.ckpt.\n",
      "INFO:speechbrain.utils.fetching:Fetch label_encoder.txt: Using existing file/symlink in models/spkrec-ecapa-voxceleb/label_encoder.ckpt.\n",
      "INFO:speechbrain.utils.parameter_transfer:Loading pretrained files for: embedding_model, mean_var_norm_emb, classifier, label_encoder\n",
      "DEBUG:speechbrain.dataio.encoder:Loaded categorical encoding from models/spkrec-ecapa-voxceleb/label_encoder.ckpt\n"
     ]
    },
    {
     "name": "stderr",
     "output_type": "stream",
     "text": [
      "Map:   7%|▋         | 7/100 [00:02<00:36,  2.55 examples/s]"
     ]
    },
    {
     "name": "stdout",
     "output_type": "stream",
     "text": [
      "INFO:speechbrain.utils.fetching:Fetch hyperparams.yaml: Using existing file/symlink in models/spkrec-ecapa-voxceleb/hyperparams.yaml.\n",
      "INFO:speechbrain.utils.fetching:Fetch custom.py: Delegating to Huggingface hub, source speechbrain/spkrec-ecapa-voxceleb.\n",
      "DEBUG:urllib3.connectionpool:https://huggingface.co:443 \"HEAD /speechbrain/spkrec-ecapa-voxceleb/resolve/main/custom.py HTTP/1.1\" 404 0\n",
      "DEBUG:speechbrain.utils.parameter_transfer:Collecting files (or symlinks) for pretraining in models/spkrec-ecapa-voxceleb.\n",
      "INFO:speechbrain.utils.fetching:Fetch embedding_model.ckpt: Using existing file/symlink in models/spkrec-ecapa-voxceleb/embedding_model.ckpt.\n",
      "INFO:speechbrain.utils.fetching:Fetch mean_var_norm_emb.ckpt: Using existing file/symlink in models/spkrec-ecapa-voxceleb/mean_var_norm_emb.ckpt.\n",
      "INFO:speechbrain.utils.fetching:Fetch classifier.ckpt: Using existing file/symlink in models/spkrec-ecapa-voxceleb/classifier.ckpt.\n",
      "INFO:speechbrain.utils.fetching:Fetch label_encoder.txt: Using existing file/symlink in models/spkrec-ecapa-voxceleb/label_encoder.ckpt.\n",
      "INFO:speechbrain.utils.parameter_transfer:Loading pretrained files for: embedding_model, mean_var_norm_emb, classifier, label_encoder\n",
      "DEBUG:speechbrain.dataio.encoder:Loaded categorical encoding from models/spkrec-ecapa-voxceleb/label_encoder.ckpt\n"
     ]
    },
    {
     "name": "stderr",
     "output_type": "stream",
     "text": [
      "Map:   8%|▊         | 8/100 [00:03<00:33,  2.71 examples/s]"
     ]
    },
    {
     "name": "stdout",
     "output_type": "stream",
     "text": [
      "INFO:speechbrain.utils.fetching:Fetch hyperparams.yaml: Using existing file/symlink in models/spkrec-ecapa-voxceleb/hyperparams.yaml.\n",
      "INFO:speechbrain.utils.fetching:Fetch custom.py: Delegating to Huggingface hub, source speechbrain/spkrec-ecapa-voxceleb.\n",
      "DEBUG:urllib3.connectionpool:https://huggingface.co:443 \"HEAD /speechbrain/spkrec-ecapa-voxceleb/resolve/main/custom.py HTTP/1.1\" 404 0\n",
      "DEBUG:speechbrain.utils.parameter_transfer:Collecting files (or symlinks) for pretraining in models/spkrec-ecapa-voxceleb.\n",
      "INFO:speechbrain.utils.fetching:Fetch embedding_model.ckpt: Using existing file/symlink in models/spkrec-ecapa-voxceleb/embedding_model.ckpt.\n",
      "INFO:speechbrain.utils.fetching:Fetch mean_var_norm_emb.ckpt: Using existing file/symlink in models/spkrec-ecapa-voxceleb/mean_var_norm_emb.ckpt.\n",
      "INFO:speechbrain.utils.fetching:Fetch classifier.ckpt: Using existing file/symlink in models/spkrec-ecapa-voxceleb/classifier.ckpt.\n",
      "INFO:speechbrain.utils.fetching:Fetch label_encoder.txt: Using existing file/symlink in models/spkrec-ecapa-voxceleb/label_encoder.ckpt.\n",
      "INFO:speechbrain.utils.parameter_transfer:Loading pretrained files for: embedding_model, mean_var_norm_emb, classifier, label_encoder\n",
      "DEBUG:speechbrain.dataio.encoder:Loaded categorical encoding from models/spkrec-ecapa-voxceleb/label_encoder.ckpt\n"
     ]
    },
    {
     "name": "stderr",
     "output_type": "stream",
     "text": [
      "Map:   9%|▉         | 9/100 [00:03<00:32,  2.76 examples/s]"
     ]
    },
    {
     "name": "stdout",
     "output_type": "stream",
     "text": [
      "INFO:speechbrain.utils.fetching:Fetch hyperparams.yaml: Using existing file/symlink in models/spkrec-ecapa-voxceleb/hyperparams.yaml.\n",
      "INFO:speechbrain.utils.fetching:Fetch custom.py: Delegating to Huggingface hub, source speechbrain/spkrec-ecapa-voxceleb.\n",
      "DEBUG:urllib3.connectionpool:https://huggingface.co:443 \"HEAD /speechbrain/spkrec-ecapa-voxceleb/resolve/main/custom.py HTTP/1.1\" 404 0\n",
      "DEBUG:speechbrain.utils.parameter_transfer:Collecting files (or symlinks) for pretraining in models/spkrec-ecapa-voxceleb.\n",
      "INFO:speechbrain.utils.fetching:Fetch embedding_model.ckpt: Using existing file/symlink in models/spkrec-ecapa-voxceleb/embedding_model.ckpt.\n",
      "INFO:speechbrain.utils.fetching:Fetch mean_var_norm_emb.ckpt: Using existing file/symlink in models/spkrec-ecapa-voxceleb/mean_var_norm_emb.ckpt.\n",
      "INFO:speechbrain.utils.fetching:Fetch classifier.ckpt: Using existing file/symlink in models/spkrec-ecapa-voxceleb/classifier.ckpt.\n",
      "INFO:speechbrain.utils.fetching:Fetch label_encoder.txt: Using existing file/symlink in models/spkrec-ecapa-voxceleb/label_encoder.ckpt.\n",
      "INFO:speechbrain.utils.parameter_transfer:Loading pretrained files for: embedding_model, mean_var_norm_emb, classifier, label_encoder\n",
      "DEBUG:speechbrain.dataio.encoder:Loaded categorical encoding from models/spkrec-ecapa-voxceleb/label_encoder.ckpt\n"
     ]
    },
    {
     "name": "stderr",
     "output_type": "stream",
     "text": [
      "Map:  10%|█         | 10/100 [00:03<00:34,  2.61 examples/s]"
     ]
    },
    {
     "name": "stdout",
     "output_type": "stream",
     "text": [
      "INFO:speechbrain.utils.fetching:Fetch hyperparams.yaml: Using existing file/symlink in models/spkrec-ecapa-voxceleb/hyperparams.yaml.\n",
      "INFO:speechbrain.utils.fetching:Fetch custom.py: Delegating to Huggingface hub, source speechbrain/spkrec-ecapa-voxceleb.\n",
      "DEBUG:urllib3.connectionpool:https://huggingface.co:443 \"HEAD /speechbrain/spkrec-ecapa-voxceleb/resolve/main/custom.py HTTP/1.1\" 404 0\n",
      "DEBUG:speechbrain.utils.parameter_transfer:Collecting files (or symlinks) for pretraining in models/spkrec-ecapa-voxceleb.\n",
      "INFO:speechbrain.utils.fetching:Fetch embedding_model.ckpt: Using existing file/symlink in models/spkrec-ecapa-voxceleb/embedding_model.ckpt.\n",
      "INFO:speechbrain.utils.fetching:Fetch mean_var_norm_emb.ckpt: Using existing file/symlink in models/spkrec-ecapa-voxceleb/mean_var_norm_emb.ckpt.\n",
      "INFO:speechbrain.utils.fetching:Fetch classifier.ckpt: Using existing file/symlink in models/spkrec-ecapa-voxceleb/classifier.ckpt.\n",
      "INFO:speechbrain.utils.fetching:Fetch label_encoder.txt: Using existing file/symlink in models/spkrec-ecapa-voxceleb/label_encoder.ckpt.\n",
      "INFO:speechbrain.utils.parameter_transfer:Loading pretrained files for: embedding_model, mean_var_norm_emb, classifier, label_encoder\n",
      "DEBUG:speechbrain.dataio.encoder:Loaded categorical encoding from models/spkrec-ecapa-voxceleb/label_encoder.ckpt\n"
     ]
    },
    {
     "name": "stderr",
     "output_type": "stream",
     "text": [
      "Map:  11%|█         | 11/100 [00:04<00:32,  2.75 examples/s]"
     ]
    },
    {
     "name": "stdout",
     "output_type": "stream",
     "text": [
      "INFO:speechbrain.utils.fetching:Fetch hyperparams.yaml: Using existing file/symlink in models/spkrec-ecapa-voxceleb/hyperparams.yaml.\n",
      "INFO:speechbrain.utils.fetching:Fetch custom.py: Delegating to Huggingface hub, source speechbrain/spkrec-ecapa-voxceleb.\n",
      "DEBUG:urllib3.connectionpool:https://huggingface.co:443 \"HEAD /speechbrain/spkrec-ecapa-voxceleb/resolve/main/custom.py HTTP/1.1\" 404 0\n",
      "DEBUG:speechbrain.utils.parameter_transfer:Collecting files (or symlinks) for pretraining in models/spkrec-ecapa-voxceleb.\n",
      "INFO:speechbrain.utils.fetching:Fetch embedding_model.ckpt: Using existing file/symlink in models/spkrec-ecapa-voxceleb/embedding_model.ckpt.\n",
      "INFO:speechbrain.utils.fetching:Fetch mean_var_norm_emb.ckpt: Using existing file/symlink in models/spkrec-ecapa-voxceleb/mean_var_norm_emb.ckpt.\n",
      "INFO:speechbrain.utils.fetching:Fetch classifier.ckpt: Using existing file/symlink in models/spkrec-ecapa-voxceleb/classifier.ckpt.\n",
      "INFO:speechbrain.utils.fetching:Fetch label_encoder.txt: Using existing file/symlink in models/spkrec-ecapa-voxceleb/label_encoder.ckpt.\n",
      "INFO:speechbrain.utils.parameter_transfer:Loading pretrained files for: embedding_model, mean_var_norm_emb, classifier, label_encoder\n",
      "DEBUG:speechbrain.dataio.encoder:Loaded categorical encoding from models/spkrec-ecapa-voxceleb/label_encoder.ckpt\n"
     ]
    },
    {
     "name": "stderr",
     "output_type": "stream",
     "text": [
      "Map:  12%|█▏        | 12/100 [00:04<00:37,  2.34 examples/s]"
     ]
    },
    {
     "name": "stdout",
     "output_type": "stream",
     "text": [
      "INFO:speechbrain.utils.fetching:Fetch hyperparams.yaml: Using existing file/symlink in models/spkrec-ecapa-voxceleb/hyperparams.yaml.\n",
      "INFO:speechbrain.utils.fetching:Fetch custom.py: Delegating to Huggingface hub, source speechbrain/spkrec-ecapa-voxceleb.\n",
      "DEBUG:urllib3.connectionpool:https://huggingface.co:443 \"HEAD /speechbrain/spkrec-ecapa-voxceleb/resolve/main/custom.py HTTP/1.1\" 404 0\n",
      "DEBUG:speechbrain.utils.parameter_transfer:Collecting files (or symlinks) for pretraining in models/spkrec-ecapa-voxceleb.\n",
      "INFO:speechbrain.utils.fetching:Fetch embedding_model.ckpt: Using existing file/symlink in models/spkrec-ecapa-voxceleb/embedding_model.ckpt.\n",
      "INFO:speechbrain.utils.fetching:Fetch mean_var_norm_emb.ckpt: Using existing file/symlink in models/spkrec-ecapa-voxceleb/mean_var_norm_emb.ckpt.\n",
      "INFO:speechbrain.utils.fetching:Fetch classifier.ckpt: Using existing file/symlink in models/spkrec-ecapa-voxceleb/classifier.ckpt.\n",
      "INFO:speechbrain.utils.fetching:Fetch label_encoder.txt: Using existing file/symlink in models/spkrec-ecapa-voxceleb/label_encoder.ckpt.\n",
      "INFO:speechbrain.utils.parameter_transfer:Loading pretrained files for: embedding_model, mean_var_norm_emb, classifier, label_encoder\n",
      "DEBUG:speechbrain.dataio.encoder:Loaded categorical encoding from models/spkrec-ecapa-voxceleb/label_encoder.ckpt\n"
     ]
    },
    {
     "name": "stderr",
     "output_type": "stream",
     "text": [
      "Map:  13%|█▎        | 13/100 [00:05<00:36,  2.39 examples/s]"
     ]
    },
    {
     "name": "stdout",
     "output_type": "stream",
     "text": [
      "INFO:speechbrain.utils.fetching:Fetch hyperparams.yaml: Using existing file/symlink in models/spkrec-ecapa-voxceleb/hyperparams.yaml.\n",
      "INFO:speechbrain.utils.fetching:Fetch custom.py: Delegating to Huggingface hub, source speechbrain/spkrec-ecapa-voxceleb.\n",
      "DEBUG:urllib3.connectionpool:https://huggingface.co:443 \"HEAD /speechbrain/spkrec-ecapa-voxceleb/resolve/main/custom.py HTTP/1.1\" 404 0\n",
      "DEBUG:speechbrain.utils.parameter_transfer:Collecting files (or symlinks) for pretraining in models/spkrec-ecapa-voxceleb.\n",
      "INFO:speechbrain.utils.fetching:Fetch embedding_model.ckpt: Using existing file/symlink in models/spkrec-ecapa-voxceleb/embedding_model.ckpt.\n",
      "INFO:speechbrain.utils.fetching:Fetch mean_var_norm_emb.ckpt: Using existing file/symlink in models/spkrec-ecapa-voxceleb/mean_var_norm_emb.ckpt.\n",
      "INFO:speechbrain.utils.fetching:Fetch classifier.ckpt: Using existing file/symlink in models/spkrec-ecapa-voxceleb/classifier.ckpt.\n",
      "INFO:speechbrain.utils.fetching:Fetch label_encoder.txt: Using existing file/symlink in models/spkrec-ecapa-voxceleb/label_encoder.ckpt.\n",
      "INFO:speechbrain.utils.parameter_transfer:Loading pretrained files for: embedding_model, mean_var_norm_emb, classifier, label_encoder\n",
      "DEBUG:speechbrain.dataio.encoder:Loaded categorical encoding from models/spkrec-ecapa-voxceleb/label_encoder.ckpt\n"
     ]
    },
    {
     "name": "stderr",
     "output_type": "stream",
     "text": [
      "Map:  14%|█▍        | 14/100 [00:05<00:33,  2.56 examples/s]"
     ]
    },
    {
     "name": "stdout",
     "output_type": "stream",
     "text": [
      "INFO:speechbrain.utils.fetching:Fetch hyperparams.yaml: Using existing file/symlink in models/spkrec-ecapa-voxceleb/hyperparams.yaml.\n",
      "INFO:speechbrain.utils.fetching:Fetch custom.py: Delegating to Huggingface hub, source speechbrain/spkrec-ecapa-voxceleb.\n",
      "DEBUG:urllib3.connectionpool:https://huggingface.co:443 \"HEAD /speechbrain/spkrec-ecapa-voxceleb/resolve/main/custom.py HTTP/1.1\" 404 0\n",
      "DEBUG:speechbrain.utils.parameter_transfer:Collecting files (or symlinks) for pretraining in models/spkrec-ecapa-voxceleb.\n",
      "INFO:speechbrain.utils.fetching:Fetch embedding_model.ckpt: Using existing file/symlink in models/spkrec-ecapa-voxceleb/embedding_model.ckpt.\n",
      "INFO:speechbrain.utils.fetching:Fetch mean_var_norm_emb.ckpt: Using existing file/symlink in models/spkrec-ecapa-voxceleb/mean_var_norm_emb.ckpt.\n",
      "INFO:speechbrain.utils.fetching:Fetch classifier.ckpt: Using existing file/symlink in models/spkrec-ecapa-voxceleb/classifier.ckpt.\n",
      "INFO:speechbrain.utils.fetching:Fetch label_encoder.txt: Using existing file/symlink in models/spkrec-ecapa-voxceleb/label_encoder.ckpt.\n",
      "INFO:speechbrain.utils.parameter_transfer:Loading pretrained files for: embedding_model, mean_var_norm_emb, classifier, label_encoder\n",
      "DEBUG:speechbrain.dataio.encoder:Loaded categorical encoding from models/spkrec-ecapa-voxceleb/label_encoder.ckpt\n"
     ]
    },
    {
     "name": "stderr",
     "output_type": "stream",
     "text": [
      "Map:  15%|█▌        | 15/100 [00:06<00:37,  2.25 examples/s]"
     ]
    },
    {
     "name": "stdout",
     "output_type": "stream",
     "text": [
      "INFO:speechbrain.utils.fetching:Fetch hyperparams.yaml: Using existing file/symlink in models/spkrec-ecapa-voxceleb/hyperparams.yaml.\n",
      "INFO:speechbrain.utils.fetching:Fetch custom.py: Delegating to Huggingface hub, source speechbrain/spkrec-ecapa-voxceleb.\n",
      "DEBUG:urllib3.connectionpool:https://huggingface.co:443 \"HEAD /speechbrain/spkrec-ecapa-voxceleb/resolve/main/custom.py HTTP/1.1\" 404 0\n",
      "DEBUG:speechbrain.utils.parameter_transfer:Collecting files (or symlinks) for pretraining in models/spkrec-ecapa-voxceleb.\n",
      "INFO:speechbrain.utils.fetching:Fetch embedding_model.ckpt: Using existing file/symlink in models/spkrec-ecapa-voxceleb/embedding_model.ckpt.\n",
      "INFO:speechbrain.utils.fetching:Fetch mean_var_norm_emb.ckpt: Using existing file/symlink in models/spkrec-ecapa-voxceleb/mean_var_norm_emb.ckpt.\n",
      "INFO:speechbrain.utils.fetching:Fetch classifier.ckpt: Using existing file/symlink in models/spkrec-ecapa-voxceleb/classifier.ckpt.\n",
      "INFO:speechbrain.utils.fetching:Fetch label_encoder.txt: Using existing file/symlink in models/spkrec-ecapa-voxceleb/label_encoder.ckpt.\n",
      "INFO:speechbrain.utils.parameter_transfer:Loading pretrained files for: embedding_model, mean_var_norm_emb, classifier, label_encoder\n",
      "DEBUG:speechbrain.dataio.encoder:Loaded categorical encoding from models/spkrec-ecapa-voxceleb/label_encoder.ckpt\n"
     ]
    },
    {
     "name": "stderr",
     "output_type": "stream",
     "text": [
      "Map:  16%|█▌        | 16/100 [00:07<00:56,  1.50 examples/s]"
     ]
    },
    {
     "name": "stdout",
     "output_type": "stream",
     "text": [
      "INFO:speechbrain.utils.fetching:Fetch hyperparams.yaml: Using existing file/symlink in models/spkrec-ecapa-voxceleb/hyperparams.yaml.\n",
      "INFO:speechbrain.utils.fetching:Fetch custom.py: Delegating to Huggingface hub, source speechbrain/spkrec-ecapa-voxceleb.\n",
      "DEBUG:urllib3.connectionpool:https://huggingface.co:443 \"HEAD /speechbrain/spkrec-ecapa-voxceleb/resolve/main/custom.py HTTP/1.1\" 404 0\n",
      "DEBUG:speechbrain.utils.parameter_transfer:Collecting files (or symlinks) for pretraining in models/spkrec-ecapa-voxceleb.\n",
      "INFO:speechbrain.utils.fetching:Fetch embedding_model.ckpt: Using existing file/symlink in models/spkrec-ecapa-voxceleb/embedding_model.ckpt.\n",
      "INFO:speechbrain.utils.fetching:Fetch mean_var_norm_emb.ckpt: Using existing file/symlink in models/spkrec-ecapa-voxceleb/mean_var_norm_emb.ckpt.\n",
      "INFO:speechbrain.utils.fetching:Fetch classifier.ckpt: Using existing file/symlink in models/spkrec-ecapa-voxceleb/classifier.ckpt.\n",
      "INFO:speechbrain.utils.fetching:Fetch label_encoder.txt: Using existing file/symlink in models/spkrec-ecapa-voxceleb/label_encoder.ckpt.\n",
      "INFO:speechbrain.utils.parameter_transfer:Loading pretrained files for: embedding_model, mean_var_norm_emb, classifier, label_encoder\n",
      "DEBUG:speechbrain.dataio.encoder:Loaded categorical encoding from models/spkrec-ecapa-voxceleb/label_encoder.ckpt\n"
     ]
    },
    {
     "name": "stderr",
     "output_type": "stream",
     "text": [
      "Map:  17%|█▋        | 17/100 [00:07<00:57,  1.45 examples/s]"
     ]
    },
    {
     "name": "stdout",
     "output_type": "stream",
     "text": [
      "INFO:speechbrain.utils.fetching:Fetch hyperparams.yaml: Using existing file/symlink in models/spkrec-ecapa-voxceleb/hyperparams.yaml.\n",
      "INFO:speechbrain.utils.fetching:Fetch custom.py: Delegating to Huggingface hub, source speechbrain/spkrec-ecapa-voxceleb.\n",
      "DEBUG:urllib3.connectionpool:https://huggingface.co:443 \"HEAD /speechbrain/spkrec-ecapa-voxceleb/resolve/main/custom.py HTTP/1.1\" 404 0\n",
      "DEBUG:speechbrain.utils.parameter_transfer:Collecting files (or symlinks) for pretraining in models/spkrec-ecapa-voxceleb.\n",
      "INFO:speechbrain.utils.fetching:Fetch embedding_model.ckpt: Using existing file/symlink in models/spkrec-ecapa-voxceleb/embedding_model.ckpt.\n",
      "INFO:speechbrain.utils.fetching:Fetch mean_var_norm_emb.ckpt: Using existing file/symlink in models/spkrec-ecapa-voxceleb/mean_var_norm_emb.ckpt.\n",
      "INFO:speechbrain.utils.fetching:Fetch classifier.ckpt: Using existing file/symlink in models/spkrec-ecapa-voxceleb/classifier.ckpt.\n",
      "INFO:speechbrain.utils.fetching:Fetch label_encoder.txt: Using existing file/symlink in models/spkrec-ecapa-voxceleb/label_encoder.ckpt.\n",
      "INFO:speechbrain.utils.parameter_transfer:Loading pretrained files for: embedding_model, mean_var_norm_emb, classifier, label_encoder\n",
      "DEBUG:speechbrain.dataio.encoder:Loaded categorical encoding from models/spkrec-ecapa-voxceleb/label_encoder.ckpt\n"
     ]
    },
    {
     "name": "stderr",
     "output_type": "stream",
     "text": [
      "Map:  18%|█▊        | 18/100 [00:10<01:37,  1.19s/ examples]"
     ]
    },
    {
     "name": "stdout",
     "output_type": "stream",
     "text": [
      "INFO:speechbrain.utils.fetching:Fetch hyperparams.yaml: Using existing file/symlink in models/spkrec-ecapa-voxceleb/hyperparams.yaml.\n",
      "INFO:speechbrain.utils.fetching:Fetch custom.py: Delegating to Huggingface hub, source speechbrain/spkrec-ecapa-voxceleb.\n",
      "DEBUG:urllib3.connectionpool:https://huggingface.co:443 \"HEAD /speechbrain/spkrec-ecapa-voxceleb/resolve/main/custom.py HTTP/1.1\" 404 0\n",
      "DEBUG:speechbrain.utils.parameter_transfer:Collecting files (or symlinks) for pretraining in models/spkrec-ecapa-voxceleb.\n",
      "INFO:speechbrain.utils.fetching:Fetch embedding_model.ckpt: Using existing file/symlink in models/spkrec-ecapa-voxceleb/embedding_model.ckpt.\n",
      "INFO:speechbrain.utils.fetching:Fetch mean_var_norm_emb.ckpt: Using existing file/symlink in models/spkrec-ecapa-voxceleb/mean_var_norm_emb.ckpt.\n",
      "INFO:speechbrain.utils.fetching:Fetch classifier.ckpt: Using existing file/symlink in models/spkrec-ecapa-voxceleb/classifier.ckpt.\n",
      "INFO:speechbrain.utils.fetching:Fetch label_encoder.txt: Using existing file/symlink in models/spkrec-ecapa-voxceleb/label_encoder.ckpt.\n",
      "INFO:speechbrain.utils.parameter_transfer:Loading pretrained files for: embedding_model, mean_var_norm_emb, classifier, label_encoder\n",
      "DEBUG:speechbrain.dataio.encoder:Loaded categorical encoding from models/spkrec-ecapa-voxceleb/label_encoder.ckpt\n"
     ]
    },
    {
     "name": "stderr",
     "output_type": "stream",
     "text": [
      "Map:  19%|█▉        | 19/100 [00:11<01:28,  1.09s/ examples]"
     ]
    },
    {
     "name": "stdout",
     "output_type": "stream",
     "text": [
      "INFO:speechbrain.utils.fetching:Fetch hyperparams.yaml: Using existing file/symlink in models/spkrec-ecapa-voxceleb/hyperparams.yaml.\n",
      "INFO:speechbrain.utils.fetching:Fetch custom.py: Delegating to Huggingface hub, source speechbrain/spkrec-ecapa-voxceleb.\n",
      "DEBUG:urllib3.connectionpool:https://huggingface.co:443 \"HEAD /speechbrain/spkrec-ecapa-voxceleb/resolve/main/custom.py HTTP/1.1\" 404 0\n",
      "DEBUG:speechbrain.utils.parameter_transfer:Collecting files (or symlinks) for pretraining in models/spkrec-ecapa-voxceleb.\n",
      "INFO:speechbrain.utils.fetching:Fetch embedding_model.ckpt: Using existing file/symlink in models/spkrec-ecapa-voxceleb/embedding_model.ckpt.\n",
      "INFO:speechbrain.utils.fetching:Fetch mean_var_norm_emb.ckpt: Using existing file/symlink in models/spkrec-ecapa-voxceleb/mean_var_norm_emb.ckpt.\n",
      "INFO:speechbrain.utils.fetching:Fetch classifier.ckpt: Using existing file/symlink in models/spkrec-ecapa-voxceleb/classifier.ckpt.\n",
      "INFO:speechbrain.utils.fetching:Fetch label_encoder.txt: Using existing file/symlink in models/spkrec-ecapa-voxceleb/label_encoder.ckpt.\n",
      "INFO:speechbrain.utils.parameter_transfer:Loading pretrained files for: embedding_model, mean_var_norm_emb, classifier, label_encoder\n",
      "DEBUG:speechbrain.dataio.encoder:Loaded categorical encoding from models/spkrec-ecapa-voxceleb/label_encoder.ckpt\n"
     ]
    },
    {
     "name": "stderr",
     "output_type": "stream",
     "text": [
      "Map:  20%|██        | 20/100 [00:11<01:10,  1.13 examples/s]"
     ]
    },
    {
     "name": "stdout",
     "output_type": "stream",
     "text": [
      "INFO:speechbrain.utils.fetching:Fetch hyperparams.yaml: Using existing file/symlink in models/spkrec-ecapa-voxceleb/hyperparams.yaml.\n",
      "INFO:speechbrain.utils.fetching:Fetch custom.py: Delegating to Huggingface hub, source speechbrain/spkrec-ecapa-voxceleb.\n",
      "DEBUG:urllib3.connectionpool:https://huggingface.co:443 \"HEAD /speechbrain/spkrec-ecapa-voxceleb/resolve/main/custom.py HTTP/1.1\" 404 0\n",
      "DEBUG:speechbrain.utils.parameter_transfer:Collecting files (or symlinks) for pretraining in models/spkrec-ecapa-voxceleb.\n",
      "INFO:speechbrain.utils.fetching:Fetch embedding_model.ckpt: Using existing file/symlink in models/spkrec-ecapa-voxceleb/embedding_model.ckpt.\n",
      "INFO:speechbrain.utils.fetching:Fetch mean_var_norm_emb.ckpt: Using existing file/symlink in models/spkrec-ecapa-voxceleb/mean_var_norm_emb.ckpt.\n",
      "INFO:speechbrain.utils.fetching:Fetch classifier.ckpt: Using existing file/symlink in models/spkrec-ecapa-voxceleb/classifier.ckpt.\n",
      "INFO:speechbrain.utils.fetching:Fetch label_encoder.txt: Using existing file/symlink in models/spkrec-ecapa-voxceleb/label_encoder.ckpt.\n",
      "INFO:speechbrain.utils.parameter_transfer:Loading pretrained files for: embedding_model, mean_var_norm_emb, classifier, label_encoder\n",
      "DEBUG:speechbrain.dataio.encoder:Loaded categorical encoding from models/spkrec-ecapa-voxceleb/label_encoder.ckpt\n"
     ]
    },
    {
     "name": "stderr",
     "output_type": "stream",
     "text": [
      "Map:  21%|██        | 21/100 [00:11<00:58,  1.36 examples/s]"
     ]
    },
    {
     "name": "stdout",
     "output_type": "stream",
     "text": [
      "INFO:speechbrain.utils.fetching:Fetch hyperparams.yaml: Using existing file/symlink in models/spkrec-ecapa-voxceleb/hyperparams.yaml.\n",
      "INFO:speechbrain.utils.fetching:Fetch custom.py: Delegating to Huggingface hub, source speechbrain/spkrec-ecapa-voxceleb.\n",
      "DEBUG:urllib3.connectionpool:https://huggingface.co:443 \"HEAD /speechbrain/spkrec-ecapa-voxceleb/resolve/main/custom.py HTTP/1.1\" 404 0\n",
      "DEBUG:speechbrain.utils.parameter_transfer:Collecting files (or symlinks) for pretraining in models/spkrec-ecapa-voxceleb.\n",
      "INFO:speechbrain.utils.fetching:Fetch embedding_model.ckpt: Using existing file/symlink in models/spkrec-ecapa-voxceleb/embedding_model.ckpt.\n",
      "INFO:speechbrain.utils.fetching:Fetch mean_var_norm_emb.ckpt: Using existing file/symlink in models/spkrec-ecapa-voxceleb/mean_var_norm_emb.ckpt.\n",
      "INFO:speechbrain.utils.fetching:Fetch classifier.ckpt: Using existing file/symlink in models/spkrec-ecapa-voxceleb/classifier.ckpt.\n",
      "INFO:speechbrain.utils.fetching:Fetch label_encoder.txt: Using existing file/symlink in models/spkrec-ecapa-voxceleb/label_encoder.ckpt.\n",
      "INFO:speechbrain.utils.parameter_transfer:Loading pretrained files for: embedding_model, mean_var_norm_emb, classifier, label_encoder\n",
      "DEBUG:speechbrain.dataio.encoder:Loaded categorical encoding from models/spkrec-ecapa-voxceleb/label_encoder.ckpt\n"
     ]
    },
    {
     "name": "stderr",
     "output_type": "stream",
     "text": [
      "Map:  22%|██▏       | 22/100 [00:12<00:48,  1.62 examples/s]"
     ]
    },
    {
     "name": "stdout",
     "output_type": "stream",
     "text": [
      "INFO:speechbrain.utils.fetching:Fetch hyperparams.yaml: Using existing file/symlink in models/spkrec-ecapa-voxceleb/hyperparams.yaml.\n",
      "INFO:speechbrain.utils.fetching:Fetch custom.py: Delegating to Huggingface hub, source speechbrain/spkrec-ecapa-voxceleb.\n",
      "DEBUG:urllib3.connectionpool:https://huggingface.co:443 \"HEAD /speechbrain/spkrec-ecapa-voxceleb/resolve/main/custom.py HTTP/1.1\" 404 0\n",
      "DEBUG:speechbrain.utils.parameter_transfer:Collecting files (or symlinks) for pretraining in models/spkrec-ecapa-voxceleb.\n",
      "INFO:speechbrain.utils.fetching:Fetch embedding_model.ckpt: Using existing file/symlink in models/spkrec-ecapa-voxceleb/embedding_model.ckpt.\n",
      "INFO:speechbrain.utils.fetching:Fetch mean_var_norm_emb.ckpt: Using existing file/symlink in models/spkrec-ecapa-voxceleb/mean_var_norm_emb.ckpt.\n",
      "INFO:speechbrain.utils.fetching:Fetch classifier.ckpt: Using existing file/symlink in models/spkrec-ecapa-voxceleb/classifier.ckpt.\n",
      "INFO:speechbrain.utils.fetching:Fetch label_encoder.txt: Using existing file/symlink in models/spkrec-ecapa-voxceleb/label_encoder.ckpt.\n",
      "INFO:speechbrain.utils.parameter_transfer:Loading pretrained files for: embedding_model, mean_var_norm_emb, classifier, label_encoder\n",
      "DEBUG:speechbrain.dataio.encoder:Loaded categorical encoding from models/spkrec-ecapa-voxceleb/label_encoder.ckpt\n"
     ]
    },
    {
     "name": "stderr",
     "output_type": "stream",
     "text": [
      "Map:  23%|██▎       | 23/100 [00:12<00:40,  1.90 examples/s]"
     ]
    },
    {
     "name": "stdout",
     "output_type": "stream",
     "text": [
      "INFO:speechbrain.utils.fetching:Fetch hyperparams.yaml: Using existing file/symlink in models/spkrec-ecapa-voxceleb/hyperparams.yaml.\n",
      "INFO:speechbrain.utils.fetching:Fetch custom.py: Delegating to Huggingface hub, source speechbrain/spkrec-ecapa-voxceleb.\n",
      "DEBUG:urllib3.connectionpool:https://huggingface.co:443 \"HEAD /speechbrain/spkrec-ecapa-voxceleb/resolve/main/custom.py HTTP/1.1\" 404 0\n",
      "DEBUG:speechbrain.utils.parameter_transfer:Collecting files (or symlinks) for pretraining in models/spkrec-ecapa-voxceleb.\n",
      "INFO:speechbrain.utils.fetching:Fetch embedding_model.ckpt: Using existing file/symlink in models/spkrec-ecapa-voxceleb/embedding_model.ckpt.\n",
      "INFO:speechbrain.utils.fetching:Fetch mean_var_norm_emb.ckpt: Using existing file/symlink in models/spkrec-ecapa-voxceleb/mean_var_norm_emb.ckpt.\n",
      "INFO:speechbrain.utils.fetching:Fetch classifier.ckpt: Using existing file/symlink in models/spkrec-ecapa-voxceleb/classifier.ckpt.\n",
      "INFO:speechbrain.utils.fetching:Fetch label_encoder.txt: Using existing file/symlink in models/spkrec-ecapa-voxceleb/label_encoder.ckpt.\n",
      "INFO:speechbrain.utils.parameter_transfer:Loading pretrained files for: embedding_model, mean_var_norm_emb, classifier, label_encoder\n",
      "DEBUG:speechbrain.dataio.encoder:Loaded categorical encoding from models/spkrec-ecapa-voxceleb/label_encoder.ckpt\n"
     ]
    },
    {
     "name": "stderr",
     "output_type": "stream",
     "text": [
      "Map:  24%|██▍       | 24/100 [00:12<00:35,  2.15 examples/s]"
     ]
    },
    {
     "name": "stdout",
     "output_type": "stream",
     "text": [
      "INFO:speechbrain.utils.fetching:Fetch hyperparams.yaml: Using existing file/symlink in models/spkrec-ecapa-voxceleb/hyperparams.yaml.\n",
      "INFO:speechbrain.utils.fetching:Fetch custom.py: Delegating to Huggingface hub, source speechbrain/spkrec-ecapa-voxceleb.\n",
      "DEBUG:urllib3.connectionpool:https://huggingface.co:443 \"HEAD /speechbrain/spkrec-ecapa-voxceleb/resolve/main/custom.py HTTP/1.1\" 404 0\n",
      "DEBUG:speechbrain.utils.parameter_transfer:Collecting files (or symlinks) for pretraining in models/spkrec-ecapa-voxceleb.\n",
      "INFO:speechbrain.utils.fetching:Fetch embedding_model.ckpt: Using existing file/symlink in models/spkrec-ecapa-voxceleb/embedding_model.ckpt.\n",
      "INFO:speechbrain.utils.fetching:Fetch mean_var_norm_emb.ckpt: Using existing file/symlink in models/spkrec-ecapa-voxceleb/mean_var_norm_emb.ckpt.\n",
      "INFO:speechbrain.utils.fetching:Fetch classifier.ckpt: Using existing file/symlink in models/spkrec-ecapa-voxceleb/classifier.ckpt.\n",
      "INFO:speechbrain.utils.fetching:Fetch label_encoder.txt: Using existing file/symlink in models/spkrec-ecapa-voxceleb/label_encoder.ckpt.\n",
      "INFO:speechbrain.utils.parameter_transfer:Loading pretrained files for: embedding_model, mean_var_norm_emb, classifier, label_encoder\n",
      "DEBUG:speechbrain.dataio.encoder:Loaded categorical encoding from models/spkrec-ecapa-voxceleb/label_encoder.ckpt\n"
     ]
    },
    {
     "name": "stderr",
     "output_type": "stream",
     "text": [
      "Map:  25%|██▌       | 25/100 [00:13<00:32,  2.34 examples/s]"
     ]
    },
    {
     "name": "stdout",
     "output_type": "stream",
     "text": [
      "INFO:speechbrain.utils.fetching:Fetch hyperparams.yaml: Using existing file/symlink in models/spkrec-ecapa-voxceleb/hyperparams.yaml.\n",
      "INFO:speechbrain.utils.fetching:Fetch custom.py: Delegating to Huggingface hub, source speechbrain/spkrec-ecapa-voxceleb.\n",
      "DEBUG:urllib3.connectionpool:https://huggingface.co:443 \"HEAD /speechbrain/spkrec-ecapa-voxceleb/resolve/main/custom.py HTTP/1.1\" 404 0\n",
      "DEBUG:speechbrain.utils.parameter_transfer:Collecting files (or symlinks) for pretraining in models/spkrec-ecapa-voxceleb.\n",
      "INFO:speechbrain.utils.fetching:Fetch embedding_model.ckpt: Using existing file/symlink in models/spkrec-ecapa-voxceleb/embedding_model.ckpt.\n",
      "INFO:speechbrain.utils.fetching:Fetch mean_var_norm_emb.ckpt: Using existing file/symlink in models/spkrec-ecapa-voxceleb/mean_var_norm_emb.ckpt.\n",
      "INFO:speechbrain.utils.fetching:Fetch classifier.ckpt: Using existing file/symlink in models/spkrec-ecapa-voxceleb/classifier.ckpt.\n",
      "INFO:speechbrain.utils.fetching:Fetch label_encoder.txt: Using existing file/symlink in models/spkrec-ecapa-voxceleb/label_encoder.ckpt.\n",
      "INFO:speechbrain.utils.parameter_transfer:Loading pretrained files for: embedding_model, mean_var_norm_emb, classifier, label_encoder\n",
      "DEBUG:speechbrain.dataio.encoder:Loaded categorical encoding from models/spkrec-ecapa-voxceleb/label_encoder.ckpt\n"
     ]
    },
    {
     "name": "stderr",
     "output_type": "stream",
     "text": [
      "Map:  26%|██▌       | 26/100 [00:13<00:29,  2.52 examples/s]"
     ]
    },
    {
     "name": "stdout",
     "output_type": "stream",
     "text": [
      "INFO:speechbrain.utils.fetching:Fetch hyperparams.yaml: Using existing file/symlink in models/spkrec-ecapa-voxceleb/hyperparams.yaml.\n",
      "INFO:speechbrain.utils.fetching:Fetch custom.py: Delegating to Huggingface hub, source speechbrain/spkrec-ecapa-voxceleb.\n",
      "DEBUG:urllib3.connectionpool:https://huggingface.co:443 \"HEAD /speechbrain/spkrec-ecapa-voxceleb/resolve/main/custom.py HTTP/1.1\" 404 0\n",
      "DEBUG:speechbrain.utils.parameter_transfer:Collecting files (or symlinks) for pretraining in models/spkrec-ecapa-voxceleb.\n",
      "INFO:speechbrain.utils.fetching:Fetch embedding_model.ckpt: Using existing file/symlink in models/spkrec-ecapa-voxceleb/embedding_model.ckpt.\n",
      "INFO:speechbrain.utils.fetching:Fetch mean_var_norm_emb.ckpt: Using existing file/symlink in models/spkrec-ecapa-voxceleb/mean_var_norm_emb.ckpt.\n",
      "INFO:speechbrain.utils.fetching:Fetch classifier.ckpt: Using existing file/symlink in models/spkrec-ecapa-voxceleb/classifier.ckpt.\n",
      "INFO:speechbrain.utils.fetching:Fetch label_encoder.txt: Using existing file/symlink in models/spkrec-ecapa-voxceleb/label_encoder.ckpt.\n",
      "INFO:speechbrain.utils.parameter_transfer:Loading pretrained files for: embedding_model, mean_var_norm_emb, classifier, label_encoder\n",
      "DEBUG:speechbrain.dataio.encoder:Loaded categorical encoding from models/spkrec-ecapa-voxceleb/label_encoder.ckpt\n"
     ]
    },
    {
     "name": "stderr",
     "output_type": "stream",
     "text": [
      "Map:  27%|██▋       | 27/100 [00:13<00:26,  2.71 examples/s]"
     ]
    },
    {
     "name": "stdout",
     "output_type": "stream",
     "text": [
      "INFO:speechbrain.utils.fetching:Fetch hyperparams.yaml: Using existing file/symlink in models/spkrec-ecapa-voxceleb/hyperparams.yaml.\n",
      "INFO:speechbrain.utils.fetching:Fetch custom.py: Delegating to Huggingface hub, source speechbrain/spkrec-ecapa-voxceleb.\n",
      "DEBUG:urllib3.connectionpool:https://huggingface.co:443 \"HEAD /speechbrain/spkrec-ecapa-voxceleb/resolve/main/custom.py HTTP/1.1\" 404 0\n",
      "DEBUG:speechbrain.utils.parameter_transfer:Collecting files (or symlinks) for pretraining in models/spkrec-ecapa-voxceleb.\n",
      "INFO:speechbrain.utils.fetching:Fetch embedding_model.ckpt: Using existing file/symlink in models/spkrec-ecapa-voxceleb/embedding_model.ckpt.\n",
      "INFO:speechbrain.utils.fetching:Fetch mean_var_norm_emb.ckpt: Using existing file/symlink in models/spkrec-ecapa-voxceleb/mean_var_norm_emb.ckpt.\n",
      "INFO:speechbrain.utils.fetching:Fetch classifier.ckpt: Using existing file/symlink in models/spkrec-ecapa-voxceleb/classifier.ckpt.\n",
      "INFO:speechbrain.utils.fetching:Fetch label_encoder.txt: Using existing file/symlink in models/spkrec-ecapa-voxceleb/label_encoder.ckpt.\n",
      "INFO:speechbrain.utils.parameter_transfer:Loading pretrained files for: embedding_model, mean_var_norm_emb, classifier, label_encoder\n",
      "DEBUG:speechbrain.dataio.encoder:Loaded categorical encoding from models/spkrec-ecapa-voxceleb/label_encoder.ckpt\n"
     ]
    },
    {
     "name": "stderr",
     "output_type": "stream",
     "text": [
      "Map:  28%|██▊       | 28/100 [00:14<00:26,  2.69 examples/s]"
     ]
    },
    {
     "name": "stdout",
     "output_type": "stream",
     "text": [
      "INFO:speechbrain.utils.fetching:Fetch hyperparams.yaml: Using existing file/symlink in models/spkrec-ecapa-voxceleb/hyperparams.yaml.\n",
      "INFO:speechbrain.utils.fetching:Fetch custom.py: Delegating to Huggingface hub, source speechbrain/spkrec-ecapa-voxceleb.\n",
      "DEBUG:urllib3.connectionpool:https://huggingface.co:443 \"HEAD /speechbrain/spkrec-ecapa-voxceleb/resolve/main/custom.py HTTP/1.1\" 404 0\n",
      "DEBUG:speechbrain.utils.parameter_transfer:Collecting files (or symlinks) for pretraining in models/spkrec-ecapa-voxceleb.\n",
      "INFO:speechbrain.utils.fetching:Fetch embedding_model.ckpt: Using existing file/symlink in models/spkrec-ecapa-voxceleb/embedding_model.ckpt.\n",
      "INFO:speechbrain.utils.fetching:Fetch mean_var_norm_emb.ckpt: Using existing file/symlink in models/spkrec-ecapa-voxceleb/mean_var_norm_emb.ckpt.\n",
      "INFO:speechbrain.utils.fetching:Fetch classifier.ckpt: Using existing file/symlink in models/spkrec-ecapa-voxceleb/classifier.ckpt.\n",
      "INFO:speechbrain.utils.fetching:Fetch label_encoder.txt: Using existing file/symlink in models/spkrec-ecapa-voxceleb/label_encoder.ckpt.\n",
      "INFO:speechbrain.utils.parameter_transfer:Loading pretrained files for: embedding_model, mean_var_norm_emb, classifier, label_encoder\n",
      "DEBUG:speechbrain.dataio.encoder:Loaded categorical encoding from models/spkrec-ecapa-voxceleb/label_encoder.ckpt\n"
     ]
    },
    {
     "name": "stderr",
     "output_type": "stream",
     "text": [
      "Map:  29%|██▉       | 29/100 [00:14<00:25,  2.78 examples/s]"
     ]
    },
    {
     "name": "stdout",
     "output_type": "stream",
     "text": [
      "INFO:speechbrain.utils.fetching:Fetch hyperparams.yaml: Using existing file/symlink in models/spkrec-ecapa-voxceleb/hyperparams.yaml.\n",
      "INFO:speechbrain.utils.fetching:Fetch custom.py: Delegating to Huggingface hub, source speechbrain/spkrec-ecapa-voxceleb.\n",
      "DEBUG:urllib3.connectionpool:https://huggingface.co:443 \"HEAD /speechbrain/spkrec-ecapa-voxceleb/resolve/main/custom.py HTTP/1.1\" 404 0\n",
      "DEBUG:speechbrain.utils.parameter_transfer:Collecting files (or symlinks) for pretraining in models/spkrec-ecapa-voxceleb.\n",
      "INFO:speechbrain.utils.fetching:Fetch embedding_model.ckpt: Using existing file/symlink in models/spkrec-ecapa-voxceleb/embedding_model.ckpt.\n",
      "INFO:speechbrain.utils.fetching:Fetch mean_var_norm_emb.ckpt: Using existing file/symlink in models/spkrec-ecapa-voxceleb/mean_var_norm_emb.ckpt.\n",
      "INFO:speechbrain.utils.fetching:Fetch classifier.ckpt: Using existing file/symlink in models/spkrec-ecapa-voxceleb/classifier.ckpt.\n",
      "INFO:speechbrain.utils.fetching:Fetch label_encoder.txt: Using existing file/symlink in models/spkrec-ecapa-voxceleb/label_encoder.ckpt.\n",
      "INFO:speechbrain.utils.parameter_transfer:Loading pretrained files for: embedding_model, mean_var_norm_emb, classifier, label_encoder\n",
      "DEBUG:speechbrain.dataio.encoder:Loaded categorical encoding from models/spkrec-ecapa-voxceleb/label_encoder.ckpt\n"
     ]
    },
    {
     "name": "stderr",
     "output_type": "stream",
     "text": [
      "Map:  30%|███       | 30/100 [00:15<00:26,  2.62 examples/s]"
     ]
    },
    {
     "name": "stdout",
     "output_type": "stream",
     "text": [
      "INFO:speechbrain.utils.fetching:Fetch hyperparams.yaml: Using existing file/symlink in models/spkrec-ecapa-voxceleb/hyperparams.yaml.\n",
      "INFO:speechbrain.utils.fetching:Fetch custom.py: Delegating to Huggingface hub, source speechbrain/spkrec-ecapa-voxceleb.\n",
      "DEBUG:urllib3.connectionpool:https://huggingface.co:443 \"HEAD /speechbrain/spkrec-ecapa-voxceleb/resolve/main/custom.py HTTP/1.1\" 404 0\n",
      "DEBUG:speechbrain.utils.parameter_transfer:Collecting files (or symlinks) for pretraining in models/spkrec-ecapa-voxceleb.\n",
      "INFO:speechbrain.utils.fetching:Fetch embedding_model.ckpt: Using existing file/symlink in models/spkrec-ecapa-voxceleb/embedding_model.ckpt.\n",
      "INFO:speechbrain.utils.fetching:Fetch mean_var_norm_emb.ckpt: Using existing file/symlink in models/spkrec-ecapa-voxceleb/mean_var_norm_emb.ckpt.\n",
      "INFO:speechbrain.utils.fetching:Fetch classifier.ckpt: Using existing file/symlink in models/spkrec-ecapa-voxceleb/classifier.ckpt.\n",
      "INFO:speechbrain.utils.fetching:Fetch label_encoder.txt: Using existing file/symlink in models/spkrec-ecapa-voxceleb/label_encoder.ckpt.\n",
      "INFO:speechbrain.utils.parameter_transfer:Loading pretrained files for: embedding_model, mean_var_norm_emb, classifier, label_encoder\n",
      "DEBUG:speechbrain.dataio.encoder:Loaded categorical encoding from models/spkrec-ecapa-voxceleb/label_encoder.ckpt\n"
     ]
    },
    {
     "name": "stderr",
     "output_type": "stream",
     "text": [
      "Map:  31%|███       | 31/100 [00:15<00:24,  2.79 examples/s]"
     ]
    },
    {
     "name": "stdout",
     "output_type": "stream",
     "text": [
      "INFO:speechbrain.utils.fetching:Fetch hyperparams.yaml: Using existing file/symlink in models/spkrec-ecapa-voxceleb/hyperparams.yaml.\n",
      "INFO:speechbrain.utils.fetching:Fetch custom.py: Delegating to Huggingface hub, source speechbrain/spkrec-ecapa-voxceleb.\n",
      "DEBUG:urllib3.connectionpool:https://huggingface.co:443 \"HEAD /speechbrain/spkrec-ecapa-voxceleb/resolve/main/custom.py HTTP/1.1\" 404 0\n",
      "DEBUG:speechbrain.utils.parameter_transfer:Collecting files (or symlinks) for pretraining in models/spkrec-ecapa-voxceleb.\n",
      "INFO:speechbrain.utils.fetching:Fetch embedding_model.ckpt: Using existing file/symlink in models/spkrec-ecapa-voxceleb/embedding_model.ckpt.\n",
      "INFO:speechbrain.utils.fetching:Fetch mean_var_norm_emb.ckpt: Using existing file/symlink in models/spkrec-ecapa-voxceleb/mean_var_norm_emb.ckpt.\n",
      "INFO:speechbrain.utils.fetching:Fetch classifier.ckpt: Using existing file/symlink in models/spkrec-ecapa-voxceleb/classifier.ckpt.\n",
      "INFO:speechbrain.utils.fetching:Fetch label_encoder.txt: Using existing file/symlink in models/spkrec-ecapa-voxceleb/label_encoder.ckpt.\n",
      "INFO:speechbrain.utils.parameter_transfer:Loading pretrained files for: embedding_model, mean_var_norm_emb, classifier, label_encoder\n",
      "DEBUG:speechbrain.dataio.encoder:Loaded categorical encoding from models/spkrec-ecapa-voxceleb/label_encoder.ckpt\n"
     ]
    },
    {
     "name": "stderr",
     "output_type": "stream",
     "text": [
      "Map:  32%|███▏      | 32/100 [00:16<00:35,  1.90 examples/s]"
     ]
    },
    {
     "name": "stdout",
     "output_type": "stream",
     "text": [
      "INFO:speechbrain.utils.fetching:Fetch hyperparams.yaml: Using existing file/symlink in models/spkrec-ecapa-voxceleb/hyperparams.yaml.\n",
      "INFO:speechbrain.utils.fetching:Fetch custom.py: Delegating to Huggingface hub, source speechbrain/spkrec-ecapa-voxceleb.\n",
      "DEBUG:urllib3.connectionpool:https://huggingface.co:443 \"HEAD /speechbrain/spkrec-ecapa-voxceleb/resolve/main/custom.py HTTP/1.1\" 404 0\n",
      "DEBUG:speechbrain.utils.parameter_transfer:Collecting files (or symlinks) for pretraining in models/spkrec-ecapa-voxceleb.\n",
      "INFO:speechbrain.utils.fetching:Fetch embedding_model.ckpt: Using existing file/symlink in models/spkrec-ecapa-voxceleb/embedding_model.ckpt.\n",
      "INFO:speechbrain.utils.fetching:Fetch mean_var_norm_emb.ckpt: Using existing file/symlink in models/spkrec-ecapa-voxceleb/mean_var_norm_emb.ckpt.\n",
      "INFO:speechbrain.utils.fetching:Fetch classifier.ckpt: Using existing file/symlink in models/spkrec-ecapa-voxceleb/classifier.ckpt.\n",
      "INFO:speechbrain.utils.fetching:Fetch label_encoder.txt: Using existing file/symlink in models/spkrec-ecapa-voxceleb/label_encoder.ckpt.\n",
      "INFO:speechbrain.utils.parameter_transfer:Loading pretrained files for: embedding_model, mean_var_norm_emb, classifier, label_encoder\n",
      "DEBUG:speechbrain.dataio.encoder:Loaded categorical encoding from models/spkrec-ecapa-voxceleb/label_encoder.ckpt\n"
     ]
    },
    {
     "name": "stderr",
     "output_type": "stream",
     "text": [
      "Map:  33%|███▎      | 33/100 [00:16<00:34,  1.96 examples/s]"
     ]
    },
    {
     "name": "stdout",
     "output_type": "stream",
     "text": [
      "INFO:speechbrain.utils.fetching:Fetch hyperparams.yaml: Using existing file/symlink in models/spkrec-ecapa-voxceleb/hyperparams.yaml.\n",
      "INFO:speechbrain.utils.fetching:Fetch custom.py: Delegating to Huggingface hub, source speechbrain/spkrec-ecapa-voxceleb.\n",
      "DEBUG:urllib3.connectionpool:https://huggingface.co:443 \"HEAD /speechbrain/spkrec-ecapa-voxceleb/resolve/main/custom.py HTTP/1.1\" 404 0\n",
      "DEBUG:speechbrain.utils.parameter_transfer:Collecting files (or symlinks) for pretraining in models/spkrec-ecapa-voxceleb.\n",
      "INFO:speechbrain.utils.fetching:Fetch embedding_model.ckpt: Using existing file/symlink in models/spkrec-ecapa-voxceleb/embedding_model.ckpt.\n",
      "INFO:speechbrain.utils.fetching:Fetch mean_var_norm_emb.ckpt: Using existing file/symlink in models/spkrec-ecapa-voxceleb/mean_var_norm_emb.ckpt.\n",
      "INFO:speechbrain.utils.fetching:Fetch classifier.ckpt: Using existing file/symlink in models/spkrec-ecapa-voxceleb/classifier.ckpt.\n",
      "INFO:speechbrain.utils.fetching:Fetch label_encoder.txt: Using existing file/symlink in models/spkrec-ecapa-voxceleb/label_encoder.ckpt.\n",
      "INFO:speechbrain.utils.parameter_transfer:Loading pretrained files for: embedding_model, mean_var_norm_emb, classifier, label_encoder\n",
      "DEBUG:speechbrain.dataio.encoder:Loaded categorical encoding from models/spkrec-ecapa-voxceleb/label_encoder.ckpt\n"
     ]
    },
    {
     "name": "stderr",
     "output_type": "stream",
     "text": [
      "Map:  34%|███▍      | 34/100 [00:19<01:11,  1.09s/ examples]"
     ]
    },
    {
     "name": "stdout",
     "output_type": "stream",
     "text": [
      "INFO:speechbrain.utils.fetching:Fetch hyperparams.yaml: Using existing file/symlink in models/spkrec-ecapa-voxceleb/hyperparams.yaml.\n",
      "INFO:speechbrain.utils.fetching:Fetch custom.py: Delegating to Huggingface hub, source speechbrain/spkrec-ecapa-voxceleb.\n",
      "DEBUG:urllib3.connectionpool:https://huggingface.co:443 \"HEAD /speechbrain/spkrec-ecapa-voxceleb/resolve/main/custom.py HTTP/1.1\" 404 0\n",
      "DEBUG:speechbrain.utils.parameter_transfer:Collecting files (or symlinks) for pretraining in models/spkrec-ecapa-voxceleb.\n",
      "INFO:speechbrain.utils.fetching:Fetch embedding_model.ckpt: Using existing file/symlink in models/spkrec-ecapa-voxceleb/embedding_model.ckpt.\n",
      "INFO:speechbrain.utils.fetching:Fetch mean_var_norm_emb.ckpt: Using existing file/symlink in models/spkrec-ecapa-voxceleb/mean_var_norm_emb.ckpt.\n",
      "INFO:speechbrain.utils.fetching:Fetch classifier.ckpt: Using existing file/symlink in models/spkrec-ecapa-voxceleb/classifier.ckpt.\n",
      "INFO:speechbrain.utils.fetching:Fetch label_encoder.txt: Using existing file/symlink in models/spkrec-ecapa-voxceleb/label_encoder.ckpt.\n",
      "INFO:speechbrain.utils.parameter_transfer:Loading pretrained files for: embedding_model, mean_var_norm_emb, classifier, label_encoder\n",
      "DEBUG:speechbrain.dataio.encoder:Loaded categorical encoding from models/spkrec-ecapa-voxceleb/label_encoder.ckpt\n"
     ]
    },
    {
     "name": "stderr",
     "output_type": "stream",
     "text": [
      "Map:  35%|███▌      | 35/100 [00:20<01:19,  1.22s/ examples]"
     ]
    },
    {
     "name": "stdout",
     "output_type": "stream",
     "text": [
      "INFO:speechbrain.utils.fetching:Fetch hyperparams.yaml: Using existing file/symlink in models/spkrec-ecapa-voxceleb/hyperparams.yaml.\n",
      "INFO:speechbrain.utils.fetching:Fetch custom.py: Delegating to Huggingface hub, source speechbrain/spkrec-ecapa-voxceleb.\n",
      "DEBUG:urllib3.connectionpool:https://huggingface.co:443 \"HEAD /speechbrain/spkrec-ecapa-voxceleb/resolve/main/custom.py HTTP/1.1\" 404 0\n",
      "DEBUG:speechbrain.utils.parameter_transfer:Collecting files (or symlinks) for pretraining in models/spkrec-ecapa-voxceleb.\n",
      "INFO:speechbrain.utils.fetching:Fetch embedding_model.ckpt: Using existing file/symlink in models/spkrec-ecapa-voxceleb/embedding_model.ckpt.\n",
      "INFO:speechbrain.utils.fetching:Fetch mean_var_norm_emb.ckpt: Using existing file/symlink in models/spkrec-ecapa-voxceleb/mean_var_norm_emb.ckpt.\n",
      "INFO:speechbrain.utils.fetching:Fetch classifier.ckpt: Using existing file/symlink in models/spkrec-ecapa-voxceleb/classifier.ckpt.\n",
      "INFO:speechbrain.utils.fetching:Fetch label_encoder.txt: Using existing file/symlink in models/spkrec-ecapa-voxceleb/label_encoder.ckpt.\n",
      "INFO:speechbrain.utils.parameter_transfer:Loading pretrained files for: embedding_model, mean_var_norm_emb, classifier, label_encoder\n",
      "DEBUG:speechbrain.dataio.encoder:Loaded categorical encoding from models/spkrec-ecapa-voxceleb/label_encoder.ckpt\n"
     ]
    },
    {
     "name": "stderr",
     "output_type": "stream",
     "text": [
      "Map:  36%|███▌      | 36/100 [00:21<01:01,  1.04 examples/s]"
     ]
    },
    {
     "name": "stdout",
     "output_type": "stream",
     "text": [
      "INFO:speechbrain.utils.fetching:Fetch hyperparams.yaml: Using existing file/symlink in models/spkrec-ecapa-voxceleb/hyperparams.yaml.\n",
      "INFO:speechbrain.utils.fetching:Fetch custom.py: Delegating to Huggingface hub, source speechbrain/spkrec-ecapa-voxceleb.\n",
      "DEBUG:urllib3.connectionpool:https://huggingface.co:443 \"HEAD /speechbrain/spkrec-ecapa-voxceleb/resolve/main/custom.py HTTP/1.1\" 404 0\n",
      "DEBUG:speechbrain.utils.parameter_transfer:Collecting files (or symlinks) for pretraining in models/spkrec-ecapa-voxceleb.\n",
      "INFO:speechbrain.utils.fetching:Fetch embedding_model.ckpt: Using existing file/symlink in models/spkrec-ecapa-voxceleb/embedding_model.ckpt.\n",
      "INFO:speechbrain.utils.fetching:Fetch mean_var_norm_emb.ckpt: Using existing file/symlink in models/spkrec-ecapa-voxceleb/mean_var_norm_emb.ckpt.\n",
      "INFO:speechbrain.utils.fetching:Fetch classifier.ckpt: Using existing file/symlink in models/spkrec-ecapa-voxceleb/classifier.ckpt.\n",
      "INFO:speechbrain.utils.fetching:Fetch label_encoder.txt: Using existing file/symlink in models/spkrec-ecapa-voxceleb/label_encoder.ckpt.\n",
      "INFO:speechbrain.utils.parameter_transfer:Loading pretrained files for: embedding_model, mean_var_norm_emb, classifier, label_encoder\n",
      "DEBUG:speechbrain.dataio.encoder:Loaded categorical encoding from models/spkrec-ecapa-voxceleb/label_encoder.ckpt\n"
     ]
    },
    {
     "name": "stderr",
     "output_type": "stream",
     "text": [
      "Map:  37%|███▋      | 37/100 [00:21<00:53,  1.17 examples/s]"
     ]
    },
    {
     "name": "stdout",
     "output_type": "stream",
     "text": [
      "INFO:speechbrain.utils.fetching:Fetch hyperparams.yaml: Using existing file/symlink in models/spkrec-ecapa-voxceleb/hyperparams.yaml.\n",
      "INFO:speechbrain.utils.fetching:Fetch custom.py: Delegating to Huggingface hub, source speechbrain/spkrec-ecapa-voxceleb.\n",
      "DEBUG:urllib3.connectionpool:https://huggingface.co:443 \"HEAD /speechbrain/spkrec-ecapa-voxceleb/resolve/main/custom.py HTTP/1.1\" 404 0\n",
      "DEBUG:speechbrain.utils.parameter_transfer:Collecting files (or symlinks) for pretraining in models/spkrec-ecapa-voxceleb.\n",
      "INFO:speechbrain.utils.fetching:Fetch embedding_model.ckpt: Using existing file/symlink in models/spkrec-ecapa-voxceleb/embedding_model.ckpt.\n",
      "INFO:speechbrain.utils.fetching:Fetch mean_var_norm_emb.ckpt: Using existing file/symlink in models/spkrec-ecapa-voxceleb/mean_var_norm_emb.ckpt.\n",
      "INFO:speechbrain.utils.fetching:Fetch classifier.ckpt: Using existing file/symlink in models/spkrec-ecapa-voxceleb/classifier.ckpt.\n",
      "INFO:speechbrain.utils.fetching:Fetch label_encoder.txt: Using existing file/symlink in models/spkrec-ecapa-voxceleb/label_encoder.ckpt.\n",
      "INFO:speechbrain.utils.parameter_transfer:Loading pretrained files for: embedding_model, mean_var_norm_emb, classifier, label_encoder\n",
      "DEBUG:speechbrain.dataio.encoder:Loaded categorical encoding from models/spkrec-ecapa-voxceleb/label_encoder.ckpt\n"
     ]
    },
    {
     "name": "stderr",
     "output_type": "stream",
     "text": [
      "Map:  38%|███▊      | 38/100 [00:22<00:43,  1.41 examples/s]"
     ]
    },
    {
     "name": "stdout",
     "output_type": "stream",
     "text": [
      "INFO:speechbrain.utils.fetching:Fetch hyperparams.yaml: Using existing file/symlink in models/spkrec-ecapa-voxceleb/hyperparams.yaml.\n",
      "INFO:speechbrain.utils.fetching:Fetch custom.py: Delegating to Huggingface hub, source speechbrain/spkrec-ecapa-voxceleb.\n",
      "DEBUG:urllib3.connectionpool:https://huggingface.co:443 \"HEAD /speechbrain/spkrec-ecapa-voxceleb/resolve/main/custom.py HTTP/1.1\" 404 0\n",
      "DEBUG:speechbrain.utils.parameter_transfer:Collecting files (or symlinks) for pretraining in models/spkrec-ecapa-voxceleb.\n",
      "INFO:speechbrain.utils.fetching:Fetch embedding_model.ckpt: Using existing file/symlink in models/spkrec-ecapa-voxceleb/embedding_model.ckpt.\n",
      "INFO:speechbrain.utils.fetching:Fetch mean_var_norm_emb.ckpt: Using existing file/symlink in models/spkrec-ecapa-voxceleb/mean_var_norm_emb.ckpt.\n",
      "INFO:speechbrain.utils.fetching:Fetch classifier.ckpt: Using existing file/symlink in models/spkrec-ecapa-voxceleb/classifier.ckpt.\n",
      "INFO:speechbrain.utils.fetching:Fetch label_encoder.txt: Using existing file/symlink in models/spkrec-ecapa-voxceleb/label_encoder.ckpt.\n",
      "INFO:speechbrain.utils.parameter_transfer:Loading pretrained files for: embedding_model, mean_var_norm_emb, classifier, label_encoder\n",
      "DEBUG:speechbrain.dataio.encoder:Loaded categorical encoding from models/spkrec-ecapa-voxceleb/label_encoder.ckpt\n"
     ]
    },
    {
     "name": "stderr",
     "output_type": "stream",
     "text": [
      "Map:  39%|███▉      | 39/100 [00:22<00:36,  1.67 examples/s]"
     ]
    },
    {
     "name": "stdout",
     "output_type": "stream",
     "text": [
      "INFO:speechbrain.utils.fetching:Fetch hyperparams.yaml: Using existing file/symlink in models/spkrec-ecapa-voxceleb/hyperparams.yaml.\n",
      "INFO:speechbrain.utils.fetching:Fetch custom.py: Delegating to Huggingface hub, source speechbrain/spkrec-ecapa-voxceleb.\n",
      "DEBUG:urllib3.connectionpool:https://huggingface.co:443 \"HEAD /speechbrain/spkrec-ecapa-voxceleb/resolve/main/custom.py HTTP/1.1\" 404 0\n",
      "DEBUG:speechbrain.utils.parameter_transfer:Collecting files (or symlinks) for pretraining in models/spkrec-ecapa-voxceleb.\n",
      "INFO:speechbrain.utils.fetching:Fetch embedding_model.ckpt: Using existing file/symlink in models/spkrec-ecapa-voxceleb/embedding_model.ckpt.\n",
      "INFO:speechbrain.utils.fetching:Fetch mean_var_norm_emb.ckpt: Using existing file/symlink in models/spkrec-ecapa-voxceleb/mean_var_norm_emb.ckpt.\n",
      "INFO:speechbrain.utils.fetching:Fetch classifier.ckpt: Using existing file/symlink in models/spkrec-ecapa-voxceleb/classifier.ckpt.\n",
      "INFO:speechbrain.utils.fetching:Fetch label_encoder.txt: Using existing file/symlink in models/spkrec-ecapa-voxceleb/label_encoder.ckpt.\n",
      "INFO:speechbrain.utils.parameter_transfer:Loading pretrained files for: embedding_model, mean_var_norm_emb, classifier, label_encoder\n",
      "DEBUG:speechbrain.dataio.encoder:Loaded categorical encoding from models/spkrec-ecapa-voxceleb/label_encoder.ckpt\n"
     ]
    },
    {
     "name": "stderr",
     "output_type": "stream",
     "text": [
      "Map:  40%|████      | 40/100 [00:22<00:30,  1.95 examples/s]"
     ]
    },
    {
     "name": "stdout",
     "output_type": "stream",
     "text": [
      "INFO:speechbrain.utils.fetching:Fetch hyperparams.yaml: Using existing file/symlink in models/spkrec-ecapa-voxceleb/hyperparams.yaml.\n",
      "INFO:speechbrain.utils.fetching:Fetch custom.py: Delegating to Huggingface hub, source speechbrain/spkrec-ecapa-voxceleb.\n",
      "DEBUG:urllib3.connectionpool:https://huggingface.co:443 \"HEAD /speechbrain/spkrec-ecapa-voxceleb/resolve/main/custom.py HTTP/1.1\" 404 0\n",
      "DEBUG:speechbrain.utils.parameter_transfer:Collecting files (or symlinks) for pretraining in models/spkrec-ecapa-voxceleb.\n",
      "INFO:speechbrain.utils.fetching:Fetch embedding_model.ckpt: Using existing file/symlink in models/spkrec-ecapa-voxceleb/embedding_model.ckpt.\n",
      "INFO:speechbrain.utils.fetching:Fetch mean_var_norm_emb.ckpt: Using existing file/symlink in models/spkrec-ecapa-voxceleb/mean_var_norm_emb.ckpt.\n",
      "INFO:speechbrain.utils.fetching:Fetch classifier.ckpt: Using existing file/symlink in models/spkrec-ecapa-voxceleb/classifier.ckpt.\n",
      "INFO:speechbrain.utils.fetching:Fetch label_encoder.txt: Using existing file/symlink in models/spkrec-ecapa-voxceleb/label_encoder.ckpt.\n",
      "INFO:speechbrain.utils.parameter_transfer:Loading pretrained files for: embedding_model, mean_var_norm_emb, classifier, label_encoder\n",
      "DEBUG:speechbrain.dataio.encoder:Loaded categorical encoding from models/spkrec-ecapa-voxceleb/label_encoder.ckpt\n"
     ]
    },
    {
     "name": "stderr",
     "output_type": "stream",
     "text": [
      "Map:  41%|████      | 41/100 [00:23<00:28,  2.06 examples/s]"
     ]
    },
    {
     "name": "stdout",
     "output_type": "stream",
     "text": [
      "INFO:speechbrain.utils.fetching:Fetch hyperparams.yaml: Using existing file/symlink in models/spkrec-ecapa-voxceleb/hyperparams.yaml.\n",
      "INFO:speechbrain.utils.fetching:Fetch custom.py: Delegating to Huggingface hub, source speechbrain/spkrec-ecapa-voxceleb.\n",
      "DEBUG:urllib3.connectionpool:https://huggingface.co:443 \"HEAD /speechbrain/spkrec-ecapa-voxceleb/resolve/main/custom.py HTTP/1.1\" 404 0\n",
      "DEBUG:speechbrain.utils.parameter_transfer:Collecting files (or symlinks) for pretraining in models/spkrec-ecapa-voxceleb.\n",
      "INFO:speechbrain.utils.fetching:Fetch embedding_model.ckpt: Using existing file/symlink in models/spkrec-ecapa-voxceleb/embedding_model.ckpt.\n",
      "INFO:speechbrain.utils.fetching:Fetch mean_var_norm_emb.ckpt: Using existing file/symlink in models/spkrec-ecapa-voxceleb/mean_var_norm_emb.ckpt.\n",
      "INFO:speechbrain.utils.fetching:Fetch classifier.ckpt: Using existing file/symlink in models/spkrec-ecapa-voxceleb/classifier.ckpt.\n",
      "INFO:speechbrain.utils.fetching:Fetch label_encoder.txt: Using existing file/symlink in models/spkrec-ecapa-voxceleb/label_encoder.ckpt.\n",
      "INFO:speechbrain.utils.parameter_transfer:Loading pretrained files for: embedding_model, mean_var_norm_emb, classifier, label_encoder\n",
      "DEBUG:speechbrain.dataio.encoder:Loaded categorical encoding from models/spkrec-ecapa-voxceleb/label_encoder.ckpt\n"
     ]
    },
    {
     "name": "stderr",
     "output_type": "stream",
     "text": [
      "Map:  42%|████▏     | 42/100 [00:23<00:26,  2.22 examples/s]"
     ]
    },
    {
     "name": "stdout",
     "output_type": "stream",
     "text": [
      "INFO:speechbrain.utils.fetching:Fetch hyperparams.yaml: Using existing file/symlink in models/spkrec-ecapa-voxceleb/hyperparams.yaml.\n",
      "INFO:speechbrain.utils.fetching:Fetch custom.py: Delegating to Huggingface hub, source speechbrain/spkrec-ecapa-voxceleb.\n",
      "DEBUG:urllib3.connectionpool:https://huggingface.co:443 \"HEAD /speechbrain/spkrec-ecapa-voxceleb/resolve/main/custom.py HTTP/1.1\" 404 0\n",
      "DEBUG:speechbrain.utils.parameter_transfer:Collecting files (or symlinks) for pretraining in models/spkrec-ecapa-voxceleb.\n",
      "INFO:speechbrain.utils.fetching:Fetch embedding_model.ckpt: Using existing file/symlink in models/spkrec-ecapa-voxceleb/embedding_model.ckpt.\n",
      "INFO:speechbrain.utils.fetching:Fetch mean_var_norm_emb.ckpt: Using existing file/symlink in models/spkrec-ecapa-voxceleb/mean_var_norm_emb.ckpt.\n",
      "INFO:speechbrain.utils.fetching:Fetch classifier.ckpt: Using existing file/symlink in models/spkrec-ecapa-voxceleb/classifier.ckpt.\n",
      "INFO:speechbrain.utils.fetching:Fetch label_encoder.txt: Using existing file/symlink in models/spkrec-ecapa-voxceleb/label_encoder.ckpt.\n",
      "INFO:speechbrain.utils.parameter_transfer:Loading pretrained files for: embedding_model, mean_var_norm_emb, classifier, label_encoder\n",
      "DEBUG:speechbrain.dataio.encoder:Loaded categorical encoding from models/spkrec-ecapa-voxceleb/label_encoder.ckpt\n"
     ]
    },
    {
     "name": "stderr",
     "output_type": "stream",
     "text": [
      "Map:  43%|████▎     | 43/100 [00:23<00:25,  2.26 examples/s]"
     ]
    },
    {
     "name": "stdout",
     "output_type": "stream",
     "text": [
      "INFO:speechbrain.utils.fetching:Fetch hyperparams.yaml: Using existing file/symlink in models/spkrec-ecapa-voxceleb/hyperparams.yaml.\n",
      "INFO:speechbrain.utils.fetching:Fetch custom.py: Delegating to Huggingface hub, source speechbrain/spkrec-ecapa-voxceleb.\n",
      "DEBUG:urllib3.connectionpool:https://huggingface.co:443 \"HEAD /speechbrain/spkrec-ecapa-voxceleb/resolve/main/custom.py HTTP/1.1\" 404 0\n",
      "DEBUG:speechbrain.utils.parameter_transfer:Collecting files (or symlinks) for pretraining in models/spkrec-ecapa-voxceleb.\n",
      "INFO:speechbrain.utils.fetching:Fetch embedding_model.ckpt: Using existing file/symlink in models/spkrec-ecapa-voxceleb/embedding_model.ckpt.\n",
      "INFO:speechbrain.utils.fetching:Fetch mean_var_norm_emb.ckpt: Using existing file/symlink in models/spkrec-ecapa-voxceleb/mean_var_norm_emb.ckpt.\n",
      "INFO:speechbrain.utils.fetching:Fetch classifier.ckpt: Using existing file/symlink in models/spkrec-ecapa-voxceleb/classifier.ckpt.\n",
      "INFO:speechbrain.utils.fetching:Fetch label_encoder.txt: Using existing file/symlink in models/spkrec-ecapa-voxceleb/label_encoder.ckpt.\n",
      "INFO:speechbrain.utils.parameter_transfer:Loading pretrained files for: embedding_model, mean_var_norm_emb, classifier, label_encoder\n",
      "DEBUG:speechbrain.dataio.encoder:Loaded categorical encoding from models/spkrec-ecapa-voxceleb/label_encoder.ckpt\n"
     ]
    },
    {
     "name": "stderr",
     "output_type": "stream",
     "text": [
      "Map:  44%|████▍     | 44/100 [00:24<00:22,  2.47 examples/s]"
     ]
    },
    {
     "name": "stdout",
     "output_type": "stream",
     "text": [
      "INFO:speechbrain.utils.fetching:Fetch hyperparams.yaml: Using existing file/symlink in models/spkrec-ecapa-voxceleb/hyperparams.yaml.\n",
      "INFO:speechbrain.utils.fetching:Fetch custom.py: Delegating to Huggingface hub, source speechbrain/spkrec-ecapa-voxceleb.\n",
      "DEBUG:urllib3.connectionpool:https://huggingface.co:443 \"HEAD /speechbrain/spkrec-ecapa-voxceleb/resolve/main/custom.py HTTP/1.1\" 404 0\n",
      "DEBUG:speechbrain.utils.parameter_transfer:Collecting files (or symlinks) for pretraining in models/spkrec-ecapa-voxceleb.\n",
      "INFO:speechbrain.utils.fetching:Fetch embedding_model.ckpt: Using existing file/symlink in models/spkrec-ecapa-voxceleb/embedding_model.ckpt.\n",
      "INFO:speechbrain.utils.fetching:Fetch mean_var_norm_emb.ckpt: Using existing file/symlink in models/spkrec-ecapa-voxceleb/mean_var_norm_emb.ckpt.\n",
      "INFO:speechbrain.utils.fetching:Fetch classifier.ckpt: Using existing file/symlink in models/spkrec-ecapa-voxceleb/classifier.ckpt.\n",
      "INFO:speechbrain.utils.fetching:Fetch label_encoder.txt: Using existing file/symlink in models/spkrec-ecapa-voxceleb/label_encoder.ckpt.\n",
      "INFO:speechbrain.utils.parameter_transfer:Loading pretrained files for: embedding_model, mean_var_norm_emb, classifier, label_encoder\n",
      "DEBUG:speechbrain.dataio.encoder:Loaded categorical encoding from models/spkrec-ecapa-voxceleb/label_encoder.ckpt\n"
     ]
    },
    {
     "name": "stderr",
     "output_type": "stream",
     "text": [
      "Map:  45%|████▌     | 45/100 [00:24<00:21,  2.59 examples/s]"
     ]
    },
    {
     "name": "stdout",
     "output_type": "stream",
     "text": [
      "INFO:speechbrain.utils.fetching:Fetch hyperparams.yaml: Using existing file/symlink in models/spkrec-ecapa-voxceleb/hyperparams.yaml.\n",
      "INFO:speechbrain.utils.fetching:Fetch custom.py: Delegating to Huggingface hub, source speechbrain/spkrec-ecapa-voxceleb.\n",
      "DEBUG:urllib3.connectionpool:https://huggingface.co:443 \"HEAD /speechbrain/spkrec-ecapa-voxceleb/resolve/main/custom.py HTTP/1.1\" 404 0\n",
      "DEBUG:speechbrain.utils.parameter_transfer:Collecting files (or symlinks) for pretraining in models/spkrec-ecapa-voxceleb.\n",
      "INFO:speechbrain.utils.fetching:Fetch embedding_model.ckpt: Using existing file/symlink in models/spkrec-ecapa-voxceleb/embedding_model.ckpt.\n",
      "INFO:speechbrain.utils.fetching:Fetch mean_var_norm_emb.ckpt: Using existing file/symlink in models/spkrec-ecapa-voxceleb/mean_var_norm_emb.ckpt.\n",
      "INFO:speechbrain.utils.fetching:Fetch classifier.ckpt: Using existing file/symlink in models/spkrec-ecapa-voxceleb/classifier.ckpt.\n",
      "INFO:speechbrain.utils.fetching:Fetch label_encoder.txt: Using existing file/symlink in models/spkrec-ecapa-voxceleb/label_encoder.ckpt.\n",
      "INFO:speechbrain.utils.parameter_transfer:Loading pretrained files for: embedding_model, mean_var_norm_emb, classifier, label_encoder\n",
      "DEBUG:speechbrain.dataio.encoder:Loaded categorical encoding from models/spkrec-ecapa-voxceleb/label_encoder.ckpt\n"
     ]
    },
    {
     "name": "stderr",
     "output_type": "stream",
     "text": [
      "Map:  46%|████▌     | 46/100 [00:24<00:20,  2.65 examples/s]"
     ]
    },
    {
     "name": "stdout",
     "output_type": "stream",
     "text": [
      "INFO:speechbrain.utils.fetching:Fetch hyperparams.yaml: Using existing file/symlink in models/spkrec-ecapa-voxceleb/hyperparams.yaml.\n",
      "INFO:speechbrain.utils.fetching:Fetch custom.py: Delegating to Huggingface hub, source speechbrain/spkrec-ecapa-voxceleb.\n",
      "DEBUG:urllib3.connectionpool:https://huggingface.co:443 \"HEAD /speechbrain/spkrec-ecapa-voxceleb/resolve/main/custom.py HTTP/1.1\" 404 0\n",
      "DEBUG:speechbrain.utils.parameter_transfer:Collecting files (or symlinks) for pretraining in models/spkrec-ecapa-voxceleb.\n",
      "INFO:speechbrain.utils.fetching:Fetch embedding_model.ckpt: Using existing file/symlink in models/spkrec-ecapa-voxceleb/embedding_model.ckpt.\n",
      "INFO:speechbrain.utils.fetching:Fetch mean_var_norm_emb.ckpt: Using existing file/symlink in models/spkrec-ecapa-voxceleb/mean_var_norm_emb.ckpt.\n",
      "INFO:speechbrain.utils.fetching:Fetch classifier.ckpt: Using existing file/symlink in models/spkrec-ecapa-voxceleb/classifier.ckpt.\n",
      "INFO:speechbrain.utils.fetching:Fetch label_encoder.txt: Using existing file/symlink in models/spkrec-ecapa-voxceleb/label_encoder.ckpt.\n",
      "INFO:speechbrain.utils.parameter_transfer:Loading pretrained files for: embedding_model, mean_var_norm_emb, classifier, label_encoder\n",
      "DEBUG:speechbrain.dataio.encoder:Loaded categorical encoding from models/spkrec-ecapa-voxceleb/label_encoder.ckpt\n"
     ]
    },
    {
     "name": "stderr",
     "output_type": "stream",
     "text": [
      "Map:  47%|████▋     | 47/100 [00:25<00:19,  2.65 examples/s]"
     ]
    },
    {
     "name": "stdout",
     "output_type": "stream",
     "text": [
      "INFO:speechbrain.utils.fetching:Fetch hyperparams.yaml: Using existing file/symlink in models/spkrec-ecapa-voxceleb/hyperparams.yaml.\n",
      "INFO:speechbrain.utils.fetching:Fetch custom.py: Delegating to Huggingface hub, source speechbrain/spkrec-ecapa-voxceleb.\n",
      "DEBUG:urllib3.connectionpool:https://huggingface.co:443 \"HEAD /speechbrain/spkrec-ecapa-voxceleb/resolve/main/custom.py HTTP/1.1\" 404 0\n",
      "DEBUG:speechbrain.utils.parameter_transfer:Collecting files (or symlinks) for pretraining in models/spkrec-ecapa-voxceleb.\n",
      "INFO:speechbrain.utils.fetching:Fetch embedding_model.ckpt: Using existing file/symlink in models/spkrec-ecapa-voxceleb/embedding_model.ckpt.\n",
      "INFO:speechbrain.utils.fetching:Fetch mean_var_norm_emb.ckpt: Using existing file/symlink in models/spkrec-ecapa-voxceleb/mean_var_norm_emb.ckpt.\n",
      "INFO:speechbrain.utils.fetching:Fetch classifier.ckpt: Using existing file/symlink in models/spkrec-ecapa-voxceleb/classifier.ckpt.\n",
      "INFO:speechbrain.utils.fetching:Fetch label_encoder.txt: Using existing file/symlink in models/spkrec-ecapa-voxceleb/label_encoder.ckpt.\n",
      "INFO:speechbrain.utils.parameter_transfer:Loading pretrained files for: embedding_model, mean_var_norm_emb, classifier, label_encoder\n",
      "DEBUG:speechbrain.dataio.encoder:Loaded categorical encoding from models/spkrec-ecapa-voxceleb/label_encoder.ckpt\n"
     ]
    },
    {
     "name": "stderr",
     "output_type": "stream",
     "text": [
      "Map:  48%|████▊     | 48/100 [00:25<00:18,  2.79 examples/s]"
     ]
    },
    {
     "name": "stdout",
     "output_type": "stream",
     "text": [
      "INFO:speechbrain.utils.fetching:Fetch hyperparams.yaml: Using existing file/symlink in models/spkrec-ecapa-voxceleb/hyperparams.yaml.\n",
      "INFO:speechbrain.utils.fetching:Fetch custom.py: Delegating to Huggingface hub, source speechbrain/spkrec-ecapa-voxceleb.\n",
      "DEBUG:urllib3.connectionpool:https://huggingface.co:443 \"HEAD /speechbrain/spkrec-ecapa-voxceleb/resolve/main/custom.py HTTP/1.1\" 404 0\n",
      "DEBUG:speechbrain.utils.parameter_transfer:Collecting files (or symlinks) for pretraining in models/spkrec-ecapa-voxceleb.\n",
      "INFO:speechbrain.utils.fetching:Fetch embedding_model.ckpt: Using existing file/symlink in models/spkrec-ecapa-voxceleb/embedding_model.ckpt.\n",
      "INFO:speechbrain.utils.fetching:Fetch mean_var_norm_emb.ckpt: Using existing file/symlink in models/spkrec-ecapa-voxceleb/mean_var_norm_emb.ckpt.\n",
      "INFO:speechbrain.utils.fetching:Fetch classifier.ckpt: Using existing file/symlink in models/spkrec-ecapa-voxceleb/classifier.ckpt.\n",
      "INFO:speechbrain.utils.fetching:Fetch label_encoder.txt: Using existing file/symlink in models/spkrec-ecapa-voxceleb/label_encoder.ckpt.\n",
      "INFO:speechbrain.utils.parameter_transfer:Loading pretrained files for: embedding_model, mean_var_norm_emb, classifier, label_encoder\n",
      "DEBUG:speechbrain.dataio.encoder:Loaded categorical encoding from models/spkrec-ecapa-voxceleb/label_encoder.ckpt\n"
     ]
    },
    {
     "name": "stderr",
     "output_type": "stream",
     "text": [
      "Map:  49%|████▉     | 49/100 [00:26<00:19,  2.57 examples/s]"
     ]
    },
    {
     "name": "stdout",
     "output_type": "stream",
     "text": [
      "INFO:speechbrain.utils.fetching:Fetch hyperparams.yaml: Using existing file/symlink in models/spkrec-ecapa-voxceleb/hyperparams.yaml.\n",
      "INFO:speechbrain.utils.fetching:Fetch custom.py: Delegating to Huggingface hub, source speechbrain/spkrec-ecapa-voxceleb.\n",
      "DEBUG:urllib3.connectionpool:https://huggingface.co:443 \"HEAD /speechbrain/spkrec-ecapa-voxceleb/resolve/main/custom.py HTTP/1.1\" 404 0\n",
      "DEBUG:speechbrain.utils.parameter_transfer:Collecting files (or symlinks) for pretraining in models/spkrec-ecapa-voxceleb.\n",
      "INFO:speechbrain.utils.fetching:Fetch embedding_model.ckpt: Using existing file/symlink in models/spkrec-ecapa-voxceleb/embedding_model.ckpt.\n",
      "INFO:speechbrain.utils.fetching:Fetch mean_var_norm_emb.ckpt: Using existing file/symlink in models/spkrec-ecapa-voxceleb/mean_var_norm_emb.ckpt.\n",
      "INFO:speechbrain.utils.fetching:Fetch classifier.ckpt: Using existing file/symlink in models/spkrec-ecapa-voxceleb/classifier.ckpt.\n",
      "INFO:speechbrain.utils.fetching:Fetch label_encoder.txt: Using existing file/symlink in models/spkrec-ecapa-voxceleb/label_encoder.ckpt.\n",
      "INFO:speechbrain.utils.parameter_transfer:Loading pretrained files for: embedding_model, mean_var_norm_emb, classifier, label_encoder\n",
      "DEBUG:speechbrain.dataio.encoder:Loaded categorical encoding from models/spkrec-ecapa-voxceleb/label_encoder.ckpt\n"
     ]
    },
    {
     "name": "stderr",
     "output_type": "stream",
     "text": [
      "Map:  50%|█████     | 50/100 [00:27<00:29,  1.70 examples/s]"
     ]
    },
    {
     "name": "stdout",
     "output_type": "stream",
     "text": [
      "INFO:speechbrain.utils.fetching:Fetch hyperparams.yaml: Using existing file/symlink in models/spkrec-ecapa-voxceleb/hyperparams.yaml.\n",
      "INFO:speechbrain.utils.fetching:Fetch custom.py: Delegating to Huggingface hub, source speechbrain/spkrec-ecapa-voxceleb.\n",
      "DEBUG:urllib3.connectionpool:https://huggingface.co:443 \"HEAD /speechbrain/spkrec-ecapa-voxceleb/resolve/main/custom.py HTTP/1.1\" 404 0\n",
      "DEBUG:speechbrain.utils.parameter_transfer:Collecting files (or symlinks) for pretraining in models/spkrec-ecapa-voxceleb.\n",
      "INFO:speechbrain.utils.fetching:Fetch embedding_model.ckpt: Using existing file/symlink in models/spkrec-ecapa-voxceleb/embedding_model.ckpt.\n",
      "INFO:speechbrain.utils.fetching:Fetch mean_var_norm_emb.ckpt: Using existing file/symlink in models/spkrec-ecapa-voxceleb/mean_var_norm_emb.ckpt.\n",
      "INFO:speechbrain.utils.fetching:Fetch classifier.ckpt: Using existing file/symlink in models/spkrec-ecapa-voxceleb/classifier.ckpt.\n",
      "INFO:speechbrain.utils.fetching:Fetch label_encoder.txt: Using existing file/symlink in models/spkrec-ecapa-voxceleb/label_encoder.ckpt.\n",
      "INFO:speechbrain.utils.parameter_transfer:Loading pretrained files for: embedding_model, mean_var_norm_emb, classifier, label_encoder\n",
      "DEBUG:speechbrain.dataio.encoder:Loaded categorical encoding from models/spkrec-ecapa-voxceleb/label_encoder.ckpt\n"
     ]
    },
    {
     "name": "stderr",
     "output_type": "stream",
     "text": [
      "Map:  51%|█████     | 51/100 [00:27<00:30,  1.59 examples/s]"
     ]
    },
    {
     "name": "stdout",
     "output_type": "stream",
     "text": [
      "INFO:speechbrain.utils.fetching:Fetch hyperparams.yaml: Using existing file/symlink in models/spkrec-ecapa-voxceleb/hyperparams.yaml.\n",
      "INFO:speechbrain.utils.fetching:Fetch custom.py: Delegating to Huggingface hub, source speechbrain/spkrec-ecapa-voxceleb.\n",
      "DEBUG:urllib3.connectionpool:https://huggingface.co:443 \"HEAD /speechbrain/spkrec-ecapa-voxceleb/resolve/main/custom.py HTTP/1.1\" 404 0\n",
      "DEBUG:speechbrain.utils.parameter_transfer:Collecting files (or symlinks) for pretraining in models/spkrec-ecapa-voxceleb.\n",
      "INFO:speechbrain.utils.fetching:Fetch embedding_model.ckpt: Using existing file/symlink in models/spkrec-ecapa-voxceleb/embedding_model.ckpt.\n",
      "INFO:speechbrain.utils.fetching:Fetch mean_var_norm_emb.ckpt: Using existing file/symlink in models/spkrec-ecapa-voxceleb/mean_var_norm_emb.ckpt.\n",
      "INFO:speechbrain.utils.fetching:Fetch classifier.ckpt: Using existing file/symlink in models/spkrec-ecapa-voxceleb/classifier.ckpt.\n",
      "INFO:speechbrain.utils.fetching:Fetch label_encoder.txt: Using existing file/symlink in models/spkrec-ecapa-voxceleb/label_encoder.ckpt.\n",
      "INFO:speechbrain.utils.parameter_transfer:Loading pretrained files for: embedding_model, mean_var_norm_emb, classifier, label_encoder\n",
      "DEBUG:speechbrain.dataio.encoder:Loaded categorical encoding from models/spkrec-ecapa-voxceleb/label_encoder.ckpt\n"
     ]
    },
    {
     "name": "stderr",
     "output_type": "stream",
     "text": [
      "Map:  52%|█████▏    | 52/100 [00:29<00:38,  1.25 examples/s]"
     ]
    },
    {
     "name": "stdout",
     "output_type": "stream",
     "text": [
      "INFO:speechbrain.utils.fetching:Fetch hyperparams.yaml: Using existing file/symlink in models/spkrec-ecapa-voxceleb/hyperparams.yaml.\n",
      "INFO:speechbrain.utils.fetching:Fetch custom.py: Delegating to Huggingface hub, source speechbrain/spkrec-ecapa-voxceleb.\n",
      "DEBUG:urllib3.connectionpool:https://huggingface.co:443 \"HEAD /speechbrain/spkrec-ecapa-voxceleb/resolve/main/custom.py HTTP/1.1\" 404 0\n",
      "DEBUG:speechbrain.utils.parameter_transfer:Collecting files (or symlinks) for pretraining in models/spkrec-ecapa-voxceleb.\n",
      "INFO:speechbrain.utils.fetching:Fetch embedding_model.ckpt: Using existing file/symlink in models/spkrec-ecapa-voxceleb/embedding_model.ckpt.\n",
      "INFO:speechbrain.utils.fetching:Fetch mean_var_norm_emb.ckpt: Using existing file/symlink in models/spkrec-ecapa-voxceleb/mean_var_norm_emb.ckpt.\n",
      "INFO:speechbrain.utils.fetching:Fetch classifier.ckpt: Using existing file/symlink in models/spkrec-ecapa-voxceleb/classifier.ckpt.\n",
      "INFO:speechbrain.utils.fetching:Fetch label_encoder.txt: Using existing file/symlink in models/spkrec-ecapa-voxceleb/label_encoder.ckpt.\n",
      "INFO:speechbrain.utils.parameter_transfer:Loading pretrained files for: embedding_model, mean_var_norm_emb, classifier, label_encoder\n",
      "DEBUG:speechbrain.dataio.encoder:Loaded categorical encoding from models/spkrec-ecapa-voxceleb/label_encoder.ckpt\n"
     ]
    },
    {
     "name": "stderr",
     "output_type": "stream",
     "text": [
      "Map:  53%|█████▎    | 53/100 [00:30<00:51,  1.10s/ examples]"
     ]
    },
    {
     "name": "stdout",
     "output_type": "stream",
     "text": [
      "INFO:speechbrain.utils.fetching:Fetch hyperparams.yaml: Using existing file/symlink in models/spkrec-ecapa-voxceleb/hyperparams.yaml.\n",
      "INFO:speechbrain.utils.fetching:Fetch custom.py: Delegating to Huggingface hub, source speechbrain/spkrec-ecapa-voxceleb.\n",
      "DEBUG:urllib3.connectionpool:https://huggingface.co:443 \"HEAD /speechbrain/spkrec-ecapa-voxceleb/resolve/main/custom.py HTTP/1.1\" 404 0\n",
      "DEBUG:speechbrain.utils.parameter_transfer:Collecting files (or symlinks) for pretraining in models/spkrec-ecapa-voxceleb.\n",
      "INFO:speechbrain.utils.fetching:Fetch embedding_model.ckpt: Using existing file/symlink in models/spkrec-ecapa-voxceleb/embedding_model.ckpt.\n",
      "INFO:speechbrain.utils.fetching:Fetch mean_var_norm_emb.ckpt: Using existing file/symlink in models/spkrec-ecapa-voxceleb/mean_var_norm_emb.ckpt.\n",
      "INFO:speechbrain.utils.fetching:Fetch classifier.ckpt: Using existing file/symlink in models/spkrec-ecapa-voxceleb/classifier.ckpt.\n",
      "INFO:speechbrain.utils.fetching:Fetch label_encoder.txt: Using existing file/symlink in models/spkrec-ecapa-voxceleb/label_encoder.ckpt.\n",
      "INFO:speechbrain.utils.parameter_transfer:Loading pretrained files for: embedding_model, mean_var_norm_emb, classifier, label_encoder\n",
      "DEBUG:speechbrain.dataio.encoder:Loaded categorical encoding from models/spkrec-ecapa-voxceleb/label_encoder.ckpt\n"
     ]
    },
    {
     "name": "stderr",
     "output_type": "stream",
     "text": [
      "Map:  54%|█████▍    | 54/100 [00:31<00:40,  1.15 examples/s]"
     ]
    },
    {
     "name": "stdout",
     "output_type": "stream",
     "text": [
      "INFO:speechbrain.utils.fetching:Fetch hyperparams.yaml: Using existing file/symlink in models/spkrec-ecapa-voxceleb/hyperparams.yaml.\n",
      "INFO:speechbrain.utils.fetching:Fetch custom.py: Delegating to Huggingface hub, source speechbrain/spkrec-ecapa-voxceleb.\n",
      "DEBUG:urllib3.connectionpool:https://huggingface.co:443 \"HEAD /speechbrain/spkrec-ecapa-voxceleb/resolve/main/custom.py HTTP/1.1\" 404 0\n",
      "DEBUG:speechbrain.utils.parameter_transfer:Collecting files (or symlinks) for pretraining in models/spkrec-ecapa-voxceleb.\n",
      "INFO:speechbrain.utils.fetching:Fetch embedding_model.ckpt: Using existing file/symlink in models/spkrec-ecapa-voxceleb/embedding_model.ckpt.\n",
      "INFO:speechbrain.utils.fetching:Fetch mean_var_norm_emb.ckpt: Using existing file/symlink in models/spkrec-ecapa-voxceleb/mean_var_norm_emb.ckpt.\n",
      "INFO:speechbrain.utils.fetching:Fetch classifier.ckpt: Using existing file/symlink in models/spkrec-ecapa-voxceleb/classifier.ckpt.\n",
      "INFO:speechbrain.utils.fetching:Fetch label_encoder.txt: Using existing file/symlink in models/spkrec-ecapa-voxceleb/label_encoder.ckpt.\n",
      "INFO:speechbrain.utils.parameter_transfer:Loading pretrained files for: embedding_model, mean_var_norm_emb, classifier, label_encoder\n",
      "DEBUG:speechbrain.dataio.encoder:Loaded categorical encoding from models/spkrec-ecapa-voxceleb/label_encoder.ckpt\n"
     ]
    },
    {
     "name": "stderr",
     "output_type": "stream",
     "text": [
      "Map:  55%|█████▌    | 55/100 [00:31<00:34,  1.32 examples/s]"
     ]
    },
    {
     "name": "stdout",
     "output_type": "stream",
     "text": [
      "INFO:speechbrain.utils.fetching:Fetch hyperparams.yaml: Using existing file/symlink in models/spkrec-ecapa-voxceleb/hyperparams.yaml.\n",
      "INFO:speechbrain.utils.fetching:Fetch custom.py: Delegating to Huggingface hub, source speechbrain/spkrec-ecapa-voxceleb.\n",
      "DEBUG:urllib3.connectionpool:https://huggingface.co:443 \"HEAD /speechbrain/spkrec-ecapa-voxceleb/resolve/main/custom.py HTTP/1.1\" 404 0\n",
      "DEBUG:speechbrain.utils.parameter_transfer:Collecting files (or symlinks) for pretraining in models/spkrec-ecapa-voxceleb.\n",
      "INFO:speechbrain.utils.fetching:Fetch embedding_model.ckpt: Using existing file/symlink in models/spkrec-ecapa-voxceleb/embedding_model.ckpt.\n",
      "INFO:speechbrain.utils.fetching:Fetch mean_var_norm_emb.ckpt: Using existing file/symlink in models/spkrec-ecapa-voxceleb/mean_var_norm_emb.ckpt.\n",
      "INFO:speechbrain.utils.fetching:Fetch classifier.ckpt: Using existing file/symlink in models/spkrec-ecapa-voxceleb/classifier.ckpt.\n",
      "INFO:speechbrain.utils.fetching:Fetch label_encoder.txt: Using existing file/symlink in models/spkrec-ecapa-voxceleb/label_encoder.ckpt.\n",
      "INFO:speechbrain.utils.parameter_transfer:Loading pretrained files for: embedding_model, mean_var_norm_emb, classifier, label_encoder\n",
      "DEBUG:speechbrain.dataio.encoder:Loaded categorical encoding from models/spkrec-ecapa-voxceleb/label_encoder.ckpt\n"
     ]
    },
    {
     "name": "stderr",
     "output_type": "stream",
     "text": [
      "Map:  56%|█████▌    | 56/100 [00:32<00:28,  1.56 examples/s]"
     ]
    },
    {
     "name": "stdout",
     "output_type": "stream",
     "text": [
      "INFO:speechbrain.utils.fetching:Fetch hyperparams.yaml: Using existing file/symlink in models/spkrec-ecapa-voxceleb/hyperparams.yaml.\n",
      "INFO:speechbrain.utils.fetching:Fetch custom.py: Delegating to Huggingface hub, source speechbrain/spkrec-ecapa-voxceleb.\n",
      "DEBUG:urllib3.connectionpool:https://huggingface.co:443 \"HEAD /speechbrain/spkrec-ecapa-voxceleb/resolve/main/custom.py HTTP/1.1\" 404 0\n",
      "DEBUG:speechbrain.utils.parameter_transfer:Collecting files (or symlinks) for pretraining in models/spkrec-ecapa-voxceleb.\n",
      "INFO:speechbrain.utils.fetching:Fetch embedding_model.ckpt: Using existing file/symlink in models/spkrec-ecapa-voxceleb/embedding_model.ckpt.\n",
      "INFO:speechbrain.utils.fetching:Fetch mean_var_norm_emb.ckpt: Using existing file/symlink in models/spkrec-ecapa-voxceleb/mean_var_norm_emb.ckpt.\n",
      "INFO:speechbrain.utils.fetching:Fetch classifier.ckpt: Using existing file/symlink in models/spkrec-ecapa-voxceleb/classifier.ckpt.\n",
      "INFO:speechbrain.utils.fetching:Fetch label_encoder.txt: Using existing file/symlink in models/spkrec-ecapa-voxceleb/label_encoder.ckpt.\n",
      "INFO:speechbrain.utils.parameter_transfer:Loading pretrained files for: embedding_model, mean_var_norm_emb, classifier, label_encoder\n",
      "DEBUG:speechbrain.dataio.encoder:Loaded categorical encoding from models/spkrec-ecapa-voxceleb/label_encoder.ckpt\n"
     ]
    },
    {
     "name": "stderr",
     "output_type": "stream",
     "text": [
      "Map:  57%|█████▋    | 57/100 [00:32<00:27,  1.58 examples/s]"
     ]
    },
    {
     "name": "stdout",
     "output_type": "stream",
     "text": [
      "INFO:speechbrain.utils.fetching:Fetch hyperparams.yaml: Using existing file/symlink in models/spkrec-ecapa-voxceleb/hyperparams.yaml.\n",
      "INFO:speechbrain.utils.fetching:Fetch custom.py: Delegating to Huggingface hub, source speechbrain/spkrec-ecapa-voxceleb.\n",
      "DEBUG:urllib3.connectionpool:https://huggingface.co:443 \"HEAD /speechbrain/spkrec-ecapa-voxceleb/resolve/main/custom.py HTTP/1.1\" 404 0\n",
      "DEBUG:speechbrain.utils.parameter_transfer:Collecting files (or symlinks) for pretraining in models/spkrec-ecapa-voxceleb.\n",
      "INFO:speechbrain.utils.fetching:Fetch embedding_model.ckpt: Using existing file/symlink in models/spkrec-ecapa-voxceleb/embedding_model.ckpt.\n",
      "INFO:speechbrain.utils.fetching:Fetch mean_var_norm_emb.ckpt: Using existing file/symlink in models/spkrec-ecapa-voxceleb/mean_var_norm_emb.ckpt.\n",
      "INFO:speechbrain.utils.fetching:Fetch classifier.ckpt: Using existing file/symlink in models/spkrec-ecapa-voxceleb/classifier.ckpt.\n",
      "INFO:speechbrain.utils.fetching:Fetch label_encoder.txt: Using existing file/symlink in models/spkrec-ecapa-voxceleb/label_encoder.ckpt.\n",
      "INFO:speechbrain.utils.parameter_transfer:Loading pretrained files for: embedding_model, mean_var_norm_emb, classifier, label_encoder\n",
      "DEBUG:speechbrain.dataio.encoder:Loaded categorical encoding from models/spkrec-ecapa-voxceleb/label_encoder.ckpt\n"
     ]
    },
    {
     "name": "stderr",
     "output_type": "stream",
     "text": [
      "Map:  58%|█████▊    | 58/100 [00:33<00:22,  1.88 examples/s]"
     ]
    },
    {
     "name": "stdout",
     "output_type": "stream",
     "text": [
      "INFO:speechbrain.utils.fetching:Fetch hyperparams.yaml: Using existing file/symlink in models/spkrec-ecapa-voxceleb/hyperparams.yaml.\n",
      "INFO:speechbrain.utils.fetching:Fetch custom.py: Delegating to Huggingface hub, source speechbrain/spkrec-ecapa-voxceleb.\n",
      "DEBUG:urllib3.connectionpool:https://huggingface.co:443 \"HEAD /speechbrain/spkrec-ecapa-voxceleb/resolve/main/custom.py HTTP/1.1\" 404 0\n",
      "DEBUG:speechbrain.utils.parameter_transfer:Collecting files (or symlinks) for pretraining in models/spkrec-ecapa-voxceleb.\n",
      "INFO:speechbrain.utils.fetching:Fetch embedding_model.ckpt: Using existing file/symlink in models/spkrec-ecapa-voxceleb/embedding_model.ckpt.\n",
      "INFO:speechbrain.utils.fetching:Fetch mean_var_norm_emb.ckpt: Using existing file/symlink in models/spkrec-ecapa-voxceleb/mean_var_norm_emb.ckpt.\n",
      "INFO:speechbrain.utils.fetching:Fetch classifier.ckpt: Using existing file/symlink in models/spkrec-ecapa-voxceleb/classifier.ckpt.\n",
      "INFO:speechbrain.utils.fetching:Fetch label_encoder.txt: Using existing file/symlink in models/spkrec-ecapa-voxceleb/label_encoder.ckpt.\n",
      "INFO:speechbrain.utils.parameter_transfer:Loading pretrained files for: embedding_model, mean_var_norm_emb, classifier, label_encoder\n",
      "DEBUG:speechbrain.dataio.encoder:Loaded categorical encoding from models/spkrec-ecapa-voxceleb/label_encoder.ckpt\n"
     ]
    },
    {
     "name": "stderr",
     "output_type": "stream",
     "text": [
      "Map:  59%|█████▉    | 59/100 [00:33<00:19,  2.12 examples/s]"
     ]
    },
    {
     "name": "stdout",
     "output_type": "stream",
     "text": [
      "INFO:speechbrain.utils.fetching:Fetch hyperparams.yaml: Using existing file/symlink in models/spkrec-ecapa-voxceleb/hyperparams.yaml.\n",
      "INFO:speechbrain.utils.fetching:Fetch custom.py: Delegating to Huggingface hub, source speechbrain/spkrec-ecapa-voxceleb.\n",
      "DEBUG:urllib3.connectionpool:https://huggingface.co:443 \"HEAD /speechbrain/spkrec-ecapa-voxceleb/resolve/main/custom.py HTTP/1.1\" 404 0\n",
      "DEBUG:speechbrain.utils.parameter_transfer:Collecting files (or symlinks) for pretraining in models/spkrec-ecapa-voxceleb.\n",
      "INFO:speechbrain.utils.fetching:Fetch embedding_model.ckpt: Using existing file/symlink in models/spkrec-ecapa-voxceleb/embedding_model.ckpt.\n",
      "INFO:speechbrain.utils.fetching:Fetch mean_var_norm_emb.ckpt: Using existing file/symlink in models/spkrec-ecapa-voxceleb/mean_var_norm_emb.ckpt.\n",
      "INFO:speechbrain.utils.fetching:Fetch classifier.ckpt: Using existing file/symlink in models/spkrec-ecapa-voxceleb/classifier.ckpt.\n",
      "INFO:speechbrain.utils.fetching:Fetch label_encoder.txt: Using existing file/symlink in models/spkrec-ecapa-voxceleb/label_encoder.ckpt.\n",
      "INFO:speechbrain.utils.parameter_transfer:Loading pretrained files for: embedding_model, mean_var_norm_emb, classifier, label_encoder\n",
      "DEBUG:speechbrain.dataio.encoder:Loaded categorical encoding from models/spkrec-ecapa-voxceleb/label_encoder.ckpt\n"
     ]
    },
    {
     "name": "stderr",
     "output_type": "stream",
     "text": [
      "Map:  60%|██████    | 60/100 [00:33<00:18,  2.22 examples/s]"
     ]
    },
    {
     "name": "stdout",
     "output_type": "stream",
     "text": [
      "INFO:speechbrain.utils.fetching:Fetch hyperparams.yaml: Using existing file/symlink in models/spkrec-ecapa-voxceleb/hyperparams.yaml.\n",
      "INFO:speechbrain.utils.fetching:Fetch custom.py: Delegating to Huggingface hub, source speechbrain/spkrec-ecapa-voxceleb.\n",
      "DEBUG:urllib3.connectionpool:https://huggingface.co:443 \"HEAD /speechbrain/spkrec-ecapa-voxceleb/resolve/main/custom.py HTTP/1.1\" 404 0\n",
      "DEBUG:speechbrain.utils.parameter_transfer:Collecting files (or symlinks) for pretraining in models/spkrec-ecapa-voxceleb.\n",
      "INFO:speechbrain.utils.fetching:Fetch embedding_model.ckpt: Using existing file/symlink in models/spkrec-ecapa-voxceleb/embedding_model.ckpt.\n",
      "INFO:speechbrain.utils.fetching:Fetch mean_var_norm_emb.ckpt: Using existing file/symlink in models/spkrec-ecapa-voxceleb/mean_var_norm_emb.ckpt.\n",
      "INFO:speechbrain.utils.fetching:Fetch classifier.ckpt: Using existing file/symlink in models/spkrec-ecapa-voxceleb/classifier.ckpt.\n",
      "INFO:speechbrain.utils.fetching:Fetch label_encoder.txt: Using existing file/symlink in models/spkrec-ecapa-voxceleb/label_encoder.ckpt.\n",
      "INFO:speechbrain.utils.parameter_transfer:Loading pretrained files for: embedding_model, mean_var_norm_emb, classifier, label_encoder\n",
      "DEBUG:speechbrain.dataio.encoder:Loaded categorical encoding from models/spkrec-ecapa-voxceleb/label_encoder.ckpt\n"
     ]
    },
    {
     "name": "stderr",
     "output_type": "stream",
     "text": [
      "Map:  61%|██████    | 61/100 [00:34<00:19,  2.00 examples/s]"
     ]
    },
    {
     "name": "stdout",
     "output_type": "stream",
     "text": [
      "INFO:speechbrain.utils.fetching:Fetch hyperparams.yaml: Using existing file/symlink in models/spkrec-ecapa-voxceleb/hyperparams.yaml.\n",
      "INFO:speechbrain.utils.fetching:Fetch custom.py: Delegating to Huggingface hub, source speechbrain/spkrec-ecapa-voxceleb.\n",
      "DEBUG:urllib3.connectionpool:https://huggingface.co:443 \"HEAD /speechbrain/spkrec-ecapa-voxceleb/resolve/main/custom.py HTTP/1.1\" 404 0\n",
      "DEBUG:speechbrain.utils.parameter_transfer:Collecting files (or symlinks) for pretraining in models/spkrec-ecapa-voxceleb.\n",
      "INFO:speechbrain.utils.fetching:Fetch embedding_model.ckpt: Using existing file/symlink in models/spkrec-ecapa-voxceleb/embedding_model.ckpt.\n",
      "INFO:speechbrain.utils.fetching:Fetch mean_var_norm_emb.ckpt: Using existing file/symlink in models/spkrec-ecapa-voxceleb/mean_var_norm_emb.ckpt.\n",
      "INFO:speechbrain.utils.fetching:Fetch classifier.ckpt: Using existing file/symlink in models/spkrec-ecapa-voxceleb/classifier.ckpt.\n",
      "INFO:speechbrain.utils.fetching:Fetch label_encoder.txt: Using existing file/symlink in models/spkrec-ecapa-voxceleb/label_encoder.ckpt.\n",
      "INFO:speechbrain.utils.parameter_transfer:Loading pretrained files for: embedding_model, mean_var_norm_emb, classifier, label_encoder\n",
      "DEBUG:speechbrain.dataio.encoder:Loaded categorical encoding from models/spkrec-ecapa-voxceleb/label_encoder.ckpt\n"
     ]
    },
    {
     "name": "stderr",
     "output_type": "stream",
     "text": [
      "Map:  62%|██████▏   | 62/100 [00:34<00:16,  2.25 examples/s]"
     ]
    },
    {
     "name": "stdout",
     "output_type": "stream",
     "text": [
      "INFO:speechbrain.utils.fetching:Fetch hyperparams.yaml: Using existing file/symlink in models/spkrec-ecapa-voxceleb/hyperparams.yaml.\n",
      "INFO:speechbrain.utils.fetching:Fetch custom.py: Delegating to Huggingface hub, source speechbrain/spkrec-ecapa-voxceleb.\n",
      "DEBUG:urllib3.connectionpool:https://huggingface.co:443 \"HEAD /speechbrain/spkrec-ecapa-voxceleb/resolve/main/custom.py HTTP/1.1\" 404 0\n",
      "DEBUG:speechbrain.utils.parameter_transfer:Collecting files (or symlinks) for pretraining in models/spkrec-ecapa-voxceleb.\n",
      "INFO:speechbrain.utils.fetching:Fetch embedding_model.ckpt: Using existing file/symlink in models/spkrec-ecapa-voxceleb/embedding_model.ckpt.\n",
      "INFO:speechbrain.utils.fetching:Fetch mean_var_norm_emb.ckpt: Using existing file/symlink in models/spkrec-ecapa-voxceleb/mean_var_norm_emb.ckpt.\n",
      "INFO:speechbrain.utils.fetching:Fetch classifier.ckpt: Using existing file/symlink in models/spkrec-ecapa-voxceleb/classifier.ckpt.\n",
      "INFO:speechbrain.utils.fetching:Fetch label_encoder.txt: Using existing file/symlink in models/spkrec-ecapa-voxceleb/label_encoder.ckpt.\n",
      "INFO:speechbrain.utils.parameter_transfer:Loading pretrained files for: embedding_model, mean_var_norm_emb, classifier, label_encoder\n",
      "DEBUG:speechbrain.dataio.encoder:Loaded categorical encoding from models/spkrec-ecapa-voxceleb/label_encoder.ckpt\n"
     ]
    },
    {
     "name": "stderr",
     "output_type": "stream",
     "text": [
      "Map:  63%|██████▎   | 63/100 [00:34<00:14,  2.49 examples/s]"
     ]
    },
    {
     "name": "stdout",
     "output_type": "stream",
     "text": [
      "INFO:speechbrain.utils.fetching:Fetch hyperparams.yaml: Using existing file/symlink in models/spkrec-ecapa-voxceleb/hyperparams.yaml.\n",
      "INFO:speechbrain.utils.fetching:Fetch custom.py: Delegating to Huggingface hub, source speechbrain/spkrec-ecapa-voxceleb.\n",
      "DEBUG:urllib3.connectionpool:https://huggingface.co:443 \"HEAD /speechbrain/spkrec-ecapa-voxceleb/resolve/main/custom.py HTTP/1.1\" 404 0\n",
      "DEBUG:speechbrain.utils.parameter_transfer:Collecting files (or symlinks) for pretraining in models/spkrec-ecapa-voxceleb.\n",
      "INFO:speechbrain.utils.fetching:Fetch embedding_model.ckpt: Using existing file/symlink in models/spkrec-ecapa-voxceleb/embedding_model.ckpt.\n",
      "INFO:speechbrain.utils.fetching:Fetch mean_var_norm_emb.ckpt: Using existing file/symlink in models/spkrec-ecapa-voxceleb/mean_var_norm_emb.ckpt.\n",
      "INFO:speechbrain.utils.fetching:Fetch classifier.ckpt: Using existing file/symlink in models/spkrec-ecapa-voxceleb/classifier.ckpt.\n",
      "INFO:speechbrain.utils.fetching:Fetch label_encoder.txt: Using existing file/symlink in models/spkrec-ecapa-voxceleb/label_encoder.ckpt.\n",
      "INFO:speechbrain.utils.parameter_transfer:Loading pretrained files for: embedding_model, mean_var_norm_emb, classifier, label_encoder\n",
      "DEBUG:speechbrain.dataio.encoder:Loaded categorical encoding from models/spkrec-ecapa-voxceleb/label_encoder.ckpt\n"
     ]
    },
    {
     "name": "stderr",
     "output_type": "stream",
     "text": [
      "Map:  64%|██████▍   | 64/100 [00:35<00:14,  2.49 examples/s]"
     ]
    },
    {
     "name": "stdout",
     "output_type": "stream",
     "text": [
      "INFO:speechbrain.utils.fetching:Fetch hyperparams.yaml: Using existing file/symlink in models/spkrec-ecapa-voxceleb/hyperparams.yaml.\n",
      "INFO:speechbrain.utils.fetching:Fetch custom.py: Delegating to Huggingface hub, source speechbrain/spkrec-ecapa-voxceleb.\n",
      "DEBUG:urllib3.connectionpool:https://huggingface.co:443 \"HEAD /speechbrain/spkrec-ecapa-voxceleb/resolve/main/custom.py HTTP/1.1\" 404 0\n",
      "DEBUG:speechbrain.utils.parameter_transfer:Collecting files (or symlinks) for pretraining in models/spkrec-ecapa-voxceleb.\n",
      "INFO:speechbrain.utils.fetching:Fetch embedding_model.ckpt: Using existing file/symlink in models/spkrec-ecapa-voxceleb/embedding_model.ckpt.\n",
      "INFO:speechbrain.utils.fetching:Fetch mean_var_norm_emb.ckpt: Using existing file/symlink in models/spkrec-ecapa-voxceleb/mean_var_norm_emb.ckpt.\n",
      "INFO:speechbrain.utils.fetching:Fetch classifier.ckpt: Using existing file/symlink in models/spkrec-ecapa-voxceleb/classifier.ckpt.\n",
      "INFO:speechbrain.utils.fetching:Fetch label_encoder.txt: Using existing file/symlink in models/spkrec-ecapa-voxceleb/label_encoder.ckpt.\n",
      "INFO:speechbrain.utils.parameter_transfer:Loading pretrained files for: embedding_model, mean_var_norm_emb, classifier, label_encoder\n",
      "DEBUG:speechbrain.dataio.encoder:Loaded categorical encoding from models/spkrec-ecapa-voxceleb/label_encoder.ckpt\n"
     ]
    },
    {
     "name": "stderr",
     "output_type": "stream",
     "text": [
      "Map:  65%|██████▌   | 65/100 [00:35<00:14,  2.35 examples/s]"
     ]
    },
    {
     "name": "stdout",
     "output_type": "stream",
     "text": [
      "INFO:speechbrain.utils.fetching:Fetch hyperparams.yaml: Using existing file/symlink in models/spkrec-ecapa-voxceleb/hyperparams.yaml.\n",
      "INFO:speechbrain.utils.fetching:Fetch custom.py: Delegating to Huggingface hub, source speechbrain/spkrec-ecapa-voxceleb.\n",
      "DEBUG:urllib3.connectionpool:https://huggingface.co:443 \"HEAD /speechbrain/spkrec-ecapa-voxceleb/resolve/main/custom.py HTTP/1.1\" 404 0\n",
      "DEBUG:speechbrain.utils.parameter_transfer:Collecting files (or symlinks) for pretraining in models/spkrec-ecapa-voxceleb.\n",
      "INFO:speechbrain.utils.fetching:Fetch embedding_model.ckpt: Using existing file/symlink in models/spkrec-ecapa-voxceleb/embedding_model.ckpt.\n",
      "INFO:speechbrain.utils.fetching:Fetch mean_var_norm_emb.ckpt: Using existing file/symlink in models/spkrec-ecapa-voxceleb/mean_var_norm_emb.ckpt.\n",
      "INFO:speechbrain.utils.fetching:Fetch classifier.ckpt: Using existing file/symlink in models/spkrec-ecapa-voxceleb/classifier.ckpt.\n",
      "INFO:speechbrain.utils.fetching:Fetch label_encoder.txt: Using existing file/symlink in models/spkrec-ecapa-voxceleb/label_encoder.ckpt.\n",
      "INFO:speechbrain.utils.parameter_transfer:Loading pretrained files for: embedding_model, mean_var_norm_emb, classifier, label_encoder\n",
      "DEBUG:speechbrain.dataio.encoder:Loaded categorical encoding from models/spkrec-ecapa-voxceleb/label_encoder.ckpt\n"
     ]
    },
    {
     "name": "stderr",
     "output_type": "stream",
     "text": [
      "Map:  66%|██████▌   | 66/100 [00:36<00:13,  2.57 examples/s]"
     ]
    },
    {
     "name": "stdout",
     "output_type": "stream",
     "text": [
      "INFO:speechbrain.utils.fetching:Fetch hyperparams.yaml: Using existing file/symlink in models/spkrec-ecapa-voxceleb/hyperparams.yaml.\n",
      "INFO:speechbrain.utils.fetching:Fetch custom.py: Delegating to Huggingface hub, source speechbrain/spkrec-ecapa-voxceleb.\n",
      "DEBUG:urllib3.connectionpool:https://huggingface.co:443 \"HEAD /speechbrain/spkrec-ecapa-voxceleb/resolve/main/custom.py HTTP/1.1\" 404 0\n",
      "DEBUG:speechbrain.utils.parameter_transfer:Collecting files (or symlinks) for pretraining in models/spkrec-ecapa-voxceleb.\n",
      "INFO:speechbrain.utils.fetching:Fetch embedding_model.ckpt: Using existing file/symlink in models/spkrec-ecapa-voxceleb/embedding_model.ckpt.\n",
      "INFO:speechbrain.utils.fetching:Fetch mean_var_norm_emb.ckpt: Using existing file/symlink in models/spkrec-ecapa-voxceleb/mean_var_norm_emb.ckpt.\n",
      "INFO:speechbrain.utils.fetching:Fetch classifier.ckpt: Using existing file/symlink in models/spkrec-ecapa-voxceleb/classifier.ckpt.\n",
      "INFO:speechbrain.utils.fetching:Fetch label_encoder.txt: Using existing file/symlink in models/spkrec-ecapa-voxceleb/label_encoder.ckpt.\n",
      "INFO:speechbrain.utils.parameter_transfer:Loading pretrained files for: embedding_model, mean_var_norm_emb, classifier, label_encoder\n",
      "DEBUG:speechbrain.dataio.encoder:Loaded categorical encoding from models/spkrec-ecapa-voxceleb/label_encoder.ckpt\n"
     ]
    },
    {
     "name": "stderr",
     "output_type": "stream",
     "text": [
      "Map:  67%|██████▋   | 67/100 [00:37<00:19,  1.67 examples/s]"
     ]
    },
    {
     "name": "stdout",
     "output_type": "stream",
     "text": [
      "INFO:speechbrain.utils.fetching:Fetch hyperparams.yaml: Using existing file/symlink in models/spkrec-ecapa-voxceleb/hyperparams.yaml.\n",
      "INFO:speechbrain.utils.fetching:Fetch custom.py: Delegating to Huggingface hub, source speechbrain/spkrec-ecapa-voxceleb.\n",
      "DEBUG:urllib3.connectionpool:https://huggingface.co:443 \"HEAD /speechbrain/spkrec-ecapa-voxceleb/resolve/main/custom.py HTTP/1.1\" 404 0\n",
      "DEBUG:speechbrain.utils.parameter_transfer:Collecting files (or symlinks) for pretraining in models/spkrec-ecapa-voxceleb.\n",
      "INFO:speechbrain.utils.fetching:Fetch embedding_model.ckpt: Using existing file/symlink in models/spkrec-ecapa-voxceleb/embedding_model.ckpt.\n",
      "INFO:speechbrain.utils.fetching:Fetch mean_var_norm_emb.ckpt: Using existing file/symlink in models/spkrec-ecapa-voxceleb/mean_var_norm_emb.ckpt.\n",
      "INFO:speechbrain.utils.fetching:Fetch classifier.ckpt: Using existing file/symlink in models/spkrec-ecapa-voxceleb/classifier.ckpt.\n",
      "INFO:speechbrain.utils.fetching:Fetch label_encoder.txt: Using existing file/symlink in models/spkrec-ecapa-voxceleb/label_encoder.ckpt.\n",
      "INFO:speechbrain.utils.parameter_transfer:Loading pretrained files for: embedding_model, mean_var_norm_emb, classifier, label_encoder\n",
      "DEBUG:speechbrain.dataio.encoder:Loaded categorical encoding from models/spkrec-ecapa-voxceleb/label_encoder.ckpt\n"
     ]
    },
    {
     "name": "stderr",
     "output_type": "stream",
     "text": [
      "Map:  68%|██████▊   | 68/100 [00:38<00:26,  1.21 examples/s]"
     ]
    },
    {
     "name": "stdout",
     "output_type": "stream",
     "text": [
      "INFO:speechbrain.utils.fetching:Fetch hyperparams.yaml: Using existing file/symlink in models/spkrec-ecapa-voxceleb/hyperparams.yaml.\n",
      "INFO:speechbrain.utils.fetching:Fetch custom.py: Delegating to Huggingface hub, source speechbrain/spkrec-ecapa-voxceleb.\n",
      "DEBUG:urllib3.connectionpool:https://huggingface.co:443 \"HEAD /speechbrain/spkrec-ecapa-voxceleb/resolve/main/custom.py HTTP/1.1\" 404 0\n",
      "DEBUG:speechbrain.utils.parameter_transfer:Collecting files (or symlinks) for pretraining in models/spkrec-ecapa-voxceleb.\n",
      "INFO:speechbrain.utils.fetching:Fetch embedding_model.ckpt: Using existing file/symlink in models/spkrec-ecapa-voxceleb/embedding_model.ckpt.\n",
      "INFO:speechbrain.utils.fetching:Fetch mean_var_norm_emb.ckpt: Using existing file/symlink in models/spkrec-ecapa-voxceleb/mean_var_norm_emb.ckpt.\n",
      "INFO:speechbrain.utils.fetching:Fetch classifier.ckpt: Using existing file/symlink in models/spkrec-ecapa-voxceleb/classifier.ckpt.\n",
      "INFO:speechbrain.utils.fetching:Fetch label_encoder.txt: Using existing file/symlink in models/spkrec-ecapa-voxceleb/label_encoder.ckpt.\n",
      "INFO:speechbrain.utils.parameter_transfer:Loading pretrained files for: embedding_model, mean_var_norm_emb, classifier, label_encoder\n",
      "DEBUG:speechbrain.dataio.encoder:Loaded categorical encoding from models/spkrec-ecapa-voxceleb/label_encoder.ckpt\n"
     ]
    },
    {
     "name": "stderr",
     "output_type": "stream",
     "text": [
      "Map:  69%|██████▉   | 69/100 [00:40<00:30,  1.00 examples/s]"
     ]
    },
    {
     "name": "stdout",
     "output_type": "stream",
     "text": [
      "INFO:speechbrain.utils.fetching:Fetch hyperparams.yaml: Using existing file/symlink in models/spkrec-ecapa-voxceleb/hyperparams.yaml.\n",
      "INFO:speechbrain.utils.fetching:Fetch custom.py: Delegating to Huggingface hub, source speechbrain/spkrec-ecapa-voxceleb.\n",
      "DEBUG:urllib3.connectionpool:https://huggingface.co:443 \"HEAD /speechbrain/spkrec-ecapa-voxceleb/resolve/main/custom.py HTTP/1.1\" 404 0\n",
      "DEBUG:speechbrain.utils.parameter_transfer:Collecting files (or symlinks) for pretraining in models/spkrec-ecapa-voxceleb.\n",
      "INFO:speechbrain.utils.fetching:Fetch embedding_model.ckpt: Using existing file/symlink in models/spkrec-ecapa-voxceleb/embedding_model.ckpt.\n",
      "INFO:speechbrain.utils.fetching:Fetch mean_var_norm_emb.ckpt: Using existing file/symlink in models/spkrec-ecapa-voxceleb/mean_var_norm_emb.ckpt.\n",
      "INFO:speechbrain.utils.fetching:Fetch classifier.ckpt: Using existing file/symlink in models/spkrec-ecapa-voxceleb/classifier.ckpt.\n",
      "INFO:speechbrain.utils.fetching:Fetch label_encoder.txt: Using existing file/symlink in models/spkrec-ecapa-voxceleb/label_encoder.ckpt.\n",
      "INFO:speechbrain.utils.parameter_transfer:Loading pretrained files for: embedding_model, mean_var_norm_emb, classifier, label_encoder\n",
      "DEBUG:speechbrain.dataio.encoder:Loaded categorical encoding from models/spkrec-ecapa-voxceleb/label_encoder.ckpt\n"
     ]
    },
    {
     "name": "stderr",
     "output_type": "stream",
     "text": [
      "Map:  70%|███████   | 70/100 [00:40<00:28,  1.05 examples/s]"
     ]
    },
    {
     "name": "stdout",
     "output_type": "stream",
     "text": [
      "INFO:speechbrain.utils.fetching:Fetch hyperparams.yaml: Using existing file/symlink in models/spkrec-ecapa-voxceleb/hyperparams.yaml.\n",
      "INFO:speechbrain.utils.fetching:Fetch custom.py: Delegating to Huggingface hub, source speechbrain/spkrec-ecapa-voxceleb.\n",
      "DEBUG:urllib3.connectionpool:https://huggingface.co:443 \"HEAD /speechbrain/spkrec-ecapa-voxceleb/resolve/main/custom.py HTTP/1.1\" 404 0\n",
      "DEBUG:speechbrain.utils.parameter_transfer:Collecting files (or symlinks) for pretraining in models/spkrec-ecapa-voxceleb.\n",
      "INFO:speechbrain.utils.fetching:Fetch embedding_model.ckpt: Using existing file/symlink in models/spkrec-ecapa-voxceleb/embedding_model.ckpt.\n",
      "INFO:speechbrain.utils.fetching:Fetch mean_var_norm_emb.ckpt: Using existing file/symlink in models/spkrec-ecapa-voxceleb/mean_var_norm_emb.ckpt.\n",
      "INFO:speechbrain.utils.fetching:Fetch classifier.ckpt: Using existing file/symlink in models/spkrec-ecapa-voxceleb/classifier.ckpt.\n",
      "INFO:speechbrain.utils.fetching:Fetch label_encoder.txt: Using existing file/symlink in models/spkrec-ecapa-voxceleb/label_encoder.ckpt.\n",
      "INFO:speechbrain.utils.parameter_transfer:Loading pretrained files for: embedding_model, mean_var_norm_emb, classifier, label_encoder\n",
      "DEBUG:speechbrain.dataio.encoder:Loaded categorical encoding from models/spkrec-ecapa-voxceleb/label_encoder.ckpt\n"
     ]
    },
    {
     "name": "stderr",
     "output_type": "stream",
     "text": [
      "Map:  71%|███████   | 71/100 [00:41<00:22,  1.26 examples/s]"
     ]
    },
    {
     "name": "stdout",
     "output_type": "stream",
     "text": [
      "INFO:speechbrain.utils.fetching:Fetch hyperparams.yaml: Using existing file/symlink in models/spkrec-ecapa-voxceleb/hyperparams.yaml.\n",
      "INFO:speechbrain.utils.fetching:Fetch custom.py: Delegating to Huggingface hub, source speechbrain/spkrec-ecapa-voxceleb.\n",
      "DEBUG:urllib3.connectionpool:https://huggingface.co:443 \"HEAD /speechbrain/spkrec-ecapa-voxceleb/resolve/main/custom.py HTTP/1.1\" 404 0\n",
      "DEBUG:speechbrain.utils.parameter_transfer:Collecting files (or symlinks) for pretraining in models/spkrec-ecapa-voxceleb.\n",
      "INFO:speechbrain.utils.fetching:Fetch embedding_model.ckpt: Using existing file/symlink in models/spkrec-ecapa-voxceleb/embedding_model.ckpt.\n",
      "INFO:speechbrain.utils.fetching:Fetch mean_var_norm_emb.ckpt: Using existing file/symlink in models/spkrec-ecapa-voxceleb/mean_var_norm_emb.ckpt.\n",
      "INFO:speechbrain.utils.fetching:Fetch classifier.ckpt: Using existing file/symlink in models/spkrec-ecapa-voxceleb/classifier.ckpt.\n",
      "INFO:speechbrain.utils.fetching:Fetch label_encoder.txt: Using existing file/symlink in models/spkrec-ecapa-voxceleb/label_encoder.ckpt.\n",
      "INFO:speechbrain.utils.parameter_transfer:Loading pretrained files for: embedding_model, mean_var_norm_emb, classifier, label_encoder\n",
      "DEBUG:speechbrain.dataio.encoder:Loaded categorical encoding from models/spkrec-ecapa-voxceleb/label_encoder.ckpt\n"
     ]
    },
    {
     "name": "stderr",
     "output_type": "stream",
     "text": [
      "Map:  72%|███████▏  | 72/100 [00:41<00:19,  1.43 examples/s]"
     ]
    },
    {
     "name": "stdout",
     "output_type": "stream",
     "text": [
      "INFO:speechbrain.utils.fetching:Fetch hyperparams.yaml: Using existing file/symlink in models/spkrec-ecapa-voxceleb/hyperparams.yaml.\n",
      "INFO:speechbrain.utils.fetching:Fetch custom.py: Delegating to Huggingface hub, source speechbrain/spkrec-ecapa-voxceleb.\n",
      "DEBUG:urllib3.connectionpool:https://huggingface.co:443 \"HEAD /speechbrain/spkrec-ecapa-voxceleb/resolve/main/custom.py HTTP/1.1\" 404 0\n",
      "DEBUG:speechbrain.utils.parameter_transfer:Collecting files (or symlinks) for pretraining in models/spkrec-ecapa-voxceleb.\n",
      "INFO:speechbrain.utils.fetching:Fetch embedding_model.ckpt: Using existing file/symlink in models/spkrec-ecapa-voxceleb/embedding_model.ckpt.\n",
      "INFO:speechbrain.utils.fetching:Fetch mean_var_norm_emb.ckpt: Using existing file/symlink in models/spkrec-ecapa-voxceleb/mean_var_norm_emb.ckpt.\n",
      "INFO:speechbrain.utils.fetching:Fetch classifier.ckpt: Using existing file/symlink in models/spkrec-ecapa-voxceleb/classifier.ckpt.\n",
      "INFO:speechbrain.utils.fetching:Fetch label_encoder.txt: Using existing file/symlink in models/spkrec-ecapa-voxceleb/label_encoder.ckpt.\n",
      "INFO:speechbrain.utils.parameter_transfer:Loading pretrained files for: embedding_model, mean_var_norm_emb, classifier, label_encoder\n",
      "DEBUG:speechbrain.dataio.encoder:Loaded categorical encoding from models/spkrec-ecapa-voxceleb/label_encoder.ckpt\n"
     ]
    },
    {
     "name": "stderr",
     "output_type": "stream",
     "text": [
      "Map:  73%|███████▎  | 73/100 [00:42<00:16,  1.68 examples/s]"
     ]
    },
    {
     "name": "stdout",
     "output_type": "stream",
     "text": [
      "INFO:speechbrain.utils.fetching:Fetch hyperparams.yaml: Using existing file/symlink in models/spkrec-ecapa-voxceleb/hyperparams.yaml.\n",
      "INFO:speechbrain.utils.fetching:Fetch custom.py: Delegating to Huggingface hub, source speechbrain/spkrec-ecapa-voxceleb.\n",
      "DEBUG:urllib3.connectionpool:https://huggingface.co:443 \"HEAD /speechbrain/spkrec-ecapa-voxceleb/resolve/main/custom.py HTTP/1.1\" 404 0\n",
      "DEBUG:speechbrain.utils.parameter_transfer:Collecting files (or symlinks) for pretraining in models/spkrec-ecapa-voxceleb.\n",
      "INFO:speechbrain.utils.fetching:Fetch embedding_model.ckpt: Using existing file/symlink in models/spkrec-ecapa-voxceleb/embedding_model.ckpt.\n",
      "INFO:speechbrain.utils.fetching:Fetch mean_var_norm_emb.ckpt: Using existing file/symlink in models/spkrec-ecapa-voxceleb/mean_var_norm_emb.ckpt.\n",
      "INFO:speechbrain.utils.fetching:Fetch classifier.ckpt: Using existing file/symlink in models/spkrec-ecapa-voxceleb/classifier.ckpt.\n",
      "INFO:speechbrain.utils.fetching:Fetch label_encoder.txt: Using existing file/symlink in models/spkrec-ecapa-voxceleb/label_encoder.ckpt.\n",
      "INFO:speechbrain.utils.parameter_transfer:Loading pretrained files for: embedding_model, mean_var_norm_emb, classifier, label_encoder\n",
      "DEBUG:speechbrain.dataio.encoder:Loaded categorical encoding from models/spkrec-ecapa-voxceleb/label_encoder.ckpt\n"
     ]
    },
    {
     "name": "stderr",
     "output_type": "stream",
     "text": [
      "Map:  74%|███████▍  | 74/100 [00:42<00:13,  1.96 examples/s]"
     ]
    },
    {
     "name": "stdout",
     "output_type": "stream",
     "text": [
      "INFO:speechbrain.utils.fetching:Fetch hyperparams.yaml: Using existing file/symlink in models/spkrec-ecapa-voxceleb/hyperparams.yaml.\n",
      "INFO:speechbrain.utils.fetching:Fetch custom.py: Delegating to Huggingface hub, source speechbrain/spkrec-ecapa-voxceleb.\n",
      "DEBUG:urllib3.connectionpool:https://huggingface.co:443 \"HEAD /speechbrain/spkrec-ecapa-voxceleb/resolve/main/custom.py HTTP/1.1\" 404 0\n",
      "DEBUG:speechbrain.utils.parameter_transfer:Collecting files (or symlinks) for pretraining in models/spkrec-ecapa-voxceleb.\n",
      "INFO:speechbrain.utils.fetching:Fetch embedding_model.ckpt: Using existing file/symlink in models/spkrec-ecapa-voxceleb/embedding_model.ckpt.\n",
      "INFO:speechbrain.utils.fetching:Fetch mean_var_norm_emb.ckpt: Using existing file/symlink in models/spkrec-ecapa-voxceleb/mean_var_norm_emb.ckpt.\n",
      "INFO:speechbrain.utils.fetching:Fetch classifier.ckpt: Using existing file/symlink in models/spkrec-ecapa-voxceleb/classifier.ckpt.\n",
      "INFO:speechbrain.utils.fetching:Fetch label_encoder.txt: Using existing file/symlink in models/spkrec-ecapa-voxceleb/label_encoder.ckpt.\n",
      "INFO:speechbrain.utils.parameter_transfer:Loading pretrained files for: embedding_model, mean_var_norm_emb, classifier, label_encoder\n",
      "DEBUG:speechbrain.dataio.encoder:Loaded categorical encoding from models/spkrec-ecapa-voxceleb/label_encoder.ckpt\n"
     ]
    },
    {
     "name": "stderr",
     "output_type": "stream",
     "text": [
      "Map:  75%|███████▌  | 75/100 [00:43<00:14,  1.74 examples/s]"
     ]
    },
    {
     "name": "stdout",
     "output_type": "stream",
     "text": [
      "INFO:speechbrain.utils.fetching:Fetch hyperparams.yaml: Using existing file/symlink in models/spkrec-ecapa-voxceleb/hyperparams.yaml.\n",
      "INFO:speechbrain.utils.fetching:Fetch custom.py: Delegating to Huggingface hub, source speechbrain/spkrec-ecapa-voxceleb.\n",
      "DEBUG:urllib3.connectionpool:https://huggingface.co:443 \"HEAD /speechbrain/spkrec-ecapa-voxceleb/resolve/main/custom.py HTTP/1.1\" 404 0\n",
      "DEBUG:speechbrain.utils.parameter_transfer:Collecting files (or symlinks) for pretraining in models/spkrec-ecapa-voxceleb.\n",
      "INFO:speechbrain.utils.fetching:Fetch embedding_model.ckpt: Using existing file/symlink in models/spkrec-ecapa-voxceleb/embedding_model.ckpt.\n",
      "INFO:speechbrain.utils.fetching:Fetch mean_var_norm_emb.ckpt: Using existing file/symlink in models/spkrec-ecapa-voxceleb/mean_var_norm_emb.ckpt.\n",
      "INFO:speechbrain.utils.fetching:Fetch classifier.ckpt: Using existing file/symlink in models/spkrec-ecapa-voxceleb/classifier.ckpt.\n",
      "INFO:speechbrain.utils.fetching:Fetch label_encoder.txt: Using existing file/symlink in models/spkrec-ecapa-voxceleb/label_encoder.ckpt.\n",
      "INFO:speechbrain.utils.parameter_transfer:Loading pretrained files for: embedding_model, mean_var_norm_emb, classifier, label_encoder\n",
      "DEBUG:speechbrain.dataio.encoder:Loaded categorical encoding from models/spkrec-ecapa-voxceleb/label_encoder.ckpt\n"
     ]
    },
    {
     "name": "stderr",
     "output_type": "stream",
     "text": [
      "Map:  76%|███████▌  | 76/100 [00:43<00:11,  2.01 examples/s]"
     ]
    },
    {
     "name": "stdout",
     "output_type": "stream",
     "text": [
      "INFO:speechbrain.utils.fetching:Fetch hyperparams.yaml: Using existing file/symlink in models/spkrec-ecapa-voxceleb/hyperparams.yaml.\n",
      "INFO:speechbrain.utils.fetching:Fetch custom.py: Delegating to Huggingface hub, source speechbrain/spkrec-ecapa-voxceleb.\n",
      "DEBUG:urllib3.connectionpool:https://huggingface.co:443 \"HEAD /speechbrain/spkrec-ecapa-voxceleb/resolve/main/custom.py HTTP/1.1\" 404 0\n",
      "DEBUG:speechbrain.utils.parameter_transfer:Collecting files (or symlinks) for pretraining in models/spkrec-ecapa-voxceleb.\n",
      "INFO:speechbrain.utils.fetching:Fetch embedding_model.ckpt: Using existing file/symlink in models/spkrec-ecapa-voxceleb/embedding_model.ckpt.\n",
      "INFO:speechbrain.utils.fetching:Fetch mean_var_norm_emb.ckpt: Using existing file/symlink in models/spkrec-ecapa-voxceleb/mean_var_norm_emb.ckpt.\n",
      "INFO:speechbrain.utils.fetching:Fetch classifier.ckpt: Using existing file/symlink in models/spkrec-ecapa-voxceleb/classifier.ckpt.\n",
      "INFO:speechbrain.utils.fetching:Fetch label_encoder.txt: Using existing file/symlink in models/spkrec-ecapa-voxceleb/label_encoder.ckpt.\n",
      "INFO:speechbrain.utils.parameter_transfer:Loading pretrained files for: embedding_model, mean_var_norm_emb, classifier, label_encoder\n",
      "DEBUG:speechbrain.dataio.encoder:Loaded categorical encoding from models/spkrec-ecapa-voxceleb/label_encoder.ckpt\n"
     ]
    },
    {
     "name": "stderr",
     "output_type": "stream",
     "text": [
      "Map:  77%|███████▋  | 77/100 [00:43<00:10,  2.25 examples/s]"
     ]
    },
    {
     "name": "stdout",
     "output_type": "stream",
     "text": [
      "INFO:speechbrain.utils.fetching:Fetch hyperparams.yaml: Using existing file/symlink in models/spkrec-ecapa-voxceleb/hyperparams.yaml.\n",
      "INFO:speechbrain.utils.fetching:Fetch custom.py: Delegating to Huggingface hub, source speechbrain/spkrec-ecapa-voxceleb.\n",
      "DEBUG:urllib3.connectionpool:https://huggingface.co:443 \"HEAD /speechbrain/spkrec-ecapa-voxceleb/resolve/main/custom.py HTTP/1.1\" 404 0\n",
      "DEBUG:speechbrain.utils.parameter_transfer:Collecting files (or symlinks) for pretraining in models/spkrec-ecapa-voxceleb.\n",
      "INFO:speechbrain.utils.fetching:Fetch embedding_model.ckpt: Using existing file/symlink in models/spkrec-ecapa-voxceleb/embedding_model.ckpt.\n",
      "INFO:speechbrain.utils.fetching:Fetch mean_var_norm_emb.ckpt: Using existing file/symlink in models/spkrec-ecapa-voxceleb/mean_var_norm_emb.ckpt.\n",
      "INFO:speechbrain.utils.fetching:Fetch classifier.ckpt: Using existing file/symlink in models/spkrec-ecapa-voxceleb/classifier.ckpt.\n",
      "INFO:speechbrain.utils.fetching:Fetch label_encoder.txt: Using existing file/symlink in models/spkrec-ecapa-voxceleb/label_encoder.ckpt.\n",
      "INFO:speechbrain.utils.parameter_transfer:Loading pretrained files for: embedding_model, mean_var_norm_emb, classifier, label_encoder\n",
      "DEBUG:speechbrain.dataio.encoder:Loaded categorical encoding from models/spkrec-ecapa-voxceleb/label_encoder.ckpt\n"
     ]
    },
    {
     "name": "stderr",
     "output_type": "stream",
     "text": [
      "Map:  78%|███████▊  | 78/100 [00:44<00:09,  2.29 examples/s]"
     ]
    },
    {
     "name": "stdout",
     "output_type": "stream",
     "text": [
      "INFO:speechbrain.utils.fetching:Fetch hyperparams.yaml: Using existing file/symlink in models/spkrec-ecapa-voxceleb/hyperparams.yaml.\n",
      "INFO:speechbrain.utils.fetching:Fetch custom.py: Delegating to Huggingface hub, source speechbrain/spkrec-ecapa-voxceleb.\n",
      "DEBUG:urllib3.connectionpool:https://huggingface.co:443 \"HEAD /speechbrain/spkrec-ecapa-voxceleb/resolve/main/custom.py HTTP/1.1\" 404 0\n",
      "DEBUG:speechbrain.utils.parameter_transfer:Collecting files (or symlinks) for pretraining in models/spkrec-ecapa-voxceleb.\n",
      "INFO:speechbrain.utils.fetching:Fetch embedding_model.ckpt: Using existing file/symlink in models/spkrec-ecapa-voxceleb/embedding_model.ckpt.\n",
      "INFO:speechbrain.utils.fetching:Fetch mean_var_norm_emb.ckpt: Using existing file/symlink in models/spkrec-ecapa-voxceleb/mean_var_norm_emb.ckpt.\n",
      "INFO:speechbrain.utils.fetching:Fetch classifier.ckpt: Using existing file/symlink in models/spkrec-ecapa-voxceleb/classifier.ckpt.\n",
      "INFO:speechbrain.utils.fetching:Fetch label_encoder.txt: Using existing file/symlink in models/spkrec-ecapa-voxceleb/label_encoder.ckpt.\n",
      "INFO:speechbrain.utils.parameter_transfer:Loading pretrained files for: embedding_model, mean_var_norm_emb, classifier, label_encoder\n",
      "DEBUG:speechbrain.dataio.encoder:Loaded categorical encoding from models/spkrec-ecapa-voxceleb/label_encoder.ckpt\n"
     ]
    },
    {
     "name": "stderr",
     "output_type": "stream",
     "text": [
      "Map:  79%|███████▉  | 79/100 [00:44<00:10,  2.02 examples/s]"
     ]
    },
    {
     "name": "stdout",
     "output_type": "stream",
     "text": [
      "INFO:speechbrain.utils.fetching:Fetch hyperparams.yaml: Using existing file/symlink in models/spkrec-ecapa-voxceleb/hyperparams.yaml.\n",
      "INFO:speechbrain.utils.fetching:Fetch custom.py: Delegating to Huggingface hub, source speechbrain/spkrec-ecapa-voxceleb.\n",
      "DEBUG:urllib3.connectionpool:https://huggingface.co:443 \"HEAD /speechbrain/spkrec-ecapa-voxceleb/resolve/main/custom.py HTTP/1.1\" 404 0\n",
      "DEBUG:speechbrain.utils.parameter_transfer:Collecting files (or symlinks) for pretraining in models/spkrec-ecapa-voxceleb.\n",
      "INFO:speechbrain.utils.fetching:Fetch embedding_model.ckpt: Using existing file/symlink in models/spkrec-ecapa-voxceleb/embedding_model.ckpt.\n",
      "INFO:speechbrain.utils.fetching:Fetch mean_var_norm_emb.ckpt: Using existing file/symlink in models/spkrec-ecapa-voxceleb/mean_var_norm_emb.ckpt.\n",
      "INFO:speechbrain.utils.fetching:Fetch classifier.ckpt: Using existing file/symlink in models/spkrec-ecapa-voxceleb/classifier.ckpt.\n",
      "INFO:speechbrain.utils.fetching:Fetch label_encoder.txt: Using existing file/symlink in models/spkrec-ecapa-voxceleb/label_encoder.ckpt.\n",
      "INFO:speechbrain.utils.parameter_transfer:Loading pretrained files for: embedding_model, mean_var_norm_emb, classifier, label_encoder\n",
      "DEBUG:speechbrain.dataio.encoder:Loaded categorical encoding from models/spkrec-ecapa-voxceleb/label_encoder.ckpt\n"
     ]
    },
    {
     "name": "stderr",
     "output_type": "stream",
     "text": [
      "Map:  80%|████████  | 80/100 [00:45<00:09,  2.10 examples/s]"
     ]
    },
    {
     "name": "stdout",
     "output_type": "stream",
     "text": [
      "INFO:speechbrain.utils.fetching:Fetch hyperparams.yaml: Using existing file/symlink in models/spkrec-ecapa-voxceleb/hyperparams.yaml.\n",
      "INFO:speechbrain.utils.fetching:Fetch custom.py: Delegating to Huggingface hub, source speechbrain/spkrec-ecapa-voxceleb.\n",
      "DEBUG:urllib3.connectionpool:https://huggingface.co:443 \"HEAD /speechbrain/spkrec-ecapa-voxceleb/resolve/main/custom.py HTTP/1.1\" 404 0\n",
      "DEBUG:speechbrain.utils.parameter_transfer:Collecting files (or symlinks) for pretraining in models/spkrec-ecapa-voxceleb.\n",
      "INFO:speechbrain.utils.fetching:Fetch embedding_model.ckpt: Using existing file/symlink in models/spkrec-ecapa-voxceleb/embedding_model.ckpt.\n",
      "INFO:speechbrain.utils.fetching:Fetch mean_var_norm_emb.ckpt: Using existing file/symlink in models/spkrec-ecapa-voxceleb/mean_var_norm_emb.ckpt.\n",
      "INFO:speechbrain.utils.fetching:Fetch classifier.ckpt: Using existing file/symlink in models/spkrec-ecapa-voxceleb/classifier.ckpt.\n",
      "INFO:speechbrain.utils.fetching:Fetch label_encoder.txt: Using existing file/symlink in models/spkrec-ecapa-voxceleb/label_encoder.ckpt.\n",
      "INFO:speechbrain.utils.parameter_transfer:Loading pretrained files for: embedding_model, mean_var_norm_emb, classifier, label_encoder\n",
      "DEBUG:speechbrain.dataio.encoder:Loaded categorical encoding from models/spkrec-ecapa-voxceleb/label_encoder.ckpt\n"
     ]
    },
    {
     "name": "stderr",
     "output_type": "stream",
     "text": [
      "Map:  81%|████████  | 81/100 [00:45<00:08,  2.28 examples/s]"
     ]
    },
    {
     "name": "stdout",
     "output_type": "stream",
     "text": [
      "INFO:speechbrain.utils.fetching:Fetch hyperparams.yaml: Using existing file/symlink in models/spkrec-ecapa-voxceleb/hyperparams.yaml.\n",
      "INFO:speechbrain.utils.fetching:Fetch custom.py: Delegating to Huggingface hub, source speechbrain/spkrec-ecapa-voxceleb.\n",
      "DEBUG:urllib3.connectionpool:https://huggingface.co:443 \"HEAD /speechbrain/spkrec-ecapa-voxceleb/resolve/main/custom.py HTTP/1.1\" 404 0\n",
      "DEBUG:speechbrain.utils.parameter_transfer:Collecting files (or symlinks) for pretraining in models/spkrec-ecapa-voxceleb.\n",
      "INFO:speechbrain.utils.fetching:Fetch embedding_model.ckpt: Using existing file/symlink in models/spkrec-ecapa-voxceleb/embedding_model.ckpt.\n",
      "INFO:speechbrain.utils.fetching:Fetch mean_var_norm_emb.ckpt: Using existing file/symlink in models/spkrec-ecapa-voxceleb/mean_var_norm_emb.ckpt.\n",
      "INFO:speechbrain.utils.fetching:Fetch classifier.ckpt: Using existing file/symlink in models/spkrec-ecapa-voxceleb/classifier.ckpt.\n",
      "INFO:speechbrain.utils.fetching:Fetch label_encoder.txt: Using existing file/symlink in models/spkrec-ecapa-voxceleb/label_encoder.ckpt.\n",
      "INFO:speechbrain.utils.parameter_transfer:Loading pretrained files for: embedding_model, mean_var_norm_emb, classifier, label_encoder\n",
      "DEBUG:speechbrain.dataio.encoder:Loaded categorical encoding from models/spkrec-ecapa-voxceleb/label_encoder.ckpt\n"
     ]
    },
    {
     "name": "stderr",
     "output_type": "stream",
     "text": [
      "Map:  82%|████████▏ | 82/100 [00:46<00:09,  1.99 examples/s]"
     ]
    },
    {
     "name": "stdout",
     "output_type": "stream",
     "text": [
      "INFO:speechbrain.utils.fetching:Fetch hyperparams.yaml: Using existing file/symlink in models/spkrec-ecapa-voxceleb/hyperparams.yaml.\n",
      "INFO:speechbrain.utils.fetching:Fetch custom.py: Delegating to Huggingface hub, source speechbrain/spkrec-ecapa-voxceleb.\n",
      "DEBUG:urllib3.connectionpool:https://huggingface.co:443 \"HEAD /speechbrain/spkrec-ecapa-voxceleb/resolve/main/custom.py HTTP/1.1\" 404 0\n",
      "DEBUG:speechbrain.utils.parameter_transfer:Collecting files (or symlinks) for pretraining in models/spkrec-ecapa-voxceleb.\n",
      "INFO:speechbrain.utils.fetching:Fetch embedding_model.ckpt: Using existing file/symlink in models/spkrec-ecapa-voxceleb/embedding_model.ckpt.\n",
      "INFO:speechbrain.utils.fetching:Fetch mean_var_norm_emb.ckpt: Using existing file/symlink in models/spkrec-ecapa-voxceleb/mean_var_norm_emb.ckpt.\n",
      "INFO:speechbrain.utils.fetching:Fetch classifier.ckpt: Using existing file/symlink in models/spkrec-ecapa-voxceleb/classifier.ckpt.\n",
      "INFO:speechbrain.utils.fetching:Fetch label_encoder.txt: Using existing file/symlink in models/spkrec-ecapa-voxceleb/label_encoder.ckpt.\n",
      "INFO:speechbrain.utils.parameter_transfer:Loading pretrained files for: embedding_model, mean_var_norm_emb, classifier, label_encoder\n",
      "DEBUG:speechbrain.dataio.encoder:Loaded categorical encoding from models/spkrec-ecapa-voxceleb/label_encoder.ckpt\n"
     ]
    },
    {
     "name": "stderr",
     "output_type": "stream",
     "text": [
      "Map:  83%|████████▎ | 83/100 [00:46<00:08,  2.12 examples/s]"
     ]
    },
    {
     "name": "stdout",
     "output_type": "stream",
     "text": [
      "INFO:speechbrain.utils.fetching:Fetch hyperparams.yaml: Using existing file/symlink in models/spkrec-ecapa-voxceleb/hyperparams.yaml.\n",
      "INFO:speechbrain.utils.fetching:Fetch custom.py: Delegating to Huggingface hub, source speechbrain/spkrec-ecapa-voxceleb.\n",
      "DEBUG:urllib3.connectionpool:https://huggingface.co:443 \"HEAD /speechbrain/spkrec-ecapa-voxceleb/resolve/main/custom.py HTTP/1.1\" 404 0\n",
      "DEBUG:speechbrain.utils.parameter_transfer:Collecting files (or symlinks) for pretraining in models/spkrec-ecapa-voxceleb.\n",
      "INFO:speechbrain.utils.fetching:Fetch embedding_model.ckpt: Using existing file/symlink in models/spkrec-ecapa-voxceleb/embedding_model.ckpt.\n",
      "INFO:speechbrain.utils.fetching:Fetch mean_var_norm_emb.ckpt: Using existing file/symlink in models/spkrec-ecapa-voxceleb/mean_var_norm_emb.ckpt.\n",
      "INFO:speechbrain.utils.fetching:Fetch classifier.ckpt: Using existing file/symlink in models/spkrec-ecapa-voxceleb/classifier.ckpt.\n",
      "INFO:speechbrain.utils.fetching:Fetch label_encoder.txt: Using existing file/symlink in models/spkrec-ecapa-voxceleb/label_encoder.ckpt.\n",
      "INFO:speechbrain.utils.parameter_transfer:Loading pretrained files for: embedding_model, mean_var_norm_emb, classifier, label_encoder\n",
      "DEBUG:speechbrain.dataio.encoder:Loaded categorical encoding from models/spkrec-ecapa-voxceleb/label_encoder.ckpt\n"
     ]
    },
    {
     "name": "stderr",
     "output_type": "stream",
     "text": [
      "Map:  84%|████████▍ | 84/100 [00:47<00:07,  2.24 examples/s]"
     ]
    },
    {
     "name": "stdout",
     "output_type": "stream",
     "text": [
      "INFO:speechbrain.utils.fetching:Fetch hyperparams.yaml: Using existing file/symlink in models/spkrec-ecapa-voxceleb/hyperparams.yaml.\n",
      "INFO:speechbrain.utils.fetching:Fetch custom.py: Delegating to Huggingface hub, source speechbrain/spkrec-ecapa-voxceleb.\n",
      "DEBUG:urllib3.connectionpool:https://huggingface.co:443 \"HEAD /speechbrain/spkrec-ecapa-voxceleb/resolve/main/custom.py HTTP/1.1\" 404 0\n",
      "DEBUG:speechbrain.utils.parameter_transfer:Collecting files (or symlinks) for pretraining in models/spkrec-ecapa-voxceleb.\n",
      "INFO:speechbrain.utils.fetching:Fetch embedding_model.ckpt: Using existing file/symlink in models/spkrec-ecapa-voxceleb/embedding_model.ckpt.\n",
      "INFO:speechbrain.utils.fetching:Fetch mean_var_norm_emb.ckpt: Using existing file/symlink in models/spkrec-ecapa-voxceleb/mean_var_norm_emb.ckpt.\n",
      "INFO:speechbrain.utils.fetching:Fetch classifier.ckpt: Using existing file/symlink in models/spkrec-ecapa-voxceleb/classifier.ckpt.\n",
      "INFO:speechbrain.utils.fetching:Fetch label_encoder.txt: Using existing file/symlink in models/spkrec-ecapa-voxceleb/label_encoder.ckpt.\n",
      "INFO:speechbrain.utils.parameter_transfer:Loading pretrained files for: embedding_model, mean_var_norm_emb, classifier, label_encoder\n",
      "DEBUG:speechbrain.dataio.encoder:Loaded categorical encoding from models/spkrec-ecapa-voxceleb/label_encoder.ckpt\n"
     ]
    },
    {
     "name": "stderr",
     "output_type": "stream",
     "text": [
      "Map:  85%|████████▌ | 85/100 [00:47<00:06,  2.46 examples/s]"
     ]
    },
    {
     "name": "stdout",
     "output_type": "stream",
     "text": [
      "INFO:speechbrain.utils.fetching:Fetch hyperparams.yaml: Using existing file/symlink in models/spkrec-ecapa-voxceleb/hyperparams.yaml.\n",
      "INFO:speechbrain.utils.fetching:Fetch custom.py: Delegating to Huggingface hub, source speechbrain/spkrec-ecapa-voxceleb.\n",
      "DEBUG:urllib3.connectionpool:https://huggingface.co:443 \"HEAD /speechbrain/spkrec-ecapa-voxceleb/resolve/main/custom.py HTTP/1.1\" 404 0\n",
      "DEBUG:speechbrain.utils.parameter_transfer:Collecting files (or symlinks) for pretraining in models/spkrec-ecapa-voxceleb.\n",
      "INFO:speechbrain.utils.fetching:Fetch embedding_model.ckpt: Using existing file/symlink in models/spkrec-ecapa-voxceleb/embedding_model.ckpt.\n",
      "INFO:speechbrain.utils.fetching:Fetch mean_var_norm_emb.ckpt: Using existing file/symlink in models/spkrec-ecapa-voxceleb/mean_var_norm_emb.ckpt.\n",
      "INFO:speechbrain.utils.fetching:Fetch classifier.ckpt: Using existing file/symlink in models/spkrec-ecapa-voxceleb/classifier.ckpt.\n",
      "INFO:speechbrain.utils.fetching:Fetch label_encoder.txt: Using existing file/symlink in models/spkrec-ecapa-voxceleb/label_encoder.ckpt.\n",
      "INFO:speechbrain.utils.parameter_transfer:Loading pretrained files for: embedding_model, mean_var_norm_emb, classifier, label_encoder\n",
      "DEBUG:speechbrain.dataio.encoder:Loaded categorical encoding from models/spkrec-ecapa-voxceleb/label_encoder.ckpt\n"
     ]
    },
    {
     "name": "stderr",
     "output_type": "stream",
     "text": [
      "Map:  86%|████████▌ | 86/100 [00:47<00:05,  2.43 examples/s]"
     ]
    },
    {
     "name": "stdout",
     "output_type": "stream",
     "text": [
      "INFO:speechbrain.utils.fetching:Fetch hyperparams.yaml: Using existing file/symlink in models/spkrec-ecapa-voxceleb/hyperparams.yaml.\n",
      "INFO:speechbrain.utils.fetching:Fetch custom.py: Delegating to Huggingface hub, source speechbrain/spkrec-ecapa-voxceleb.\n",
      "DEBUG:urllib3.connectionpool:https://huggingface.co:443 \"HEAD /speechbrain/spkrec-ecapa-voxceleb/resolve/main/custom.py HTTP/1.1\" 404 0\n",
      "DEBUG:speechbrain.utils.parameter_transfer:Collecting files (or symlinks) for pretraining in models/spkrec-ecapa-voxceleb.\n",
      "INFO:speechbrain.utils.fetching:Fetch embedding_model.ckpt: Using existing file/symlink in models/spkrec-ecapa-voxceleb/embedding_model.ckpt.\n",
      "INFO:speechbrain.utils.fetching:Fetch mean_var_norm_emb.ckpt: Using existing file/symlink in models/spkrec-ecapa-voxceleb/mean_var_norm_emb.ckpt.\n",
      "INFO:speechbrain.utils.fetching:Fetch classifier.ckpt: Using existing file/symlink in models/spkrec-ecapa-voxceleb/classifier.ckpt.\n",
      "INFO:speechbrain.utils.fetching:Fetch label_encoder.txt: Using existing file/symlink in models/spkrec-ecapa-voxceleb/label_encoder.ckpt.\n",
      "INFO:speechbrain.utils.parameter_transfer:Loading pretrained files for: embedding_model, mean_var_norm_emb, classifier, label_encoder\n",
      "DEBUG:speechbrain.dataio.encoder:Loaded categorical encoding from models/spkrec-ecapa-voxceleb/label_encoder.ckpt\n"
     ]
    },
    {
     "name": "stderr",
     "output_type": "stream",
     "text": [
      "Map:  87%|████████▋ | 87/100 [00:48<00:05,  2.57 examples/s]"
     ]
    },
    {
     "name": "stdout",
     "output_type": "stream",
     "text": [
      "INFO:speechbrain.utils.fetching:Fetch hyperparams.yaml: Using existing file/symlink in models/spkrec-ecapa-voxceleb/hyperparams.yaml.\n",
      "INFO:speechbrain.utils.fetching:Fetch custom.py: Delegating to Huggingface hub, source speechbrain/spkrec-ecapa-voxceleb.\n",
      "DEBUG:urllib3.connectionpool:https://huggingface.co:443 \"HEAD /speechbrain/spkrec-ecapa-voxceleb/resolve/main/custom.py HTTP/1.1\" 404 0\n",
      "DEBUG:speechbrain.utils.parameter_transfer:Collecting files (or symlinks) for pretraining in models/spkrec-ecapa-voxceleb.\n",
      "INFO:speechbrain.utils.fetching:Fetch embedding_model.ckpt: Using existing file/symlink in models/spkrec-ecapa-voxceleb/embedding_model.ckpt.\n",
      "INFO:speechbrain.utils.fetching:Fetch mean_var_norm_emb.ckpt: Using existing file/symlink in models/spkrec-ecapa-voxceleb/mean_var_norm_emb.ckpt.\n",
      "INFO:speechbrain.utils.fetching:Fetch classifier.ckpt: Using existing file/symlink in models/spkrec-ecapa-voxceleb/classifier.ckpt.\n",
      "INFO:speechbrain.utils.fetching:Fetch label_encoder.txt: Using existing file/symlink in models/spkrec-ecapa-voxceleb/label_encoder.ckpt.\n",
      "INFO:speechbrain.utils.parameter_transfer:Loading pretrained files for: embedding_model, mean_var_norm_emb, classifier, label_encoder\n",
      "DEBUG:speechbrain.dataio.encoder:Loaded categorical encoding from models/spkrec-ecapa-voxceleb/label_encoder.ckpt\n"
     ]
    },
    {
     "name": "stderr",
     "output_type": "stream",
     "text": [
      "Map:  88%|████████▊ | 88/100 [00:48<00:04,  2.48 examples/s]"
     ]
    },
    {
     "name": "stdout",
     "output_type": "stream",
     "text": [
      "INFO:speechbrain.utils.fetching:Fetch hyperparams.yaml: Using existing file/symlink in models/spkrec-ecapa-voxceleb/hyperparams.yaml.\n",
      "INFO:speechbrain.utils.fetching:Fetch custom.py: Delegating to Huggingface hub, source speechbrain/spkrec-ecapa-voxceleb.\n",
      "DEBUG:urllib3.connectionpool:https://huggingface.co:443 \"HEAD /speechbrain/spkrec-ecapa-voxceleb/resolve/main/custom.py HTTP/1.1\" 404 0\n",
      "DEBUG:speechbrain.utils.parameter_transfer:Collecting files (or symlinks) for pretraining in models/spkrec-ecapa-voxceleb.\n",
      "INFO:speechbrain.utils.fetching:Fetch embedding_model.ckpt: Using existing file/symlink in models/spkrec-ecapa-voxceleb/embedding_model.ckpt.\n",
      "INFO:speechbrain.utils.fetching:Fetch mean_var_norm_emb.ckpt: Using existing file/symlink in models/spkrec-ecapa-voxceleb/mean_var_norm_emb.ckpt.\n",
      "INFO:speechbrain.utils.fetching:Fetch classifier.ckpt: Using existing file/symlink in models/spkrec-ecapa-voxceleb/classifier.ckpt.\n",
      "INFO:speechbrain.utils.fetching:Fetch label_encoder.txt: Using existing file/symlink in models/spkrec-ecapa-voxceleb/label_encoder.ckpt.\n",
      "INFO:speechbrain.utils.parameter_transfer:Loading pretrained files for: embedding_model, mean_var_norm_emb, classifier, label_encoder\n",
      "DEBUG:speechbrain.dataio.encoder:Loaded categorical encoding from models/spkrec-ecapa-voxceleb/label_encoder.ckpt\n"
     ]
    },
    {
     "name": "stderr",
     "output_type": "stream",
     "text": [
      "Map:  89%|████████▉ | 89/100 [00:48<00:04,  2.65 examples/s]"
     ]
    },
    {
     "name": "stdout",
     "output_type": "stream",
     "text": [
      "INFO:speechbrain.utils.fetching:Fetch hyperparams.yaml: Using existing file/symlink in models/spkrec-ecapa-voxceleb/hyperparams.yaml.\n",
      "INFO:speechbrain.utils.fetching:Fetch custom.py: Delegating to Huggingface hub, source speechbrain/spkrec-ecapa-voxceleb.\n",
      "DEBUG:urllib3.connectionpool:https://huggingface.co:443 \"HEAD /speechbrain/spkrec-ecapa-voxceleb/resolve/main/custom.py HTTP/1.1\" 404 0\n",
      "DEBUG:speechbrain.utils.parameter_transfer:Collecting files (or symlinks) for pretraining in models/spkrec-ecapa-voxceleb.\n",
      "INFO:speechbrain.utils.fetching:Fetch embedding_model.ckpt: Using existing file/symlink in models/spkrec-ecapa-voxceleb/embedding_model.ckpt.\n",
      "INFO:speechbrain.utils.fetching:Fetch mean_var_norm_emb.ckpt: Using existing file/symlink in models/spkrec-ecapa-voxceleb/mean_var_norm_emb.ckpt.\n",
      "INFO:speechbrain.utils.fetching:Fetch classifier.ckpt: Using existing file/symlink in models/spkrec-ecapa-voxceleb/classifier.ckpt.\n",
      "INFO:speechbrain.utils.fetching:Fetch label_encoder.txt: Using existing file/symlink in models/spkrec-ecapa-voxceleb/label_encoder.ckpt.\n",
      "INFO:speechbrain.utils.parameter_transfer:Loading pretrained files for: embedding_model, mean_var_norm_emb, classifier, label_encoder\n",
      "DEBUG:speechbrain.dataio.encoder:Loaded categorical encoding from models/spkrec-ecapa-voxceleb/label_encoder.ckpt\n"
     ]
    },
    {
     "name": "stderr",
     "output_type": "stream",
     "text": [
      "Map:  90%|█████████ | 90/100 [00:49<00:03,  2.63 examples/s]"
     ]
    },
    {
     "name": "stdout",
     "output_type": "stream",
     "text": [
      "INFO:speechbrain.utils.fetching:Fetch hyperparams.yaml: Using existing file/symlink in models/spkrec-ecapa-voxceleb/hyperparams.yaml.\n",
      "INFO:speechbrain.utils.fetching:Fetch custom.py: Delegating to Huggingface hub, source speechbrain/spkrec-ecapa-voxceleb.\n",
      "DEBUG:urllib3.connectionpool:https://huggingface.co:443 \"HEAD /speechbrain/spkrec-ecapa-voxceleb/resolve/main/custom.py HTTP/1.1\" 404 0\n",
      "DEBUG:speechbrain.utils.parameter_transfer:Collecting files (or symlinks) for pretraining in models/spkrec-ecapa-voxceleb.\n",
      "INFO:speechbrain.utils.fetching:Fetch embedding_model.ckpt: Using existing file/symlink in models/spkrec-ecapa-voxceleb/embedding_model.ckpt.\n",
      "INFO:speechbrain.utils.fetching:Fetch mean_var_norm_emb.ckpt: Using existing file/symlink in models/spkrec-ecapa-voxceleb/mean_var_norm_emb.ckpt.\n",
      "INFO:speechbrain.utils.fetching:Fetch classifier.ckpt: Using existing file/symlink in models/spkrec-ecapa-voxceleb/classifier.ckpt.\n",
      "INFO:speechbrain.utils.fetching:Fetch label_encoder.txt: Using existing file/symlink in models/spkrec-ecapa-voxceleb/label_encoder.ckpt.\n",
      "INFO:speechbrain.utils.parameter_transfer:Loading pretrained files for: embedding_model, mean_var_norm_emb, classifier, label_encoder\n",
      "DEBUG:speechbrain.dataio.encoder:Loaded categorical encoding from models/spkrec-ecapa-voxceleb/label_encoder.ckpt\n"
     ]
    },
    {
     "name": "stderr",
     "output_type": "stream",
     "text": [
      "Map:  91%|█████████ | 91/100 [00:49<00:03,  2.34 examples/s]"
     ]
    },
    {
     "name": "stdout",
     "output_type": "stream",
     "text": [
      "INFO:speechbrain.utils.fetching:Fetch hyperparams.yaml: Using existing file/symlink in models/spkrec-ecapa-voxceleb/hyperparams.yaml.\n",
      "INFO:speechbrain.utils.fetching:Fetch custom.py: Delegating to Huggingface hub, source speechbrain/spkrec-ecapa-voxceleb.\n",
      "DEBUG:urllib3.connectionpool:https://huggingface.co:443 \"HEAD /speechbrain/spkrec-ecapa-voxceleb/resolve/main/custom.py HTTP/1.1\" 404 0\n",
      "DEBUG:speechbrain.utils.parameter_transfer:Collecting files (or symlinks) for pretraining in models/spkrec-ecapa-voxceleb.\n",
      "INFO:speechbrain.utils.fetching:Fetch embedding_model.ckpt: Using existing file/symlink in models/spkrec-ecapa-voxceleb/embedding_model.ckpt.\n",
      "INFO:speechbrain.utils.fetching:Fetch mean_var_norm_emb.ckpt: Using existing file/symlink in models/spkrec-ecapa-voxceleb/mean_var_norm_emb.ckpt.\n",
      "INFO:speechbrain.utils.fetching:Fetch classifier.ckpt: Using existing file/symlink in models/spkrec-ecapa-voxceleb/classifier.ckpt.\n",
      "INFO:speechbrain.utils.fetching:Fetch label_encoder.txt: Using existing file/symlink in models/spkrec-ecapa-voxceleb/label_encoder.ckpt.\n",
      "INFO:speechbrain.utils.parameter_transfer:Loading pretrained files for: embedding_model, mean_var_norm_emb, classifier, label_encoder\n",
      "DEBUG:speechbrain.dataio.encoder:Loaded categorical encoding from models/spkrec-ecapa-voxceleb/label_encoder.ckpt\n"
     ]
    },
    {
     "name": "stderr",
     "output_type": "stream",
     "text": [
      "Map:  92%|█████████▏| 92/100 [00:50<00:03,  2.45 examples/s]"
     ]
    },
    {
     "name": "stdout",
     "output_type": "stream",
     "text": [
      "INFO:speechbrain.utils.fetching:Fetch hyperparams.yaml: Using existing file/symlink in models/spkrec-ecapa-voxceleb/hyperparams.yaml.\n",
      "INFO:speechbrain.utils.fetching:Fetch custom.py: Delegating to Huggingface hub, source speechbrain/spkrec-ecapa-voxceleb.\n",
      "DEBUG:urllib3.connectionpool:https://huggingface.co:443 \"HEAD /speechbrain/spkrec-ecapa-voxceleb/resolve/main/custom.py HTTP/1.1\" 404 0\n",
      "DEBUG:speechbrain.utils.parameter_transfer:Collecting files (or symlinks) for pretraining in models/spkrec-ecapa-voxceleb.\n",
      "INFO:speechbrain.utils.fetching:Fetch embedding_model.ckpt: Using existing file/symlink in models/spkrec-ecapa-voxceleb/embedding_model.ckpt.\n",
      "INFO:speechbrain.utils.fetching:Fetch mean_var_norm_emb.ckpt: Using existing file/symlink in models/spkrec-ecapa-voxceleb/mean_var_norm_emb.ckpt.\n",
      "INFO:speechbrain.utils.fetching:Fetch classifier.ckpt: Using existing file/symlink in models/spkrec-ecapa-voxceleb/classifier.ckpt.\n",
      "INFO:speechbrain.utils.fetching:Fetch label_encoder.txt: Using existing file/symlink in models/spkrec-ecapa-voxceleb/label_encoder.ckpt.\n",
      "INFO:speechbrain.utils.parameter_transfer:Loading pretrained files for: embedding_model, mean_var_norm_emb, classifier, label_encoder\n",
      "DEBUG:speechbrain.dataio.encoder:Loaded categorical encoding from models/spkrec-ecapa-voxceleb/label_encoder.ckpt\n"
     ]
    },
    {
     "name": "stderr",
     "output_type": "stream",
     "text": [
      "Map:  93%|█████████▎| 93/100 [00:50<00:02,  2.44 examples/s]"
     ]
    },
    {
     "name": "stdout",
     "output_type": "stream",
     "text": [
      "INFO:speechbrain.utils.fetching:Fetch hyperparams.yaml: Using existing file/symlink in models/spkrec-ecapa-voxceleb/hyperparams.yaml.\n",
      "INFO:speechbrain.utils.fetching:Fetch custom.py: Delegating to Huggingface hub, source speechbrain/spkrec-ecapa-voxceleb.\n",
      "DEBUG:urllib3.connectionpool:https://huggingface.co:443 \"HEAD /speechbrain/spkrec-ecapa-voxceleb/resolve/main/custom.py HTTP/1.1\" 404 0\n",
      "DEBUG:speechbrain.utils.parameter_transfer:Collecting files (or symlinks) for pretraining in models/spkrec-ecapa-voxceleb.\n",
      "INFO:speechbrain.utils.fetching:Fetch embedding_model.ckpt: Using existing file/symlink in models/spkrec-ecapa-voxceleb/embedding_model.ckpt.\n",
      "INFO:speechbrain.utils.fetching:Fetch mean_var_norm_emb.ckpt: Using existing file/symlink in models/spkrec-ecapa-voxceleb/mean_var_norm_emb.ckpt.\n",
      "INFO:speechbrain.utils.fetching:Fetch classifier.ckpt: Using existing file/symlink in models/spkrec-ecapa-voxceleb/classifier.ckpt.\n",
      "INFO:speechbrain.utils.fetching:Fetch label_encoder.txt: Using existing file/symlink in models/spkrec-ecapa-voxceleb/label_encoder.ckpt.\n",
      "INFO:speechbrain.utils.parameter_transfer:Loading pretrained files for: embedding_model, mean_var_norm_emb, classifier, label_encoder\n",
      "DEBUG:speechbrain.dataio.encoder:Loaded categorical encoding from models/spkrec-ecapa-voxceleb/label_encoder.ckpt\n"
     ]
    },
    {
     "name": "stderr",
     "output_type": "stream",
     "text": [
      "Map:  94%|█████████▍| 94/100 [00:51<00:02,  2.42 examples/s]"
     ]
    },
    {
     "name": "stdout",
     "output_type": "stream",
     "text": [
      "INFO:speechbrain.utils.fetching:Fetch hyperparams.yaml: Using existing file/symlink in models/spkrec-ecapa-voxceleb/hyperparams.yaml.\n",
      "INFO:speechbrain.utils.fetching:Fetch custom.py: Delegating to Huggingface hub, source speechbrain/spkrec-ecapa-voxceleb.\n",
      "DEBUG:urllib3.connectionpool:https://huggingface.co:443 \"HEAD /speechbrain/spkrec-ecapa-voxceleb/resolve/main/custom.py HTTP/1.1\" 404 0\n",
      "DEBUG:speechbrain.utils.parameter_transfer:Collecting files (or symlinks) for pretraining in models/spkrec-ecapa-voxceleb.\n",
      "INFO:speechbrain.utils.fetching:Fetch embedding_model.ckpt: Using existing file/symlink in models/spkrec-ecapa-voxceleb/embedding_model.ckpt.\n",
      "INFO:speechbrain.utils.fetching:Fetch mean_var_norm_emb.ckpt: Using existing file/symlink in models/spkrec-ecapa-voxceleb/mean_var_norm_emb.ckpt.\n",
      "INFO:speechbrain.utils.fetching:Fetch classifier.ckpt: Using existing file/symlink in models/spkrec-ecapa-voxceleb/classifier.ckpt.\n",
      "INFO:speechbrain.utils.fetching:Fetch label_encoder.txt: Using existing file/symlink in models/spkrec-ecapa-voxceleb/label_encoder.ckpt.\n",
      "INFO:speechbrain.utils.parameter_transfer:Loading pretrained files for: embedding_model, mean_var_norm_emb, classifier, label_encoder\n",
      "DEBUG:speechbrain.dataio.encoder:Loaded categorical encoding from models/spkrec-ecapa-voxceleb/label_encoder.ckpt\n"
     ]
    },
    {
     "name": "stderr",
     "output_type": "stream",
     "text": [
      "Map:  95%|█████████▌| 95/100 [00:51<00:01,  2.50 examples/s]"
     ]
    },
    {
     "name": "stdout",
     "output_type": "stream",
     "text": [
      "INFO:speechbrain.utils.fetching:Fetch hyperparams.yaml: Using existing file/symlink in models/spkrec-ecapa-voxceleb/hyperparams.yaml.\n",
      "INFO:speechbrain.utils.fetching:Fetch custom.py: Delegating to Huggingface hub, source speechbrain/spkrec-ecapa-voxceleb.\n",
      "DEBUG:urllib3.connectionpool:https://huggingface.co:443 \"HEAD /speechbrain/spkrec-ecapa-voxceleb/resolve/main/custom.py HTTP/1.1\" 404 0\n",
      "DEBUG:speechbrain.utils.parameter_transfer:Collecting files (or symlinks) for pretraining in models/spkrec-ecapa-voxceleb.\n",
      "INFO:speechbrain.utils.fetching:Fetch embedding_model.ckpt: Using existing file/symlink in models/spkrec-ecapa-voxceleb/embedding_model.ckpt.\n",
      "INFO:speechbrain.utils.fetching:Fetch mean_var_norm_emb.ckpt: Using existing file/symlink in models/spkrec-ecapa-voxceleb/mean_var_norm_emb.ckpt.\n",
      "INFO:speechbrain.utils.fetching:Fetch classifier.ckpt: Using existing file/symlink in models/spkrec-ecapa-voxceleb/classifier.ckpt.\n",
      "INFO:speechbrain.utils.fetching:Fetch label_encoder.txt: Using existing file/symlink in models/spkrec-ecapa-voxceleb/label_encoder.ckpt.\n",
      "INFO:speechbrain.utils.parameter_transfer:Loading pretrained files for: embedding_model, mean_var_norm_emb, classifier, label_encoder\n",
      "DEBUG:speechbrain.dataio.encoder:Loaded categorical encoding from models/spkrec-ecapa-voxceleb/label_encoder.ckpt\n"
     ]
    },
    {
     "name": "stderr",
     "output_type": "stream",
     "text": [
      "Map:  96%|█████████▌| 96/100 [00:51<00:01,  2.60 examples/s]"
     ]
    },
    {
     "name": "stdout",
     "output_type": "stream",
     "text": [
      "INFO:speechbrain.utils.fetching:Fetch hyperparams.yaml: Using existing file/symlink in models/spkrec-ecapa-voxceleb/hyperparams.yaml.\n",
      "INFO:speechbrain.utils.fetching:Fetch custom.py: Delegating to Huggingface hub, source speechbrain/spkrec-ecapa-voxceleb.\n",
      "DEBUG:urllib3.connectionpool:https://huggingface.co:443 \"HEAD /speechbrain/spkrec-ecapa-voxceleb/resolve/main/custom.py HTTP/1.1\" 404 0\n",
      "DEBUG:speechbrain.utils.parameter_transfer:Collecting files (or symlinks) for pretraining in models/spkrec-ecapa-voxceleb.\n",
      "INFO:speechbrain.utils.fetching:Fetch embedding_model.ckpt: Using existing file/symlink in models/spkrec-ecapa-voxceleb/embedding_model.ckpt.\n",
      "INFO:speechbrain.utils.fetching:Fetch mean_var_norm_emb.ckpt: Using existing file/symlink in models/spkrec-ecapa-voxceleb/mean_var_norm_emb.ckpt.\n",
      "INFO:speechbrain.utils.fetching:Fetch classifier.ckpt: Using existing file/symlink in models/spkrec-ecapa-voxceleb/classifier.ckpt.\n",
      "INFO:speechbrain.utils.fetching:Fetch label_encoder.txt: Using existing file/symlink in models/spkrec-ecapa-voxceleb/label_encoder.ckpt.\n",
      "INFO:speechbrain.utils.parameter_transfer:Loading pretrained files for: embedding_model, mean_var_norm_emb, classifier, label_encoder\n",
      "DEBUG:speechbrain.dataio.encoder:Loaded categorical encoding from models/spkrec-ecapa-voxceleb/label_encoder.ckpt\n"
     ]
    },
    {
     "name": "stderr",
     "output_type": "stream",
     "text": [
      "Map:  97%|█████████▋| 97/100 [00:52<00:01,  2.18 examples/s]"
     ]
    },
    {
     "name": "stdout",
     "output_type": "stream",
     "text": [
      "INFO:speechbrain.utils.fetching:Fetch hyperparams.yaml: Using existing file/symlink in models/spkrec-ecapa-voxceleb/hyperparams.yaml.\n",
      "INFO:speechbrain.utils.fetching:Fetch custom.py: Delegating to Huggingface hub, source speechbrain/spkrec-ecapa-voxceleb.\n",
      "DEBUG:urllib3.connectionpool:https://huggingface.co:443 \"HEAD /speechbrain/spkrec-ecapa-voxceleb/resolve/main/custom.py HTTP/1.1\" 404 0\n",
      "DEBUG:speechbrain.utils.parameter_transfer:Collecting files (or symlinks) for pretraining in models/spkrec-ecapa-voxceleb.\n",
      "INFO:speechbrain.utils.fetching:Fetch embedding_model.ckpt: Using existing file/symlink in models/spkrec-ecapa-voxceleb/embedding_model.ckpt.\n",
      "INFO:speechbrain.utils.fetching:Fetch mean_var_norm_emb.ckpt: Using existing file/symlink in models/spkrec-ecapa-voxceleb/mean_var_norm_emb.ckpt.\n",
      "INFO:speechbrain.utils.fetching:Fetch classifier.ckpt: Using existing file/symlink in models/spkrec-ecapa-voxceleb/classifier.ckpt.\n",
      "INFO:speechbrain.utils.fetching:Fetch label_encoder.txt: Using existing file/symlink in models/spkrec-ecapa-voxceleb/label_encoder.ckpt.\n",
      "INFO:speechbrain.utils.parameter_transfer:Loading pretrained files for: embedding_model, mean_var_norm_emb, classifier, label_encoder\n",
      "DEBUG:speechbrain.dataio.encoder:Loaded categorical encoding from models/spkrec-ecapa-voxceleb/label_encoder.ckpt\n"
     ]
    },
    {
     "name": "stderr",
     "output_type": "stream",
     "text": [
      "Map:  98%|█████████▊| 98/100 [00:52<00:00,  2.40 examples/s]"
     ]
    },
    {
     "name": "stdout",
     "output_type": "stream",
     "text": [
      "INFO:speechbrain.utils.fetching:Fetch hyperparams.yaml: Using existing file/symlink in models/spkrec-ecapa-voxceleb/hyperparams.yaml.\n",
      "INFO:speechbrain.utils.fetching:Fetch custom.py: Delegating to Huggingface hub, source speechbrain/spkrec-ecapa-voxceleb.\n",
      "DEBUG:urllib3.connectionpool:https://huggingface.co:443 \"HEAD /speechbrain/spkrec-ecapa-voxceleb/resolve/main/custom.py HTTP/1.1\" 404 0\n",
      "DEBUG:speechbrain.utils.parameter_transfer:Collecting files (or symlinks) for pretraining in models/spkrec-ecapa-voxceleb.\n",
      "INFO:speechbrain.utils.fetching:Fetch embedding_model.ckpt: Using existing file/symlink in models/spkrec-ecapa-voxceleb/embedding_model.ckpt.\n",
      "INFO:speechbrain.utils.fetching:Fetch mean_var_norm_emb.ckpt: Using existing file/symlink in models/spkrec-ecapa-voxceleb/mean_var_norm_emb.ckpt.\n",
      "INFO:speechbrain.utils.fetching:Fetch classifier.ckpt: Using existing file/symlink in models/spkrec-ecapa-voxceleb/classifier.ckpt.\n",
      "INFO:speechbrain.utils.fetching:Fetch label_encoder.txt: Using existing file/symlink in models/spkrec-ecapa-voxceleb/label_encoder.ckpt.\n",
      "INFO:speechbrain.utils.parameter_transfer:Loading pretrained files for: embedding_model, mean_var_norm_emb, classifier, label_encoder\n",
      "DEBUG:speechbrain.dataio.encoder:Loaded categorical encoding from models/spkrec-ecapa-voxceleb/label_encoder.ckpt\n"
     ]
    },
    {
     "name": "stderr",
     "output_type": "stream",
     "text": [
      "Map:  99%|█████████▉| 99/100 [00:53<00:00,  2.36 examples/s]"
     ]
    },
    {
     "name": "stdout",
     "output_type": "stream",
     "text": [
      "INFO:speechbrain.utils.fetching:Fetch hyperparams.yaml: Using existing file/symlink in models/spkrec-ecapa-voxceleb/hyperparams.yaml.\n",
      "INFO:speechbrain.utils.fetching:Fetch custom.py: Delegating to Huggingface hub, source speechbrain/spkrec-ecapa-voxceleb.\n",
      "DEBUG:urllib3.connectionpool:https://huggingface.co:443 \"HEAD /speechbrain/spkrec-ecapa-voxceleb/resolve/main/custom.py HTTP/1.1\" 404 0\n",
      "DEBUG:speechbrain.utils.parameter_transfer:Collecting files (or symlinks) for pretraining in models/spkrec-ecapa-voxceleb.\n",
      "INFO:speechbrain.utils.fetching:Fetch embedding_model.ckpt: Using existing file/symlink in models/spkrec-ecapa-voxceleb/embedding_model.ckpt.\n",
      "INFO:speechbrain.utils.fetching:Fetch mean_var_norm_emb.ckpt: Using existing file/symlink in models/spkrec-ecapa-voxceleb/mean_var_norm_emb.ckpt.\n",
      "INFO:speechbrain.utils.fetching:Fetch classifier.ckpt: Using existing file/symlink in models/spkrec-ecapa-voxceleb/classifier.ckpt.\n",
      "INFO:speechbrain.utils.fetching:Fetch label_encoder.txt: Using existing file/symlink in models/spkrec-ecapa-voxceleb/label_encoder.ckpt.\n",
      "INFO:speechbrain.utils.parameter_transfer:Loading pretrained files for: embedding_model, mean_var_norm_emb, classifier, label_encoder\n",
      "DEBUG:speechbrain.dataio.encoder:Loaded categorical encoding from models/spkrec-ecapa-voxceleb/label_encoder.ckpt\n"
     ]
    },
    {
     "name": "stderr",
     "output_type": "stream",
     "text": [
      "Map: 100%|██████████| 100/100 [00:59<00:00,  1.69 examples/s]\n"
     ]
    },
    {
     "name": "stdout",
     "output_type": "stream",
     "text": [
      "computing metrics and similarity similarity for Dataset({\n",
      "    features: ['audio', 'transcript', 'speaker_id', 'asr_transcription', 'embeddings'],\n",
      "    num_rows: 100\n",
      "})\n"
     ]
    },
    {
     "name": "stderr",
     "output_type": "stream",
     "text": [
      "100%|██████████| 100/100 [00:13<00:00,  7.40it/s]\n"
     ]
    },
    {
     "name": "stdout",
     "output_type": "stream",
     "text": [
      "done computing metrics and pairwise similarity\n",
      "computing metrics and similarity similarity for Dataset({\n",
      "    features: ['audio', 'transcript', 'speaker_id', 'asr_transcription', 'embeddings'],\n",
      "    num_rows: 100\n",
      "})\n"
     ]
    },
    {
     "name": "stderr",
     "output_type": "stream",
     "text": [
      "100%|██████████| 100/100 [00:12<00:00,  7.84it/s]\n"
     ]
    },
    {
     "name": "stdout",
     "output_type": "stream",
     "text": [
      "done computing metrics and pairwise similarity\n"
     ]
    }
   ],
   "source": [
    "dataset = preprocess(\n",
    "    raw_data_path, processed_data_path, transcript_path_pattern, speaker_id_pattern, \n",
    "    target_sample_rate, num_samples, file_extensions\n",
    "    )\n",
    "converted_dataset = voice_convert(dataset, target_index)\n",
    "dataset_after_asr = asr(asr_model_id, dataset, split)\n",
    "converted_dataset_after_asr = asr(asr_model_id, converted_dataset, split)\n",
    "dataset_with_asr_and_embeddings = process_data_to_embeddings(dataset_after_asr)\n",
    "converted_dataset_with_asr_and_embeddings = process_data_to_embeddings(converted_dataset_after_asr)\n",
    "similarities, eer_score, wer_score = compute_metrics_and_similarity(dataset_with_asr_and_embeddings)\n",
    "converted_similarties, converted_eer_score, converted_wer_score = compute_metrics_and_similarity(converted_dataset_with_asr_and_embeddings)"
   ]
  },
  {
   "cell_type": "code",
   "execution_count": 5,
   "metadata": {},
   "outputs": [
    {
     "data": {
      "text/plain": [
       "Dataset({\n",
       "    features: ['audio', 'transcript', 'speaker_id', 'asr_transcription', 'embeddings'],\n",
       "    num_rows: 100\n",
       "})"
      ]
     },
     "execution_count": 5,
     "metadata": {},
     "output_type": "execute_result"
    }
   ],
   "source": [
    "dataset_with_asr_and_embeddings"
   ]
  },
  {
   "cell_type": "code",
   "execution_count": 6,
   "metadata": {},
   "outputs": [
    {
     "data": {
      "text/plain": [
       "{'audio': {'path': None,\n",
       "  'array': array([-0.00137329, -0.00134277, -0.00048828, ..., -0.0010376 ,\n",
       "          0.00134277,  0.0007019 ]),\n",
       "  'sampling_rate': 16000},\n",
       " 'transcript': 'The mountaineer quickly formed a loop in one end of the rope, making it large enough to permit of its slipping over the shoulders of a man.',\n",
       " 'speaker_id': '6313',\n",
       " 'asr_transcription': {'text': ' the mountaineer quickly formed a loop in one end of the rope, making it large enough to permit of it slipping over the shoulders of a man.'},\n",
       " 'embeddings': [-15.214618682861328,\n",
       "  -5.800723075866699,\n",
       "  1.344504475593567,\n",
       "  -5.173941135406494,\n",
       "  -6.602982044219971,\n",
       "  17.321691513061523,\n",
       "  17.280759811401367,\n",
       "  26.46316146850586,\n",
       "  -0.19831949472427368,\n",
       "  -20.185012817382812,\n",
       "  -28.183467864990234,\n",
       "  -4.2336931228637695,\n",
       "  9.371749877929688,\n",
       "  -15.088933944702148,\n",
       "  11.905731201171875,\n",
       "  -6.78711462020874,\n",
       "  -3.5590527057647705,\n",
       "  -12.564376831054688,\n",
       "  0.21996338665485382,\n",
       "  -4.892398357391357,\n",
       "  -2.22225284576416,\n",
       "  -16.194238662719727,\n",
       "  -19.011676788330078,\n",
       "  17.45590591430664,\n",
       "  -12.875974655151367,\n",
       "  -5.862804889678955,\n",
       "  -3.4907660484313965,\n",
       "  15.980929374694824,\n",
       "  9.094974517822266,\n",
       "  -1.6013855934143066,\n",
       "  -17.345252990722656,\n",
       "  -18.03551483154297,\n",
       "  3.450981855392456,\n",
       "  -15.870384216308594,\n",
       "  25.897253036499023,\n",
       "  -22.915273666381836,\n",
       "  3.08756685256958,\n",
       "  24.622058868408203,\n",
       "  10.33957576751709,\n",
       "  8.606734275817871,\n",
       "  -23.4212646484375,\n",
       "  -19.228721618652344,\n",
       "  21.190031051635742,\n",
       "  -4.835068225860596,\n",
       "  -13.301823616027832,\n",
       "  -6.441041946411133,\n",
       "  25.8508358001709,\n",
       "  -7.5780534744262695,\n",
       "  -6.664857864379883,\n",
       "  7.393375396728516,\n",
       "  21.047029495239258,\n",
       "  -7.947559356689453,\n",
       "  0.002993048168718815,\n",
       "  -7.755080223083496,\n",
       "  3.38303542137146,\n",
       "  -25.404722213745117,\n",
       "  2.6746697425842285,\n",
       "  13.445151329040527,\n",
       "  -4.542487621307373,\n",
       "  -30.79291343688965,\n",
       "  11.382369041442871,\n",
       "  3.0002191066741943,\n",
       "  -24.128816604614258,\n",
       "  19.0545711517334,\n",
       "  -1.8020825386047363,\n",
       "  -11.799176216125488,\n",
       "  29.07316780090332,\n",
       "  2.382979154586792,\n",
       "  6.417172908782959,\n",
       "  -8.494880676269531,\n",
       "  -18.78333854675293,\n",
       "  -13.935298919677734,\n",
       "  -2.327805995941162,\n",
       "  -8.490882873535156,\n",
       "  1.0668550729751587,\n",
       "  -20.664493560791016,\n",
       "  10.235832214355469,\n",
       "  -5.7851762771606445,\n",
       "  8.537040710449219,\n",
       "  31.346986770629883,\n",
       "  0.8534703254699707,\n",
       "  10.373342514038086,\n",
       "  12.499089241027832,\n",
       "  -23.136520385742188,\n",
       "  14.228145599365234,\n",
       "  0.01709309220314026,\n",
       "  13.945490837097168,\n",
       "  -9.673991203308105,\n",
       "  3.8169660568237305,\n",
       "  -4.079773426055908,\n",
       "  16.00572967529297,\n",
       "  -22.414024353027344,\n",
       "  -5.820953845977783,\n",
       "  32.842681884765625,\n",
       "  -2.283287763595581,\n",
       "  -23.53814697265625,\n",
       "  15.03370475769043,\n",
       "  3.2895379066467285,\n",
       "  -5.448343276977539,\n",
       "  -3.5646159648895264,\n",
       "  15.939962387084961,\n",
       "  -17.790861129760742,\n",
       "  32.31394958496094,\n",
       "  29.249597549438477,\n",
       "  9.335465431213379,\n",
       "  -21.986007690429688,\n",
       "  -15.155720710754395,\n",
       "  -18.529830932617188,\n",
       "  5.229048252105713,\n",
       "  2.5394515991210938,\n",
       "  8.58471965789795,\n",
       "  20.049732208251953,\n",
       "  1.2510045766830444,\n",
       "  25.329984664916992,\n",
       "  -2.547588348388672,\n",
       "  5.461819648742676,\n",
       "  -22.362455368041992,\n",
       "  7.497916221618652,\n",
       "  10.224846839904785,\n",
       "  -14.092936515808105,\n",
       "  -27.940500259399414,\n",
       "  2.8540732860565186,\n",
       "  11.835613250732422,\n",
       "  6.733795166015625,\n",
       "  7.20079231262207,\n",
       "  1.098161220550537,\n",
       "  -15.93687629699707,\n",
       "  -8.265312194824219,\n",
       "  -4.208718299865723,\n",
       "  -19.721254348754883,\n",
       "  2.4099855422973633,\n",
       "  3.708845853805542,\n",
       "  -14.59217643737793,\n",
       "  3.095510721206665,\n",
       "  -23.427257537841797,\n",
       "  -7.240053176879883,\n",
       "  18.669206619262695,\n",
       "  -18.50192642211914,\n",
       "  22.803789138793945,\n",
       "  -6.81274938583374,\n",
       "  -15.371697425842285,\n",
       "  15.714800834655762,\n",
       "  -24.659496307373047,\n",
       "  -11.526487350463867,\n",
       "  14.654690742492676,\n",
       "  4.455763339996338,\n",
       "  15.875326156616211,\n",
       "  0.004806414246559143,\n",
       "  22.938146591186523,\n",
       "  11.982186317443848,\n",
       "  0.2522619664669037,\n",
       "  -9.088892936706543,\n",
       "  7.27736759185791,\n",
       "  8.90236759185791,\n",
       "  21.08763313293457,\n",
       "  23.336992263793945,\n",
       "  -21.952964782714844,\n",
       "  -40.25705337524414,\n",
       "  -15.985014915466309,\n",
       "  -14.586514472961426,\n",
       "  -7.019979476928711,\n",
       "  -16.846376419067383,\n",
       "  -22.369497299194336,\n",
       "  -30.08336067199707,\n",
       "  -13.841971397399902,\n",
       "  -8.29147720336914,\n",
       "  34.693153381347656,\n",
       "  2.152592658996582,\n",
       "  -23.962116241455078,\n",
       "  2.229771375656128,\n",
       "  14.809234619140625,\n",
       "  13.890626907348633,\n",
       "  -9.646934509277344,\n",
       "  -27.71141815185547,\n",
       "  -7.254682540893555,\n",
       "  20.45191764831543,\n",
       "  -4.687169551849365,\n",
       "  26.04694175720215,\n",
       "  -6.2600250244140625,\n",
       "  -7.294307708740234,\n",
       "  -19.635812759399414,\n",
       "  -22.876358032226562,\n",
       "  -2.363102674484253,\n",
       "  -1.0536764860153198,\n",
       "  -33.9237174987793,\n",
       "  10.905472755432129,\n",
       "  -4.784127712249756,\n",
       "  19.98126983642578,\n",
       "  6.849222183227539,\n",
       "  13.505800247192383,\n",
       "  -6.167437553405762,\n",
       "  -11.217972755432129]}"
      ]
     },
     "execution_count": 6,
     "metadata": {},
     "output_type": "execute_result"
    }
   ],
   "source": [
    "dataset_with_asr_and_embeddings[0]"
   ]
  },
  {
   "cell_type": "code",
   "execution_count": 8,
   "metadata": {},
   "outputs": [
    {
     "data": {
      "text/plain": [
       "{'audio': {'path': None,\n",
       "  'array': array([-1.52587891e-04,  2.74658203e-04,  2.86865234e-03, ...,\n",
       "          9.76562500e-04,  1.46484375e-03,  6.10351562e-05]),\n",
       "  'sampling_rate': 16000},\n",
       " 'transcript': 'The mountaineer quickly formed a loop in one end of the rope, making it large enough to permit of its slipping over the shoulders of a man.',\n",
       " 'speaker_id': '6313',\n",
       " 'asr_transcription': {'text': ' the matinee are quickly formed of loop in one end of the rope, making it large enough to permit of its slipping over the shoulders of a man.'},\n",
       " 'embeddings': [-18.25465965270996,\n",
       "  -10.41771411895752,\n",
       "  12.926801681518555,\n",
       "  32.50221252441406,\n",
       "  1.5055961608886719,\n",
       "  18.315080642700195,\n",
       "  8.612079620361328,\n",
       "  18.72712516784668,\n",
       "  -6.5341315269470215,\n",
       "  -24.514925003051758,\n",
       "  -25.768245697021484,\n",
       "  13.07422161102295,\n",
       "  27.211963653564453,\n",
       "  -12.965782165527344,\n",
       "  24.19794464111328,\n",
       "  -0.29035431146621704,\n",
       "  15.153406143188477,\n",
       "  -19.999067306518555,\n",
       "  13.285738945007324,\n",
       "  -11.086474418640137,\n",
       "  -2.7500452995300293,\n",
       "  -27.55145263671875,\n",
       "  22.4255313873291,\n",
       "  5.605979919433594,\n",
       "  -23.871089935302734,\n",
       "  -22.251352310180664,\n",
       "  -25.742258071899414,\n",
       "  0.7887747287750244,\n",
       "  19.696062088012695,\n",
       "  -19.13656234741211,\n",
       "  -15.277641296386719,\n",
       "  -17.940322875976562,\n",
       "  2.571335554122925,\n",
       "  -5.140568733215332,\n",
       "  18.173994064331055,\n",
       "  -19.937118530273438,\n",
       "  18.65091323852539,\n",
       "  16.10129165649414,\n",
       "  20.776060104370117,\n",
       "  -14.353499412536621,\n",
       "  -35.411197662353516,\n",
       "  -9.566215515136719,\n",
       "  29.806581497192383,\n",
       "  -8.140616416931152,\n",
       "  8.3071870803833,\n",
       "  9.481532096862793,\n",
       "  13.500563621520996,\n",
       "  -13.246594429016113,\n",
       "  7.5311994552612305,\n",
       "  7.5080437660217285,\n",
       "  -7.020373821258545,\n",
       "  -14.136547088623047,\n",
       "  -7.841740608215332,\n",
       "  32.63872528076172,\n",
       "  19.621036529541016,\n",
       "  21.925092697143555,\n",
       "  -16.715429306030273,\n",
       "  -9.882608413696289,\n",
       "  -12.620160102844238,\n",
       "  -5.528445243835449,\n",
       "  4.697145938873291,\n",
       "  6.9529523849487305,\n",
       "  -14.373595237731934,\n",
       "  17.22269630432129,\n",
       "  -1.9466557502746582,\n",
       "  9.592147827148438,\n",
       "  7.635031700134277,\n",
       "  -13.623222351074219,\n",
       "  31.739404678344727,\n",
       "  -23.457372665405273,\n",
       "  -9.540119171142578,\n",
       "  7.778833389282227,\n",
       "  4.524954319000244,\n",
       "  -19.236928939819336,\n",
       "  -5.752993583679199,\n",
       "  -59.964691162109375,\n",
       "  2.8638033866882324,\n",
       "  -26.39371109008789,\n",
       "  14.959903717041016,\n",
       "  31.453807830810547,\n",
       "  -25.757516860961914,\n",
       "  -5.215090274810791,\n",
       "  -17.045181274414062,\n",
       "  -7.113152503967285,\n",
       "  12.078106880187988,\n",
       "  6.252415657043457,\n",
       "  12.387717247009277,\n",
       "  -17.857481002807617,\n",
       "  14.566827774047852,\n",
       "  -14.588057518005371,\n",
       "  3.0259222984313965,\n",
       "  -8.662304878234863,\n",
       "  0.4622277021408081,\n",
       "  5.640015125274658,\n",
       "  -26.352514266967773,\n",
       "  -10.888421058654785,\n",
       "  5.578258991241455,\n",
       "  -10.484820365905762,\n",
       "  -26.091205596923828,\n",
       "  8.613800048828125,\n",
       "  18.089889526367188,\n",
       "  8.61841106414795,\n",
       "  0.08436581492424011,\n",
       "  4.073056221008301,\n",
       "  -0.9545037150382996,\n",
       "  -28.829204559326172,\n",
       "  -16.44435691833496,\n",
       "  -21.7921142578125,\n",
       "  8.253061294555664,\n",
       "  11.48323917388916,\n",
       "  -12.356440544128418,\n",
       "  2.680514335632324,\n",
       "  -3.7121264934539795,\n",
       "  -6.794024467468262,\n",
       "  -14.954458236694336,\n",
       "  23.9789981842041,\n",
       "  -23.35710334777832,\n",
       "  7.988096237182617,\n",
       "  -7.387374401092529,\n",
       "  -7.2696051597595215,\n",
       "  0.9577135443687439,\n",
       "  -9.995600700378418,\n",
       "  -19.56150245666504,\n",
       "  -26.329435348510742,\n",
       "  6.18230676651001,\n",
       "  -12.588753700256348,\n",
       "  1.695717692375183,\n",
       "  -37.64217758178711,\n",
       "  -28.280580520629883,\n",
       "  -11.646988868713379,\n",
       "  9.947147369384766,\n",
       "  15.058319091796875,\n",
       "  -4.3794050216674805,\n",
       "  -18.429391860961914,\n",
       "  -19.27216148376465,\n",
       "  -29.243776321411133,\n",
       "  9.059593200683594,\n",
       "  -10.667789459228516,\n",
       "  22.55971908569336,\n",
       "  -25.73197364807129,\n",
       "  1.0052251815795898,\n",
       "  8.38044548034668,\n",
       "  10.637447357177734,\n",
       "  -16.20867156982422,\n",
       "  -7.745233535766602,\n",
       "  1.1136258840560913,\n",
       "  1.3598251342773438,\n",
       "  1.6938568353652954,\n",
       "  19.43540382385254,\n",
       "  -21.12032699584961,\n",
       "  14.53918170928955,\n",
       "  2.4923629760742188,\n",
       "  9.291702270507812,\n",
       "  4.410959720611572,\n",
       "  -5.681906223297119,\n",
       "  3.9347057342529297,\n",
       "  -7.170291423797607,\n",
       "  -23.165555953979492,\n",
       "  -21.247695922851562,\n",
       "  9.37431526184082,\n",
       "  19.340978622436523,\n",
       "  10.96683120727539,\n",
       "  1.2758584022521973,\n",
       "  -25.25227928161621,\n",
       "  5.457826614379883,\n",
       "  -19.671791076660156,\n",
       "  9.301916122436523,\n",
       "  -1.3906517028808594,\n",
       "  -33.95223617553711,\n",
       "  -14.101191520690918,\n",
       "  14.197677612304688,\n",
       "  6.525288105010986,\n",
       "  -12.631792068481445,\n",
       "  -13.158604621887207,\n",
       "  19.210290908813477,\n",
       "  -0.9226671457290649,\n",
       "  -22.959169387817383,\n",
       "  -6.209120750427246,\n",
       "  -6.652998924255371,\n",
       "  21.052656173706055,\n",
       "  -16.67963981628418,\n",
       "  -46.00552749633789,\n",
       "  1.9434489011764526,\n",
       "  18.5233154296875,\n",
       "  -1.3623645305633545,\n",
       "  9.880218505859375,\n",
       "  -11.462630271911621,\n",
       "  8.831414222717285,\n",
       "  -7.789522171020508,\n",
       "  15.38394546508789,\n",
       "  -3.2277770042419434,\n",
       "  -14.491962432861328]}"
      ]
     },
     "execution_count": 8,
     "metadata": {},
     "output_type": "execute_result"
    }
   ],
   "source": [
    "converted_dataset_with_asr_and_embeddings[0]"
   ]
  },
  {
   "cell_type": "code",
   "execution_count": 9,
   "metadata": {},
   "outputs": [
    {
     "data": {
      "text/plain": [
       "(Dataset({\n",
       "     features: ['speaker_id1', 'speaker_id2', 'embedding1', 'embedding2', 'similarity_score'],\n",
       "     num_rows: 4950\n",
       " }),\n",
       " 0.056532686576247215,\n",
       " 0.18932874500751495)"
      ]
     },
     "execution_count": 9,
     "metadata": {},
     "output_type": "execute_result"
    }
   ],
   "source": [
    "similarities, eer_score, wer_score"
   ]
  },
  {
   "cell_type": "code",
   "execution_count": 11,
   "metadata": {},
   "outputs": [
    {
     "data": {
      "text/plain": [
       "{'speaker_id1': '6313',\n",
       " 'speaker_id2': '2412',\n",
       " 'embedding1': [-15.214618682861328,\n",
       "  -5.800723075866699,\n",
       "  1.344504475593567,\n",
       "  -5.173941135406494,\n",
       "  -6.602982044219971,\n",
       "  17.321691513061523,\n",
       "  17.280759811401367,\n",
       "  26.46316146850586,\n",
       "  -0.19831949472427368,\n",
       "  -20.185012817382812,\n",
       "  -28.183467864990234,\n",
       "  -4.2336931228637695,\n",
       "  9.371749877929688,\n",
       "  -15.088933944702148,\n",
       "  11.905731201171875,\n",
       "  -6.78711462020874,\n",
       "  -3.5590527057647705,\n",
       "  -12.564376831054688,\n",
       "  0.21996338665485382,\n",
       "  -4.892398357391357,\n",
       "  -2.22225284576416,\n",
       "  -16.194238662719727,\n",
       "  -19.011676788330078,\n",
       "  17.45590591430664,\n",
       "  -12.875974655151367,\n",
       "  -5.862804889678955,\n",
       "  -3.4907660484313965,\n",
       "  15.980929374694824,\n",
       "  9.094974517822266,\n",
       "  -1.6013855934143066,\n",
       "  -17.345252990722656,\n",
       "  -18.03551483154297,\n",
       "  3.450981855392456,\n",
       "  -15.870384216308594,\n",
       "  25.897253036499023,\n",
       "  -22.915273666381836,\n",
       "  3.08756685256958,\n",
       "  24.622058868408203,\n",
       "  10.33957576751709,\n",
       "  8.606734275817871,\n",
       "  -23.4212646484375,\n",
       "  -19.228721618652344,\n",
       "  21.190031051635742,\n",
       "  -4.835068225860596,\n",
       "  -13.301823616027832,\n",
       "  -6.441041946411133,\n",
       "  25.8508358001709,\n",
       "  -7.5780534744262695,\n",
       "  -6.664857864379883,\n",
       "  7.393375396728516,\n",
       "  21.047029495239258,\n",
       "  -7.947559356689453,\n",
       "  0.002993048168718815,\n",
       "  -7.755080223083496,\n",
       "  3.38303542137146,\n",
       "  -25.404722213745117,\n",
       "  2.6746697425842285,\n",
       "  13.445151329040527,\n",
       "  -4.542487621307373,\n",
       "  -30.79291343688965,\n",
       "  11.382369041442871,\n",
       "  3.0002191066741943,\n",
       "  -24.128816604614258,\n",
       "  19.0545711517334,\n",
       "  -1.8020825386047363,\n",
       "  -11.799176216125488,\n",
       "  29.07316780090332,\n",
       "  2.382979154586792,\n",
       "  6.417172908782959,\n",
       "  -8.494880676269531,\n",
       "  -18.78333854675293,\n",
       "  -13.935298919677734,\n",
       "  -2.327805995941162,\n",
       "  -8.490882873535156,\n",
       "  1.0668550729751587,\n",
       "  -20.664493560791016,\n",
       "  10.235832214355469,\n",
       "  -5.7851762771606445,\n",
       "  8.537040710449219,\n",
       "  31.346986770629883,\n",
       "  0.8534703254699707,\n",
       "  10.373342514038086,\n",
       "  12.499089241027832,\n",
       "  -23.136520385742188,\n",
       "  14.228145599365234,\n",
       "  0.01709309220314026,\n",
       "  13.945490837097168,\n",
       "  -9.673991203308105,\n",
       "  3.8169660568237305,\n",
       "  -4.079773426055908,\n",
       "  16.00572967529297,\n",
       "  -22.414024353027344,\n",
       "  -5.820953845977783,\n",
       "  32.842681884765625,\n",
       "  -2.283287763595581,\n",
       "  -23.53814697265625,\n",
       "  15.03370475769043,\n",
       "  3.2895379066467285,\n",
       "  -5.448343276977539,\n",
       "  -3.5646159648895264,\n",
       "  15.939962387084961,\n",
       "  -17.790861129760742,\n",
       "  32.31394958496094,\n",
       "  29.249597549438477,\n",
       "  9.335465431213379,\n",
       "  -21.986007690429688,\n",
       "  -15.155720710754395,\n",
       "  -18.529830932617188,\n",
       "  5.229048252105713,\n",
       "  2.5394515991210938,\n",
       "  8.58471965789795,\n",
       "  20.049732208251953,\n",
       "  1.2510045766830444,\n",
       "  25.329984664916992,\n",
       "  -2.547588348388672,\n",
       "  5.461819648742676,\n",
       "  -22.362455368041992,\n",
       "  7.497916221618652,\n",
       "  10.224846839904785,\n",
       "  -14.092936515808105,\n",
       "  -27.940500259399414,\n",
       "  2.8540732860565186,\n",
       "  11.835613250732422,\n",
       "  6.733795166015625,\n",
       "  7.20079231262207,\n",
       "  1.098161220550537,\n",
       "  -15.93687629699707,\n",
       "  -8.265312194824219,\n",
       "  -4.208718299865723,\n",
       "  -19.721254348754883,\n",
       "  2.4099855422973633,\n",
       "  3.708845853805542,\n",
       "  -14.59217643737793,\n",
       "  3.095510721206665,\n",
       "  -23.427257537841797,\n",
       "  -7.240053176879883,\n",
       "  18.669206619262695,\n",
       "  -18.50192642211914,\n",
       "  22.803789138793945,\n",
       "  -6.81274938583374,\n",
       "  -15.371697425842285,\n",
       "  15.714800834655762,\n",
       "  -24.659496307373047,\n",
       "  -11.526487350463867,\n",
       "  14.654690742492676,\n",
       "  4.455763339996338,\n",
       "  15.875326156616211,\n",
       "  0.004806414246559143,\n",
       "  22.938146591186523,\n",
       "  11.982186317443848,\n",
       "  0.2522619664669037,\n",
       "  -9.088892936706543,\n",
       "  7.27736759185791,\n",
       "  8.90236759185791,\n",
       "  21.08763313293457,\n",
       "  23.336992263793945,\n",
       "  -21.952964782714844,\n",
       "  -40.25705337524414,\n",
       "  -15.985014915466309,\n",
       "  -14.586514472961426,\n",
       "  -7.019979476928711,\n",
       "  -16.846376419067383,\n",
       "  -22.369497299194336,\n",
       "  -30.08336067199707,\n",
       "  -13.841971397399902,\n",
       "  -8.29147720336914,\n",
       "  34.693153381347656,\n",
       "  2.152592658996582,\n",
       "  -23.962116241455078,\n",
       "  2.229771375656128,\n",
       "  14.809234619140625,\n",
       "  13.890626907348633,\n",
       "  -9.646934509277344,\n",
       "  -27.71141815185547,\n",
       "  -7.254682540893555,\n",
       "  20.45191764831543,\n",
       "  -4.687169551849365,\n",
       "  26.04694175720215,\n",
       "  -6.2600250244140625,\n",
       "  -7.294307708740234,\n",
       "  -19.635812759399414,\n",
       "  -22.876358032226562,\n",
       "  -2.363102674484253,\n",
       "  -1.0536764860153198,\n",
       "  -33.9237174987793,\n",
       "  10.905472755432129,\n",
       "  -4.784127712249756,\n",
       "  19.98126983642578,\n",
       "  6.849222183227539,\n",
       "  13.505800247192383,\n",
       "  -6.167437553405762,\n",
       "  -11.217972755432129],\n",
       " 'embedding2': [11.608185768127441,\n",
       "  -4.512482643127441,\n",
       "  6.19987678527832,\n",
       "  -30.59778594970703,\n",
       "  -3.160604238510132,\n",
       "  -35.142032623291016,\n",
       "  12.699034690856934,\n",
       "  15.528335571289062,\n",
       "  14.068253517150879,\n",
       "  5.899604320526123,\n",
       "  -15.718768119812012,\n",
       "  30.25248146057129,\n",
       "  24.64354133605957,\n",
       "  -57.882781982421875,\n",
       "  6.9538655281066895,\n",
       "  33.385215759277344,\n",
       "  -3.3879454135894775,\n",
       "  25.887388229370117,\n",
       "  -17.196096420288086,\n",
       "  1.2148268222808838,\n",
       "  -37.690128326416016,\n",
       "  -34.20301818847656,\n",
       "  -29.58554458618164,\n",
       "  43.38339614868164,\n",
       "  -40.95787048339844,\n",
       "  -6.225832939147949,\n",
       "  -35.67601013183594,\n",
       "  33.64954376220703,\n",
       "  -15.312926292419434,\n",
       "  -34.823585510253906,\n",
       "  24.062299728393555,\n",
       "  10.161015510559082,\n",
       "  -11.390979766845703,\n",
       "  -12.127035140991211,\n",
       "  48.5487174987793,\n",
       "  10.513975143432617,\n",
       "  2.8817625045776367,\n",
       "  14.689846992492676,\n",
       "  64.7474594116211,\n",
       "  -19.536069869995117,\n",
       "  4.949455738067627,\n",
       "  30.535409927368164,\n",
       "  -29.22511863708496,\n",
       "  -5.0713372230529785,\n",
       "  19.78234100341797,\n",
       "  -14.478354454040527,\n",
       "  -13.751261711120605,\n",
       "  -31.37217903137207,\n",
       "  15.038524627685547,\n",
       "  19.011159896850586,\n",
       "  -20.16192054748535,\n",
       "  9.129284858703613,\n",
       "  8.941305160522461,\n",
       "  2.3055384159088135,\n",
       "  36.24971389770508,\n",
       "  14.384724617004395,\n",
       "  -23.82548713684082,\n",
       "  -8.613865852355957,\n",
       "  -29.9625301361084,\n",
       "  -31.386884689331055,\n",
       "  0.8778239488601685,\n",
       "  18.36376953125,\n",
       "  31.32671546936035,\n",
       "  -16.1660213470459,\n",
       "  -3.8232345581054688,\n",
       "  -14.73421573638916,\n",
       "  -13.112046241760254,\n",
       "  0.38097360730171204,\n",
       "  -15.42490005493164,\n",
       "  -29.424104690551758,\n",
       "  22.88025665283203,\n",
       "  47.564273834228516,\n",
       "  2.9469828605651855,\n",
       "  -17.76909828186035,\n",
       "  -24.507047653198242,\n",
       "  -5.5376410484313965,\n",
       "  23.823579788208008,\n",
       "  9.053271293640137,\n",
       "  34.9778938293457,\n",
       "  28.371103286743164,\n",
       "  -32.49554443359375,\n",
       "  -6.543148517608643,\n",
       "  20.728069305419922,\n",
       "  10.771308898925781,\n",
       "  4.821869373321533,\n",
       "  -35.903690338134766,\n",
       "  15.190082550048828,\n",
       "  9.766900062561035,\n",
       "  -4.951040267944336,\n",
       "  -6.590641975402832,\n",
       "  -36.44845199584961,\n",
       "  4.949548721313477,\n",
       "  -6.936549186706543,\n",
       "  7.13899040222168,\n",
       "  23.190988540649414,\n",
       "  -12.789791107177734,\n",
       "  24.102725982666016,\n",
       "  -48.86954879760742,\n",
       "  -48.785404205322266,\n",
       "  -66.42353820800781,\n",
       "  20.503822326660156,\n",
       "  23.11844253540039,\n",
       "  16.560245513916016,\n",
       "  -36.901824951171875,\n",
       "  -10.759889602661133,\n",
       "  36.62791061401367,\n",
       "  -50.85292434692383,\n",
       "  -68.51409912109375,\n",
       "  -21.557443618774414,\n",
       "  -17.155216217041016,\n",
       "  -20.74249839782715,\n",
       "  -19.19801139831543,\n",
       "  -25.269786834716797,\n",
       "  2.6163687705993652,\n",
       "  -22.158214569091797,\n",
       "  3.65084171295166,\n",
       "  7.599623680114746,\n",
       "  15.819687843322754,\n",
       "  -35.658756256103516,\n",
       "  -13.385845184326172,\n",
       "  -8.273785591125488,\n",
       "  12.392599105834961,\n",
       "  -5.603679180145264,\n",
       "  11.371344566345215,\n",
       "  -19.47228240966797,\n",
       "  -13.577984809875488,\n",
       "  -8.381332397460938,\n",
       "  15.843982696533203,\n",
       "  15.617673873901367,\n",
       "  -15.724807739257812,\n",
       "  -11.432137489318848,\n",
       "  6.102076053619385,\n",
       "  50.06400680541992,\n",
       "  -17.736080169677734,\n",
       "  0.2190989851951599,\n",
       "  -11.302769660949707,\n",
       "  9.677891731262207,\n",
       "  -17.05488395690918,\n",
       "  -26.835391998291016,\n",
       "  -33.932430267333984,\n",
       "  11.91688346862793,\n",
       "  -21.61639976501465,\n",
       "  6.995296955108643,\n",
       "  -25.247398376464844,\n",
       "  38.887386322021484,\n",
       "  10.60532283782959,\n",
       "  21.652477264404297,\n",
       "  -0.2096000760793686,\n",
       "  13.729710578918457,\n",
       "  -13.310189247131348,\n",
       "  -44.55782699584961,\n",
       "  -14.031588554382324,\n",
       "  -19.04454803466797,\n",
       "  40.98936462402344,\n",
       "  -6.925560474395752,\n",
       "  5.812068939208984,\n",
       "  -38.243309020996094,\n",
       "  -2.3419671058654785,\n",
       "  -36.82006072998047,\n",
       "  17.969453811645508,\n",
       "  -9.07453727722168,\n",
       "  -8.086499214172363,\n",
       "  -6.418794631958008,\n",
       "  36.91619873046875,\n",
       "  12.710160255432129,\n",
       "  -18.894508361816406,\n",
       "  20.786956787109375,\n",
       "  35.35715103149414,\n",
       "  24.459186553955078,\n",
       "  27.047481536865234,\n",
       "  -16.690509796142578,\n",
       "  -15.993062973022461,\n",
       "  -10.747343063354492,\n",
       "  -15.283377647399902,\n",
       "  -13.543041229248047,\n",
       "  -13.848414421081543,\n",
       "  -29.44991683959961,\n",
       "  18.369142532348633,\n",
       "  6.157519340515137,\n",
       "  -13.994154930114746,\n",
       "  -27.632122039794922,\n",
       "  -12.12544059753418,\n",
       "  -6.444660186767578,\n",
       "  -13.442437171936035,\n",
       "  25.606306076049805,\n",
       "  34.0517692565918,\n",
       "  -46.66466522216797,\n",
       "  2.5330071449279785,\n",
       "  9.66456413269043,\n",
       "  41.87578582763672,\n",
       "  6.719921588897705,\n",
       "  -9.096846580505371],\n",
       " 'similarity_score': 0.10097122937440872}"
      ]
     },
     "execution_count": 11,
     "metadata": {},
     "output_type": "execute_result"
    }
   ],
   "source": [
    "similarities[0]"
   ]
  },
  {
   "cell_type": "code",
   "execution_count": 10,
   "metadata": {},
   "outputs": [
    {
     "data": {
      "text/plain": [
       "(Dataset({\n",
       "     features: ['speaker_id1', 'speaker_id2', 'embedding1', 'embedding2', 'similarity_score'],\n",
       "     num_rows: 4950\n",
       " }),\n",
       " 0.4180276095867157,\n",
       " 0.223178431391716)"
      ]
     },
     "execution_count": 10,
     "metadata": {},
     "output_type": "execute_result"
    }
   ],
   "source": [
    "converted_similarties, converted_eer_score, converted_wer_score"
   ]
  },
  {
   "cell_type": "code",
   "execution_count": 12,
   "metadata": {},
   "outputs": [
    {
     "data": {
      "text/plain": [
       "{'speaker_id1': '6313',\n",
       " 'speaker_id2': '2412',\n",
       " 'embedding1': [-18.25465965270996,\n",
       "  -10.41771411895752,\n",
       "  12.926801681518555,\n",
       "  32.50221252441406,\n",
       "  1.5055961608886719,\n",
       "  18.315080642700195,\n",
       "  8.612079620361328,\n",
       "  18.72712516784668,\n",
       "  -6.5341315269470215,\n",
       "  -24.514925003051758,\n",
       "  -25.768245697021484,\n",
       "  13.07422161102295,\n",
       "  27.211963653564453,\n",
       "  -12.965782165527344,\n",
       "  24.19794464111328,\n",
       "  -0.29035431146621704,\n",
       "  15.153406143188477,\n",
       "  -19.999067306518555,\n",
       "  13.285738945007324,\n",
       "  -11.086474418640137,\n",
       "  -2.7500452995300293,\n",
       "  -27.55145263671875,\n",
       "  22.4255313873291,\n",
       "  5.605979919433594,\n",
       "  -23.871089935302734,\n",
       "  -22.251352310180664,\n",
       "  -25.742258071899414,\n",
       "  0.7887747287750244,\n",
       "  19.696062088012695,\n",
       "  -19.13656234741211,\n",
       "  -15.277641296386719,\n",
       "  -17.940322875976562,\n",
       "  2.571335554122925,\n",
       "  -5.140568733215332,\n",
       "  18.173994064331055,\n",
       "  -19.937118530273438,\n",
       "  18.65091323852539,\n",
       "  16.10129165649414,\n",
       "  20.776060104370117,\n",
       "  -14.353499412536621,\n",
       "  -35.411197662353516,\n",
       "  -9.566215515136719,\n",
       "  29.806581497192383,\n",
       "  -8.140616416931152,\n",
       "  8.3071870803833,\n",
       "  9.481532096862793,\n",
       "  13.500563621520996,\n",
       "  -13.246594429016113,\n",
       "  7.5311994552612305,\n",
       "  7.5080437660217285,\n",
       "  -7.020373821258545,\n",
       "  -14.136547088623047,\n",
       "  -7.841740608215332,\n",
       "  32.63872528076172,\n",
       "  19.621036529541016,\n",
       "  21.925092697143555,\n",
       "  -16.715429306030273,\n",
       "  -9.882608413696289,\n",
       "  -12.620160102844238,\n",
       "  -5.528445243835449,\n",
       "  4.697145938873291,\n",
       "  6.9529523849487305,\n",
       "  -14.373595237731934,\n",
       "  17.22269630432129,\n",
       "  -1.9466557502746582,\n",
       "  9.592147827148438,\n",
       "  7.635031700134277,\n",
       "  -13.623222351074219,\n",
       "  31.739404678344727,\n",
       "  -23.457372665405273,\n",
       "  -9.540119171142578,\n",
       "  7.778833389282227,\n",
       "  4.524954319000244,\n",
       "  -19.236928939819336,\n",
       "  -5.752993583679199,\n",
       "  -59.964691162109375,\n",
       "  2.8638033866882324,\n",
       "  -26.39371109008789,\n",
       "  14.959903717041016,\n",
       "  31.453807830810547,\n",
       "  -25.757516860961914,\n",
       "  -5.215090274810791,\n",
       "  -17.045181274414062,\n",
       "  -7.113152503967285,\n",
       "  12.078106880187988,\n",
       "  6.252415657043457,\n",
       "  12.387717247009277,\n",
       "  -17.857481002807617,\n",
       "  14.566827774047852,\n",
       "  -14.588057518005371,\n",
       "  3.0259222984313965,\n",
       "  -8.662304878234863,\n",
       "  0.4622277021408081,\n",
       "  5.640015125274658,\n",
       "  -26.352514266967773,\n",
       "  -10.888421058654785,\n",
       "  5.578258991241455,\n",
       "  -10.484820365905762,\n",
       "  -26.091205596923828,\n",
       "  8.613800048828125,\n",
       "  18.089889526367188,\n",
       "  8.61841106414795,\n",
       "  0.08436581492424011,\n",
       "  4.073056221008301,\n",
       "  -0.9545037150382996,\n",
       "  -28.829204559326172,\n",
       "  -16.44435691833496,\n",
       "  -21.7921142578125,\n",
       "  8.253061294555664,\n",
       "  11.48323917388916,\n",
       "  -12.356440544128418,\n",
       "  2.680514335632324,\n",
       "  -3.7121264934539795,\n",
       "  -6.794024467468262,\n",
       "  -14.954458236694336,\n",
       "  23.9789981842041,\n",
       "  -23.35710334777832,\n",
       "  7.988096237182617,\n",
       "  -7.387374401092529,\n",
       "  -7.2696051597595215,\n",
       "  0.9577135443687439,\n",
       "  -9.995600700378418,\n",
       "  -19.56150245666504,\n",
       "  -26.329435348510742,\n",
       "  6.18230676651001,\n",
       "  -12.588753700256348,\n",
       "  1.695717692375183,\n",
       "  -37.64217758178711,\n",
       "  -28.280580520629883,\n",
       "  -11.646988868713379,\n",
       "  9.947147369384766,\n",
       "  15.058319091796875,\n",
       "  -4.3794050216674805,\n",
       "  -18.429391860961914,\n",
       "  -19.27216148376465,\n",
       "  -29.243776321411133,\n",
       "  9.059593200683594,\n",
       "  -10.667789459228516,\n",
       "  22.55971908569336,\n",
       "  -25.73197364807129,\n",
       "  1.0052251815795898,\n",
       "  8.38044548034668,\n",
       "  10.637447357177734,\n",
       "  -16.20867156982422,\n",
       "  -7.745233535766602,\n",
       "  1.1136258840560913,\n",
       "  1.3598251342773438,\n",
       "  1.6938568353652954,\n",
       "  19.43540382385254,\n",
       "  -21.12032699584961,\n",
       "  14.53918170928955,\n",
       "  2.4923629760742188,\n",
       "  9.291702270507812,\n",
       "  4.410959720611572,\n",
       "  -5.681906223297119,\n",
       "  3.9347057342529297,\n",
       "  -7.170291423797607,\n",
       "  -23.165555953979492,\n",
       "  -21.247695922851562,\n",
       "  9.37431526184082,\n",
       "  19.340978622436523,\n",
       "  10.96683120727539,\n",
       "  1.2758584022521973,\n",
       "  -25.25227928161621,\n",
       "  5.457826614379883,\n",
       "  -19.671791076660156,\n",
       "  9.301916122436523,\n",
       "  -1.3906517028808594,\n",
       "  -33.95223617553711,\n",
       "  -14.101191520690918,\n",
       "  14.197677612304688,\n",
       "  6.525288105010986,\n",
       "  -12.631792068481445,\n",
       "  -13.158604621887207,\n",
       "  19.210290908813477,\n",
       "  -0.9226671457290649,\n",
       "  -22.959169387817383,\n",
       "  -6.209120750427246,\n",
       "  -6.652998924255371,\n",
       "  21.052656173706055,\n",
       "  -16.67963981628418,\n",
       "  -46.00552749633789,\n",
       "  1.9434489011764526,\n",
       "  18.5233154296875,\n",
       "  -1.3623645305633545,\n",
       "  9.880218505859375,\n",
       "  -11.462630271911621,\n",
       "  8.831414222717285,\n",
       "  -7.789522171020508,\n",
       "  15.38394546508789,\n",
       "  -3.2277770042419434,\n",
       "  -14.491962432861328],\n",
       " 'embedding2': [-5.877459526062012,\n",
       "  -6.241791725158691,\n",
       "  18.45077896118164,\n",
       "  -8.668157577514648,\n",
       "  -8.11611557006836,\n",
       "  2.906710147857666,\n",
       "  22.19642448425293,\n",
       "  14.085458755493164,\n",
       "  -1.8668608665466309,\n",
       "  30.076492309570312,\n",
       "  -33.523704528808594,\n",
       "  28.03986930847168,\n",
       "  27.702091217041016,\n",
       "  -15.858582496643066,\n",
       "  12.2434663772583,\n",
       "  12.24313735961914,\n",
       "  -3.887547492980957,\n",
       "  -0.5400845408439636,\n",
       "  -3.05059552192688,\n",
       "  9.10649299621582,\n",
       "  0.38013526797294617,\n",
       "  -54.913330078125,\n",
       "  11.484884262084961,\n",
       "  17.308013916015625,\n",
       "  -7.776329517364502,\n",
       "  -2.531342029571533,\n",
       "  -31.941696166992188,\n",
       "  -11.103960990905762,\n",
       "  6.249566078186035,\n",
       "  -44.607566833496094,\n",
       "  12.927581787109375,\n",
       "  8.056014060974121,\n",
       "  14.16733169555664,\n",
       "  -26.342763900756836,\n",
       "  12.876352310180664,\n",
       "  -8.88634967803955,\n",
       "  -11.817737579345703,\n",
       "  7.228608131408691,\n",
       "  -4.225489616394043,\n",
       "  -2.865485906600952,\n",
       "  -21.914043426513672,\n",
       "  6.160061836242676,\n",
       "  13.023551940917969,\n",
       "  -16.580581665039062,\n",
       "  17.651397705078125,\n",
       "  6.2346954345703125,\n",
       "  13.6225004196167,\n",
       "  -20.595592498779297,\n",
       "  -8.490426063537598,\n",
       "  1.6580296754837036,\n",
       "  -30.662506103515625,\n",
       "  -7.8530049324035645,\n",
       "  28.210119247436523,\n",
       "  43.5833740234375,\n",
       "  8.49650764465332,\n",
       "  43.77900314331055,\n",
       "  -24.168832778930664,\n",
       "  -4.907942295074463,\n",
       "  -14.973337173461914,\n",
       "  -18.97541046142578,\n",
       "  -14.221410751342773,\n",
       "  13.351272583007812,\n",
       "  -2.1653037071228027,\n",
       "  -21.07017707824707,\n",
       "  9.484405517578125,\n",
       "  9.695831298828125,\n",
       "  9.54018783569336,\n",
       "  6.524417877197266,\n",
       "  26.740163803100586,\n",
       "  -21.581512451171875,\n",
       "  -6.081748962402344,\n",
       "  27.363603591918945,\n",
       "  -0.9621677398681641,\n",
       "  -25.119014739990234,\n",
       "  -16.288585662841797,\n",
       "  -14.563653945922852,\n",
       "  12.204734802246094,\n",
       "  -6.957984924316406,\n",
       "  18.057294845581055,\n",
       "  19.819673538208008,\n",
       "  -11.913412094116211,\n",
       "  9.918191909790039,\n",
       "  32.2307014465332,\n",
       "  -21.896562576293945,\n",
       "  0.8731105923652649,\n",
       "  -10.782651901245117,\n",
       "  54.8026237487793,\n",
       "  0.8243135809898376,\n",
       "  9.17823600769043,\n",
       "  2.620098114013672,\n",
       "  -7.890074729919434,\n",
       "  17.9604549407959,\n",
       "  -5.134567737579346,\n",
       "  33.12234878540039,\n",
       "  -10.130934715270996,\n",
       "  -38.08554458618164,\n",
       "  4.884160995483398,\n",
       "  -8.60444164276123,\n",
       "  -11.538314819335938,\n",
       "  3.486994504928589,\n",
       "  -1.331567406654358,\n",
       "  31.896284103393555,\n",
       "  15.883273124694824,\n",
       "  -35.9169807434082,\n",
       "  14.579022407531738,\n",
       "  4.583279132843018,\n",
       "  -29.147537231445312,\n",
       "  -27.971416473388672,\n",
       "  -18.088626861572266,\n",
       "  1.0043182373046875,\n",
       "  -10.765359878540039,\n",
       "  13.957439422607422,\n",
       "  -26.221410751342773,\n",
       "  0.4570164978504181,\n",
       "  -44.83682632446289,\n",
       "  30.307645797729492,\n",
       "  -12.204455375671387,\n",
       "  -0.8404926061630249,\n",
       "  -16.3830623626709,\n",
       "  -7.619655609130859,\n",
       "  32.01694869995117,\n",
       "  13.96847152709961,\n",
       "  -36.21636199951172,\n",
       "  -19.493345260620117,\n",
       "  -21.163827896118164,\n",
       "  -34.74494934082031,\n",
       "  -22.95970344543457,\n",
       "  -44.110748291015625,\n",
       "  -33.14889144897461,\n",
       "  -21.017667770385742,\n",
       "  12.166311264038086,\n",
       "  27.887523651123047,\n",
       "  27.226959228515625,\n",
       "  -20.033918380737305,\n",
       "  -28.184343338012695,\n",
       "  -29.911569595336914,\n",
       "  27.561643600463867,\n",
       "  -26.617816925048828,\n",
       "  -2.193890333175659,\n",
       "  -29.388086318969727,\n",
       "  6.066926956176758,\n",
       "  -8.134336471557617,\n",
       "  28.260101318359375,\n",
       "  -12.566047668457031,\n",
       "  -0.21612878143787384,\n",
       "  3.6962406635284424,\n",
       "  19.936588287353516,\n",
       "  23.514976501464844,\n",
       "  6.730053901672363,\n",
       "  -26.868885040283203,\n",
       "  -11.914663314819336,\n",
       "  -26.771413803100586,\n",
       "  -1.1106489896774292,\n",
       "  12.794161796569824,\n",
       "  -10.516332626342773,\n",
       "  20.15425682067871,\n",
       "  -15.97824478149414,\n",
       "  14.250971794128418,\n",
       "  -29.60172462463379,\n",
       "  6.806736946105957,\n",
       "  26.091323852539062,\n",
       "  1.9095231294631958,\n",
       "  -16.98740005493164,\n",
       "  17.86427879333496,\n",
       "  12.75861644744873,\n",
       "  -16.601421356201172,\n",
       "  2.480438232421875,\n",
       "  -15.701492309570312,\n",
       "  0.8862268924713135,\n",
       "  -4.346460819244385,\n",
       "  -5.5897135734558105,\n",
       "  3.001889944076538,\n",
       "  -0.14246493577957153,\n",
       "  -0.4064640700817108,\n",
       "  2.9820473194122314,\n",
       "  14.882174491882324,\n",
       "  22.721162796020508,\n",
       "  -5.4446821212768555,\n",
       "  6.883536338806152,\n",
       "  3.727954387664795,\n",
       "  -21.14208984375,\n",
       "  -45.87797927856445,\n",
       "  2.214658737182617,\n",
       "  -19.368732452392578,\n",
       "  7.375583648681641,\n",
       "  30.733768463134766,\n",
       "  -17.129138946533203,\n",
       "  10.443493843078613,\n",
       "  17.40711212158203,\n",
       "  27.061798095703125,\n",
       "  3.6131350994110107,\n",
       "  6.633642673492432],\n",
       " 'similarity_score': 0.5153504610061646}"
      ]
     },
     "execution_count": 12,
     "metadata": {},
     "output_type": "execute_result"
    }
   ],
   "source": [
    "converted_similarties[0]"
   ]
  }
 ],
 "metadata": {
  "kernelspec": {
   "display_name": "voice-anon",
   "language": "python",
   "name": "python3"
  },
  "language_info": {
   "codemirror_mode": {
    "name": "ipython",
    "version": 3
   },
   "file_extension": ".py",
   "mimetype": "text/x-python",
   "name": "python",
   "nbconvert_exporter": "python",
   "pygments_lexer": "ipython3",
   "version": "3.10.14"
  }
 },
 "nbformat": 4,
 "nbformat_minor": 2
}
